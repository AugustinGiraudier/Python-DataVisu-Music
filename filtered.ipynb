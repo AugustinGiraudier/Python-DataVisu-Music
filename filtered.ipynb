{
 "cells": [
  {
   "cell_type": "code",
   "id": "initial_id",
   "metadata": {
    "collapsed": true,
    "ExecuteTime": {
     "end_time": "2024-11-23T14:38:02.693140Z",
     "start_time": "2024-11-23T14:38:02.242166Z"
    }
   },
   "source": "import pandas as pd",
   "outputs": [],
   "execution_count": 1
  },
  {
   "metadata": {
    "ExecuteTime": {
     "end_time": "2024-11-23T14:38:02.760139Z",
     "start_time": "2024-11-23T14:38:02.699776Z"
    }
   },
   "cell_type": "code",
   "source": [
    "# Chargement\n",
    "df = pd.read_csv(\"./dataset/dataset.csv\")\n",
    "print(\"Dataset chargé avec\", df.shape[0], \"lignes et\", df.shape[1], \"colonnes.\")"
   ],
   "id": "4bfe991cfe4f6d8d",
   "outputs": [
    {
     "name": "stdout",
     "output_type": "stream",
     "text": [
      "Dataset chargé avec 954 lignes et 29 colonnes.\n"
     ]
    }
   ],
   "execution_count": 2
  },
  {
   "metadata": {
    "ExecuteTime": {
     "end_time": "2024-11-23T14:38:02.849333Z",
     "start_time": "2024-11-23T14:38:02.842984Z"
    }
   },
   "cell_type": "code",
   "source": [
    "# Vérifier les valeurs manquantes avant traitement\n",
    "missing_values = df.isnull().sum()\n",
    "print(\"Valeurs manquantes par colonne avant traitement :\\n\", missing_values[missing_values > 0])"
   ],
   "id": "f549a830c30ce8d",
   "outputs": [
    {
     "name": "stdout",
     "output_type": "stream",
     "text": [
      "Valeurs manquantes par colonne avant traitement :\n",
      " in_shazam_charts     50\n",
      "key                  95\n",
      "artist_mb           631\n",
      "artist_lastfm       631\n",
      "country_mb          641\n",
      "country_lastfm      691\n",
      "tags_lastfm         677\n",
      "dtype: int64\n"
     ]
    }
   ],
   "execution_count": 3
  },
  {
   "metadata": {
    "ExecuteTime": {
     "end_time": "2024-11-23T14:38:02.952612Z",
     "start_time": "2024-11-23T14:38:02.946574Z"
    }
   },
   "cell_type": "code",
   "source": [
    "# Renommer les colonnes du DataFrame\n",
    "renommer_colonnes = {\n",
    "    \"track_name\": \"track\",\n",
    "    \"artist.s._name\": \"artist_name\",\n",
    "    \"in_spotify_playlists\": \"spotify_playlists\",\n",
    "    \"in_spotify_charts\": \"spotify_charts\",\n",
    "    \"in_apple_playlists\": \"apple_playlists\",\n",
    "    \"in_apple_charts\": \"apple_charts\",\n",
    "    \"in_deezer_playlists\": \"deezer_playlists\",\n",
    "    \"in_deezer_charts\": \"deezer_charts\",\n",
    "    \"in_shazam_charts\": \"shazam_charts\",\n",
    "    \"danceability_.\": \"danceability\",\n",
    "    \"valence_.\": \"valence\",\n",
    "    \"energy_.\": \"energy\",\n",
    "    \"acousticness_.\": \"acousticness\",\n",
    "    \"instrumentalness_.\": \"instrumentalness\",\n",
    "    \"liveness_.\": \"liveness\",\n",
    "    \"speechiness_.\": \"speechiness\",\n",
    "}\n",
    "\n",
    "df.rename(columns=renommer_colonnes, inplace=True)\n",
    "print(\"Nouveaux noms de colonnes :\")\n",
    "print(df.columns)\n"
   ],
   "id": "1b1c72f8df24c8dd",
   "outputs": [
    {
     "name": "stdout",
     "output_type": "stream",
     "text": [
      "Nouveaux noms de colonnes :\n",
      "Index(['track', 'artist_name', 'artist_count', 'released_year',\n",
      "       'released_month', 'released_day', 'spotify_playlists', 'spotify_charts',\n",
      "       'streams', 'apple_playlists', 'apple_charts', 'deezer_playlists',\n",
      "       'deezer_charts', 'shazam_charts', 'bpm', 'key', 'mode', 'danceability',\n",
      "       'valence', 'energy', 'acousticness', 'instrumentalness', 'liveness',\n",
      "       'speechiness', 'artist_mb', 'artist_lastfm', 'country_mb',\n",
      "       'country_lastfm', 'tags_lastfm'],\n",
      "      dtype='object')\n"
     ]
    }
   ],
   "execution_count": 4
  },
  {
   "metadata": {
    "ExecuteTime": {
     "end_time": "2024-11-23T14:38:02.995534Z",
     "start_time": "2024-11-23T14:38:02.990672Z"
    }
   },
   "cell_type": "code",
   "source": [
    "# Supprimer les colonnes inutiles\n",
    "df.drop(columns=['artist_mb', 'artist_lastfm', 'country_lastfm'], inplace=True)\n",
    "print(\"Colonnes après suppression :\")\n",
    "print(df.columns)"
   ],
   "id": "83c2a68b4b48bd34",
   "outputs": [
    {
     "name": "stdout",
     "output_type": "stream",
     "text": [
      "Colonnes après suppression :\n",
      "Index(['track', 'artist_name', 'artist_count', 'released_year',\n",
      "       'released_month', 'released_day', 'spotify_playlists', 'spotify_charts',\n",
      "       'streams', 'apple_playlists', 'apple_charts', 'deezer_playlists',\n",
      "       'deezer_charts', 'shazam_charts', 'bpm', 'key', 'mode', 'danceability',\n",
      "       'valence', 'energy', 'acousticness', 'instrumentalness', 'liveness',\n",
      "       'speechiness', 'country_mb', 'tags_lastfm'],\n",
      "      dtype='object')\n"
     ]
    }
   ],
   "execution_count": 5
  },
  {
   "metadata": {
    "ExecuteTime": {
     "end_time": "2024-11-23T14:38:03.041626Z",
     "start_time": "2024-11-23T14:38:03.026309Z"
    }
   },
   "cell_type": "code",
   "source": [
    "# Compter les doublons avant suppression\n",
    "duplicates_before = df.duplicated().sum()\n",
    "df = df.drop_duplicates()\n",
    "duplicates_after = df.duplicated().sum()\n",
    "print(f\"{duplicates_before - duplicates_after} doublons supprimés.\")"
   ],
   "id": "bd4204e3e4ae9607",
   "outputs": [
    {
     "name": "stdout",
     "output_type": "stream",
     "text": [
      "0 doublons supprimés.\n"
     ]
    }
   ],
   "execution_count": 6
  },
  {
   "metadata": {
    "ExecuteTime": {
     "end_time": "2024-11-23T14:38:03.090458Z",
     "start_time": "2024-11-23T14:38:03.077204Z"
    }
   },
   "cell_type": "code",
   "source": [
    "# Normalisation\n",
    "colonnes_a_normaliser = ['track', 'artist_name', 'artist_count', 'mode', 'key', 'country_mb', 'tags_lastfm']\n",
    "\n",
    "for col in colonnes_a_normaliser:\n",
    "    if col in df.columns:\n",
    "        df[col] = df[col].astype(str).str.strip().str.lower()\n",
    "        print(f\"Colonne '{col}' normalisée.\")\n"
   ],
   "id": "2ac525dd263244d4",
   "outputs": [
    {
     "name": "stdout",
     "output_type": "stream",
     "text": [
      "Colonne 'track' normalisée.\n",
      "Colonne 'artist_name' normalisée.\n",
      "Colonne 'artist_count' normalisée.\n",
      "Colonne 'mode' normalisée.\n",
      "Colonne 'key' normalisée.\n",
      "Colonne 'country_mb' normalisée.\n",
      "Colonne 'tags_lastfm' normalisée.\n"
     ]
    }
   ],
   "execution_count": 7
  },
  {
   "metadata": {
    "ExecuteTime": {
     "end_time": "2024-11-23T14:38:03.121813Z",
     "start_time": "2024-11-23T14:38:03.104319Z"
    }
   },
   "cell_type": "code",
   "source": [
    "# Sauvegarde\n",
    "df.to_csv(\"./dataset/dataset_filtered.csv\", index=False)\n",
    "print(\"Sauvegardé !\")\n"
   ],
   "id": "ec4fc6f13ef8d03",
   "outputs": [
    {
     "name": "stdout",
     "output_type": "stream",
     "text": [
      "Sauvegardé !\n"
     ]
    }
   ],
   "execution_count": 8
  }
 ],
 "metadata": {
  "kernelspec": {
   "display_name": "Python 3",
   "language": "python",
   "name": "python3"
  },
  "language_info": {
   "codemirror_mode": {
    "name": "ipython",
    "version": 2
   },
   "file_extension": ".py",
   "mimetype": "text/x-python",
   "name": "python",
   "nbconvert_exporter": "python",
   "pygments_lexer": "ipython2",
   "version": "2.7.6"
  }
 },
 "nbformat": 4,
 "nbformat_minor": 5
}
