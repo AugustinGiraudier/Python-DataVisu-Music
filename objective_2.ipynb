{
 "cells": [
  {
   "metadata": {},
   "cell_type": "markdown",
   "source": [
    "# 🎶 Objectif 2 : Analyse des Flux Musicaux\n",
    "\n",
    "#### Rappel\n",
    "\n",
    "Analyse des aires de flux pour quatre caractéristiques musicales clé. L'objectif est d'identifier les périodes où il serait stratégique de sortir des morceaux qui se démarquent par leur niveau de dansabilité, d'énergie, d'acoustique, ou d'équilibre."
   ],
   "id": "fb83209f3c9cd748"
  },
  {
   "cell_type": "code",
   "id": "initial_id",
   "metadata": {
    "collapsed": true
   },
   "source": [
    "# Import\n",
    "import pandas as pd\n",
    "import matplotlib.pyplot as plt"
   ],
   "outputs": [],
   "execution_count": null
  },
  {
   "metadata": {},
   "cell_type": "code",
   "source": [
    "# Chargement\n",
    "df = pd.read_csv(\"./dataset/dataset_filtered.csv\")\n",
    "print(df.head())\n",
    "\n",
    "# Vérification des valeurs manquantes\n",
    "missing_values = df[['danceability', 'energy', 'acousticness', 'valence', 'released_year']].isnull().sum()\n",
    "print(\"Valeurs manquantes par colonne :\\n\", missing_values[missing_values > 0])"
   ],
   "id": "aecee28dd5e80d1e",
   "outputs": [],
   "execution_count": null
  },
  {
   "metadata": {},
   "cell_type": "code",
   "source": [
    "# On calcule la moyenne des colonnes pertinentes par année pour suivre les tendances annuelles\n",
    "df_agg = df.groupby('released_year')[['danceability', 'energy', 'acousticness', 'valence']].mean().reset_index()\n",
    "print(\"Données agrégées par année :\")\n",
    "print(df_agg.head())"
   ],
   "id": "3c16d5fdc05f700c",
   "outputs": [],
   "execution_count": null
  },
  {
   "metadata": {},
   "cell_type": "code",
   "source": [
    "# Graphique en aire de flux\n",
    "plt.figure(figsize=(12, 6))\n",
    "\n",
    "plt.stackplot(df_agg['released_year'],\n",
    "              df_agg['danceability'], df_agg['energy'], df_agg['acousticness'], df_agg['valence'],\n",
    "              labels=['Dansabilité', 'Énergie', 'Acoustique', 'Valence'],\n",
    "              alpha=0.8)\n",
    "plt.legend(loc='upper left')\n",
    "plt.xlabel(\"Année\")\n",
    "plt.ylabel(\"Moyenne des attributs\")\n",
    "plt.title(\"Évolution de la Dansabilité, Énergie, Acoustique et Valence des Musiques au Fil des Ans\")\n",
    "plt.show()"
   ],
   "id": "cd42d636e1dc786a",
   "outputs": [],
   "execution_count": null
  }
 ],
 "metadata": {
  "kernelspec": {
   "display_name": "Python 3",
   "language": "python",
   "name": "python3"
  },
  "language_info": {
   "codemirror_mode": {
    "name": "ipython",
    "version": 2
   },
   "file_extension": ".py",
   "mimetype": "text/x-python",
   "name": "python",
   "nbconvert_exporter": "python",
   "pygments_lexer": "ipython2",
   "version": "2.7.6"
  }
 },
 "nbformat": 4,
 "nbformat_minor": 5
}
