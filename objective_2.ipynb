{
 "cells": [
  {
   "cell_type": "markdown",
   "id": "fb83209f3c9cd748",
   "metadata": {},
   "source": [
    "# 🎶 Objectif 2 : Analyse des Flux Musicaux\n",
    "\n",
    "#### Rappel\n",
    "\n",
    "Analyse des aires de flux pour quatre caractéristiques musicales clé. L'objectif est d'identifier les périodes où il serait stratégique de sortir des morceaux qui se démarquent par leur niveau de dansabilité, d'énergie, d'acoustique, ou d'équilibre."
   ]
  },
  {
   "cell_type": "code",
   "execution_count": 1,
   "id": "initial_id",
   "metadata": {
    "ExecuteTime": {
     "end_time": "2024-11-12T15:47:31.674681Z",
     "start_time": "2024-11-12T15:47:31.666141Z"
    },
    "collapsed": true
   },
   "outputs": [],
   "source": [
    "# Import\n",
    "import dash\n",
    "from dash import dcc, html\n",
    "from dash.dependencies import Input, Output\n",
    "import pandas as pd\n",
    "import plotly.graph_objs as go"
   ]
  },
  {
   "cell_type": "code",
   "execution_count": 2,
   "id": "aecee28dd5e80d1e",
   "metadata": {
    "ExecuteTime": {
     "end_time": "2024-11-12T15:47:31.737909Z",
     "start_time": "2024-11-12T15:47:31.707332Z"
    }
   },
   "outputs": [],
   "source": [
    "# Chargement\n",
    "df = pd.read_csv(\"./dataset/dataset_filtered.csv\")\n",
    "\n",
    "# Agrégation des données par année pour les quatre caractéristiques musicales\n",
    "df_agg = df.groupby(['releasedyear', 'releasedmonth'])[['danceability', 'energy', 'acousticness', 'valence']].mean().reset_index()"
   ]
  },
  {
   "cell_type": "code",
   "execution_count": 3,
   "id": "3c16d5fdc05f700c",
   "metadata": {
    "ExecuteTime": {
     "end_time": "2024-11-12T15:47:31.839952Z",
     "start_time": "2024-11-12T15:47:31.822013Z"
    }
   },
   "outputs": [],
   "source": [
    "# Initialisation de l'application Dash\n",
    "app = dash.Dash(__name__)\n",
    "\n",
    "app.layout = html.Div([\n",
    "    html.H1(\"Évolution des caractéristiques cusicales au fil des années\"),\n",
    "\n",
    "    # Graphique en aires de flux\n",
    "    dcc.Graph(\n",
    "        id='stacked-area-chart',\n",
    "        config={'displayModeBar': False}\n",
    "    ),\n",
    "\n",
    "    # Slider pour sélectionner une période\n",
    "    html.Div(\"Sélectionnez une période pour :\", style={'margin-top': '20px'}),\n",
    "    dcc.RangeSlider(\n",
    "        id='year-slider',\n",
    "        min=df_agg['releasedyear'].min(),\n",
    "        max=df_agg['releasedyear'].max(),\n",
    "        step=1,\n",
    "        marks={str(year): str(year) for year in range(df_agg['releasedyear'].min(), df_agg['releasedyear'].max() + 1, 5)},\n",
    "        value=[df_agg['releasedyear'].min(), df_agg['releasedyear'].max()]\n",
    "    )\n",
    "])"
   ]
  },
  {
   "cell_type": "code",
   "execution_count": 4,
   "id": "cd42d636e1dc786a",
   "metadata": {
    "ExecuteTime": {
     "end_time": "2024-11-12T15:47:31.946061Z",
     "start_time": "2024-11-12T15:47:31.930949Z"
    }
   },
   "outputs": [],
   "source": [
    "# Callback pour mettre à jour le graphique en fonction de la période sélectionnée\n",
    "@app.callback(\n",
    "    Output('stacked-area-chart', 'figure'),\n",
    "    Input('year-slider', 'value')\n",
    ")\n",
    "def update_graph(selected_years):\n",
    "    # Filtrer les données pour la période sélectionnée\n",
    "    filtered_df = df_agg[(df_agg['releasedyear'] >= selected_years[0]) & (df_agg['releasedyear'] <= selected_years[1])]\n",
    "\n",
    "    fig = go.Figure()\n",
    "\n",
    "    # Ajout des couches d'aire de flux pour chaque caractéristique\n",
    "    fig.add_trace(go.Scatter(x=filtered_df['releasedyear'], y=filtered_df['danceability'],\n",
    "                             mode='lines', stackgroup='one', name='Dansabilité', line=dict(color='blue')))\n",
    "    fig.add_trace(go.Scatter(x=filtered_df['releasedyear'], y=filtered_df['energy'],\n",
    "                             mode='lines', stackgroup='one', name='Énergie', line=dict(color='red')))\n",
    "    fig.add_trace(go.Scatter(x=filtered_df['releasedyear'], y=filtered_df['acousticness'],\n",
    "                             mode='lines', stackgroup='one', name='Acoustique', line=dict(color='green')))\n",
    "    fig.add_trace(go.Scatter(x=filtered_df['releasedyear'], y=filtered_df['valence'],\n",
    "                             mode='lines', stackgroup='one', name='Valence', line=dict(color='orange')))\n",
    "\n",
    "    # Ajout des points pour afficher la moyenne mensuelle de chaque caractéristique\n",
    "    colors = {\n",
    "        'danceability': 'blue',\n",
    "        'energy': 'red',\n",
    "        'acousticness': 'green',\n",
    "        'valence': 'orange'\n",
    "    }\n",
    "\n",
    "    for feature in ['danceability', 'energy', 'acousticness', 'valence']:\n",
    "        monthly_avg = df.groupby(['releasedyear', 'releasedmonth'])[feature].mean().reset_index()\n",
    "        monthly_avg_filtered = monthly_avg[(monthly_avg['releasedyear'] >= selected_years[0]) & (monthly_avg['releasedyear'] <= selected_years[1])]\n",
    "\n",
    "        fig.add_trace(go.Scatter(\n",
    "            x=monthly_avg_filtered['releasedyear'] + monthly_avg_filtered['releasedmonth'] / 12,  # Position des mois sur l'axe X\n",
    "            y=monthly_avg_filtered[feature],\n",
    "            mode='markers',  # Marquer les points\n",
    "            name=f'{feature} (Moyenne Mensuelle)',\n",
    "            marker=dict(size=8, color=colors[feature], symbol='circle')\n",
    "        ))\n",
    "\n",
    "    # Mise en forme du graphique\n",
    "    fig.update_layout(\n",
    "        title=\"Évolution de la Dansabilité, Énergie, Acoustique et Valence des Musiques\",\n",
    "        xaxis_title=\"Année\",\n",
    "        yaxis_title=\"Moyenne des attributs\",\n",
    "        legend_title=\"Caractéristiques\",\n",
    "        template=\"plotly_white\"\n",
    "    )\n",
    "\n",
    "    return fig"
   ]
  },
  {
   "cell_type": "code",
   "execution_count": 5,
   "id": "fff2dd794826ea32",
   "metadata": {
    "ExecuteTime": {
     "end_time": "2024-11-12T15:47:32.406695Z",
     "start_time": "2024-11-12T15:47:32.043431Z"
    }
   },
   "outputs": [
    {
     "data": {
      "text/html": [
       "\n",
       "        <iframe\n",
       "            width=\"100%\"\n",
       "            height=\"650\"\n",
       "            src=\"http://127.0.0.1:8051/\"\n",
       "            frameborder=\"0\"\n",
       "            allowfullscreen\n",
       "            \n",
       "        ></iframe>\n",
       "        "
      ],
      "text/plain": [
       "<IPython.lib.display.IFrame at 0x15aab81f910>"
      ]
     },
     "metadata": {},
     "output_type": "display_data"
    }
   ],
   "source": [
    "# Exécution du serveur (http://127.0.0.1:8050/)\n",
    "if __name__ == '__main__':\n",
    "    app.run_server(debug=True,port=8051)"
   ]
  }
 ],
 "metadata": {
  "kernelspec": {
   "display_name": "Python 3.11.4 64-bit ('anaconda3': conda)",
   "language": "python",
   "name": "python311464bitanaconda3conda551a96a0ee414c40a216e6f47de11daa"
  },
  "language_info": {
   "codemirror_mode": {
    "name": "ipython",
    "version": 3
   },
   "file_extension": ".py",
   "mimetype": "text/x-python",
   "name": "python",
   "nbconvert_exporter": "python",
   "pygments_lexer": "ipython3",
   "version": "3.11.4"
  }
 },
 "nbformat": 4,
 "nbformat_minor": 5
}
