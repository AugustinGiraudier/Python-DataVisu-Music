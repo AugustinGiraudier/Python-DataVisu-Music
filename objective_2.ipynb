{
 "cells": [
  {
   "metadata": {},
   "cell_type": "markdown",
   "source": [
    "# 🎶 Objectif 2 : Analyse des Flux Musicaux\n",
    "\n",
    "#### Rappel\n",
    "\n",
    "Analyse des aires de flux pour quatre caractéristiques musicales clé. L'objectif est d'identifier les périodes où il serait stratégique de sortir des morceaux qui se démarquent par leur niveau de dansabilité, d'énergie, d'acoustique, ou d'équilibre."
   ],
   "id": "fb83209f3c9cd748"
  },
  {
   "cell_type": "code",
   "id": "initial_id",
   "metadata": {
    "collapsed": true,
    "ExecuteTime": {
     "end_time": "2024-11-12T15:30:11.451393Z",
     "start_time": "2024-11-12T15:30:11.446263Z"
    }
   },
   "source": [
    "# Import\n",
    "import dash\n",
    "from dash import dcc, html\n",
    "from dash.dependencies import Input, Output\n",
    "import pandas as pd\n",
    "import plotly.graph_objs as go"
   ],
   "outputs": [],
   "execution_count": 54
  },
  {
   "metadata": {
    "ExecuteTime": {
     "end_time": "2024-11-12T15:31:46.920551Z",
     "start_time": "2024-11-12T15:31:46.885011Z"
    }
   },
   "cell_type": "code",
   "source": [
    "# Chargement\n",
    "df = pd.read_csv(\"./dataset/dataset_filtered.csv\")\n",
    "print(df.head())\n",
    "\n",
    "# Agrégation des données par année pour les quatre caractéristiques musicales\n",
    "df_agg = df.groupby(['released_year', 'released_month'])[['danceability', 'energy', 'acousticness', 'valence']].mean().reset_index()\n",
    "print(df_agg.head())"
   ],
   "id": "aecee28dd5e80d1e",
   "outputs": [
    {
     "name": "stdout",
     "output_type": "stream",
     "text": [
      "                    track          artist_name  artist_count  released_year  \\\n",
      "0               queencard             (g)i-dle             1           2023   \n",
      "1                    nxde             (g)i-dle             1           2022   \n",
      "2   thought i was playing     21 savage, gunna             2           2022   \n",
      "3  mood (feat. iann dior)  24kgoldn, iann dior             2           2020   \n",
      "4              in da club              50 cent             1           2002   \n",
      "\n",
      "   released_month  released_day  spotify_playlists  spotify_charts  \\\n",
      "0               5            15                451              33   \n",
      "1              10            17                430               6   \n",
      "2               1             7                807               0   \n",
      "3               7            24              12854               0   \n",
      "4               1             1              30427               7   \n",
      "\n",
      "      streams  apple_playlists  ...   mode danceability  valence energy  \\\n",
      "0    96273746               10  ...  minor           82       69     83   \n",
      "1   170709584               14  ...  minor           73       65     91   \n",
      "2    60680939                3  ...  major           68       29     73   \n",
      "3  1699402402              237  ...  minor           70       76     72   \n",
      "4  1202722675              235  ...  minor           90       79     71   \n",
      "\n",
      "   acousticness instrumentalness liveness  speechiness     country_mb  \\\n",
      "0             3                0       27            5            NaN   \n",
      "1             4                0       48           18            NaN   \n",
      "2             0                0        7            7            NaN   \n",
      "3            22                0       27            4            NaN   \n",
      "4            26                0        7           37  united states   \n",
      "\n",
      "                                         tags_lastfm  \n",
      "0                                                NaN  \n",
      "1                                                NaN  \n",
      "2                                                NaN  \n",
      "3                                                NaN  \n",
      "4  rap; hip-hop; gangsta rap; hip hop; 50 cent; o...  \n",
      "\n",
      "[5 rows x 26 columns]\n",
      "   released_year  released_month  danceability  energy  acousticness  valence\n",
      "0           1930               1          65.0    80.0          22.0     49.0\n",
      "1           1942               1          23.0    25.0          91.0     19.0\n",
      "2           1946              11          36.0    15.0          84.0     22.0\n",
      "3           1950               1          60.0    32.0          88.0     86.0\n",
      "4           1952               1          67.0    36.0          64.0     81.0\n"
     ]
    }
   ],
   "execution_count": 59
  },
  {
   "metadata": {
    "ExecuteTime": {
     "end_time": "2024-11-12T15:32:14.001662Z",
     "start_time": "2024-11-12T15:32:13.984352Z"
    }
   },
   "cell_type": "code",
   "source": [
    "# Initialisation de l'application Dash\n",
    "app = dash.Dash(__name__)\n",
    "\n",
    "app.layout = html.Div([\n",
    "    html.H1(\"Évolution des Caractéristiques Musicales au Fil des Ans\"),\n",
    "\n",
    "    # Graphique en aires de flux\n",
    "    dcc.Graph(\n",
    "        id='stacked-area-chart',\n",
    "        config={'displayModeBar': False}\n",
    "    ),\n",
    "\n",
    "    # Slider pour sélectionner une période\n",
    "    html.Div(\"Sélectionnez une période pour zoomer :\", style={'margin-top': '20px'}),\n",
    "    dcc.RangeSlider(\n",
    "        id='year-slider',\n",
    "        min=df_agg['released_year'].min(),\n",
    "        max=df_agg['released_year'].max(),\n",
    "        step=1,\n",
    "        marks={str(year): str(year) for year in range(df_agg['released_year'].min(), df_agg['released_year'].max() + 1, 5)},\n",
    "        value=[df_agg['released_year'].min(), df_agg['released_year'].max()]\n",
    "    )\n",
    "])"
   ],
   "id": "3c16d5fdc05f700c",
   "outputs": [],
   "execution_count": 60
  },
  {
   "metadata": {
    "ExecuteTime": {
     "end_time": "2024-11-12T15:32:23.182390Z",
     "start_time": "2024-11-12T15:32:23.168104Z"
    }
   },
   "cell_type": "code",
   "source": [
    "# Callback pour mettre à jour le graphique en fonction de la période sélectionnée\n",
    "@app.callback(\n",
    "    Output('stacked-area-chart', 'figure'),\n",
    "    Input('year-slider', 'value')\n",
    ")\n",
    "def update_graph(selected_years):\n",
    "    # Filtrer les données pour la période sélectionnée\n",
    "    filtered_df = df_agg[(df_agg['released_year'] >= selected_years[0]) & (df_agg['released_year'] <= selected_years[1])]\n",
    "\n",
    "    # Création de la figure en utilisant Plotly\n",
    "    fig = go.Figure()\n",
    "\n",
    "    # Ajouter des couches d'aire de flux pour chaque caractéristique\n",
    "    fig.add_trace(go.Scatter(x=filtered_df['released_year'], y=filtered_df['danceability'],\n",
    "                             mode='lines', stackgroup='one', name='Dansabilité'))\n",
    "    fig.add_trace(go.Scatter(x=filtered_df['released_year'], y=filtered_df['energy'],\n",
    "                             mode='lines', stackgroup='one', name='Énergie'))\n",
    "    fig.add_trace(go.Scatter(x=filtered_df['released_year'], y=filtered_df['acousticness'],\n",
    "                             mode='lines', stackgroup='one', name='Acoustique'))\n",
    "    fig.add_trace(go.Scatter(x=filtered_df['released_year'], y=filtered_df['valence'],\n",
    "                             mode='lines', stackgroup='one', name='Valence'))\n",
    "\n",
    "    # Ajouter des points représentant la moyenne mensuelle pour chaque caractéristique\n",
    "    for feature in ['danceability', 'energy', 'acousticness', 'valence']:\n",
    "        monthly_avg = df.groupby(['released_year', 'released_month'])[feature].mean().reset_index()\n",
    "        monthly_avg_filtered = monthly_avg[(monthly_avg['released_year'] >= selected_years[0]) & (monthly_avg['released_year'] <= selected_years[1])]\n",
    "\n",
    "        fig.add_trace(go.Scatter(\n",
    "            x=monthly_avg_filtered['released_year'] + monthly_avg_filtered['released_month'] / 12,  # Position des mois sur l'axe X\n",
    "            y=monthly_avg_filtered[feature],\n",
    "            mode='markers',  # Marquer les points\n",
    "            name=f'{feature} (Moyenne Mensuelle)',\n",
    "            marker=dict(size=8, color='black', symbol='circle')\n",
    "        ))\n",
    "\n",
    "    # Mise en forme du graphique\n",
    "    fig.update_layout(\n",
    "        title=\"Évolution de la Dansabilité, Énergie, Acoustique et Valence des Musiques\",\n",
    "        xaxis_title=\"Année\",\n",
    "        yaxis_title=\"Moyenne des attributs\",\n",
    "        legend_title=\"Caractéristiques\",\n",
    "        template=\"plotly_white\"\n",
    "    )\n",
    "\n",
    "    return fig"
   ],
   "id": "cd42d636e1dc786a",
   "outputs": [],
   "execution_count": 61
  },
  {
   "metadata": {
    "ExecuteTime": {
     "end_time": "2024-11-12T15:32:24.942306Z",
     "start_time": "2024-11-12T15:32:24.714802Z"
    }
   },
   "cell_type": "code",
   "source": [
    "# Exécution du serveur\n",
    "if __name__ == '__main__':\n",
    "    app.run_server(debug=True)"
   ],
   "id": "fff2dd794826ea32",
   "outputs": [
    {
     "data": {
      "text/plain": [
       "<IPython.lib.display.IFrame at 0x1c060cd4bd0>"
      ],
      "text/html": [
       "\n",
       "        <iframe\n",
       "            width=\"100%\"\n",
       "            height=\"650\"\n",
       "            src=\"http://127.0.0.1:8050/\"\n",
       "            frameborder=\"0\"\n",
       "            allowfullscreen\n",
       "            \n",
       "        ></iframe>\n",
       "        "
      ]
     },
     "metadata": {},
     "output_type": "display_data"
    }
   ],
   "execution_count": 62
  }
 ],
 "metadata": {
  "kernelspec": {
   "display_name": "Python 3",
   "language": "python",
   "name": "python3"
  },
  "language_info": {
   "codemirror_mode": {
    "name": "ipython",
    "version": 2
   },
   "file_extension": ".py",
   "mimetype": "text/x-python",
   "name": "python",
   "nbconvert_exporter": "python",
   "pygments_lexer": "ipython2",
   "version": "2.7.6"
  }
 },
 "nbformat": 4,
 "nbformat_minor": 5
}
