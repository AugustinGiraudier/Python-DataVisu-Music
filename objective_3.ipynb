{
 "cells": [
  {
   "cell_type": "markdown",
   "id": "75be0fe1a7781806",
   "metadata": {},
   "source": [
    "# 🎶 Objectif 3 : Comparaison entre le nombre de playlists Spotify et le nombre de streams par année de sortie\n",
    "\n",
    "#### Rappel\n",
    "\n",
    "Scatter plot pour comparer les chansons ajoutées dans les playlists avec celles qui n'y figurent pas, en analysant si l'intégration dans les playlists garantit une augmentation significative des streams."
   ]
  },
  {
   "cell_type": "code",
   "execution_count": null,
   "id": "initial_id",
   "metadata": {
    "ExecuteTime": {
     "end_time": "2024-11-13T09:29:48.796982Z",
     "start_time": "2024-11-13T09:29:48.792923Z"
    },
    "collapsed": true
   },
   "outputs": [],
   "source": [
    "# Import\n",
    "import pandas as pd\n",
    "from dash import Dash, dcc, html\n",
    "from dash.dependencies import Input, Output\n",
    "import plotly.express as px\n",
    "import statsmodels.api as sm"
   ]
  },
  {
   "cell_type": "code",
   "execution_count": null,
   "id": "74e6cd6b3da7f60a",
   "metadata": {
    "ExecuteTime": {
     "end_time": "2024-11-13T09:29:48.829190Z",
     "start_time": "2024-11-13T09:29:48.818375Z"
    }
   },
   "outputs": [],
   "source": [
    "# Chargement\n",
    "data = pd.read_csv(\"./dataset/dataset_filtered.csv\")"
   ]
  },
  {
   "cell_type": "code",
   "execution_count": null,
   "id": "c8d9f1bb08ecc478",
   "metadata": {
    "ExecuteTime": {
     "end_time": "2024-11-13T09:29:48.848985Z",
     "start_time": "2024-11-13T09:29:48.841596Z"
    }
   },
   "outputs": [],
   "source": [
    "# Filtrage des données\n",
    "data_filtered = data[['track', 'spotify_playlists', 'streams', 'artist_name', 'released_year']].dropna()\n",
    "data_filtered = data_filtered[data_filtered['streams'].apply(lambda x: str(x).isdigit())]\n",
    "data_filtered = data_filtered[data_filtered['spotify_playlists'].apply(lambda x: str(x).isdigit())]\n",
    "data_filtered = data_filtered[data_filtered['released_year'].apply(lambda x: str(x).isdigit())]"
   ]
  },
  {
   "cell_type": "code",
   "execution_count": null,
   "id": "1695dd27c429d86e",
   "metadata": {
    "ExecuteTime": {
     "end_time": "2024-11-13T09:29:48.865967Z",
     "start_time": "2024-11-13T09:29:48.861549Z"
    }
   },
   "outputs": [],
   "source": [
    "# Convertir les colonnes en entiers\n",
    "data_filtered['spotify_playlists'] = data_filtered['spotify_playlists'].astype(int)\n",
    "data_filtered['streams'] = data_filtered['streams'].astype('int64')\n",
    "data_filtered['released_year'] = data_filtered['released_year'].astype(int)"
   ]
  },
  {
   "cell_type": "code",
   "execution_count": null,
   "id": "74d240578c715336",
   "metadata": {
    "ExecuteTime": {
     "end_time": "2024-11-13T09:29:48.884389Z",
     "start_time": "2024-11-13T09:29:48.878266Z"
    }
   },
   "outputs": [],
   "source": [
    "# Ligne de régression\n",
    "X = sm.add_constant(data_filtered['spotify_playlists'])\n",
    "model = sm.OLS(data_filtered['streams'], X).fit()\n",
    "data_filtered['regression_line'] = model.predict(X)"
   ]
  },
  {
   "cell_type": "code",
   "execution_count": null,
   "id": "6ba13d65efdd433d",
   "metadata": {
    "ExecuteTime": {
     "end_time": "2024-11-13T09:29:48.905140Z",
     "start_time": "2024-11-13T09:29:48.897347Z"
    }
   },
   "outputs": [],
   "source": [
    "# Initialisation de l'application Dash\n",
    "app = Dash(__name__)\n",
    "\n",
    "app.layout = html.Div([\n",
    "    html.H1(\"Playlists Spotify VS Streams par Année de Sortie\"),\n",
    "    dcc.Graph(id='scatter-plot')\n",
    "])"
   ]
  },
  {
   "cell_type": "code",
   "execution_count": null,
   "id": "3bf7c87e534b9465",
   "metadata": {
    "ExecuteTime": {
     "end_time": "2024-11-13T09:29:48.922730Z",
     "start_time": "2024-11-13T09:29:48.917349Z"
    }
   },
   "outputs": [],
   "source": [
    "# Callback pour mettre à jour le graphique en fonction de la période sélectionnée\n",
    "@app.callback(\n",
    "    Output('scatter-plot', 'figure'),\n",
    "    Input('scatter-plot', 'id')\n",
    ")\n",
    "def update_graph(_):\n",
    "    fig = px.scatter(\n",
    "        data_filtered,\n",
    "        x='spotify_playlists',\n",
    "        y='streams',\n",
    "        color='released_year',\n",
    "        color_continuous_scale=[\"yellow\", \"orange\", \"purple\"],\n",
    "        hover_data={\n",
    "            'track': True,\n",
    "            'artist_name': True,\n",
    "            'spotify_playlists': True,\n",
    "            'streams': True,\n",
    "            'released_year': True\n",
    "        },\n",
    "        labels={\n",
    "            'released_year': 'Released Year',\n",
    "            'spotify_playlists': 'Number of Playlists',\n",
    "            'streams': 'Number of Streams'\n",
    "        },\n",
    "        title=\"Relation entre le nombre de playlists Spotify et le nombre de streams par année de sortie\"\n",
    "    )\n",
    "\n",
    "    # Ajout de la droite de régression\n",
    "    fig.add_scatter(\n",
    "        x=data_filtered['spotify_playlists'],\n",
    "        y=data_filtered['regression_line'],\n",
    "        mode='lines',\n",
    "        name='Regression Line',\n",
    "        line=dict(color='red', dash='dash')\n",
    "    )\n",
    "\n",
    "    fig.update_layout(\n",
    "        xaxis_title=\"Nombre de Playlists\",\n",
    "        yaxis_title=\"Nombre de Streams\",\n",
    "        hovermode=\"closest\",\n",
    "        plot_bgcolor='white',  \n",
    "        paper_bgcolor='white', \n",
    "        font=dict(color='black')\n",
    "    )\n",
    "\n",
    "    return fig"
   ]
  },
  {
   "cell_type": "code",
   "execution_count": null,
   "id": "2d09357d313dd838",
   "metadata": {
    "ExecuteTime": {
     "end_time": "2024-11-13T09:29:49.084635Z",
     "start_time": "2024-11-13T09:29:48.936897Z"
    }
   },
   "outputs": [],
   "source": [
    "# Exécution du serveur (http://127.0.0.1:8050/)\n",
    "if __name__ == '__main__':\n",
    "    app.run_server(debug=True,port=8052)"
   ]
  }
 ],
 "metadata": {
  "kernelspec": {
   "display_name": "venv",
   "language": "python",
   "name": "python3"
  },
  "language_info": {
   "codemirror_mode": {
    "name": "ipython",
    "version": 3
   },
   "file_extension": ".py",
   "mimetype": "text/x-python",
   "name": "python",
   "nbconvert_exporter": "python",
   "pygments_lexer": "ipython3",
   "version": "3.10.0"
  }
 },
 "nbformat": 4,
 "nbformat_minor": 5
}
