{
 "cells": [
  {
   "cell_type": "markdown",
   "id": "75be0fe1a7781806",
   "metadata": {},
   "source": [
    "# 🎶 Objectif 3 : Comparaison entre le nombre de playlists Spotify et le nombre de streams par année de sortie\n",
    "\n",
    "#### Rappel\n",
    "\n",
    "Scatter plot pour comparer les chansons ajoutées dans les playlists avec celles qui n'y figurent pas, en analysant si l'intégration dans les playlists garantit une augmentation significative des streams."
   ]
  },
  {
   "cell_type": "code",
   "id": "initial_id",
   "metadata": {
    "collapsed": true,
    "ExecuteTime": {
     "end_time": "2024-11-23T14:39:25.255229Z",
     "start_time": "2024-11-23T14:39:19.646969Z"
    }
   },
   "source": [
    "# Import\n",
    "import pandas as pd\n",
    "from dash import Dash, dcc, html\n",
    "from dash.dependencies import Input, Output\n",
    "import plotly.express as px\n",
    "import statsmodels.api as sm"
   ],
   "outputs": [],
   "execution_count": 1
  },
  {
   "cell_type": "code",
   "id": "74e6cd6b3da7f60a",
   "metadata": {
    "ExecuteTime": {
     "end_time": "2024-11-23T14:39:25.273124Z",
     "start_time": "2024-11-23T14:39:25.259545Z"
    }
   },
   "source": [
    "# Chargement\n",
    "data = pd.read_csv(\"./dataset/dataset_filtered.csv\")"
   ],
   "outputs": [],
   "execution_count": 2
  },
  {
   "cell_type": "code",
   "id": "c8d9f1bb08ecc478",
   "metadata": {
    "ExecuteTime": {
     "end_time": "2024-11-23T14:39:25.343458Z",
     "start_time": "2024-11-23T14:39:25.335946Z"
    }
   },
   "source": [
    "# Filtrage des données\n",
    "data_filtered = data[['track', 'spotify_playlists', 'streams', 'artist_name', 'released_year']].dropna()\n",
    "data_filtered = data_filtered[data_filtered['streams'].apply(lambda x: str(x).isdigit())]\n",
    "data_filtered = data_filtered[data_filtered['spotify_playlists'].apply(lambda x: str(x).isdigit())]\n",
    "data_filtered = data_filtered[data_filtered['released_year'].apply(lambda x: str(x).isdigit())]"
   ],
   "outputs": [],
   "execution_count": 3
  },
  {
   "cell_type": "code",
   "id": "1695dd27c429d86e",
   "metadata": {
    "ExecuteTime": {
     "end_time": "2024-11-23T14:39:25.358465Z",
     "start_time": "2024-11-23T14:39:25.354118Z"
    }
   },
   "source": [
    "# Convertir les colonnes en entiers\n",
    "data_filtered['spotify_playlists'] = data_filtered['spotify_playlists'].astype(int)\n",
    "data_filtered['streams'] = data_filtered['streams'].astype('int64')\n",
    "data_filtered['released_year'] = data_filtered['released_year'].astype(int)"
   ],
   "outputs": [],
   "execution_count": 4
  },
  {
   "cell_type": "code",
   "id": "74d240578c715336",
   "metadata": {
    "ExecuteTime": {
     "end_time": "2024-11-23T14:39:25.388759Z",
     "start_time": "2024-11-23T14:39:25.372112Z"
    }
   },
   "source": [
    "# Ligne de régression\n",
    "X = sm.add_constant(data_filtered['spotify_playlists'])\n",
    "model = sm.OLS(data_filtered['streams'], X).fit()\n",
    "data_filtered['regression_line'] = model.predict(X)"
   ],
   "outputs": [],
   "execution_count": 5
  },
  {
   "cell_type": "code",
   "id": "6ba13d65efdd433d",
   "metadata": {
    "ExecuteTime": {
     "end_time": "2024-11-23T14:39:25.418580Z",
     "start_time": "2024-11-23T14:39:25.402870Z"
    }
   },
   "source": [
    "# Initialisation de l'application Dash\n",
    "app = Dash(__name__)\n",
    "\n",
    "app.layout = html.Div([\n",
    "    html.H1(\"Playlists Spotify VS Streams par Année de Sortie\"),\n",
    "    dcc.Graph(id='scatter-plot')\n",
    "])"
   ],
   "outputs": [],
   "execution_count": 6
  },
  {
   "cell_type": "code",
   "id": "3bf7c87e534b9465",
   "metadata": {
    "ExecuteTime": {
     "end_time": "2024-11-23T14:39:25.439495Z",
     "start_time": "2024-11-23T14:39:25.433031Z"
    }
   },
   "source": [
    "# Callback pour mettre à jour le graphique en fonction de la période sélectionnée\n",
    "@app.callback(\n",
    "    Output('scatter-plot', 'figure'),\n",
    "    Input('scatter-plot', 'id')\n",
    ")\n",
    "def update_graph(_):\n",
    "    fig = px.scatter(\n",
    "        data_filtered,\n",
    "        x='spotify_playlists',\n",
    "        y='streams',\n",
    "        color='released_year',\n",
    "        color_continuous_scale=[\"yellow\", \"orange\", \"purple\"],\n",
    "        hover_data={\n",
    "            'track': True,\n",
    "            'artist_name': True,\n",
    "            'spotify_playlists': True,\n",
    "            'streams': True,\n",
    "            'released_year': True\n",
    "        },\n",
    "        labels={\n",
    "            'released_year': 'Released Year',\n",
    "            'spotify_playlists': 'Number of Playlists',\n",
    "            'streams': 'Number of Streams'\n",
    "        },\n",
    "        title=\"Relation entre le nombre de playlists Spotify et le nombre de streams par année de sortie\"\n",
    "    )\n",
    "\n",
    "    # Ajout de la droite de régression\n",
    "    fig.add_scatter(\n",
    "        x=data_filtered['spotify_playlists'],\n",
    "        y=data_filtered['regression_line'],\n",
    "        mode='lines',\n",
    "        name='Regression Line',\n",
    "        line=dict(color='red', dash='dash')\n",
    "    )\n",
    "\n",
    "    fig.update_layout(\n",
    "        xaxis_title=\"Nombre de Playlists\",\n",
    "        yaxis_title=\"Nombre de Streams\",\n",
    "        hovermode=\"closest\",\n",
    "        plot_bgcolor='white',  \n",
    "        paper_bgcolor='white', \n",
    "        font=dict(color='black')\n",
    "    )\n",
    "\n",
    "    return fig"
   ],
   "outputs": [],
   "execution_count": 7
  },
  {
   "cell_type": "code",
   "id": "2d09357d313dd838",
   "metadata": {
    "ExecuteTime": {
     "end_time": "2024-11-23T14:39:25.512755Z",
     "start_time": "2024-11-23T14:39:25.462033Z"
    }
   },
   "source": [
    "# Exécution du serveur (http://127.0.0.1:8050/)\n",
    "if __name__ == '__main__':\n",
    "    app.run_server(debug=True,port=8052)"
   ],
   "outputs": [
    {
     "data": {
      "text/plain": [
       "<IPython.lib.display.IFrame at 0x1df617e2810>"
      ],
      "text/html": [
       "\n",
       "        <iframe\n",
       "            width=\"100%\"\n",
       "            height=\"650\"\n",
       "            src=\"http://127.0.0.1:8052/\"\n",
       "            frameborder=\"0\"\n",
       "            allowfullscreen\n",
       "            \n",
       "        ></iframe>\n",
       "        "
      ]
     },
     "metadata": {},
     "output_type": "display_data"
    }
   ],
   "execution_count": 8
  }
 ],
 "metadata": {
  "kernelspec": {
   "display_name": "Python 3 (ipykernel)",
   "language": "python",
   "name": "python3"
  },
  "language_info": {
   "codemirror_mode": {
    "name": "ipython",
    "version": 3
   },
   "file_extension": ".py",
   "mimetype": "text/x-python",
   "name": "python",
   "nbconvert_exporter": "python",
   "pygments_lexer": "ipython3",
   "version": "3.11.4"
  }
 },
 "nbformat": 4,
 "nbformat_minor": 5
}
