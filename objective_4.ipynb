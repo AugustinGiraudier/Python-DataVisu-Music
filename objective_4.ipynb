{
 "cells": [
  {
   "cell_type": "markdown",
   "metadata": {},
   "source": [
    "# 🎶 Objectif 4 : Visualisation dynamique des Streams Musicaux : Évolution Temporelle, influence des saisons de l'année, impact des collaborations\n",
    "\n",
    "#### Rappel\n",
    "\n",
    "L'objectif est de visualiser l'évolution du nombre de streams musicaux sur un siècle avec une triple granularité de temps permettant d'explorer les tendances par saison (hiver, printemps, été, automne). Le graphique à ligne permet de se concentrer sur des périodes spécifiques, offrant ainsi une vue détaillée de l'activité musicale au fil du temps. Un bonus de cette analyse permet d'observer l'évolution du nombre d'artistes impliqués dans chaque morceau pendant ces périodes. Ce graphique est conçu pour mettre en évidence les moments les plus dynamiques du secteur musical.\n",
    "\n",
    "**Techniques utilisées :**  \n",
    "- **Triple granularité de temps** : Utilisation des colonnes année, mois, jour pour offrir une vue détaillée.  \n",
    "- **Visualisation de la tendance des streams** : Diagramme en ligne avec possibilité de zoomer sur des périodes spécifiques (focus + context).  \n",
    "- **Affichage de la collaboration artistique** : Intégration du nombre d'artistes associés à chaque morceau pour via la multiplication d'un coefficient sur le diamètre de la bulle affichée.\n"
   ]
  },
  {
   "cell_type": "markdown",
   "metadata": {},
   "source": [
    "## Import et configuration"
   ]
  },
  {
   "cell_type": "code",
   "metadata": {
    "ExecuteTime": {
     "end_time": "2024-11-23T14:42:07.934981Z",
     "start_time": "2024-11-23T14:42:07.924426Z"
    }
   },
   "source": [
    "import pandas as pd\n",
    "import plotly.graph_objects as go\n",
    "import numpy as np"
   ],
   "outputs": [],
   "execution_count": 9
  },
  {
   "cell_type": "markdown",
   "metadata": {},
   "source": [
    "## Chargement et préparation des données\n"
   ]
  },
  {
   "cell_type": "code",
   "metadata": {
    "ExecuteTime": {
     "end_time": "2024-11-23T14:42:08.008561Z",
     "start_time": "2024-11-23T14:42:07.950284Z"
    }
   },
   "source": [
    "# Load and prepare data\n",
    "df = pd.read_csv('dataset/dataset_filtered.csv')\n",
    "df['streams'] = pd.to_numeric(df['streams'], errors='coerce')\n",
    "df['date'] = pd.to_datetime(dict(\n",
    "    year=df['released_year'],\n",
    "    month=df['released_month'],\n",
    "    day=df['released_day']\n",
    "))\n",
    "\n",
    "# Filter for tracks with >10M streams\n",
    "popular_tracks = df.groupby('track')['streams'].sum() >= 10_000_000\n",
    "df_filtered = df[df['track'].isin(popular_tracks[popular_tracks].index)]\n",
    "\n",
    "# Aggregate monthly streams\n",
    "monthly_streams = df_filtered.groupby(\n",
    "    ['date', 'track', 'artist_name', 'artist_count']\n",
    ")['streams'].sum().reset_index()\n",
    "\n"
   ],
   "outputs": [],
   "execution_count": 10
  },
  {
   "cell_type": "markdown",
   "metadata": {},
   "source": [
    "# Analyse Saisonnière des Streams Musicaux 🎶\n",
    "\n",
    "Pour mieux comprendre les périodes où le secteur musical est le plus dynamique, nous avons catégorisé les données par saison. \n",
    "Chaque saison est représentée par une couleur, un emoji, et les codes couleur correspondants :\n",
    "\n",
    "- **❄️ Hiver** : ![#870000](https://via.placeholder.com/15/87ceeb/000000?text=+)   \n",
    "- **🌱 Printemps** : ![#8FCE00](https://via.placeholder.com/15/8FCE00/000000?text=+)  \n",
    "- **🏖️ Été** : ![#FFCE3A](https://via.placeholder.com/15/FFCE3A/000000?text=+) \n",
    "- **🍂 Automne** : ![#CE7E00](https://via.placeholder.com/15/CE7E00/000000?text=+)\n",
    "\n",
    "Cette visualisation saisonnière permet de mettre en évidence les périodes clés où le nombre de streams atteint son apogée, offrant un aperçu des tendances musicales en fonction des saisons.\n",
    "\n",
    "\n",
    "\n"
   ]
  },
  {
   "cell_type": "code",
   "metadata": {
    "ExecuteTime": {
     "end_time": "2024-11-23T14:42:08.097862Z",
     "start_time": "2024-11-23T14:42:08.093303Z"
    }
   },
   "source": [
    "def get_season_color(date):\n",
    "    month = date.month\n",
    "    if month in [12, 1, 2]:\n",
    "        return 'rgb(135,206,235)'  # Winter\n",
    "    elif month in [3, 4, 5]:\n",
    "        return 'rgb(143,206,0)'    # Spring\n",
    "    elif month in [6, 7, 8]:\n",
    "        return 'rgb(255,206,58)'   # Summer\n",
    "    return 'rgb(206,126,0)'        # Autumn"
   ],
   "outputs": [],
   "execution_count": 11
  },
  {
   "cell_type": "markdown",
   "metadata": {},
   "source": [
    "### 🧮 Calcul des tailles des Marqueurs en Fonction du Nombre d'Artistes 🎨:\n"
   ]
  },
  {
   "cell_type": "code",
   "metadata": {
    "ExecuteTime": {
     "end_time": "2024-11-23T14:42:08.165049Z",
     "start_time": "2024-11-23T14:42:08.157531Z"
    }
   },
   "source": [
    "# Calculate visualization parameters\n",
    "monthly_streams['color'] = monthly_streams['date'].apply(get_season_color)\n",
    "artist_count_range = monthly_streams['artist_count'].agg(['min', 'max'])\n",
    "marker_sizes = 10 + (monthly_streams['artist_count'] - artist_count_range['min']) / (\n",
    "    artist_count_range['max'] - artist_count_range['min']\n",
    ") * 30"
   ],
   "outputs": [],
   "execution_count": 12
  },
  {
   "cell_type": "code",
   "metadata": {
    "ExecuteTime": {
     "end_time": "2024-11-23T14:42:08.333102Z",
     "start_time": "2024-11-23T14:42:08.227396Z"
    }
   },
   "source": [
    "\n",
    "\n",
    "\n",
    "# Create figure\n",
    "fig = go.Figure()\n",
    "\n",
    "# Add scatter plot\n",
    "fig.add_trace(go.Scatter(\n",
    "    x=monthly_streams['date'],\n",
    "    y=monthly_streams['streams'],\n",
    "    mode='markers',\n",
    "    marker=dict(\n",
    "        color=monthly_streams['color'],\n",
    "        size=marker_sizes,\n",
    "        opacity=0.7,\n",
    "        line=dict(width=1, color='#2c3e50')\n",
    "    ),\n",
    "    hovertemplate=(\n",
    "        \"Date: %{x|%d/%m/%Y}<br>\"\n",
    "        \"Streams: %{y:,.0f}<br>\"\n",
    "        \"Titre: %{customdata[0]}<br>\"\n",
    "        \"Artiste: %{customdata[1]}<br>\"\n",
    "        \"Nombre d'artistes: %{customdata[2]}<extra></extra>\"\n",
    "    ),\n",
    "    customdata=monthly_streams[['track', 'artist_name', 'artist_count']].values\n",
    "))\n",
    "\n",
    "# Add season legend\n",
    "seasons = [\n",
    "    (\"Hiver\", 'rgb(160,210,255)'),\n",
    "    (\"Printemps\", 'rgb(143,206,0)'),\n",
    "    (\"Été\", 'rgb(255,206,58)'),\n",
    "    (\"Automne\", 'rgb(206,126,0)')\n",
    "]\n",
    "\n",
    "for i, (name, color) in enumerate(seasons):\n",
    "    fig.add_shape(\n",
    "        type=\"rect\",\n",
    "        x0=-0.24, x1=-0.2,\n",
    "        y0=1.05 - i * 0.12,\n",
    "        y1=1.0 - i * 0.12,\n",
    "        fillcolor=color,\n",
    "        line=dict(width=0),\n",
    "        xref=\"paper\", yref=\"paper\"\n",
    "    )\n",
    "    fig.add_annotation(\n",
    "        text=name,\n",
    "        x=-0.18, y=1.025 - i * 0.12,\n",
    "        xref=\"paper\", yref=\"paper\",\n",
    "        showarrow=False,\n",
    "        font=dict(color='white', size=12),\n",
    "        align=\"left\"\n",
    "    )\n",
    "\n",
    "# Update layout\n",
    "fig.update_layout(\n",
    "    title=dict(\n",
    "        text=\"Dynamique des streams au long de l'histoire: Influence des saisons et des artistes\",\n",
    "        font=dict(size=20, color='white'),\n",
    "        x=0.5, y=0.95\n",
    "    ),\n",
    "    xaxis=dict(\n",
    "        title=\"Date\",\n",
    "        gridcolor='gray',\n",
    "        showgrid=True,\n",
    "        tickformat='%d/%m/%Y',\n",
    "        range=['2020-01-01', monthly_streams['date'].max().strftime('%Y-%m-%d')],\n",
    "        color='white'\n",
    "    ),\n",
    "    yaxis=dict(\n",
    "        title=\"Nombre de streams\",\n",
    "        gridcolor='gray',\n",
    "        showgrid=True,\n",
    "        type='log',\n",
    "        range=[np.log10(10_000_000), np.log10(3_800_000_000)],\n",
    "        color='white'\n",
    "    ),\n",
    "    template='plotly_dark',\n",
    "    plot_bgcolor='black',\n",
    "    paper_bgcolor='black',\n",
    "    hovermode='closest',\n",
    "    height=800,\n",
    "    width=1200,\n",
    "    margin=dict(t=100, l=250, r=50, b=50)\n",
    ")\n",
    "\n",
    "fig.show()"
   ],
   "outputs": [
    {
     "data": {
      "application/vnd.plotly.v1+json": {
       "data": [
        {
         "customdata": [
          [
           "agudo mï¿½ï¿½gi",
           "styrx, utku inc, thezth",
           3
          ],
          [
           "white christmas",
           "bing crosby, john scott trotter & his orchestra, ken darby singers",
           3
          ],
          [
           "the christmas song (merry christmas to you) - remastered 1999",
           "nat king cole",
           1
          ],
          [
           "let it snow! let it snow! let it snow!",
           "frank sinatra, b. swanson quartet",
           2
          ],
          [
           "a holly jolly christmas - single version",
           "burl ives",
           1
          ],
          [
           "jingle bell rock",
           "bobby helms",
           1
          ],
          [
           "jingle bells - remastered 1999",
           "frank sinatra",
           1
          ],
          [
           "it's beginning to look a lot like christmas (with mitchell ayres & his orchestra)",
           "perry como, the fontane sisters, mitchell ayres & his orchestra",
           3
          ],
          [
           "rockin' around the christmas tree",
           "brenda lee",
           1
          ],
          [
           "run rudolph run - single version",
           "chuck berry",
           1
          ],
          [
           "deck the hall - remastered 1999",
           "nat king cole",
           1
          ],
          [
           "let it snow! let it snow! let it snow!",
           "dean martin",
           1
          ],
          [
           "it's the most wonderful time of the year",
           "andy williams",
           1
          ],
          [
           "christmas (baby please come home)",
           "darlene love",
           1
          ],
          [
           "sleigh ride",
           "the ronettes",
           1
          ],
          [
           "have you ever seen the rain?",
           "creedence clearwater revival",
           1
          ],
          [
           "feliz navidad",
           "josï¿½ï¿½ felic",
           1
          ],
          [
           "happy xmas (war is over)",
           "john lennon, the harlem community choir, the plastic ono band, yoko ono",
           4
          ],
          [
           "dream on",
           "aerosmith",
           1
          ],
          [
           "riptide",
           "vance joy",
           1
          ],
          [
           "bohemian rhapsody - remastered 2011",
           "queen",
           1
          ],
          [
           "wonderful christmastime - edited version / remastered 2011",
           "paul mccartney",
           1
          ],
          [
           "pass the dutchie",
           "musical youth",
           1
          ],
          [
           "miss you",
           "southstar",
           1
          ],
          [
           "every breath you take - remastered 2003",
           "the police",
           1
          ],
          [
           "last christmas",
           "wham!",
           1
          ],
          [
           "merry christmas everyone",
           "shakin' stevens",
           1
          ],
          [
           "take on me",
           "a-ha",
           1
          ],
          [
           "do they know it's christmas? - 1984 version",
           "band aid",
           1
          ],
          [
           "everybody wants to rule the world",
           "tears for fears",
           1
          ],
          [
           "running up that hill (a deal with god)",
           "kate bush",
           1
          ],
          [
           "driving home for christmas - 2019 remaster",
           "chris rea",
           1
          ],
          [
           "master of puppets (remastered)",
           "metallica",
           1
          ],
          [
           "sweet child o' mine",
           "guns n' roses",
           1
          ],
          [
           "smells like teen spirit - remastered 2021",
           "nirvana",
           1
          ],
          [
           "something in the way - remastered 2021",
           "nirvana",
           1
          ],
          [
           "creep",
           "radiohead",
           1
          ],
          [
           "all i want for christmas is you",
           "mariah carey",
           1
          ],
          [
           "gangsta's paradise",
           "coolio, l.v.",
           2
          ],
          [
           "california love - original version (explicit)",
           "dr. dre, 2pac, roger",
           3
          ],
          [
           "sigue",
           "ed sheeran, j balvin",
           2
          ],
          [
           "cupid ï¿½ï¿½ï¿½ twin ver. (fifty fifty) ï¿½ï¿½ï¿½ spe",
           "sped up 8282",
           1
          ],
          [
           "iris",
           "the goo goo dolls",
           1
          ],
          [
           "forgot about dre",
           "eminem, dr. dre",
           2
          ],
          [
           "still d.r.e.",
           "dr. dre, snoop dogg",
           2
          ],
          [
           "the next episode",
           "dr. dre, snoop dogg",
           2
          ],
          [
           "yellow",
           "chris molitor",
           1
          ],
          [
           "stan",
           "eminem, dido",
           2
          ],
          [
           "the real slim shady",
           "eminem",
           1
          ],
          [
           "sparks",
           "coldplay",
           1
          ],
          [
           "in the end",
           "linkin park",
           1
          ],
          [
           "my only wish (this year)",
           "britney spears",
           1
          ],
          [
           "in da club",
           "50 cent",
           1
          ],
          [
           "lose yourself - soundtrack version",
           "eminem",
           1
          ],
          [
           "without me",
           "eminem",
           1
          ],
          [
           "'till i collapse",
           "eminem, nate dogg",
           2
          ],
          [
           "superman",
           "eminem, dina rae",
           2
          ],
          [
           "the scientist",
           "coldplay",
           1
          ],
          [
           "numb",
           "linkin park",
           1
          ],
          [
           "mr. brightside",
           "the killers",
           1
          ],
          [
           "mockingbird",
           "eminem",
           1
          ],
          [
           "somewhere only we know",
           "keane",
           1
          ],
          [
           "yo voy (feat. daddy yankee)",
           "zion & lennox",
           1
          ],
          [
           "gasolina",
           "daddy yankee",
           1
          ],
          [
           "you make it feel like christmas (feat. blake shelton)",
           "gwen stefani, blake shelton",
           2
          ],
          [
           "505",
           "arctic monkeys",
           1
          ],
          [
           "heartless",
           "kanye west",
           1
          ],
          [
           "viva la vida",
           "coldplay",
           1
          ],
          [
           "danza kuduro",
           "don omar, lucenzo",
           2
          ],
          [
           "enchanted",
           "taylor swift",
           1
          ],
          [
           "just the way you are",
           "bruno mars",
           1
          ],
          [
           "sure thing",
           "miguel",
           1
          ],
          [
           "es un secreto",
           "plan b",
           1
          ],
          [
           "talking to the moon",
           "bruno mars",
           1
          ],
          [
           "rolling in the deep",
           "adele",
           1
          ],
          [
           "bloody mary",
           "lady gaga",
           1
          ],
          [
           "mistletoe",
           "justin bieber",
           1
          ],
          [
           "radio",
           "lana del rey",
           1
          ],
          [
           "set fire to the rain",
           "adele",
           1
          ],
          [
           "somebody that i used to know",
           "gotye, kimbra",
           2
          ],
          [
           "summertime sadness",
           "lana del rey",
           1
          ],
          [
           "we found love",
           "rihanna, calvin harris",
           2
          ],
          [
           "can't hold us (feat. ray dalton)",
           "ray dalton, ryan lewis, macklemore",
           3
          ],
          [
           "holly jolly christmas",
           "michael bublï¿",
           1
          ],
          [
           "it's beginning to look a lot like christmas",
           "michael bublï¿",
           1
          ],
          [
           "demons",
           "imagine dragons",
           1
          ],
          [
           "lost",
           "frank ocean",
           1
          ],
          [
           "lover",
           "taylor swift",
           1
          ],
          [
           "money trees",
           "kendrick lamar, jay rock",
           2
          ],
          [
           "payphone",
           "maroon 5, wiz khalifa",
           2
          ],
          [
           "sweater weather",
           "the neighbourhood",
           1
          ],
          [
           "montagem - fr punk",
           "ayparia, unxbected",
           2
          ],
          [
           "another love",
           "tom odell",
           1
          ],
          [
           "locked out of heaven",
           "bruno mars",
           1
          ],
          [
           "when i was your man",
           "bruno mars",
           1
          ],
          [
           "bound 2",
           "kanye west",
           1
          ],
          [
           "counting stars",
           "onerepublic",
           1
          ],
          [
           "do i wanna know?",
           "arctic monkeys",
           1
          ],
          [
           "get lucky - radio edit",
           "pharrell williams, nile rodgers, daft punk",
           3
          ],
          [
           "i wanna be yours",
           "arctic monkeys",
           1
          ],
          [
           "wake me up - radio edit",
           "avicii",
           1
          ],
          [
           "why'd you only call me when you're high?",
           "arctic monkeys",
           1
          ],
          [
           "thinking with my dick",
           "kevin gates, juicy j",
           2
          ],
          [
           "all of me",
           "john legend",
           1
          ],
          [
           "ginseng strip 2002",
           "yung lean",
           1
          ],
          [
           "take me to church",
           "hozier",
           1
          ],
          [
           "underneath the tree",
           "kelly clarkson",
           1
          ],
          [
           "santa tell me",
           "ariana grande",
           1
          ],
          [
           "blank space",
           "taylor swift",
           1
          ],
          [
           "i'm not the only one",
           "sam smith",
           1
          ],
          [
           "only love can hurt like this",
           "paloma faith",
           1
          ],
          [
           "shake it off",
           "taylor swift",
           1
          ],
          [
           "style",
           "taylor swift",
           1
          ],
          [
           "the nights",
           "avicii",
           1
          ],
          [
           "thinking out loud",
           "ed sheeran",
           1
          ],
          [
           "lovers rock",
           "tv girl",
           1
          ],
          [
           "photograph",
           "ed sheeran",
           1
          ],
          [
           "after dark",
           "mr.kitty",
           1
          ],
          [
           "night changes",
           "one direction",
           1
          ],
          [
           "i love you so",
           "the walters",
           1
          ],
          [
           "no role modelz",
           "j. cole",
           1
          ],
          [
           "cool for the summer",
           "demi lovato",
           1
          ],
          [
           "space song",
           "beach house",
           1
          ],
          [
           "wait a minute!",
           "willow",
           1
          ],
          [
           "the night we met",
           "lord huron",
           1
          ],
          [
           "atlantis",
           "seafret",
           1
          ],
          [
           "freaks",
           "surf curse",
           1
          ],
          [
           "the hills",
           "the weeknd",
           1
          ],
          [
           "makeba",
           "jain",
           1
          ],
          [
           "alien blues",
           "vundabar",
           1
          ],
          [
           "daddy issues",
           "the neighbourhood",
           1
          ],
          [
           "love yourself",
           "justin bieber",
           1
          ],
          [
           "house of memories",
           "panic! at the disco",
           1
          ],
          [
           "unstoppable",
           "sia",
           1
          ],
          [
           "one dance",
           "drake, wizkid, kyla",
           3
          ],
          [
           "pope is a rockstar",
           "sales",
           1
          ],
          [
           "closer",
           "the chainsmokers, halsey",
           2
          ],
          [
           "selfish",
           "pnb rock",
           1
          ],
          [
           "notion",
           "the rare occasions",
           1
          ],
          [
           "pink + white",
           "frank ocean",
           1
          ],
          [
           "say you won't let go",
           "james arthur",
           1
          ],
          [
           "starboy",
           "the weeknd, daft punk",
           2
          ],
          [
           "there's nothing holdin' me back",
           "shawn mendes",
           1
          ],
          [
           "hey, mickey!",
           "baby tate",
           1
          ],
          [
           "sex, drugs, etc.",
           "beach weather",
           1
          ],
          [
           "me and your mama",
           "childish gambino",
           1
          ],
          [
           "no lie",
           "sean paul, dua lipa",
           2
          ],
          [
           "die for you",
           "the weeknd",
           1
          ],
          [
           "stargirl interlude",
           "the weeknd, lana del rey",
           2
          ],
          [
           "reminder",
           "the weeknd",
           1
          ],
          [
           "perfect",
           "ed sheeran",
           1
          ],
          [
           "snowman",
           "sia",
           1
          ],
          [
           "shape of you",
           "ed sheeran",
           1
          ],
          [
           "believer",
           "imagine dragons",
           1
          ],
          [
           "dark red",
           "steve lacy",
           1
          ],
          [
           "something just like this",
           "the chainsmokers, coldplay",
           2
          ],
          [
           "apocalypse",
           "cigarettes after sex",
           1
          ],
          [
           "bored",
           "billie eilish",
           1
          ],
          [
           "humble.",
           "kendrick lamar",
           1
          ],
          [
           "dandelions",
           "ruth b.",
           1
          ],
          [
           "one kiss (with dua lipa)",
           "calvin harris, dua lipa",
           2
          ],
          [
           "lucid dreams",
           "juice wrld",
           1
          ],
          [
           "infinity",
           "jaymes young",
           1
          ],
          [
           "see you again",
           "tyler, the creator, kali uchis",
           3
          ],
          [
           "lovely - bonus track",
           "billie eilish, khalid",
           2
          ],
          [
           "revenge",
           "xxxtentacion",
           1
          ],
          [
           "swim",
           "chase atlantic",
           1
          ],
          [
           "good looking",
           "suki waterhouse",
           1
          ],
          [
           "donï¿½ï¿½ï¿½t bl",
           "taylor swift",
           1
          ],
          [
           "cold heart - pnau remix",
           "dua lipa, elton john, pnau",
           3
          ],
          [
           "hold me closer",
           "elton john, britney spears",
           2
          ],
          [
           "merry christmas",
           "ed sheeran, elton john",
           2
          ],
          [
           "beggin",
           "mï¿½ï¿½ne",
           1
          ],
          [
           "softcore",
           "the neighbourhood",
           1
          ],
          [
           "hope",
           "xxxtentacion",
           1
          ],
          [
           "call out my name",
           "the weeknd",
           1
          ],
          [
           "i was never there",
           "the weeknd, gesaffelstein",
           2
          ],
          [
           "let me down slowly",
           "alec benjamin",
           1
          ],
          [
           "slow dancing in the dark",
           "joji",
           1
          ],
          [
           "shallow",
           "lady gaga, bradley cooper",
           2
          ],
          [
           "sunflower - spider-man: into the spider-verse",
           "post malone, swae lee",
           2
          ],
          [
           "someone you loved",
           "lewis capaldi",
           1
          ],
          [
           "we fell in love in october",
           "girl in red",
           1
          ],
          [
           "astronaut in the ocean",
           "masked wolf",
           1
          ],
          [
           "lost in the fire",
           "the weeknd, gesaffelstein",
           2
          ],
          [
           "arcade",
           "duncan laurence",
           1
          ],
          [
           "boy with luv (feat. halsey)",
           "halsey, bts",
           2
          ],
          [
           "dance monkey",
           "tones and i",
           1
          ],
          [
           "heart to heart",
           "mac demarco",
           1
          ],
          [
           "those eyes",
           "new west",
           1
          ],
          [
           "new magic wand",
           "tyler, the creator",
           2
          ],
          [
           "callaita",
           "bad bunny, tainy",
           2
          ],
          [
           "seï¿½ï¿½o",
           "shawn mendes, camila cabello",
           2
          ],
          [
           "mount everest",
           "labrinth",
           1
          ],
          [
           "la canciï¿½",
           "j balvin, bad bunny",
           2
          ],
          [
           "tom's diner",
           "annenmaykantereit, giant rooks",
           2
          ],
          [
           "love nwantiti (ah ah ah)",
           "ckay",
           1
          ],
          [
           "all for us - from the hbo original series euphoria",
           "labrinth, zendaya",
           2
          ],
          [
           "all of the girls you loved before",
           "taylor swift",
           1
          ],
          [
           "cruel summer",
           "taylor swift",
           1
          ],
          [
           "circles",
           "post malone",
           1
          ],
          [
           "love nwantiti - remix",
           "ckay, ax'el, dj yo!",
           3
          ],
          [
           "mary on a cross",
           "ghost",
           1
          ],
          [
           "memories",
           "maroon 5",
           1
          ],
          [
           "forever",
           "labrinth",
           1
          ],
          [
           "formula",
           "labrinth",
           1
          ],
          [
           "still don't know my name",
           "labrinth",
           1
          ],
          [
           "under the influence",
           "chris brown",
           1
          ],
          [
           "when i r.i.p.",
           "labrinth",
           1
          ],
          [
           "car's outside",
           "james arthur",
           1
          ],
          [
           "don't start now",
           "dua lipa",
           1
          ],
          [
           "before you go",
           "lewis capaldi",
           1
          ],
          [
           "san lucas",
           "kevin kaarl",
           1
          ],
          [
           "streets",
           "doja cat",
           1
          ],
          [
           "watermelon sugar",
           "harry styles",
           1
          ],
          [
           "blinding lights",
           "the weeknd",
           1
          ],
          [
           "adore you",
           "harry styles",
           1
          ],
          [
           "falling",
           "harry styles",
           1
          ],
          [
           "golden",
           "harry styles",
           1
          ],
          [
           "the business",
           "tiï¿½ï¿",
           1
          ],
          [
           "middle of the night",
           "elley duhï¿",
           1
          ],
          [
           "contection",
           "godzz__-, zakaria",
           2
          ],
          [
           "shut up my moms calling",
           "hotel ugly",
           1
          ],
          [
           "after hours",
           "the weeknd",
           1
          ],
          [
           "heartbreak anniversary",
           "giveon",
           1
          ],
          [
           "a tu merced",
           "bad bunny",
           1
          ],
          [
           "la santa",
           "daddy yankee, bad bunny",
           2
          ],
          [
           "la zona",
           "bad bunny",
           1
          ],
          [
           "meet me at our spot",
           "the anxiety, willow, tyler cole",
           3
          ],
          [
           "heather",
           "conan gray",
           1
          ],
          [
           "save your tears",
           "the weeknd",
           1
          ],
          [
           "save your tears (with ariana grande) (remix)",
           "ariana grande, the weeknd",
           2
          ],
          [
           "levitating",
           "dua lipa",
           1
          ],
          [
           "levitating (feat. dababy)",
           "dua lipa, dababy",
           2
          ],
          [
           "you broke me first",
           "tate mcrae",
           1
          ],
          [
           "ýýýýýýýýýýýýýýýýýýýýý",
           "fujii kaze",
           1
          ],
          [
           "still with you",
           "jung kook",
           1
          ],
          [
           "heat waves",
           "glass animals",
           1
          ],
          [
           "life goes on",
           "oliver tree",
           1
          ],
          [
           "august",
           "taylor swift",
           1
          ],
          [
           "cardigan",
           "taylor swift",
           1
          ],
          [
           "excuses",
           "intense, ap dhillon, gurinder gill",
           3
          ],
          [
           "mood (feat. iann dior)",
           "24kgoldn, iann dior",
           2
          ],
          [
           "dynamite",
           "bts",
           1
          ],
          [
           "bad habits",
           "ed sheeran",
           1
          ],
          [
           "montero (call me by your name)",
           "lil nas x",
           1
          ],
          [
           "mon amour - remix",
           "aitana, zzoilo",
           2
          ],
          [
           "demasiadas mujeres",
           "c. tangana",
           1
          ],
          [
           "positions",
           "ariana grande",
           1
          ],
          [
           "dakiti",
           "bad bunny, jhay cortez",
           2
          ],
          [
           "todo de ti",
           "rauw alejandro",
           1
          ],
          [
           "angels like you",
           "miley cyrus",
           1
          ],
          [
           "caile",
           "luar la l",
           1
          ],
          [
           "i really want to stay at your house",
           "rosa walton, hallie coggins",
           2
          ],
          [
           "good days",
           "sza",
           1
          ],
          [
           "sky",
           "playboi carti",
           1
          ],
          [
           "drivers license",
           "olivia rodrigo",
           1
          ],
          [
           "friday (feat. mufasa & hypeman) - dopamine re-edit",
           "riton, nightcrawlers, mufasa & hypeman, dopamine",
           4
          ],
          [
           "quï¿½ï¿½ mï¿½ï¿",
           "j balvin, maria becerra",
           2
          ],
          [
           "leave the door open",
           "bruno mars, anderson .paak, silk sonic",
           3
          ],
          [
           "bones",
           "imagine dragons",
           1
          ],
          [
           "ghost",
           "justin bieber",
           1
          ],
          [
           "i wanna be your slave",
           "mï¿½ï¿½ne",
           1
          ],
          [
           "peaches (feat. daniel caesar & giveon)",
           "justin bieber, daniel caesar, giveon",
           3
          ],
          [
           "deja vu",
           "olivia rodrigo",
           1
          ],
          [
           "kiss me more (feat. sza)",
           "sza, doja cat",
           2
          ],
          [
           "rapstar",
           "polo g",
           1
          ],
          [
           "you belong with me (taylorï¿½ï¿½ï¿½s ve",
           "taylor swift",
           1
          ],
          [
           "2055",
           "sleepy hallow",
           1
          ],
          [
           "leave before you love me (with jonas brothers)",
           "marshmello, jonas brothers",
           2
          ],
          [
           "miï¿½ï¿½n",
           "tini, maria becerra",
           2
          ],
          [
           "jordan",
           "ryan castro",
           1
          ],
          [
           "thunder",
           "prezioso, gabry ponte, lum!x",
           3
          ],
          [
           "good 4 u",
           "olivia rodrigo",
           1
          ],
          [
           "295",
           "sidhu moose wala",
           1
          ],
          [
           "butter",
           "bts",
           1
          ],
          [
           "favorite crime",
           "olivia rodrigo",
           1
          ],
          [
           "happier",
           "olivia rodrigo",
           1
          ],
          [
           "jealousy, jealousy",
           "olivia rodrigo",
           1
          ],
          [
           "traitor",
           "juan cruz toledo, huilen toledo",
           2
          ],
          [
           "yonaguni",
           "bad bunny",
           1
          ],
          [
           "need to know",
           "doja cat",
           1
          ],
          [
           "por las noches",
           "peso pluma",
           1
          ],
          [
           "am remix",
           "j balvin, nio garcia, bad bunny",
           3
          ],
          [
           "pepas",
           "farruko",
           1
          ],
          [
           "you right",
           "doja cat, the weeknd",
           2
          ],
          [
           "ain't shit",
           "doja cat",
           1
          ],
          [
           "cï¿½ï¿½",
           "rauw alejandro",
           1
          ],
          [
           "desesperados",
           "chencho corleone, rauw alejandro",
           2
          ],
          [
           "get into it (yuh)",
           "doja cat",
           1
          ],
          [
           "woman",
           "doja cat",
           1
          ],
          [
           "sobrio",
           "maluma",
           1
          ],
          [
           "volando - remix",
           "sech, bad bunny, mora",
           3
          ],
          [
           "permission to dance",
           "bts",
           1
          ],
          [
           "stay (with justin bieber)",
           "justin bieber, the kid laroi",
           2
          ],
          [
           "industry baby (feat. jack harlow)",
           "jack harlow, lil nas x",
           2
          ],
          [
           "happier than ever - edit",
           "billie eilish",
           1
          ],
          [
           "happier than ever",
           "billie eilish",
           1
          ],
          [
           "where are you now",
           "lost frequencies, calum scott",
           2
          ],
          [
           "don't be shy",
           "tiï¿½ï¿½sto, kar",
           2
          ],
          [
           "volvï¿",
           "aventura, bad bunny",
           2
          ],
          [
           "take my breath",
           "the weeknd",
           1
          ],
          [
           "flowers",
           "lauren spencer smith",
           1
          ],
          [
           "every summertime",
           "niki",
           1
          ],
          [
           "se le ve",
           "arcangel, de la ghetto, justin quiles, lenny tavï¿½ï¿½rez, sech, dalex, dimelo flow, rich music",
           8
          ],
          [
           "out out (feat. charli xcx & saweetie)",
           "charli xcx, jax jones, joel corry, saweetie",
           4
          ],
          [
           "ýýýabcdefu",
           "gayle",
           1
          ],
          [
           "do it to it",
           "cherish, acraze",
           2
          ],
          [
           "family ties (with kendrick lamar)",
           "kendrick lamar, baby keem",
           2
          ],
          [
           "praise god",
           "kanye west",
           1
          ],
          [
           "acapulco",
           "jason derulo",
           1
          ],
          [
           "until i found you",
           "stephen sanchez",
           1
          ],
          [
           "ley seca",
           "anuel aa, jhay cortez",
           2
          ],
          [
           "enemy (with jid) - from the series arcane league of legends",
           "imagine dragons, league of legends, jid, arcane",
           4
          ],
          [
           "fair trade (with travis scott)",
           "drake, travis scott",
           2
          ],
          [
           "knife talk (with 21 savage ft. project pat)",
           "drake, project pat, 21 savage",
           3
          ],
          [
           "this is what falling in love feels like",
           "jvke",
           1
          ],
          [
           "way 2 sexy (with future & young thug)",
           "drake, future, young thug",
           3
          ],
          [
           "nostï¿½ï¿½l",
           "chris brown, rvssian, rauw alejandro",
           3
          ],
          [
           "angel baby",
           "troye sivan",
           1
          ],
          [
           "shivers",
           "ed sheeran",
           1
          ],
          [
           "money",
           "lisa",
           1
          ],
          [
           "monï¿½ï¿½y so",
           "yeat",
           1
          ],
          [
           "toxic",
           "boywithuke",
           1
          ],
          [
           "sad girlz luv money remix (feat. kali uchis)",
           "kali uchis, amaarae, moliy",
           3
          ],
          [
           "thats what i want",
           "lil nas x",
           1
          ],
          [
           "better days (neiked x mae muller x polo g)",
           "neiked, mae muller, polo g",
           3
          ],
          [
           "my universe",
           "coldplay, bts",
           2
          ],
          [
           "the feels",
           "twice",
           1
          ],
          [
           "lo siento bb:/ (with bad bunny & julieta venegas)",
           "julieta venegas, bad bunny, tainy",
           3
          ],
          [
           "easy on me",
           "adele",
           1
          ],
          [
           "esqueï¿½ï¿½a-me se for c",
           "marï¿½ï¿½lia mendonï¿½ï¿½a, maiara &",
           2
          ],
          [
           "salimo de noche",
           "trueno, tiago pzk",
           2
          ],
          [
           "moth to a flame (with the weeknd)",
           "the weeknd, swedish house mafia",
           2
          ],
          [
           "problemï¿½",
           "alvaro diaz, rauw alejandro",
           2
          ],
          [
           "tacones rojos",
           "sebastian yatra",
           1
          ],
          [
           "vai lï¿½ï¿½ em casa",
           "marï¿½ï¿½lia mendonï¿½ï¿½a, george henrique &",
           2
          ],
          [
           "enemy - from the series arcane league of legends",
           "imagine dragons, league of legends, arcane",
           3
          ],
          [
           "medallo",
           "justin quiles, lenny tavï¿½ï¿½rez, bl",
           3
          ],
          [
           "super gremlin",
           "kodak black",
           1
          ],
          [
           "the motto",
           "tiï¿½ï¿½sto, ava",
           2
          ],
          [
           "one right now (with the weeknd)",
           "the weeknd, post malone",
           2
          ],
          [
           "smokin out the window",
           "bruno mars, anderson .paak, silk sonic",
           3
          ],
          [
           "to the moon",
           "jnr choi",
           1
          ],
          [
           "bar",
           "tini, l-gante",
           2
          ],
          [
           "envolver",
           "anitta",
           1
          ],
          [
           "la fama (with the weeknd)",
           "the weeknd, rosalï¿½",
           2
          ],
          [
           "all too well (10 minute version) (taylor's version) (from the vault)",
           "taylor swift",
           1
          ],
          [
           "dance crip",
           "trueno",
           1
          ],
          [
           "i am woman",
           "emmy meli",
           1
          ],
          [
           "sï¿½ï¿½",
           "anuel aa, myke towers, jhay cortez",
           3
          ],
          [
           "dos oruguitas",
           "sebastian yatra",
           1
          ],
          [
           "down under (feat. colin hay)",
           "luude, colin hay",
           2
          ],
          [
           "hrs and hrs",
           "muni long",
           1
          ],
          [
           "oh my god",
           "adele",
           1
          ],
          [
           "surface pressure",
           "jessica darrow",
           1
          ],
          [
           "the family madrigal",
           "olga merediz, stephanie beatriz, encanto - cast",
           3
          ],
          [
           "we don't talk about bruno",
           "adassa, mauro castillo, stephanie beatriz, encanto - cast, rhenzy feliz, diane guerrero, carolina gaitan",
           7
          ],
          [
           "what else can i do?",
           "stephanie beatriz, diane guerrero",
           2
          ],
          [
           "metamorphosis",
           "interworld",
           1
          ],
          [
           "malvadï¿½ï¿",
           "xamï¿½ï¿½, gustah, neo b",
           3
          ],
          [
           "eleven",
           "ive",
           1
          ],
          [
           "it'll be okay",
           "shawn mendes",
           1
          ],
          [
           "i hate u",
           "sza",
           1
          ],
          [
           "sunroof",
           "nicky youre, dazy",
           2
          ],
          [
           "cigarettes",
           "juice wrld",
           1
          ],
          [
           "the color violet",
           "tory lanez",
           1
          ],
          [
           "mujeriego",
           "ryan castro",
           1
          ],
          [
           "peru",
           "ed sheeran, fireboy dml",
           2
          ],
          [
           "christmas tree",
           "v",
           1
          ],
          [
           "la bebe",
           "yng lvcas",
           1
          ],
          [
           "slomo",
           "chanel",
           1
          ],
          [
           "tiago pzk: bzrp music sessions, vol. 48",
           "bizarrap, tiago pzk",
           2
          ],
          [
           "when iï¿½ï¿½ï¿½m gone (with katy",
           "katy perry, alesso",
           2
          ],
          [
           "entre nosotros (remix) [con nicki nicole]",
           "lit killah, maria becerra, tiago pzk, nicki nicole",
           4
          ],
          [
           "fingers crossed",
           "lauren spencer smith, lauren spencer smith, lauren spencer smith",
           3
          ],
          [
           "25k jacket (feat. lil baby)",
           "gunna, lil baby",
           2
          ],
          [
           "a tale by quincy",
           "the weeknd",
           1
          ],
          [
           "best friends",
           "the weeknd",
           1
          ],
          [
           "dawn fm",
           "the weeknd",
           1
          ],
          [
           "donï¿½ï¿½ï¿½t break my",
           "the weeknd",
           1
          ],
          [
           "every angel is terrifying",
           "the weeknd",
           1
          ],
          [
           "gasoline",
           "the weeknd",
           1
          ],
          [
           "here we goï¿½ï¿½ï¿½ again (feat. tyler, the cr",
           "the weeknd, tyler, the creator",
           3
          ],
          [
           "how do i make you love me?",
           "the weeknd",
           1
          ],
          [
           "i heard you're married (feat. lil wayne)",
           "the weeknd, lil wayne",
           2
          ],
          [
           "is there someone else?",
           "the weeknd",
           1
          ],
          [
           "less than zero",
           "the weeknd",
           1
          ],
          [
           "miserable man",
           "david kushner",
           1
          ],
          [
           "out of time",
           "the weeknd",
           1
          ],
          [
           "phantom regret by jim",
           "the weeknd",
           1
          ],
          [
           "pushin p (feat. young thug)",
           "young thug, future, gunna",
           3
          ],
          [
           "sacrifice",
           "the weeknd",
           1
          ],
          [
           "starry eyes",
           "the weeknd",
           1
          ],
          [
           "thought i was playing",
           "21 savage, gunna",
           2
          ],
          [
           "lï¿½ï¿½ï¿",
           "stromae",
           1
          ],
          [
           "blessed-cursed",
           "enhypen",
           1
          ],
          [
           "polaroid love",
           "enhypen",
           1
          ],
          [
           "the rumbling (tv size)",
           "sim",
           1
          ],
          [
           "cayï¿½ï¿½ la noche (feat. cruz cafunï¿½ï¿½, abhir hathi, bejo, el ima)",
           "quevedo, la pantera, juseph, cruz cafunï¿½ï¿½, bï¿½ï¿½jo, abhir hathi",
           7
          ],
          [
           "mal feito - ao vivo",
           "marï¿½ï¿½lia mendonï¿½ï¿½a, hugo & g",
           2
          ],
          [
           "212",
           "mainstreet, chefin",
           2
          ],
          [
           "rumble",
           "skrillex, flowdan, fred again..",
           3
          ],
          [
           "light switch",
           "charlie puth",
           1
          ],
          [
           "billie eilish.",
           "armani white",
           1
          ],
          [
           "murder in my mind",
           "kordhell",
           1
          ],
          [
           "una noche en medellï¿½",
           "cris mj",
           1
          ],
          [
           "where did you go?",
           "mnek, jax jones",
           2
          ],
          [
           "malvada",
           "zï¿½ï¿½ fe",
           1
          ],
          [
           "numb little bug",
           "em beihold",
           1
          ],
          [
           "vampiro",
           "matuï¿½ï¿½, wiu,",
           3
          ],
          [
           "danï¿½ï¿½a",
           "mc pedrinho, pedro sampaio",
           2
          ],
          [
           "brividi",
           "mahmood, blanco",
           2
          ],
          [
           "do we have a problem?",
           "nicki minaj, lil baby",
           2
          ],
          [
           "gospel (with eminem)",
           "eminem, dr. dre",
           2
          ],
          [
           "i'm tired - from \"euphoria\" an original hbo series",
           "labrinth",
           1
          ],
          [
           "she's all i wanna be",
           "tate mcrae",
           1
          ],
          [
           "ojos marrones",
           "lasso",
           1
          ],
          [
           "pasoori",
           "shae gill, ali sethi",
           2
          ],
          [
           "calm down",
           "rï¿½ï",
           1
          ],
          [
           "mamiii",
           "karol g, becky g",
           2
          ],
          [
           "boyfriend",
           "dove cameron",
           1
          ],
          [
           "bussin",
           "nicki minaj, lil baby",
           2
          ],
          [
           "city of gods",
           "kanye west, alicia keys, fivio foreign",
           3
          ],
          [
           "stay alive (prod. suga of bts)",
           "jung kook",
           1
          ],
          [
           "the joker and the queen (feat. taylor swift)",
           "ed sheeran, taylor swift",
           2
          ],
          [
           "worst day",
           "future",
           1
          ],
          [
           "ultra solo",
           "polima westcoast, pailita",
           2
          ],
          [
           "darari",
           "treasure",
           1
          ],
          [
           "fuera del mercado",
           "danny ocean",
           1
          ],
          [
           "belly dancer",
           "byor, imanbek",
           2
          ],
          [
           "chale",
           "eden muï¿½ï",
           1
          ],
          [
           "jgl",
           "luis r conriquez, la adictiva",
           2
          ],
          [
           "nail tech",
           "jack harlow",
           1
          ],
          [
           "ya no somos ni seremos",
           "christian nodal",
           1
          ],
          [
           "o.o",
           "nmixx",
           1
          ],
          [
           "space man",
           "sam ryder",
           1
          ],
          [
           "freaky deaky",
           "tyga, doja cat",
           2
          ],
          [
           "nobody like u - from \"turning red\"",
           "jordan fisher, josh levi, finneas o'connell, 4*town (from disney and pixarï¿½ï¿½ï¿½s turning red), topher ngo, grayson vill",
           6
          ],
          [
           "hati-hati di jalan",
           "tulus",
           1
          ],
          [
           "residente: bzrp music sessions, vol. 49",
           "residente, bizarrap",
           2
          ],
          [
           "starlight",
           "dave",
           1
          ],
          [
           "bam bam (feat. ed sheeran)",
           "camila cabello, ed sheeran",
           2
          ],
          [
           "stefania (kalush orchestra)",
           "kalush",
           1
          ],
          [
           "sweetest pie",
           "dua lipa, megan thee stallion",
           2
          ],
          [
           "the shade",
           "rex orange county",
           1
          ],
          [
           "ferrari",
           "james hype, miggy dela rosa",
           2
          ],
          [
           "sentadona (remix) s2",
           "luï¿½ï¿½sa sonza, mc frog, dj gabriel do borel, davi k",
           4
          ],
          [
           "crazy what love can do",
           "david guetta, ella henderson, becky hill",
           3
          ],
          [
           "idgaf (with blackbear)",
           "blackbear, boywithuke",
           2
          ],
          [
           "maniac",
           "stray kids",
           1
          ],
          [
           "pantysito",
           "feid, alejo, robi",
           3
          ],
          [
           "snap",
           "rosa linn",
           1
          ],
          [
           "10 things i hate about you",
           "leah kate",
           1
          ],
          [
           "plan a",
           "paulo londra",
           1
          ],
          [
           "layla",
           "schï¿½ï¿½rze, dj r",
           2
          ],
          [
           "calm down (with selena gomez)",
           "rï¿½ï¿½ma, selena g",
           2
          ],
          [
           "rumbatï¿½",
           "daddy yankee",
           1
          ],
          [
           "soy el unico",
           "yahritza y su esencia",
           1
          ],
          [
           "x ï¿½ï¿½ltima",
           "daddy yankee, bad bunny",
           2
          ],
          [
           "fim de semana no rio",
           "teto",
           1
          ],
          [
           "me arrepentï¿",
           "ak4:20, cris mj, pailita",
           3
          ],
          [
           "as it was",
           "harry styles",
           1
          ],
          [
           "si quieren frontear",
           "de la ghetto, duki, quevedo",
           3
          ],
          [
           "when you're gone",
           "shawn mendes",
           1
          ],
          [
           "in my head",
           "lil tjay",
           1
          ],
          [
           "la inocente",
           "feid, mora",
           2
          ],
          [
           "tus lï¿½ï¿½gr",
           "sech, mora",
           2
          ],
          [
           "love dive",
           "ive",
           1
          ],
          [
           "still life",
           "bigbang",
           1
          ],
          [
           "chance",
           "paulo londra",
           1
          ],
          [
           "psychofreak (feat. willow)",
           "camila cabello, willow",
           2
          ],
          [
           "ceilings",
           "lizzy mcalpine",
           1
          ],
          [
           "evergreen (you didnï¿½ï¿½ï¿½t deserve me a",
           "omar apollo",
           1
          ],
          [
           "first class",
           "jack harlow",
           1
          ],
          [
           "right on",
           "lil baby",
           1
          ],
          [
           "that's hilarious",
           "charlie puth",
           1
          ],
          [
           "zoom",
           "jessi",
           1
          ],
          [
           "about damn time",
           "lizzo",
           1
          ],
          [
           "primera cita",
           "carin leon",
           1
          ],
          [
           "provenza",
           "karol g",
           1
          ],
          [
           "te felicito",
           "shakira, rauw alejandro",
           2
          ],
          [
           "beautiful girl",
           "luciano",
           1
          ],
          [
           "slut me out",
           "nle choppa",
           1
          ],
          [
           "something in the orange",
           "zach bryan",
           1
          ],
          [
           "thousand miles",
           "the kid laroi",
           1
          ],
          [
           "until i found you (with em beihold) - em beihold version",
           "em beihold, stephen sanchez",
           2
          ],
          [
           "with you",
           "ha sung woon, jimin",
           2
          ],
          [
           "paulo londra: bzrp music sessions, vol. 23",
           "bizarrap, paulo londra",
           2
          ],
          [
           "wait for u (feat. drake & tems)",
           "drake, future, tems",
           3
          ],
          [
           "no se va",
           "grupo frontera",
           1
          ],
          [
           "honest (feat. don toliver)",
           "justin bieber, don toliver",
           2
          ],
          [
           "in the stars",
           "benson boone",
           1
          ],
          [
           "puffin on zootiez",
           "future",
           1
          ],
          [
           "that that (prod. & feat. suga of bts)",
           "psy, suga",
           2
          ],
          [
           "afraid to feel",
           "lf system",
           1
          ],
          [
           "fearless",
           "le sserafim",
           1
          ],
          [
           "hold my hand",
           "lady gaga",
           1
          ],
          [
           "agosto",
           "bad bunny",
           1
          ],
          [
           "aguacero",
           "bad bunny",
           1
          ],
          [
           "andrea",
           "buscabulla, bad bunny",
           2
          ],
          [
           "despuï¿½ï¿½s de la p",
           "bad bunny",
           1
          ],
          [
           "dos mil 16",
           "bad bunny",
           1
          ],
          [
           "dua lipa",
           "jack harlow",
           1
          ],
          [
           "efecto",
           "bad bunny",
           1
          ],
          [
           "el apagï¿½",
           "bad bunny",
           1
          ],
          [
           "ensï¿½ï¿½ï¿½ï¿½ame",
           "bad bunny",
           1
          ],
          [
           "i tried to tell y'all",
           "ugly dray, tesla jnr",
           2
          ],
          [
           "la corriente",
           "tony dize, bad bunny",
           2
          ],
          [
           "me fui de vacaciones",
           "bad bunny",
           1
          ],
          [
           "me porto bonito",
           "chencho corleone, bad bunny",
           2
          ],
          [
           "moscow mule",
           "bad bunny",
           1
          ],
          [
           "neverita",
           "bad bunny",
           1
          ],
          [
           "ojitos lindos",
           "bomba estï¿½ï¿½reo, bad b",
           2
          ],
          [
           "otro atardecer",
           "bad bunny, the marï¿½ï",
           2
          ],
          [
           "party",
           "bad bunny, rauw alejandro",
           2
          ],
          [
           "tarot",
           "bad bunny, jhay cortez",
           2
          ],
          [
           "this love (taylorï¿½ï¿½ï¿½s ve",
           "taylor swift",
           1
          ],
          [
           "thought you should know",
           "morgan wallen",
           1
          ],
          [
           "titi me preguntï¿",
           "bad bunny",
           1
          ],
          [
           "un coco",
           "bad bunny",
           1
          ],
          [
           "un ratito",
           "bad bunny",
           1
          ],
          [
           "un verano sin ti",
           "bad bunny",
           1
          ],
          [
           "vegas (from the original motion picture soundtrack elvis)",
           "doja cat",
           1
          ],
          [
           "yo no soy celoso",
           "bad bunny",
           1
          ],
          [
           "the heart part 5",
           "kendrick lamar",
           1
          ],
          [
           "cooped up (with roddy ricch)",
           "post malone, roddy ricch",
           2
          ],
          [
           "last last",
           "burna boy",
           1
          ],
          [
           "auntie diaries",
           "kendrick lamar",
           1
          ],
          [
           "count me out",
           "kendrick lamar",
           1
          ],
          [
           "crown",
           "kendrick lamar",
           1
          ],
          [
           "die hard",
           "kendrick lamar, blxst, amanda reifer",
           3
          ],
          [
           "en el radio un cochinero",
           "victor cibrian",
           1
          ],
          [
           "father time (feat. sampha)",
           "kendrick lamar, sampha",
           2
          ],
          [
           "i ain't worried",
           "onerepublic",
           1
          ],
          [
           "mirror",
           "kendrick lamar",
           1
          ],
          [
           "mother i sober (feat. beth gibbons of portishead)",
           "kendrick lamar, beth gibbons",
           2
          ],
          [
           "mr. morale",
           "kendrick lamar, tanna leone",
           2
          ],
          [
           "n95",
           "kendrick lamar",
           1
          ],
          [
           "purple hearts",
           "kendrick lamar, ghostface killah, summer walker",
           3
          ],
          [
           "rich - interlude",
           "kendrick lamar",
           1
          ],
          [
           "rich spirit",
           "kendrick lamar",
           1
          ],
          [
           "savior",
           "kendrick lamar, sam dew, baby keem",
           3
          ],
          [
           "savior - interlude",
           "kendrick lamar",
           1
          ],
          [
           "silent hill",
           "kendrick lamar, kodak black",
           2
          ],
          [
           "supermodel",
           "mï¿½ï¿½ne",
           1
          ],
          [
           "tak ingin usai",
           "keisya levronka",
           1
          ],
          [
           "united in grief",
           "kendrick lamar",
           1
          ],
          [
           "we cry together",
           "kendrick lamar, taylour paige",
           2
          ],
          [
           "worldwide steppers",
           "kendrick lamar",
           1
          ],
          [
           "you proof",
           "morgan wallen",
           1
          ],
          [
           "boyfriends",
           "harry styles",
           1
          ],
          [
           "cinema",
           "harry styles",
           1
          ],
          [
           "daydreaming",
           "harry styles",
           1
          ],
          [
           "daylight",
           "harry styles",
           1
          ],
          [
           "grapejuice",
           "harry styles",
           1
          ],
          [
           "keep driving",
           "harry styles",
           1
          ],
          [
           "la llevo al cielo (ft. ï¿½ï¿½engo f",
           "nengo flow, anuel aa, chris jedi, chencho corleone",
           4
          ],
          [
           "late night talking",
           "harry styles",
           1
          ],
          [
           "little freak",
           "harry styles",
           1
          ],
          [
           "love of my life",
           "harry styles",
           1
          ],
          [
           "matilda",
           "harry styles",
           1
          ],
          [
           "music for a sushi restaurant",
           "harry styles",
           1
          ],
          [
           "pipoco",
           "melody, ana castela, dj chris no beat",
           3
          ],
          [
           "satellite",
           "harry styles",
           1
          ],
          [
           "die young (feat. 347aidan)",
           "sleepy hallow, 347aidan",
           2
          ],
          [
           "la bachata",
           "manuel turizo",
           1
          ],
          [
           "potion (with dua lipa & young thug)",
           "calvin harris, dua lipa, young thug",
           3
          ],
          [
           "true love",
           "kanye west, xxxtentacion",
           2
          ],
          [
           "kahani suno 2.0",
           "kaifi khalil",
           1
          ],
          [
           "antes de perderte",
           "duki",
           1
          ],
          [
           "nos comemos (feat. ozuna)",
           "ozuna, tiago pzk",
           2
          ],
          [
           "ai preto",
           "l7nnon, dj biel do furduncinho, bianca",
           3
          ],
          [
           "ferxxo 100",
           "feid",
           1
          ],
          [
           "i like you (a happier song) (with doja cat)",
           "post malone, doja cat",
           2
          ],
          [
           "villano antillano: bzrp music sessions, vol. 51",
           "bizarrap, villano antillano",
           2
          ],
          [
           "so good",
           "halsey",
           1
          ],
          [
           "baile no morro",
           "mc vitin da igrejinha, mc tairon, dj win",
           3
          ],
          [
           "betty (get money)",
           "yung gravy",
           1
          ],
          [
           "born singer",
           "bts",
           1
          ],
          [
           "cash in cash out",
           "pharrell williams, tyler, the creator, 21 savage",
           4
          ],
          [
           "for youth",
           "bts",
           1
          ],
          [
           "glimpse of us",
           "joji",
           1
          ],
          [
           "ku lo sa - a colors show",
           "oxlade",
           1
          ],
          [
           "numb",
           "marshmello, khalid",
           2
          ],
          [
           "run bts",
           "bts",
           1
          ],
          [
           "yet to come",
           "bts",
           1
          ],
          [
           "b.o.t.a. (baddest of them all) - edit",
           "interplanetary criminal, eliza rose",
           2
          ],
          [
           "don't you worry",
           "david guetta, shakira, black eyed peas",
           3
          ],
          [
           "ultra solo remix",
           "de la ghetto, feid, polima westcoast, paloma mami, pailita",
           5
          ],
          [
           "jimmy cooks (feat. 21 savage)",
           "drake, 21 savage",
           2
          ],
          [
           "massive",
           "drake",
           1
          ],
          [
           "sticky",
           "drake",
           1
          ],
          [
           "break my soul",
           "beyoncï¿",
           1
          ],
          [
           "poland",
           "lil yachty",
           1
          ],
          [
           "die first",
           "nessa barrett",
           1
          ],
          [
           "left and right (feat. jung kook of bts)",
           "charlie puth, bts, jung kook",
           3
          ],
          [
           "pop!",
           "nayeon",
           1
          ],
          [
           "bad habit",
           "steve lacy",
           1
          ],
          [
           "casei com a putaria",
           "mc ryan sp, love funk, mc paiva zs",
           3
          ],
          [
           "hot shit (feat. ye & lil durk)",
           "kanye west, lil durk, cardi b",
           3
          ],
          [
           "more",
           "j-hope",
           1
          ],
          [
           "la loto",
           "anitta, tini, becky g",
           3
          ],
          [
           "quevedo: bzrp music sessions, vol. 52",
           "bizarrap, quevedo",
           2
          ],
          [
           "normal",
           "feid",
           1
          ],
          [
           "come back home - from \"purple hearts\"",
           "sofia carson",
           1
          ],
          [
           "2 be loved (am i ready)",
           "lizzo",
           1
          ],
          [
           "about damn time",
           "lizzo",
           1
          ],
          [
           "golden hour",
           "jvke",
           1
          ],
          [
           "nonsense",
           "sabrina carpenter",
           1
          ],
          [
           "static",
           "steve lacy",
           1
          ],
          [
           "stay with me (with justin timberlake, halsey, & pharrell)",
           "calvin harris, halsey, pharrell williams, justin timberlake",
           4
          ],
          [
           "here with me",
           "d4vd",
           1
          ],
          [
           "kesariya (from \"brahmastra\")",
           "pritam, arijit singh, amitabh bhattacharya",
           3
          ],
          [
           "doja",
           "central cee",
           1
          ],
          [
           "givenchy",
           "duki",
           1
          ],
          [
           "romantic homicide",
           "d4vd",
           1
          ],
          [
           "tv",
           "billie eilish",
           1
          ],
          [
           "el rescate",
           "grupo marca registrada, junior h",
           2
          ],
          [
           "sin seï¿½ï",
           "ovy on the drums, quevedo",
           2
          ],
          [
           "lokera",
           "brray, rauw alejandro, lyanno",
           3
          ],
          [
           "despechï¿",
           "rosalï¿½",
           1
          ],
          [
           "lovezinho",
           "treyce",
           1
          ],
          [
           "alien superstar",
           "beyoncï¿",
           1
          ],
          [
           "cuff it",
           "beyoncï¿",
           1
          ],
          [
           "attention",
           "newjeans",
           1
          ],
          [
           "hype boy",
           "newjeans",
           1
          ],
          [
           "cï¿½ï¿½mo dormi",
           "rels b",
           1
          ],
          [
           "bad decisions (with bts & snoop dogg)",
           "snoop dogg, bts, benny blanco",
           3
          ],
          [
           "how do i say goodbye",
           "dean lewis",
           1
          ],
          [
           "miss you",
           "robin schulz, oliver tree",
           2
          ],
          [
           "si te la encuentras por ahï¿",
           "feid",
           1
          ],
          [
           "staying alive (feat. drake & lil baby)",
           "drake, dj khaled, lil baby",
           3
          ],
          [
           "limbo",
           "freddie dredd",
           1
          ],
          [
           "super freaky girl",
           "nicki minaj",
           1
          ],
          [
           "siempre pendientes",
           "peso pluma, luis r conriquez",
           2
          ],
          [
           "komang",
           "raim laode",
           1
          ],
          [
           "baby otaku",
           "fran c, polima westcoast, nickoog clk, pablito pesadilla",
           4
          ],
          [
           "feliz cumpleaï¿½ï¿½os fe",
           "feid",
           1
          ],
          [
           "pink venom",
           "blackpink",
           1
          ],
          [
           "after like",
           "ive",
           1
          ],
          [
           "gatï¿½ï¿½",
           "maldy, karol g",
           2
          ],
          [
           "i'm good (blue)",
           "bebe rexha, david guetta",
           2
          ],
          [
           "talk that talk",
           "twice",
           1
          ],
          [
           "talk",
           "yeat",
           1
          ],
          [
           "vista al mar",
           "quevedo",
           1
          ],
          [
           "evoque prata",
           "dj escobar, mc menor sg, mc menor hr",
           3
          ],
          [
           "forget me",
           "lewis capaldi",
           1
          ],
          [
           "lady mi amor",
           "feid",
           1
          ],
          [
           "prohibidox",
           "feid",
           1
          ],
          [
           "xq te pones asï¿",
           "yandel, feid",
           2
          ],
          [
           "shut up my moms calling - (sped up)",
           "hotel ugly",
           1
          ],
          [
           "eu gosto assim - ao vivo",
           "gustavo mioto, mari fernandez",
           2
          ],
          [
           "shut down",
           "blackpink",
           1
          ],
          [
           "typa girl",
           "blackpink",
           1
          ],
          [
           "bamba (feat. aitch & bia)",
           "luciano, aitch, bï¿½",
           3
          ],
          [
           "punto 40",
           "baby rasta, rauw alejandro",
           2
          ],
          [
           "star walkin' (league of legends worlds anthem)",
           "lil nas x",
           1
          ],
          [
           "unholy (feat. kim petras)",
           "sam smith, kim petras",
           2
          ],
          [
           "tubarï¿½ï¿½o te",
           "dj lk da escï¿½ï¿½cia, tchakabum, mc jhenny, m",
           4
          ],
          [
           "worth nothing",
           "twisted, oliver tree",
           2
          ],
          [
           "besos moja2",
           "wisin & yandel, rosalï¿½",
           2
          ],
          [
           "celestial",
           "ed sheeran",
           1
          ],
          [
           "obsessed",
           "abhijay sharma, riar saab",
           2
          ],
          [
           "gatita",
           "bellakath",
           1
          ],
          [
           "hey mor",
           "ozuna, feid",
           2
          ],
          [
           "the loneliest",
           "mï¿½ï¿½ne",
           1
          ],
          [
           "escapism.",
           "raye, 070 shake",
           2
          ],
          [
           "kick back",
           "kenshi yonezu",
           1
          ],
          [
           "maan meri jaan",
           "king",
           1
          ],
          [
           "bye bye",
           "marshmello, juice wrld",
           2
          ],
          [
           "california breeze",
           "lil baby",
           1
          ],
          [
           "antifragile",
           "le sserafim",
           1
          ],
          [
           "just wanna rock",
           "lil uzi vert",
           1
          ],
          [
           "nxde",
           "(g)i-dle",
           1
          ],
          [
           "monotonï¿½",
           "ozuna, shakira",
           2
          ],
          [
           "en la de ella",
           "feid, sech, jhayco",
           3
          ],
          [
           "quï¿½ï¿½ ago",
           "yuridia, angela aguilar",
           2
          ],
          [
           "anti-hero",
           "taylor swift",
           1
          ],
          [
           "bejeweled",
           "taylor swift",
           1
          ],
          [
           "bigger than the whole sky",
           "taylor swift",
           1
          ],
          [
           "karma",
           "taylor swift",
           1
          ],
          [
           "labyrinth",
           "taylor swift",
           1
          ],
          [
           "lavender haze",
           "taylor swift",
           1
          ],
          [
           "made you look",
           "meghan trainor",
           1
          ],
          [
           "maroon",
           "taylor swift",
           1
          ],
          [
           "mastermind",
           "taylor swift",
           1
          ],
          [
           "midnight rain",
           "taylor swift",
           1
          ],
          [
           "question...?",
           "taylor swift",
           1
          ],
          [
           "snow on the beach (feat. lana del rey)",
           "taylor swift, lana del rey",
           2
          ],
          [
           "sweet nothing",
           "taylor swift",
           1
          ],
          [
           "the great war",
           "taylor swift",
           1
          ],
          [
           "vigilante shit",
           "taylor swift",
           1
          ],
          [
           "would've, could've, should've",
           "taylor swift",
           1
          ],
          [
           "you're on your own, kid",
           "taylor swift",
           1
          ],
          [
           "malas decisiones",
           "kenia os",
           1
          ],
          [
           "lift me up - from black panther: wakanda forever - music from and inspired by",
           "rihanna",
           1
          ],
          [
           "shirt",
           "sza",
           1
          ],
          [
           "the astronaut",
           "jin",
           1
          ],
          [
           "spit in my face!",
           "thxsomch",
           1
          ],
          [
           "10:35",
           "tiï¿½ï¿½sto, tate m",
           2
          ],
          [
           "a veces (feat. feid)",
           "feid, paulo londra",
           2
          ],
          [
           "bombonzinho - ao vivo",
           "israel & rodolffo, ana castela",
           2
          ],
          [
           "my mind & me",
           "selena gomez",
           1
          ],
          [
           "alone",
           "burna boy",
           1
          ],
          [
           "antidepresan",
           "mabel matiz, mert demir",
           2
          ],
          [
           "backoutsideboyz",
           "drake",
           1
          ],
          [
           "broke boys",
           "drake, 21 savage",
           2
          ],
          [
           "circo loco",
           "drake, 21 savage",
           2
          ],
          [
           "con la brisa",
           "ludwig goransson, foudeqush",
           2
          ],
          [
           "die for you",
           "joji",
           1
          ],
          [
           "major distribution",
           "drake, 21 savage",
           2
          ],
          [
           "on bs",
           "drake, 21 savage",
           2
          ],
          [
           "privileged rappers",
           "drake, 21 savage",
           2
          ],
          [
           "punto g",
           "quevedo",
           1
          ],
          [
           "pussy & millions (feat. travis scott)",
           "drake, travis scott, 21 savage",
           3
          ],
          [
           "rich flex",
           "drake, 21 savage",
           2
          ],
          [
           "spin bout u",
           "drake, 21 savage",
           2
          ],
          [
           "apna bana le (from \"bhediya\")",
           "arijit singh, sachin-jigar",
           2
          ],
          [
           "cairo",
           "karol g, ovy on the drums",
           2
          ],
          [
           "dreamers [music from the fifa world cup qatar 2022 official soundtrack]",
           "bts, jung kook, fifa sound",
           3
          ],
          [
           "amg",
           "natanael cano, gabito ballesteros, peso pluma",
           3
          ],
          [
           "escapism. - sped up",
           "raye, 070 shake",
           2
          ],
          [
           "boy's a liar",
           "pinkpantheress",
           1
          ],
          [
           "la jumpa",
           "arcangel, bad bunny",
           2
          ],
          [
           "players",
           "coi leray",
           1
          ],
          [
           "ch y la pizza",
           "fuerza regida, natanael cano",
           2
          ],
          [
           "chorrito pa las animas",
           "feid",
           1
          ],
          [
           "creepin'",
           "the weeknd, 21 savage, metro boomin",
           3
          ],
          [
           "niagara falls (foot or 2) [with travis scott & 21 savage]",
           "travis scott, 21 savage, metro boomin",
           3
          ],
          [
           "on time (with john legend)",
           "john legend, metro boomin",
           2
          ],
          [
           "one thing at a time",
           "morgan wallen",
           1
          ],
          [
           "people",
           "libianca",
           1
          ],
          [
           "raindrops (insane) [with travis scott]",
           "travis scott, metro boomin",
           2
          ],
          [
           "superhero (heroes & villains) [with future & chris brown]",
           "future, chris brown, metro boomin",
           3
          ],
          [
           "tak segampang itu",
           "anggi marito",
           1
          ],
          [
           "too many nights (feat. don toliver & with future)",
           "future, metro boomin, don toliver",
           3
          ],
          [
           "trance (with travis scott & young thug)",
           "travis scott, young thug, metro boomin",
           3
          ],
          [
           "wild flower (with youjeen)",
           "rm",
           1
          ],
          [
           "kill bill",
           "sza",
           1
          ],
          [
           "open arms (feat. travis scott)",
           "sza, travis scott",
           2
          ],
          [
           "too late",
           "sza",
           1
          ],
          [
           "used (feat. don toliver)",
           "sza, don toliver",
           2
          ],
          [
           "zona de perigo",
           "leo santana",
           1
          ],
          [
           "blind",
           "sza",
           1
          ],
          [
           "conceited",
           "sza",
           1
          ],
          [
           "f2f",
           "sza",
           1
          ],
          [
           "far",
           "sza",
           1
          ],
          [
           "ghost in the machine (feat. phoebe bridgers)",
           "sza, phoebe bridgers",
           2
          ],
          [
           "gone girl",
           "sza",
           1
          ],
          [
           "leï¿½",
           "marï¿½ï¿½lia mendo",
           1
          ],
          [
           "love language",
           "sza",
           1
          ],
          [
           "low",
           "sza",
           1
          ],
          [
           "nobody gets me",
           "sza",
           1
          ],
          [
           "notice me",
           "sza",
           1
          ],
          [
           "seek & destroy",
           "sza",
           1
          ],
          [
           "smoking on my ex pack",
           "sza",
           1
          ],
          [
           "snooze",
           "sza",
           1
          ],
          [
           "sos",
           "sza",
           1
          ],
          [
           "special",
           "sza",
           1
          ],
          [
           "besharam rang (from \"pathaan\")",
           "vishal-shekhar, shilpa rao, caralisa monteiro, kumaar, vishal dadlani, shekhar ravjiani",
           6
          ],
          [
           "let go",
           "central cee",
           1
          ],
          [
           "marisola - remix",
           "duki, nicki nicole, cris mj, standly, stars music chile",
           5
          ],
          [
           "playa del inglï¿½",
           "myke towers, quevedo",
           2
          ],
          [
           "bebe dame",
           "fuerza regida, grupo frontera",
           2
          ],
          [
           "mercho",
           "migrantes, lil cake, nico valdi",
           3
          ],
          [
           "ditto",
           "newjeans",
           1
          ],
          [
           "yandel 150",
           "yandel, feid",
           2
          ],
          [
           "gato de noche",
           "nengo flow, bad bunny",
           2
          ],
          [
           "sem alianï¿½ï¿½a no",
           "mc xenon, os gemeos da putaria",
           2
          ],
          [
           "en paris",
           "el chachito, junior h",
           2
          ],
          [
           "igualito a mi apï¿",
           "fuerza regida, peso pluma",
           2
          ],
          [
           "omg",
           "newjeans",
           1
          ],
          [
           "shakira: bzrp music sessions, vol. 53",
           "shakira, bizarrap",
           2
          ],
          [
           "flowers",
           "miley cyrus",
           1
          ],
          [
           "muï¿½ï¿½",
           "steve aoki, tini, la joaqui",
           3
          ],
          [
           "fin de semana",
           "oscar maydon, junior h",
           2
          ],
          [
           "vibe (feat. jimin of bts)",
           "taeyang, jimin",
           2
          ],
          [
           "wanda",
           "quevedo",
           1
          ],
          [
           "prc",
           "natanael cano, peso pluma",
           2
          ],
          [
           "sial",
           "mahalini",
           1
          ],
          [
           "el gordo trae el mando",
           "chino pacas",
           1
          ],
          [
           "erro gostoso - ao vivo",
           "simone mendes",
           1
          ],
          [
           "i'm not here to make friends",
           "sam smith, calvin harris, jessie reyez",
           3
          ],
          [
           "llylm",
           "rosalï¿½",
           1
          ],
          [
           "love again",
           "the kid laroi",
           1
          ],
          [
           "sugar rush ride",
           "tomorrow x together",
           1
          ],
          [
           "trustfall",
           "p!nk",
           1
          ],
          [
           "everything i love",
           "morgan wallen",
           1
          ],
          [
           "i wrote the book",
           "morgan wallen",
           1
          ],
          [
           "last night",
           "morgan wallen",
           1
          ],
          [
           "nosso quadro",
           "ana castela, agroplay",
           2
          ],
          [
           "rosa pastel",
           "jasiel nuï¿½ï¿½ez, peso p",
           2
          ],
          [
           "x si volvemos",
           "karol g, romeo santos",
           2
          ],
          [
           "boy's a liar pt. 2",
           "pinkpantheress, ice spice",
           2
          ],
          [
           "di que si",
           "grupo marca registrada, grupo frontera",
           2
          ],
          [
           "watch this - arizonatears pluggnb remix",
           "sped up nightcore, arizonatears, lil uzi vert",
           3
          ],
          [
           "rara vez",
           "taiu, milo j",
           2
          ],
          [
           "el azul",
           "junior h, peso pluma",
           2
          ],
          [
           "if we ever broke up",
           "mae stephens",
           1
          ],
          [
           "cupido",
           "tini",
           1
          ],
          [
           "oi balde - ao vivo",
           "zï¿½ï¿½ neto & crist",
           1
          ],
          [
           "heaven",
           "niall horan",
           1
          ],
          [
           "pero tï¿",
           "karol g, quevedo",
           2
          ],
          [
           "private landing (feat. justin bieber & future)",
           "don toliver, future, justin bieber",
           3
          ],
          [
           "tqg",
           "karol g, shakira",
           2
          ],
          [
           "amargura",
           "karol g",
           1
          ],
          [
           "cupid",
           "fifty fifty",
           1
          ],
          [
           "cupid - twin ver.",
           "fifty fifty",
           1
          ],
          [
           "die for you - remix",
           "ariana grande, the weeknd",
           2
          ],
          [
           "mientras me curo del cora",
           "karol g",
           1
          ],
          [
           "moonlight",
           "kali uchis",
           1
          ],
          [
           "tormenta (feat. bad bunny)",
           "gorillaz, bad bunny",
           2
          ],
          [
           "tattoo",
           "loreen",
           1
          ],
          [
           "seu brilho sumiu - ao vivo",
           "israel & rodolffo, mari fernandez",
           2
          ],
          [
           "mas rica que ayer",
           "mambo kingz, dj luian, anuel aa",
           3
          ],
          [
           "ainï¿½ï¿½ï¿½t tha",
           "morgan wallen",
           1
          ],
          [
           "born with a beer in my hand",
           "morgan wallen",
           1
          ],
          [
           "devil donï¿½ï¿½ï¿½",
           "morgan wallen",
           1
          ],
          [
           "el merengue",
           "marshmello, manuel turizo",
           2
          ],
          [
           "man made a bar (feat. eric church)",
           "morgan wallen, eric church",
           2
          ],
          [
           "on the street (with j. cole)",
           "j-hope, j. cole",
           2
          ],
          [
           "red ruby da sleeze",
           "nicki minaj",
           1
          ],
          [
           "thinkinï¿½ï¿½ï¿½ b",
           "morgan wallen",
           1
          ],
          [
           "ýýý98 braves",
           "morgan wallen",
           1
          ],
          [
           "shorty party",
           "cartel de santa, la kelly",
           2
          ],
          [
           "miracle (with ellie goulding)",
           "calvin harris, ellie goulding",
           2
          ],
          [
           "dijeron que no la iba lograr",
           "fuerza regida, chino pacas",
           2
          ],
          [
           "ella baila sola",
           "eslabon armado, peso pluma",
           2
          ],
          [
           "area codes",
           "kaliii, kaliii",
           2
          ],
          [
           "coco chanel",
           "bad bunny, eladio carrion",
           2
          ],
          [
           "la bebe - remix",
           "peso pluma, yng lvcas",
           2
          ],
          [
           "remix exclusivo",
           "feid",
           1
          ],
          [
           "say yes to heaven",
           "lana del rey",
           1
          ],
          [
           "set me free pt.2",
           "jimin",
           1
          ],
          [
           "what it is (solo version)",
           "doechii",
           1
          ],
          [
           "arcï¿½ï¿½ngel: bzrp music sessions, vol",
           "arcangel, bizarrap",
           2
          ],
          [
           "eyes closed",
           "ed sheeran",
           1
          ],
          [
           "lala",
           "myke towers",
           1
          ],
          [
           "beso",
           "rauw alejandro, rosalï¿½",
           2
          ],
          [
           "fast car",
           "luke combs",
           1
          ],
          [
           "i know - pr1svx edit",
           "kanii, pr1isvx",
           2
          ],
          [
           "like crazy",
           "jimin",
           1
          ],
          [
           "like crazy (english version)",
           "jimin",
           1
          ],
          [
           "happy",
           "nf",
           1
          ],
          [
           "dogtooth",
           "tyler, the creator",
           2
          ],
          [
           "void",
           "melanie martinez",
           1
          ],
          [
           "chanel",
           "becky g, peso pluma",
           2
          ],
          [
           "classy 101",
           "feid, young miko",
           2
          ],
          [
           "flower",
           "jisoo",
           1
          ],
          [
           "sorry not sorry",
           "tyler, the creator",
           2
          ],
          [
           "las morras",
           "blessd, peso pluma",
           2
          ],
          [
           "un finde | crossover #2",
           "big one, fmk, ke personajes",
           3
          ],
          [
           "baby don't hurt me",
           "david guetta, anne-marie, coi leray",
           3
          ],
          [
           "frï¿½ï¿½gil (feat. grupo front",
           "yahritza y su esencia, grupo frontera",
           2
          ],
          [
           "never felt so alone",
           "labrinth",
           1
          ],
          [
           "peaches (from the super mario bros. movie)",
           "jack black",
           1
          ],
          [
           "people pt.2 (feat. iu)",
           "iu, agust d",
           2
          ],
          [
           "search & rescue",
           "drake",
           1
          ],
          [
           "i am",
           "ive",
           1
          ],
          [
           "ýýýýýýýýýýýý",
           "yoasobi",
           1
          ],
          [
           "chemical",
           "post malone",
           1
          ],
          [
           "daylight",
           "david kushner",
           1
          ],
          [
           "princess diana (with nicki minaj)",
           "nicki minaj, ice spice",
           2
          ],
          [
           "un x100to",
           "bad bunny, grupo frontera",
           2
          ],
          [
           "double fantasy (with future)",
           "the weeknd, future",
           2
          ],
          [
           "haegeum",
           "agust d",
           1
          ],
          [
           "niï¿½ï¿½a bo",
           "sean paul, feid",
           2
          ],
          [
           "super",
           "seventeen",
           1
          ],
          [
           "shoong! (feat. lisa of blackpink)",
           "taeyang, lisa",
           2
          ],
          [
           "mami chula",
           "quevedo, jhayco",
           2
          ],
          [
           "conexï¿½ï¿½es de mï¿½ï¿½fia (feat. rich",
           "rich the kid, matuï¿",
           2
          ],
          [
           "angel pt 1 (feat. jimin of bts, jvke & muni long)",
           "kodak black, nle choppa, muni long, jvke, jimin",
           5
          ],
          [
           "unforgiven (feat. nile rodgers)",
           "nile rodgers, le sserafim",
           2
          ],
          [
           "don't ever say love me (feat. rm of bts)",
           "rm, colde",
           2
          ],
          [
           "mejor que yo",
           "mambo kingz, dj luian, anuel aa",
           3
          ],
          [
           "tï¿½ï¿",
           "dennis, mc kevin o chris",
           2
          ],
          [
           "curtains",
           "ed sheeran",
           1
          ],
          [
           "acrï¿½ï¿½s",
           "shakira",
           1
          ],
          [
           "cartï¿½ï¿½o b",
           "mc caverinha, kayblack",
           2
          ],
          [
           "all my life (feat. j. cole)",
           "j. cole, lil durk",
           2
          ],
          [
           "vagabundo",
           "sebastian yatra, manuel turizo, beï¿½ï",
           3
          ],
          [
           "abcdario",
           "junior h, eden muï¿½ï",
           2
          ],
          [
           "fukumean",
           "gunna",
           1
          ],
          [
           "phir aur kya chahiye (from \"zara hatke zara bachke\")",
           "arijit singh, sachin-jigar, amitabha bhattacharya",
           3
          ],
          [
           "queencard",
           "(g)i-dle",
           1
          ],
          [
           "69",
           "nicky jam, feid",
           2
          ],
          [
           "where she goes",
           "bad bunny",
           1
          ],
          [
           "america has a problem (feat. kendrick lamar)",
           "kendrick lamar, beyoncï¿",
           2
          ],
          [
           "cheques",
           "shubh",
           1
          ],
          [
           "novo balanï¿½",
           "veigh, bvga beatz, supernova ent, prod malax",
           4
          ],
          [
           "tqm",
           "fuerza regida",
           1
          ],
          [
           "bite me",
           "enhypen",
           1
          ],
          [
           "tere vaaste (from \"zara hatke zara bachke\")",
           "sachin-jigar, shadab faridi, altamash faridi, amitabh bhattacharya, varun jain",
           5
          ],
          [
           "dance the night (from barbie the album)",
           "dua lipa",
           1
          ],
          [
           "bye",
           "peso pluma",
           1
          ],
          [
           "hits different",
           "taylor swift",
           1
          ],
          [
           "karma (feat. ice spice)",
           "taylor swift, ice spice",
           2
          ],
          [
           "snow on the beach (feat. more lana del rey)",
           "lana del rey, taylor swift",
           2
          ],
          [
           "stand by me (feat. morgan wallen)",
           "lil durk, morgan wallen",
           2
          ],
          [
           "peso pluma: bzrp music sessions, vol. 55",
           "bizarrap, peso pluma",
           2
          ],
          [
           "gol bolinha, gol quadrado 2",
           "mc pedrinho, dj 900",
           2
          ],
          [
           "los del espacio",
           "big one, duki, lit killah, maria becerra, fmk, rusherking, emilia, tiago pzk",
           8
          ],
          [
           "sprinter",
           "dave, central cee",
           2
          ],
          [
           "all the way live (spider-man: across the spider-verse) (metro boomin & future, lil uzi vert)",
           "future, lil uzi vert, metro boomin",
           3
          ],
          [
           "am i dreaming (metro boomin & a$ap rocky, roisee)",
           "a$ap rocky, metro boomin, roisee",
           3
          ],
          [
           "annihilate (spider-man: across the spider-verse) (metro boomin & swae lee, lil wayne, offset)",
           "swae lee, lil wayne, offset, metro boomin",
           4
          ],
          [
           "calling (spider-man: across the spider-verse) (metro boomin & swae lee, nav, feat. a boogie wit da hoodie)",
           "swae lee, a boogie wit da hoodie, metro boomin, nav",
           4
          ],
          [
           "danger (spider) (offset & jid)",
           "offset, jid",
           2
          ],
          [
           "el cielo",
           "feid, myke towers, sky rompiendo",
           3
          ],
          [
           "hummingbird (metro boomin & james blake)",
           "james blake, metro boomin",
           2
          ],
          [
           "link up (metro boomin & don toliver, wizkid feat. beam & toian) - spider-verse remix (spider-man: across the spider-verse )",
           "wizkid, toian, metro boomin, don toliver, beam",
           5
          ],
          [
           "piï¿½ï¿½man deï¿",
           "semicenk, doï¿½ï¿½u",
           2
          ],
          [
           "popular (with playboi carti & madonna) - the idol vol. 1 (music from the hbo original series)",
           "the weeknd, madonna, playboi carti",
           3
          ],
          [
           "s-class",
           "stray kids",
           1
          ],
          [
           "self love (spider-man: across the spider-verse) (metro boomin & coi leray)",
           "metro boomin, coi leray",
           2
          ],
          [
           "lilith (feat. suga of bts) (diablo iv anthem)",
           "halsey, suga",
           2
          ],
          [
           "polaris - remix",
           "feid, mora, saiko, quevedo",
           4
          ],
          [
           "take two",
           "bts",
           1
          ],
          [
           "(it goes like) nanana - edit",
           "peggy gou",
           1
          ],
          [
           "rauw alejandro: bzrp music sessions, vol. 56",
           "rauw alejandro, bizarrap",
           2
          ],
          [
           "corazï¿½ï¿½n va",
           "maria becerra",
           1
          ],
          [
           "lady gaga",
           "gabito ballesteros, junior h, peso pluma",
           3
          ],
          [
           "lagunas",
           "jasiel nuï¿½ï¿½ez, peso p",
           2
          ],
          [
           "luna",
           "junior h, peso pluma",
           2
          ],
          [
           "sabor fresa",
           "fuerza regida",
           1
          ],
          [
           "baby hello",
           "rauw alejandro, bizarrap",
           2
          ],
          [
           "barbie world (with aqua) [from barbie the album]",
           "nicki minaj, aqua, ice spice",
           3
          ],
          [
           "novidade na ï¿½ï¿",
           "mc livinho, dj matt d",
           2
          ],
          [
           "tulum",
           "peso pluma, grupo frontera",
           2
          ],
          [
           "mojabi ghost",
           "tainy, bad bunny",
           2
          ],
          [
           "mi bello angel",
           "natanael cano",
           1
          ],
          [
           "vampire",
           "olivia rodrigo",
           1
          ],
          [
           "back to december (taylor's version)",
           "taylor swift",
           1
          ],
          [
           "better than revenge (taylor's version)",
           "taylor swift",
           1
          ],
          [
           "columbia",
           "quevedo",
           1
          ],
          [
           "enchanted (taylor's version)",
           "taylor swift",
           1
          ],
          [
           "i can see you (taylorï¿½ï¿½ï¿½s version) (from the",
           "taylor swift",
           1
          ],
          [
           "mine (taylor's version)",
           "taylor swift",
           1
          ],
          [
           "new jeans",
           "newjeans",
           1
          ],
          [
           "super shy",
           "newjeans",
           1
          ],
          [
           "quema",
           "sog, ryan castro, peso pluma",
           3
          ],
          [
           "rush",
           "troye sivan",
           1
          ],
          [
           "what was i made for? [from the motion picture \"barbie\"]",
           "billie eilish",
           1
          ],
          [
           "overdrive",
           "post malone",
           1
          ],
          [
           "s91",
           "karol g",
           1
          ],
          [
           "seven (feat. latto) (explicit ver.)",
           "latto, jung kook",
           2
          ]
         ],
         "hovertemplate": "Date: %{x|%d/%m/%Y}<br>Streams: %{y:,.0f}<br>Titre: %{customdata[0]}<br>Artiste: %{customdata[1]}<br>Nombre d'artistes: %{customdata[2]}<extra></extra>",
         "marker": {
          "color": [
           "rgb(135,206,235)",
           "rgb(135,206,235)",
           "rgb(206,126,0)",
           "rgb(135,206,235)",
           "rgb(135,206,235)",
           "rgb(135,206,235)",
           "rgb(135,206,235)",
           "rgb(135,206,235)",
           "rgb(135,206,235)",
           "rgb(135,206,235)",
           "rgb(135,206,235)",
           "rgb(206,126,0)",
           "rgb(206,126,0)",
           "rgb(206,126,0)",
           "rgb(206,126,0)",
           "rgb(255,206,58)",
           "rgb(206,126,0)",
           "rgb(135,206,235)",
           "rgb(135,206,235)",
           "rgb(135,206,235)",
           "rgb(206,126,0)",
           "rgb(206,126,0)",
           "rgb(135,206,235)",
           "rgb(143,206,0)",
           "rgb(135,206,235)",
           "rgb(135,206,235)",
           "rgb(135,206,235)",
           "rgb(206,126,0)",
           "rgb(206,126,0)",
           "rgb(135,206,235)",
           "rgb(206,126,0)",
           "rgb(135,206,235)",
           "rgb(143,206,0)",
           "rgb(135,206,235)",
           "rgb(206,126,0)",
           "rgb(206,126,0)",
           "rgb(206,126,0)",
           "rgb(206,126,0)",
           "rgb(255,206,58)",
           "rgb(135,206,235)",
           "rgb(206,126,0)",
           "rgb(135,206,235)",
           "rgb(143,206,0)",
           "rgb(135,206,235)",
           "rgb(135,206,235)",
           "rgb(135,206,235)",
           "rgb(135,206,235)",
           "rgb(206,126,0)",
           "rgb(135,206,235)",
           "rgb(255,206,58)",
           "rgb(206,126,0)",
           "rgb(206,126,0)",
           "rgb(135,206,235)",
           "rgb(135,206,235)",
           "rgb(135,206,235)",
           "rgb(143,206,0)",
           "rgb(143,206,0)",
           "rgb(255,206,58)",
           "rgb(143,206,0)",
           "rgb(206,126,0)",
           "rgb(135,206,235)",
           "rgb(135,206,235)",
           "rgb(143,206,0)",
           "rgb(255,206,58)",
           "rgb(206,126,0)",
           "rgb(143,206,0)",
           "rgb(135,206,235)",
           "rgb(135,206,235)",
           "rgb(135,206,235)",
           "rgb(135,206,235)",
           "rgb(135,206,235)",
           "rgb(143,206,0)",
           "rgb(255,206,58)",
           "rgb(206,126,0)",
           "rgb(206,126,0)",
           "rgb(135,206,235)",
           "rgb(135,206,235)",
           "rgb(135,206,235)",
           "rgb(135,206,235)",
           "rgb(135,206,235)",
           "rgb(135,206,235)",
           "rgb(135,206,235)",
           "rgb(255,206,58)",
           "rgb(206,126,0)",
           "rgb(206,126,0)",
           "rgb(135,206,235)",
           "rgb(135,206,235)",
           "rgb(135,206,235)",
           "rgb(135,206,235)",
           "rgb(135,206,235)",
           "rgb(143,206,0)",
           "rgb(255,206,58)",
           "rgb(206,126,0)",
           "rgb(135,206,235)",
           "rgb(135,206,235)",
           "rgb(135,206,235)",
           "rgb(135,206,235)",
           "rgb(135,206,235)",
           "rgb(135,206,235)",
           "rgb(135,206,235)",
           "rgb(135,206,235)",
           "rgb(135,206,235)",
           "rgb(255,206,58)",
           "rgb(255,206,58)",
           "rgb(255,206,58)",
           "rgb(206,126,0)",
           "rgb(206,126,0)",
           "rgb(135,206,235)",
           "rgb(135,206,235)",
           "rgb(135,206,235)",
           "rgb(135,206,235)",
           "rgb(135,206,235)",
           "rgb(135,206,235)",
           "rgb(135,206,235)",
           "rgb(135,206,235)",
           "rgb(255,206,58)",
           "rgb(255,206,58)",
           "rgb(255,206,58)",
           "rgb(206,126,0)",
           "rgb(206,126,0)",
           "rgb(135,206,235)",
           "rgb(135,206,235)",
           "rgb(135,206,235)",
           "rgb(135,206,235)",
           "rgb(135,206,235)",
           "rgb(143,206,0)",
           "rgb(143,206,0)",
           "rgb(143,206,0)",
           "rgb(255,206,58)",
           "rgb(255,206,58)",
           "rgb(206,126,0)",
           "rgb(206,126,0)",
           "rgb(135,206,235)",
           "rgb(135,206,235)",
           "rgb(143,206,0)",
           "rgb(143,206,0)",
           "rgb(143,206,0)",
           "rgb(255,206,58)",
           "rgb(255,206,58)",
           "rgb(255,206,58)",
           "rgb(206,126,0)",
           "rgb(206,126,0)",
           "rgb(206,126,0)",
           "rgb(206,126,0)",
           "rgb(206,126,0)",
           "rgb(206,126,0)",
           "rgb(206,126,0)",
           "rgb(206,126,0)",
           "rgb(206,126,0)",
           "rgb(206,126,0)",
           "rgb(135,206,235)",
           "rgb(135,206,235)",
           "rgb(135,206,235)",
           "rgb(135,206,235)",
           "rgb(135,206,235)",
           "rgb(135,206,235)",
           "rgb(143,206,0)",
           "rgb(143,206,0)",
           "rgb(143,206,0)",
           "rgb(143,206,0)",
           "rgb(255,206,58)",
           "rgb(255,206,58)",
           "rgb(255,206,58)",
           "rgb(255,206,58)",
           "rgb(255,206,58)",
           "rgb(255,206,58)",
           "rgb(206,126,0)",
           "rgb(206,126,0)",
           "rgb(206,126,0)",
           "rgb(206,126,0)",
           "rgb(206,126,0)",
           "rgb(206,126,0)",
           "rgb(135,206,235)",
           "rgb(143,206,0)",
           "rgb(143,206,0)",
           "rgb(143,206,0)",
           "rgb(143,206,0)",
           "rgb(143,206,0)",
           "rgb(206,126,0)",
           "rgb(206,126,0)",
           "rgb(206,126,0)",
           "rgb(206,126,0)",
           "rgb(206,126,0)",
           "rgb(135,206,235)",
           "rgb(135,206,235)",
           "rgb(143,206,0)",
           "rgb(143,206,0)",
           "rgb(143,206,0)",
           "rgb(143,206,0)",
           "rgb(143,206,0)",
           "rgb(143,206,0)",
           "rgb(143,206,0)",
           "rgb(255,206,58)",
           "rgb(255,206,58)",
           "rgb(255,206,58)",
           "rgb(255,206,58)",
           "rgb(255,206,58)",
           "rgb(255,206,58)",
           "rgb(255,206,58)",
           "rgb(255,206,58)",
           "rgb(255,206,58)",
           "rgb(255,206,58)",
           "rgb(206,126,0)",
           "rgb(206,126,0)",
           "rgb(206,126,0)",
           "rgb(206,126,0)",
           "rgb(206,126,0)",
           "rgb(206,126,0)",
           "rgb(206,126,0)",
           "rgb(206,126,0)",
           "rgb(206,126,0)",
           "rgb(206,126,0)",
           "rgb(206,126,0)",
           "rgb(206,126,0)",
           "rgb(206,126,0)",
           "rgb(206,126,0)",
           "rgb(135,206,235)",
           "rgb(135,206,235)",
           "rgb(135,206,235)",
           "rgb(135,206,235)",
           "rgb(135,206,235)",
           "rgb(135,206,235)",
           "rgb(135,206,235)",
           "rgb(135,206,235)",
           "rgb(135,206,235)",
           "rgb(135,206,235)",
           "rgb(135,206,235)",
           "rgb(135,206,235)",
           "rgb(143,206,0)",
           "rgb(143,206,0)",
           "rgb(143,206,0)",
           "rgb(143,206,0)",
           "rgb(143,206,0)",
           "rgb(143,206,0)",
           "rgb(143,206,0)",
           "rgb(143,206,0)",
           "rgb(255,206,58)",
           "rgb(255,206,58)",
           "rgb(255,206,58)",
           "rgb(255,206,58)",
           "rgb(255,206,58)",
           "rgb(255,206,58)",
           "rgb(255,206,58)",
           "rgb(255,206,58)",
           "rgb(206,126,0)",
           "rgb(206,126,0)",
           "rgb(206,126,0)",
           "rgb(206,126,0)",
           "rgb(206,126,0)",
           "rgb(206,126,0)",
           "rgb(206,126,0)",
           "rgb(206,126,0)",
           "rgb(135,206,235)",
           "rgb(135,206,235)",
           "rgb(135,206,235)",
           "rgb(135,206,235)",
           "rgb(135,206,235)",
           "rgb(135,206,235)",
           "rgb(135,206,235)",
           "rgb(143,206,0)",
           "rgb(143,206,0)",
           "rgb(143,206,0)",
           "rgb(143,206,0)",
           "rgb(143,206,0)",
           "rgb(143,206,0)",
           "rgb(143,206,0)",
           "rgb(143,206,0)",
           "rgb(143,206,0)",
           "rgb(143,206,0)",
           "rgb(143,206,0)",
           "rgb(143,206,0)",
           "rgb(143,206,0)",
           "rgb(143,206,0)",
           "rgb(143,206,0)",
           "rgb(143,206,0)",
           "rgb(143,206,0)",
           "rgb(143,206,0)",
           "rgb(143,206,0)",
           "rgb(143,206,0)",
           "rgb(143,206,0)",
           "rgb(255,206,58)",
           "rgb(255,206,58)",
           "rgb(255,206,58)",
           "rgb(255,206,58)",
           "rgb(255,206,58)",
           "rgb(255,206,58)",
           "rgb(255,206,58)",
           "rgb(255,206,58)",
           "rgb(255,206,58)",
           "rgb(255,206,58)",
           "rgb(255,206,58)",
           "rgb(255,206,58)",
           "rgb(255,206,58)",
           "rgb(255,206,58)",
           "rgb(255,206,58)",
           "rgb(255,206,58)",
           "rgb(255,206,58)",
           "rgb(255,206,58)",
           "rgb(255,206,58)",
           "rgb(255,206,58)",
           "rgb(255,206,58)",
           "rgb(255,206,58)",
           "rgb(255,206,58)",
           "rgb(255,206,58)",
           "rgb(255,206,58)",
           "rgb(255,206,58)",
           "rgb(255,206,58)",
           "rgb(255,206,58)",
           "rgb(255,206,58)",
           "rgb(255,206,58)",
           "rgb(206,126,0)",
           "rgb(206,126,0)",
           "rgb(206,126,0)",
           "rgb(206,126,0)",
           "rgb(206,126,0)",
           "rgb(206,126,0)",
           "rgb(206,126,0)",
           "rgb(206,126,0)",
           "rgb(206,126,0)",
           "rgb(206,126,0)",
           "rgb(206,126,0)",
           "rgb(206,126,0)",
           "rgb(206,126,0)",
           "rgb(206,126,0)",
           "rgb(206,126,0)",
           "rgb(206,126,0)",
           "rgb(206,126,0)",
           "rgb(206,126,0)",
           "rgb(206,126,0)",
           "rgb(206,126,0)",
           "rgb(206,126,0)",
           "rgb(206,126,0)",
           "rgb(206,126,0)",
           "rgb(206,126,0)",
           "rgb(206,126,0)",
           "rgb(206,126,0)",
           "rgb(206,126,0)",
           "rgb(206,126,0)",
           "rgb(206,126,0)",
           "rgb(206,126,0)",
           "rgb(206,126,0)",
           "rgb(206,126,0)",
           "rgb(206,126,0)",
           "rgb(206,126,0)",
           "rgb(206,126,0)",
           "rgb(206,126,0)",
           "rgb(206,126,0)",
           "rgb(206,126,0)",
           "rgb(206,126,0)",
           "rgb(206,126,0)",
           "rgb(206,126,0)",
           "rgb(206,126,0)",
           "rgb(206,126,0)",
           "rgb(206,126,0)",
           "rgb(206,126,0)",
           "rgb(206,126,0)",
           "rgb(206,126,0)",
           "rgb(206,126,0)",
           "rgb(206,126,0)",
           "rgb(206,126,0)",
           "rgb(206,126,0)",
           "rgb(135,206,235)",
           "rgb(135,206,235)",
           "rgb(135,206,235)",
           "rgb(135,206,235)",
           "rgb(135,206,235)",
           "rgb(135,206,235)",
           "rgb(135,206,235)",
           "rgb(135,206,235)",
           "rgb(135,206,235)",
           "rgb(135,206,235)",
           "rgb(135,206,235)",
           "rgb(135,206,235)",
           "rgb(135,206,235)",
           "rgb(135,206,235)",
           "rgb(135,206,235)",
           "rgb(135,206,235)",
           "rgb(135,206,235)",
           "rgb(135,206,235)",
           "rgb(135,206,235)",
           "rgb(135,206,235)",
           "rgb(135,206,235)",
           "rgb(135,206,235)",
           "rgb(135,206,235)",
           "rgb(135,206,235)",
           "rgb(135,206,235)",
           "rgb(135,206,235)",
           "rgb(135,206,235)",
           "rgb(135,206,235)",
           "rgb(135,206,235)",
           "rgb(135,206,235)",
           "rgb(135,206,235)",
           "rgb(135,206,235)",
           "rgb(135,206,235)",
           "rgb(135,206,235)",
           "rgb(135,206,235)",
           "rgb(135,206,235)",
           "rgb(135,206,235)",
           "rgb(135,206,235)",
           "rgb(135,206,235)",
           "rgb(135,206,235)",
           "rgb(135,206,235)",
           "rgb(135,206,235)",
           "rgb(135,206,235)",
           "rgb(135,206,235)",
           "rgb(135,206,235)",
           "rgb(135,206,235)",
           "rgb(135,206,235)",
           "rgb(135,206,235)",
           "rgb(135,206,235)",
           "rgb(135,206,235)",
           "rgb(135,206,235)",
           "rgb(135,206,235)",
           "rgb(135,206,235)",
           "rgb(135,206,235)",
           "rgb(135,206,235)",
           "rgb(135,206,235)",
           "rgb(135,206,235)",
           "rgb(135,206,235)",
           "rgb(135,206,235)",
           "rgb(135,206,235)",
           "rgb(135,206,235)",
           "rgb(135,206,235)",
           "rgb(135,206,235)",
           "rgb(135,206,235)",
           "rgb(135,206,235)",
           "rgb(135,206,235)",
           "rgb(135,206,235)",
           "rgb(135,206,235)",
           "rgb(135,206,235)",
           "rgb(135,206,235)",
           "rgb(135,206,235)",
           "rgb(135,206,235)",
           "rgb(135,206,235)",
           "rgb(135,206,235)",
           "rgb(135,206,235)",
           "rgb(135,206,235)",
           "rgb(135,206,235)",
           "rgb(135,206,235)",
           "rgb(143,206,0)",
           "rgb(143,206,0)",
           "rgb(143,206,0)",
           "rgb(143,206,0)",
           "rgb(143,206,0)",
           "rgb(143,206,0)",
           "rgb(143,206,0)",
           "rgb(143,206,0)",
           "rgb(143,206,0)",
           "rgb(143,206,0)",
           "rgb(143,206,0)",
           "rgb(143,206,0)",
           "rgb(143,206,0)",
           "rgb(143,206,0)",
           "rgb(143,206,0)",
           "rgb(143,206,0)",
           "rgb(143,206,0)",
           "rgb(143,206,0)",
           "rgb(143,206,0)",
           "rgb(143,206,0)",
           "rgb(143,206,0)",
           "rgb(143,206,0)",
           "rgb(143,206,0)",
           "rgb(143,206,0)",
           "rgb(143,206,0)",
           "rgb(143,206,0)",
           "rgb(143,206,0)",
           "rgb(143,206,0)",
           "rgb(143,206,0)",
           "rgb(143,206,0)",
           "rgb(143,206,0)",
           "rgb(143,206,0)",
           "rgb(143,206,0)",
           "rgb(143,206,0)",
           "rgb(143,206,0)",
           "rgb(143,206,0)",
           "rgb(143,206,0)",
           "rgb(143,206,0)",
           "rgb(143,206,0)",
           "rgb(143,206,0)",
           "rgb(143,206,0)",
           "rgb(143,206,0)",
           "rgb(143,206,0)",
           "rgb(143,206,0)",
           "rgb(143,206,0)",
           "rgb(143,206,0)",
           "rgb(143,206,0)",
           "rgb(143,206,0)",
           "rgb(143,206,0)",
           "rgb(143,206,0)",
           "rgb(143,206,0)",
           "rgb(143,206,0)",
           "rgb(143,206,0)",
           "rgb(143,206,0)",
           "rgb(143,206,0)",
           "rgb(143,206,0)",
           "rgb(143,206,0)",
           "rgb(143,206,0)",
           "rgb(143,206,0)",
           "rgb(143,206,0)",
           "rgb(143,206,0)",
           "rgb(143,206,0)",
           "rgb(143,206,0)",
           "rgb(143,206,0)",
           "rgb(143,206,0)",
           "rgb(143,206,0)",
           "rgb(143,206,0)",
           "rgb(143,206,0)",
           "rgb(143,206,0)",
           "rgb(143,206,0)",
           "rgb(143,206,0)",
           "rgb(143,206,0)",
           "rgb(143,206,0)",
           "rgb(143,206,0)",
           "rgb(143,206,0)",
           "rgb(143,206,0)",
           "rgb(143,206,0)",
           "rgb(143,206,0)",
           "rgb(143,206,0)",
           "rgb(143,206,0)",
           "rgb(143,206,0)",
           "rgb(143,206,0)",
           "rgb(143,206,0)",
           "rgb(143,206,0)",
           "rgb(143,206,0)",
           "rgb(143,206,0)",
           "rgb(143,206,0)",
           "rgb(143,206,0)",
           "rgb(143,206,0)",
           "rgb(143,206,0)",
           "rgb(143,206,0)",
           "rgb(143,206,0)",
           "rgb(143,206,0)",
           "rgb(143,206,0)",
           "rgb(143,206,0)",
           "rgb(143,206,0)",
           "rgb(143,206,0)",
           "rgb(143,206,0)",
           "rgb(143,206,0)",
           "rgb(143,206,0)",
           "rgb(143,206,0)",
           "rgb(143,206,0)",
           "rgb(143,206,0)",
           "rgb(143,206,0)",
           "rgb(143,206,0)",
           "rgb(143,206,0)",
           "rgb(143,206,0)",
           "rgb(143,206,0)",
           "rgb(143,206,0)",
           "rgb(143,206,0)",
           "rgb(143,206,0)",
           "rgb(143,206,0)",
           "rgb(143,206,0)",
           "rgb(143,206,0)",
           "rgb(143,206,0)",
           "rgb(143,206,0)",
           "rgb(143,206,0)",
           "rgb(143,206,0)",
           "rgb(143,206,0)",
           "rgb(143,206,0)",
           "rgb(143,206,0)",
           "rgb(143,206,0)",
           "rgb(143,206,0)",
           "rgb(143,206,0)",
           "rgb(143,206,0)",
           "rgb(143,206,0)",
           "rgb(143,206,0)",
           "rgb(143,206,0)",
           "rgb(143,206,0)",
           "rgb(143,206,0)",
           "rgb(143,206,0)",
           "rgb(255,206,58)",
           "rgb(255,206,58)",
           "rgb(255,206,58)",
           "rgb(255,206,58)",
           "rgb(255,206,58)",
           "rgb(255,206,58)",
           "rgb(255,206,58)",
           "rgb(255,206,58)",
           "rgb(255,206,58)",
           "rgb(255,206,58)",
           "rgb(255,206,58)",
           "rgb(255,206,58)",
           "rgb(255,206,58)",
           "rgb(255,206,58)",
           "rgb(255,206,58)",
           "rgb(255,206,58)",
           "rgb(255,206,58)",
           "rgb(255,206,58)",
           "rgb(255,206,58)",
           "rgb(255,206,58)",
           "rgb(255,206,58)",
           "rgb(255,206,58)",
           "rgb(255,206,58)",
           "rgb(255,206,58)",
           "rgb(255,206,58)",
           "rgb(255,206,58)",
           "rgb(255,206,58)",
           "rgb(255,206,58)",
           "rgb(255,206,58)",
           "rgb(255,206,58)",
           "rgb(255,206,58)",
           "rgb(255,206,58)",
           "rgb(255,206,58)",
           "rgb(255,206,58)",
           "rgb(255,206,58)",
           "rgb(255,206,58)",
           "rgb(255,206,58)",
           "rgb(255,206,58)",
           "rgb(255,206,58)",
           "rgb(255,206,58)",
           "rgb(255,206,58)",
           "rgb(255,206,58)",
           "rgb(255,206,58)",
           "rgb(255,206,58)",
           "rgb(255,206,58)",
           "rgb(255,206,58)",
           "rgb(255,206,58)",
           "rgb(255,206,58)",
           "rgb(255,206,58)",
           "rgb(255,206,58)",
           "rgb(255,206,58)",
           "rgb(255,206,58)",
           "rgb(255,206,58)",
           "rgb(255,206,58)",
           "rgb(255,206,58)",
           "rgb(255,206,58)",
           "rgb(255,206,58)",
           "rgb(255,206,58)",
           "rgb(255,206,58)",
           "rgb(255,206,58)",
           "rgb(255,206,58)",
           "rgb(255,206,58)",
           "rgb(255,206,58)",
           "rgb(255,206,58)",
           "rgb(255,206,58)",
           "rgb(255,206,58)",
           "rgb(255,206,58)",
           "rgb(255,206,58)",
           "rgb(255,206,58)",
           "rgb(255,206,58)",
           "rgb(255,206,58)",
           "rgb(255,206,58)",
           "rgb(255,206,58)",
           "rgb(255,206,58)",
           "rgb(206,126,0)",
           "rgb(206,126,0)",
           "rgb(206,126,0)",
           "rgb(206,126,0)",
           "rgb(206,126,0)",
           "rgb(206,126,0)",
           "rgb(206,126,0)",
           "rgb(206,126,0)",
           "rgb(206,126,0)",
           "rgb(206,126,0)",
           "rgb(206,126,0)",
           "rgb(206,126,0)",
           "rgb(206,126,0)",
           "rgb(206,126,0)",
           "rgb(206,126,0)",
           "rgb(206,126,0)",
           "rgb(206,126,0)",
           "rgb(206,126,0)",
           "rgb(206,126,0)",
           "rgb(206,126,0)",
           "rgb(206,126,0)",
           "rgb(206,126,0)",
           "rgb(206,126,0)",
           "rgb(206,126,0)",
           "rgb(206,126,0)",
           "rgb(206,126,0)",
           "rgb(206,126,0)",
           "rgb(206,126,0)",
           "rgb(206,126,0)",
           "rgb(206,126,0)",
           "rgb(206,126,0)",
           "rgb(206,126,0)",
           "rgb(206,126,0)",
           "rgb(206,126,0)",
           "rgb(206,126,0)",
           "rgb(206,126,0)",
           "rgb(206,126,0)",
           "rgb(206,126,0)",
           "rgb(206,126,0)",
           "rgb(206,126,0)",
           "rgb(206,126,0)",
           "rgb(206,126,0)",
           "rgb(206,126,0)",
           "rgb(206,126,0)",
           "rgb(206,126,0)",
           "rgb(206,126,0)",
           "rgb(206,126,0)",
           "rgb(206,126,0)",
           "rgb(206,126,0)",
           "rgb(206,126,0)",
           "rgb(206,126,0)",
           "rgb(206,126,0)",
           "rgb(206,126,0)",
           "rgb(206,126,0)",
           "rgb(206,126,0)",
           "rgb(206,126,0)",
           "rgb(206,126,0)",
           "rgb(206,126,0)",
           "rgb(206,126,0)",
           "rgb(206,126,0)",
           "rgb(206,126,0)",
           "rgb(206,126,0)",
           "rgb(206,126,0)",
           "rgb(206,126,0)",
           "rgb(206,126,0)",
           "rgb(206,126,0)",
           "rgb(206,126,0)",
           "rgb(206,126,0)",
           "rgb(206,126,0)",
           "rgb(206,126,0)",
           "rgb(206,126,0)",
           "rgb(206,126,0)",
           "rgb(206,126,0)",
           "rgb(206,126,0)",
           "rgb(206,126,0)",
           "rgb(206,126,0)",
           "rgb(206,126,0)",
           "rgb(206,126,0)",
           "rgb(206,126,0)",
           "rgb(206,126,0)",
           "rgb(206,126,0)",
           "rgb(206,126,0)",
           "rgb(135,206,235)",
           "rgb(135,206,235)",
           "rgb(135,206,235)",
           "rgb(135,206,235)",
           "rgb(135,206,235)",
           "rgb(135,206,235)",
           "rgb(135,206,235)",
           "rgb(135,206,235)",
           "rgb(135,206,235)",
           "rgb(135,206,235)",
           "rgb(135,206,235)",
           "rgb(135,206,235)",
           "rgb(135,206,235)",
           "rgb(135,206,235)",
           "rgb(135,206,235)",
           "rgb(135,206,235)",
           "rgb(135,206,235)",
           "rgb(135,206,235)",
           "rgb(135,206,235)",
           "rgb(135,206,235)",
           "rgb(135,206,235)",
           "rgb(135,206,235)",
           "rgb(135,206,235)",
           "rgb(135,206,235)",
           "rgb(135,206,235)",
           "rgb(135,206,235)",
           "rgb(135,206,235)",
           "rgb(135,206,235)",
           "rgb(135,206,235)",
           "rgb(135,206,235)",
           "rgb(135,206,235)",
           "rgb(135,206,235)",
           "rgb(135,206,235)",
           "rgb(135,206,235)",
           "rgb(135,206,235)",
           "rgb(135,206,235)",
           "rgb(135,206,235)",
           "rgb(135,206,235)",
           "rgb(135,206,235)",
           "rgb(135,206,235)",
           "rgb(135,206,235)",
           "rgb(135,206,235)",
           "rgb(135,206,235)",
           "rgb(135,206,235)",
           "rgb(135,206,235)",
           "rgb(135,206,235)",
           "rgb(135,206,235)",
           "rgb(135,206,235)",
           "rgb(135,206,235)",
           "rgb(135,206,235)",
           "rgb(135,206,235)",
           "rgb(135,206,235)",
           "rgb(135,206,235)",
           "rgb(135,206,235)",
           "rgb(135,206,235)",
           "rgb(135,206,235)",
           "rgb(135,206,235)",
           "rgb(135,206,235)",
           "rgb(135,206,235)",
           "rgb(135,206,235)",
           "rgb(135,206,235)",
           "rgb(135,206,235)",
           "rgb(135,206,235)",
           "rgb(135,206,235)",
           "rgb(135,206,235)",
           "rgb(135,206,235)",
           "rgb(135,206,235)",
           "rgb(135,206,235)",
           "rgb(135,206,235)",
           "rgb(135,206,235)",
           "rgb(135,206,235)",
           "rgb(135,206,235)",
           "rgb(135,206,235)",
           "rgb(135,206,235)",
           "rgb(135,206,235)",
           "rgb(135,206,235)",
           "rgb(135,206,235)",
           "rgb(135,206,235)",
           "rgb(135,206,235)",
           "rgb(135,206,235)",
           "rgb(135,206,235)",
           "rgb(135,206,235)",
           "rgb(135,206,235)",
           "rgb(135,206,235)",
           "rgb(135,206,235)",
           "rgb(135,206,235)",
           "rgb(135,206,235)",
           "rgb(135,206,235)",
           "rgb(143,206,0)",
           "rgb(143,206,0)",
           "rgb(143,206,0)",
           "rgb(143,206,0)",
           "rgb(143,206,0)",
           "rgb(143,206,0)",
           "rgb(143,206,0)",
           "rgb(143,206,0)",
           "rgb(143,206,0)",
           "rgb(143,206,0)",
           "rgb(143,206,0)",
           "rgb(143,206,0)",
           "rgb(143,206,0)",
           "rgb(143,206,0)",
           "rgb(143,206,0)",
           "rgb(143,206,0)",
           "rgb(143,206,0)",
           "rgb(143,206,0)",
           "rgb(143,206,0)",
           "rgb(143,206,0)",
           "rgb(143,206,0)",
           "rgb(143,206,0)",
           "rgb(143,206,0)",
           "rgb(143,206,0)",
           "rgb(143,206,0)",
           "rgb(143,206,0)",
           "rgb(143,206,0)",
           "rgb(143,206,0)",
           "rgb(143,206,0)",
           "rgb(143,206,0)",
           "rgb(143,206,0)",
           "rgb(143,206,0)",
           "rgb(143,206,0)",
           "rgb(143,206,0)",
           "rgb(143,206,0)",
           "rgb(143,206,0)",
           "rgb(143,206,0)",
           "rgb(143,206,0)",
           "rgb(143,206,0)",
           "rgb(143,206,0)",
           "rgb(143,206,0)",
           "rgb(143,206,0)",
           "rgb(143,206,0)",
           "rgb(143,206,0)",
           "rgb(143,206,0)",
           "rgb(143,206,0)",
           "rgb(143,206,0)",
           "rgb(143,206,0)",
           "rgb(143,206,0)",
           "rgb(143,206,0)",
           "rgb(143,206,0)",
           "rgb(143,206,0)",
           "rgb(143,206,0)",
           "rgb(143,206,0)",
           "rgb(143,206,0)",
           "rgb(143,206,0)",
           "rgb(143,206,0)",
           "rgb(143,206,0)",
           "rgb(143,206,0)",
           "rgb(143,206,0)",
           "rgb(143,206,0)",
           "rgb(143,206,0)",
           "rgb(143,206,0)",
           "rgb(143,206,0)",
           "rgb(143,206,0)",
           "rgb(143,206,0)",
           "rgb(143,206,0)",
           "rgb(143,206,0)",
           "rgb(143,206,0)",
           "rgb(143,206,0)",
           "rgb(143,206,0)",
           "rgb(143,206,0)",
           "rgb(143,206,0)",
           "rgb(143,206,0)",
           "rgb(143,206,0)",
           "rgb(143,206,0)",
           "rgb(143,206,0)",
           "rgb(143,206,0)",
           "rgb(143,206,0)",
           "rgb(143,206,0)",
           "rgb(143,206,0)",
           "rgb(143,206,0)",
           "rgb(143,206,0)",
           "rgb(143,206,0)",
           "rgb(143,206,0)",
           "rgb(143,206,0)",
           "rgb(143,206,0)",
           "rgb(255,206,58)",
           "rgb(255,206,58)",
           "rgb(255,206,58)",
           "rgb(255,206,58)",
           "rgb(255,206,58)",
           "rgb(255,206,58)",
           "rgb(255,206,58)",
           "rgb(255,206,58)",
           "rgb(255,206,58)",
           "rgb(255,206,58)",
           "rgb(255,206,58)",
           "rgb(255,206,58)",
           "rgb(255,206,58)",
           "rgb(255,206,58)",
           "rgb(255,206,58)",
           "rgb(255,206,58)",
           "rgb(255,206,58)",
           "rgb(255,206,58)",
           "rgb(255,206,58)",
           "rgb(255,206,58)",
           "rgb(255,206,58)",
           "rgb(255,206,58)",
           "rgb(255,206,58)",
           "rgb(255,206,58)",
           "rgb(255,206,58)",
           "rgb(255,206,58)",
           "rgb(255,206,58)",
           "rgb(255,206,58)",
           "rgb(255,206,58)",
           "rgb(255,206,58)",
           "rgb(255,206,58)",
           "rgb(255,206,58)",
           "rgb(255,206,58)",
           "rgb(255,206,58)",
           "rgb(255,206,58)",
           "rgb(255,206,58)",
           "rgb(255,206,58)",
           "rgb(255,206,58)",
           "rgb(255,206,58)",
           "rgb(255,206,58)",
           "rgb(255,206,58)",
           "rgb(255,206,58)",
           "rgb(255,206,58)",
           "rgb(255,206,58)",
           "rgb(255,206,58)",
           "rgb(255,206,58)"
          ],
          "line": {
           "color": "#2c3e50",
           "width": 1
          },
          "opacity": 0.7,
          "size": [
           18.57142857142857,
           18.57142857142857,
           10.0,
           14.285714285714285,
           10.0,
           10.0,
           10.0,
           18.57142857142857,
           10.0,
           10.0,
           10.0,
           10.0,
           10.0,
           10.0,
           10.0,
           10.0,
           10.0,
           22.857142857142854,
           10.0,
           10.0,
           10.0,
           10.0,
           10.0,
           10.0,
           10.0,
           10.0,
           10.0,
           10.0,
           10.0,
           10.0,
           10.0,
           10.0,
           10.0,
           10.0,
           10.0,
           10.0,
           10.0,
           10.0,
           14.285714285714285,
           18.57142857142857,
           14.285714285714285,
           10.0,
           10.0,
           14.285714285714285,
           14.285714285714285,
           14.285714285714285,
           10.0,
           14.285714285714285,
           10.0,
           10.0,
           10.0,
           10.0,
           10.0,
           10.0,
           10.0,
           14.285714285714285,
           14.285714285714285,
           10.0,
           10.0,
           10.0,
           10.0,
           10.0,
           10.0,
           10.0,
           14.285714285714285,
           10.0,
           10.0,
           10.0,
           14.285714285714285,
           10.0,
           10.0,
           10.0,
           10.0,
           10.0,
           10.0,
           10.0,
           10.0,
           10.0,
           10.0,
           14.285714285714285,
           10.0,
           14.285714285714285,
           18.57142857142857,
           10.0,
           10.0,
           10.0,
           10.0,
           10.0,
           14.285714285714285,
           14.285714285714285,
           10.0,
           14.285714285714285,
           10.0,
           10.0,
           10.0,
           10.0,
           10.0,
           10.0,
           18.57142857142857,
           10.0,
           10.0,
           10.0,
           14.285714285714285,
           10.0,
           10.0,
           10.0,
           10.0,
           10.0,
           10.0,
           10.0,
           10.0,
           10.0,
           10.0,
           10.0,
           10.0,
           10.0,
           10.0,
           10.0,
           10.0,
           10.0,
           10.0,
           10.0,
           10.0,
           10.0,
           10.0,
           10.0,
           10.0,
           10.0,
           10.0,
           10.0,
           10.0,
           10.0,
           10.0,
           10.0,
           18.57142857142857,
           10.0,
           14.285714285714285,
           10.0,
           10.0,
           10.0,
           10.0,
           14.285714285714285,
           10.0,
           10.0,
           10.0,
           10.0,
           14.285714285714285,
           10.0,
           14.285714285714285,
           10.0,
           10.0,
           10.0,
           10.0,
           10.0,
           10.0,
           14.285714285714285,
           10.0,
           10.0,
           10.0,
           10.0,
           14.285714285714285,
           10.0,
           10.0,
           18.57142857142857,
           14.285714285714285,
           10.0,
           10.0,
           10.0,
           10.0,
           18.57142857142857,
           14.285714285714285,
           14.285714285714285,
           10.0,
           10.0,
           10.0,
           10.0,
           14.285714285714285,
           10.0,
           10.0,
           14.285714285714285,
           14.285714285714285,
           10.0,
           10.0,
           10.0,
           14.285714285714285,
           10.0,
           14.285714285714285,
           10.0,
           10.0,
           10.0,
           14.285714285714285,
           14.285714285714285,
           14.285714285714285,
           10.0,
           14.285714285714285,
           14.285714285714285,
           10.0,
           14.285714285714285,
           10.0,
           10.0,
           10.0,
           18.57142857142857,
           10.0,
           10.0,
           10.0,
           10.0,
           10.0,
           10.0,
           10.0,
           10.0,
           10.0,
           10.0,
           10.0,
           10.0,
           10.0,
           10.0,
           10.0,
           10.0,
           10.0,
           10.0,
           10.0,
           14.285714285714285,
           10.0,
           10.0,
           10.0,
           10.0,
           14.285714285714285,
           10.0,
           18.57142857142857,
           10.0,
           10.0,
           14.285714285714285,
           10.0,
           14.285714285714285,
           10.0,
           10.0,
           10.0,
           10.0,
           10.0,
           10.0,
           10.0,
           18.57142857142857,
           14.285714285714285,
           10.0,
           10.0,
           10.0,
           14.285714285714285,
           10.0,
           10.0,
           14.285714285714285,
           10.0,
           10.0,
           10.0,
           14.285714285714285,
           10.0,
           10.0,
           10.0,
           22.857142857142854,
           14.285714285714285,
           18.57142857142857,
           10.0,
           10.0,
           10.0,
           18.57142857142857,
           10.0,
           14.285714285714285,
           10.0,
           10.0,
           10.0,
           14.285714285714285,
           14.285714285714285,
           10.0,
           18.57142857142857,
           10.0,
           10.0,
           10.0,
           10.0,
           10.0,
           10.0,
           14.285714285714285,
           10.0,
           10.0,
           10.0,
           18.57142857142857,
           10.0,
           14.285714285714285,
           10.0,
           10.0,
           14.285714285714285,
           10.0,
           10.0,
           10.0,
           18.57142857142857,
           10.0,
           14.285714285714285,
           14.285714285714285,
           10.0,
           10.0,
           14.285714285714285,
           14.285714285714285,
           14.285714285714285,
           10.0,
           10.0,
           10.0,
           40.0,
           22.857142857142854,
           10.0,
           14.285714285714285,
           14.285714285714285,
           10.0,
           10.0,
           10.0,
           14.285714285714285,
           22.857142857142854,
           14.285714285714285,
           18.57142857142857,
           10.0,
           18.57142857142857,
           18.57142857142857,
           10.0,
           10.0,
           10.0,
           10.0,
           10.0,
           18.57142857142857,
           10.0,
           18.57142857142857,
           14.285714285714285,
           10.0,
           18.57142857142857,
           10.0,
           14.285714285714285,
           14.285714285714285,
           14.285714285714285,
           14.285714285714285,
           10.0,
           14.285714285714285,
           18.57142857142857,
           18.57142857142857,
           10.0,
           14.285714285714285,
           14.285714285714285,
           18.57142857142857,
           10.0,
           14.285714285714285,
           10.0,
           14.285714285714285,
           10.0,
           10.0,
           10.0,
           18.57142857142857,
           10.0,
           14.285714285714285,
           10.0,
           10.0,
           10.0,
           18.57142857142857,
           35.71428571428571,
           14.285714285714285,
           10.0,
           18.57142857142857,
           10.0,
           10.0,
           10.0,
           14.285714285714285,
           10.0,
           10.0,
           10.0,
           14.285714285714285,
           10.0,
           10.0,
           10.0,
           14.285714285714285,
           14.285714285714285,
           22.857142857142854,
           18.57142857142857,
           14.285714285714285,
           10.0,
           10.0,
           10.0,
           10.0,
           10.0,
           10.0,
           18.57142857142857,
           10.0,
           14.285714285714285,
           10.0,
           10.0,
           10.0,
           10.0,
           10.0,
           18.57142857142857,
           10.0,
           10.0,
           14.285714285714285,
           10.0,
           10.0,
           10.0,
           10.0,
           35.71428571428571,
           14.285714285714285,
           14.285714285714285,
           18.57142857142857,
           10.0,
           10.0,
           10.0,
           10.0,
           14.285714285714285,
           10.0,
           10.0,
           18.57142857142857,
           14.285714285714285,
           14.285714285714285,
           14.285714285714285,
           14.285714285714285,
           10.0,
           10.0,
           10.0,
           14.285714285714285,
           10.0,
           14.285714285714285,
           10.0,
           14.285714285714285,
           18.57142857142857,
           10.0,
           14.285714285714285,
           10.0,
           14.285714285714285,
           10.0,
           10.0,
           14.285714285714285,
           10.0,
           14.285714285714285,
           10.0,
           10.0,
           10.0,
           10.0,
           14.285714285714285,
           31.42857142857143,
           10.0,
           14.285714285714285,
           10.0,
           14.285714285714285,
           10.0,
           14.285714285714285,
           10.0,
           14.285714285714285,
           22.857142857142854,
           18.57142857142857,
           14.285714285714285,
           10.0,
           18.57142857142857,
           10.0,
           10.0,
           10.0,
           14.285714285714285,
           14.285714285714285,
           10.0,
           10.0,
           14.285714285714285,
           10.0,
           18.57142857142857,
           10.0,
           18.57142857142857,
           10.0,
           10.0,
           14.285714285714285,
           14.285714285714285,
           10.0,
           10.0,
           10.0,
           14.285714285714285,
           10.0,
           10.0,
           10.0,
           10.0,
           10.0,
           10.0,
           10.0,
           10.0,
           10.0,
           14.285714285714285,
           10.0,
           10.0,
           10.0,
           10.0,
           14.285714285714285,
           14.285714285714285,
           14.285714285714285,
           18.57142857142857,
           10.0,
           14.285714285714285,
           10.0,
           10.0,
           14.285714285714285,
           10.0,
           10.0,
           10.0,
           10.0,
           10.0,
           14.285714285714285,
           10.0,
           10.0,
           10.0,
           10.0,
           10.0,
           10.0,
           14.285714285714285,
           14.285714285714285,
           10.0,
           14.285714285714285,
           10.0,
           10.0,
           14.285714285714285,
           14.285714285714285,
           14.285714285714285,
           14.285714285714285,
           10.0,
           10.0,
           10.0,
           10.0,
           10.0,
           10.0,
           10.0,
           10.0,
           10.0,
           14.285714285714285,
           10.0,
           10.0,
           10.0,
           10.0,
           18.57142857142857,
           10.0,
           14.285714285714285,
           10.0,
           10.0,
           14.285714285714285,
           14.285714285714285,
           10.0,
           18.57142857142857,
           10.0,
           10.0,
           18.57142857142857,
           10.0,
           14.285714285714285,
           10.0,
           10.0,
           10.0,
           14.285714285714285,
           10.0,
           10.0,
           10.0,
           10.0,
           10.0,
           10.0,
           10.0,
           10.0,
           22.857142857142854,
           10.0,
           10.0,
           10.0,
           10.0,
           10.0,
           18.57142857142857,
           10.0,
           14.285714285714285,
           10.0,
           18.57142857142857,
           14.285714285714285,
           10.0,
           10.0,
           14.285714285714285,
           18.57142857142857,
           10.0,
           14.285714285714285,
           14.285714285714285,
           10.0,
           18.57142857142857,
           10.0,
           10.0,
           22.857142857142854,
           10.0,
           10.0,
           10.0,
           14.285714285714285,
           10.0,
           10.0,
           14.285714285714285,
           18.57142857142857,
           27.142857142857142,
           14.285714285714285,
           10.0,
           10.0,
           10.0,
           10.0,
           10.0,
           18.57142857142857,
           10.0,
           10.0,
           18.57142857142857,
           18.57142857142857,
           10.0,
           18.57142857142857,
           14.285714285714285,
           10.0,
           10.0,
           10.0,
           10.0,
           10.0,
           10.0,
           10.0,
           22.857142857142854,
           10.0,
           18.57142857142857,
           10.0,
           10.0,
           10.0,
           10.0,
           14.285714285714285,
           14.285714285714285,
           18.57142857142857,
           10.0,
           10.0,
           10.0,
           10.0,
           10.0,
           10.0,
           10.0,
           18.57142857142857,
           10.0,
           14.285714285714285,
           10.0,
           18.57142857142857,
           10.0,
           10.0,
           14.285714285714285,
           10.0,
           22.857142857142854,
           10.0,
           10.0,
           10.0,
           14.285714285714285,
           14.285714285714285,
           10.0,
           10.0,
           10.0,
           18.57142857142857,
           10.0,
           10.0,
           10.0,
           14.285714285714285,
           10.0,
           14.285714285714285,
           10.0,
           10.0,
           18.57142857142857,
           14.285714285714285,
           10.0,
           14.285714285714285,
           22.857142857142854,
           14.285714285714285,
           14.285714285714285,
           10.0,
           14.285714285714285,
           10.0,
           14.285714285714285,
           10.0,
           14.285714285714285,
           10.0,
           10.0,
           14.285714285714285,
           10.0,
           10.0,
           10.0,
           10.0,
           14.285714285714285,
           18.57142857142857,
           14.285714285714285,
           10.0,
           10.0,
           10.0,
           10.0,
           10.0,
           10.0,
           10.0,
           10.0,
           10.0,
           10.0,
           10.0,
           14.285714285714285,
           10.0,
           10.0,
           10.0,
           10.0,
           10.0,
           10.0,
           10.0,
           10.0,
           10.0,
           10.0,
           14.285714285714285,
           14.285714285714285,
           14.285714285714285,
           10.0,
           10.0,
           14.285714285714285,
           10.0,
           14.285714285714285,
           14.285714285714285,
           14.285714285714285,
           10.0,
           14.285714285714285,
           14.285714285714285,
           14.285714285714285,
           10.0,
           18.57142857142857,
           14.285714285714285,
           14.285714285714285,
           14.285714285714285,
           14.285714285714285,
           18.57142857142857,
           18.57142857142857,
           14.285714285714285,
           10.0,
           14.285714285714285,
           10.0,
           14.285714285714285,
           10.0,
           18.57142857142857,
           18.57142857142857,
           14.285714285714285,
           10.0,
           10.0,
           14.285714285714285,
           18.57142857142857,
           10.0,
           18.57142857142857,
           18.57142857142857,
           10.0,
           10.0,
           14.285714285714285,
           10.0,
           14.285714285714285,
           10.0,
           10.0,
           10.0,
           10.0,
           10.0,
           14.285714285714285,
           10.0,
           10.0,
           10.0,
           10.0,
           10.0,
           10.0,
           10.0,
           10.0,
           10.0,
           10.0,
           10.0,
           31.42857142857143,
           10.0,
           27.142857142857142,
           14.285714285714285,
           14.285714285714285,
           18.57142857142857,
           10.0,
           14.285714285714285,
           14.285714285714285,
           14.285714285714285,
           14.285714285714285,
           14.285714285714285,
           10.0,
           14.285714285714285,
           10.0,
           18.57142857142857,
           14.285714285714285,
           14.285714285714285,
           10.0,
           14.285714285714285,
           10.0,
           10.0,
           10.0,
           18.57142857142857,
           10.0,
           10.0,
           10.0,
           10.0,
           10.0,
           10.0,
           10.0,
           14.285714285714285,
           14.285714285714285,
           14.285714285714285,
           14.285714285714285,
           14.285714285714285,
           18.57142857142857,
           14.285714285714285,
           14.285714285714285,
           10.0,
           10.0,
           10.0,
           10.0,
           14.285714285714285,
           18.57142857142857,
           14.285714285714285,
           10.0,
           10.0,
           10.0,
           14.285714285714285,
           10.0,
           10.0,
           14.285714285714285,
           10.0,
           14.285714285714285,
           18.57142857142857,
           10.0,
           10.0,
           10.0,
           14.285714285714285,
           14.285714285714285,
           14.285714285714285,
           10.0,
           10.0,
           10.0,
           14.285714285714285,
           14.285714285714285,
           14.285714285714285,
           14.285714285714285,
           14.285714285714285,
           14.285714285714285,
           14.285714285714285,
           10.0,
           10.0,
           10.0,
           10.0,
           14.285714285714285,
           10.0,
           10.0,
           14.285714285714285,
           10.0,
           14.285714285714285,
           10.0,
           10.0,
           10.0,
           14.285714285714285,
           10.0,
           14.285714285714285,
           14.285714285714285,
           10.0,
           14.285714285714285,
           14.285714285714285,
           18.57142857142857,
           18.57142857142857,
           14.285714285714285,
           10.0,
           10.0,
           14.285714285714285,
           10.0,
           10.0,
           10.0,
           10.0,
           10.0,
           14.285714285714285,
           14.285714285714285,
           14.285714285714285,
           10.0,
           14.285714285714285,
           10.0,
           14.285714285714285,
           14.285714285714285,
           14.285714285714285,
           27.142857142857142,
           14.285714285714285,
           14.285714285714285,
           18.57142857142857,
           14.285714285714285,
           10.0,
           10.0,
           14.285714285714285,
           14.285714285714285,
           18.57142857142857,
           14.285714285714285,
           10.0,
           18.57142857142857,
           10.0,
           14.285714285714285,
           10.0,
           14.285714285714285,
           10.0,
           22.857142857142854,
           10.0,
           10.0,
           27.142857142857142,
           10.0,
           10.0,
           10.0,
           14.285714285714285,
           14.285714285714285,
           14.285714285714285,
           14.285714285714285,
           14.285714285714285,
           40.0,
           14.285714285714285,
           18.57142857142857,
           18.57142857142857,
           22.857142857142854,
           22.857142857142854,
           14.285714285714285,
           18.57142857142857,
           14.285714285714285,
           27.142857142857142,
           14.285714285714285,
           18.57142857142857,
           10.0,
           14.285714285714285,
           14.285714285714285,
           22.857142857142854,
           10.0,
           10.0,
           14.285714285714285,
           10.0,
           18.57142857142857,
           14.285714285714285,
           14.285714285714285,
           10.0,
           14.285714285714285,
           18.57142857142857,
           14.285714285714285,
           14.285714285714285,
           14.285714285714285,
           10.0,
           10.0,
           10.0,
           10.0,
           10.0,
           10.0,
           10.0,
           10.0,
           10.0,
           10.0,
           18.57142857142857,
           10.0,
           10.0,
           10.0,
           10.0,
           14.285714285714285
          ]
         },
         "mode": "markers",
         "x": [
          "1930-01-01T00:00:00",
          "1942-01-01T00:00:00",
          "1946-11-01T00:00:00",
          "1950-01-01T00:00:00",
          "1952-01-01T00:00:00",
          "1957-01-01T00:00:00",
          "1957-01-01T00:00:00",
          "1958-01-01T00:00:00",
          "1958-01-01T00:00:00",
          "1958-01-01T00:00:00",
          "1959-01-01T00:00:00",
          "1959-11-16T00:00:00",
          "1963-10-14T00:00:00",
          "1963-11-22T00:00:00",
          "1963-11-22T00:00:00",
          "1968-07-01T00:00:00",
          "1970-11-01T00:00:00",
          "1971-12-01T00:00:00",
          "1973-01-05T00:00:00",
          "1975-01-01T00:00:00",
          "1975-10-31T00:00:00",
          "1979-11-16T00:00:00",
          "1982-01-01T00:00:00",
          "1982-05-16T00:00:00",
          "1983-01-06T00:00:00",
          "1984-01-01T00:00:00",
          "1984-01-01T00:00:00",
          "1984-10-19T00:00:00",
          "1984-11-25T00:00:00",
          "1985-02-17T00:00:00",
          "1985-09-16T00:00:00",
          "1986-01-01T00:00:00",
          "1986-03-03T00:00:00",
          "1987-01-01T00:00:00",
          "1991-09-10T00:00:00",
          "1991-09-24T00:00:00",
          "1992-09-21T00:00:00",
          "1994-10-28T00:00:00",
          "1995-07-11T00:00:00",
          "1995-12-28T00:00:00",
          "1996-11-24T00:00:00",
          "1997-01-01T00:00:00",
          "1998-03-31T00:00:00",
          "1999-01-01T00:00:00",
          "1999-01-01T00:00:00",
          "1999-01-01T00:00:00",
          "1999-01-01T00:00:00",
          "1999-11-21T00:00:00",
          "2000-01-01T00:00:00",
          "2000-07-10T00:00:00",
          "2000-10-24T00:00:00",
          "2000-11-07T00:00:00",
          "2002-01-01T00:00:00",
          "2002-01-01T00:00:00",
          "2002-01-01T00:00:00",
          "2002-05-26T00:00:00",
          "2002-05-26T00:00:00",
          "2002-08-05T00:00:00",
          "2003-03-24T00:00:00",
          "2003-09-23T00:00:00",
          "2004-01-01T00:00:00",
          "2004-01-01T00:00:00",
          "2004-05-04T00:00:00",
          "2004-07-13T00:00:00",
          "2005-09-20T00:00:00",
          "2007-04-20T00:00:00",
          "2008-01-01T00:00:00",
          "2008-01-01T00:00:00",
          "2010-01-01T00:00:00",
          "2010-01-01T00:00:00",
          "2010-01-01T00:00:00",
          "2010-05-25T00:00:00",
          "2010-07-20T00:00:00",
          "2010-10-04T00:00:00",
          "2010-11-29T00:00:00",
          "2011-01-01T00:00:00",
          "2011-01-01T00:00:00",
          "2011-01-01T00:00:00",
          "2011-01-01T00:00:00",
          "2011-01-01T00:00:00",
          "2011-01-01T00:00:00",
          "2011-01-01T00:00:00",
          "2011-08-16T00:00:00",
          "2011-10-14T00:00:00",
          "2011-10-14T00:00:00",
          "2012-01-01T00:00:00",
          "2012-01-01T00:00:00",
          "2012-01-01T00:00:00",
          "2012-01-01T00:00:00",
          "2012-01-01T00:00:00",
          "2012-05-14T00:00:00",
          "2012-06-20T00:00:00",
          "2012-10-15T00:00:00",
          "2012-12-05T00:00:00",
          "2012-12-05T00:00:00",
          "2013-01-01T00:00:00",
          "2013-01-01T00:00:00",
          "2013-01-01T00:00:00",
          "2013-01-01T00:00:00",
          "2013-01-01T00:00:00",
          "2013-01-01T00:00:00",
          "2013-01-01T00:00:00",
          "2013-07-16T00:00:00",
          "2013-08-01T00:00:00",
          "2013-08-16T00:00:00",
          "2013-09-13T00:00:00",
          "2013-10-25T00:00:00",
          "2013-12-13T00:00:00",
          "2014-01-01T00:00:00",
          "2014-01-01T00:00:00",
          "2014-01-01T00:00:00",
          "2014-01-01T00:00:00",
          "2014-01-01T00:00:00",
          "2014-01-01T00:00:00",
          "2014-01-01T00:00:00",
          "2014-06-05T00:00:00",
          "2014-06-20T00:00:00",
          "2014-08-08T00:00:00",
          "2014-11-17T00:00:00",
          "2014-11-28T00:00:00",
          "2014-12-09T00:00:00",
          "2015-01-01T00:00:00",
          "2015-01-01T00:00:00",
          "2015-01-11T00:00:00",
          "2015-02-02T00:00:00",
          "2015-04-22T00:00:00",
          "2015-05-10T00:00:00",
          "2015-05-27T00:00:00",
          "2015-06-22T00:00:00",
          "2015-07-24T00:00:00",
          "2015-10-30T00:00:00",
          "2015-11-09T00:00:00",
          "2016-01-15T00:00:00",
          "2016-01-21T00:00:00",
          "2016-04-04T00:00:00",
          "2016-04-20T00:00:00",
          "2016-05-31T00:00:00",
          "2016-06-23T00:00:00",
          "2016-08-05T00:00:00",
          "2016-08-20T00:00:00",
          "2016-09-09T00:00:00",
          "2016-09-21T00:00:00",
          "2016-09-23T00:00:00",
          "2016-09-27T00:00:00",
          "2016-11-04T00:00:00",
          "2016-11-10T00:00:00",
          "2016-11-18T00:00:00",
          "2016-11-24T00:00:00",
          "2016-11-24T00:00:00",
          "2016-11-25T00:00:00",
          "2017-01-01T00:00:00",
          "2017-01-01T00:00:00",
          "2017-01-06T00:00:00",
          "2017-01-31T00:00:00",
          "2017-02-20T00:00:00",
          "2017-02-22T00:00:00",
          "2017-03-21T00:00:00",
          "2017-03-30T00:00:00",
          "2017-03-30T00:00:00",
          "2017-04-28T00:00:00",
          "2017-06-02T00:00:00",
          "2017-06-15T00:00:00",
          "2017-06-23T00:00:00",
          "2017-07-21T00:00:00",
          "2017-08-11T00:00:00",
          "2017-08-25T00:00:00",
          "2017-10-04T00:00:00",
          "2017-10-20T00:00:00",
          "2017-11-08T00:00:00",
          "2017-11-10T00:00:00",
          "2017-11-10T00:00:00",
          "2017-11-10T00:00:00",
          "2017-12-08T00:00:00",
          "2018-03-09T00:00:00",
          "2018-03-16T00:00:00",
          "2018-03-29T00:00:00",
          "2018-03-29T00:00:00",
          "2018-05-25T00:00:00",
          "2018-09-12T00:00:00",
          "2018-09-27T00:00:00",
          "2018-10-09T00:00:00",
          "2018-11-08T00:00:00",
          "2018-11-21T00:00:00",
          "2019-01-01T00:00:00",
          "2019-01-11T00:00:00",
          "2019-03-07T00:00:00",
          "2019-04-12T00:00:00",
          "2019-05-10T00:00:00",
          "2019-05-10T00:00:00",
          "2019-05-10T00:00:00",
          "2019-05-16T00:00:00",
          "2019-05-31T00:00:00",
          "2019-06-19T00:00:00",
          "2019-06-21T00:00:00",
          "2019-06-28T00:00:00",
          "2019-06-28T00:00:00",
          "2019-07-26T00:00:00",
          "2019-08-04T00:00:00",
          "2019-08-23T00:00:00",
          "2019-08-23T00:00:00",
          "2019-08-30T00:00:00",
          "2019-08-30T00:00:00",
          "2019-09-13T00:00:00",
          "2019-09-20T00:00:00",
          "2019-10-04T00:00:00",
          "2019-10-04T00:00:00",
          "2019-10-04T00:00:00",
          "2019-10-04T00:00:00",
          "2019-10-04T00:00:00",
          "2019-10-18T00:00:00",
          "2019-10-31T00:00:00",
          "2019-11-01T00:00:00",
          "2019-11-07T00:00:00",
          "2019-11-07T00:00:00",
          "2019-11-17T00:00:00",
          "2019-11-29T00:00:00",
          "2019-12-06T00:00:00",
          "2019-12-13T00:00:00",
          "2019-12-13T00:00:00",
          "2020-01-01T00:00:00",
          "2020-01-10T00:00:00",
          "2020-01-16T00:00:00",
          "2020-02-10T00:00:00",
          "2020-02-19T00:00:00",
          "2020-02-21T00:00:00",
          "2020-02-29T00:00:00",
          "2020-02-29T00:00:00",
          "2020-02-29T00:00:00",
          "2020-03-13T00:00:00",
          "2020-03-20T00:00:00",
          "2020-03-20T00:00:00",
          "2020-03-20T00:00:00",
          "2020-03-27T00:00:00",
          "2020-03-27T00:00:00",
          "2020-04-17T00:00:00",
          "2020-05-20T00:00:00",
          "2020-06-05T00:00:00",
          "2020-06-28T00:00:00",
          "2020-07-17T00:00:00",
          "2020-07-24T00:00:00",
          "2020-07-24T00:00:00",
          "2020-07-24T00:00:00",
          "2020-07-24T00:00:00",
          "2020-08-21T00:00:00",
          "2020-09-03T00:00:00",
          "2020-09-18T00:00:00",
          "2020-09-21T00:00:00",
          "2020-10-08T00:00:00",
          "2020-10-23T00:00:00",
          "2020-10-30T00:00:00",
          "2020-11-02T00:00:00",
          "2020-11-27T00:00:00",
          "2020-12-18T00:00:00",
          "2020-12-18T00:00:00",
          "2020-12-24T00:00:00",
          "2020-12-25T00:00:00",
          "2021-01-08T00:00:00",
          "2021-01-15T00:00:00",
          "2021-01-28T00:00:00",
          "2021-03-05T00:00:00",
          "2021-03-11T00:00:00",
          "2021-03-19T00:00:00",
          "2021-03-19T00:00:00",
          "2021-03-19T00:00:00",
          "2021-04-01T00:00:00",
          "2021-04-09T00:00:00",
          "2021-04-09T00:00:00",
          "2021-04-09T00:00:00",
          "2021-04-14T00:00:00",
          "2021-04-28T00:00:00",
          "2021-04-29T00:00:00",
          "2021-04-30T00:00:00",
          "2021-05-07T00:00:00",
          "2021-05-14T00:00:00",
          "2021-05-15T00:00:00",
          "2021-05-21T00:00:00",
          "2021-05-21T00:00:00",
          "2021-05-21T00:00:00",
          "2021-05-21T00:00:00",
          "2021-05-21T00:00:00",
          "2021-06-04T00:00:00",
          "2021-06-11T00:00:00",
          "2021-06-11T00:00:00",
          "2021-06-24T00:00:00",
          "2021-06-24T00:00:00",
          "2021-06-24T00:00:00",
          "2021-06-25T00:00:00",
          "2021-06-25T00:00:00",
          "2021-06-25T00:00:00",
          "2021-06-25T00:00:00",
          "2021-06-25T00:00:00",
          "2021-07-08T00:00:00",
          "2021-07-08T00:00:00",
          "2021-07-09T00:00:00",
          "2021-07-09T00:00:00",
          "2021-07-23T00:00:00",
          "2021-07-28T00:00:00",
          "2021-07-30T00:00:00",
          "2021-07-30T00:00:00",
          "2021-08-01T00:00:00",
          "2021-08-03T00:00:00",
          "2021-08-06T00:00:00",
          "2021-08-09T00:00:00",
          "2021-08-10T00:00:00",
          "2021-08-12T00:00:00",
          "2021-08-13T00:00:00",
          "2021-08-13T00:00:00",
          "2021-08-20T00:00:00",
          "2021-08-27T00:00:00",
          "2021-08-29T00:00:00",
          "2021-09-01T00:00:00",
          "2021-09-01T00:00:00",
          "2021-09-02T00:00:00",
          "2021-09-03T00:00:00",
          "2021-09-03T00:00:00",
          "2021-09-03T00:00:00",
          "2021-09-03T00:00:00",
          "2021-09-03T00:00:00",
          "2021-09-08T00:00:00",
          "2021-09-09T00:00:00",
          "2021-09-09T00:00:00",
          "2021-09-10T00:00:00",
          "2021-09-10T00:00:00",
          "2021-09-10T00:00:00",
          "2021-09-16T00:00:00",
          "2021-09-17T00:00:00",
          "2021-09-24T00:00:00",
          "2021-09-24T00:00:00",
          "2021-10-01T00:00:00",
          "2021-10-05T00:00:00",
          "2021-10-14T00:00:00",
          "2021-10-14T00:00:00",
          "2021-10-21T00:00:00",
          "2021-10-22T00:00:00",
          "2021-10-22T00:00:00",
          "2021-10-22T00:00:00",
          "2021-10-22T00:00:00",
          "2021-10-27T00:00:00",
          "2021-10-27T00:00:00",
          "2021-10-30T00:00:00",
          "2021-11-04T00:00:00",
          "2021-11-05T00:00:00",
          "2021-11-05T00:00:00",
          "2021-11-05T00:00:00",
          "2021-11-11T00:00:00",
          "2021-11-11T00:00:00",
          "2021-11-11T00:00:00",
          "2021-11-12T00:00:00",
          "2021-11-17T00:00:00",
          "2021-11-18T00:00:00",
          "2021-11-18T00:00:00",
          "2021-11-19T00:00:00",
          "2021-11-19T00:00:00",
          "2021-11-19T00:00:00",
          "2021-11-19T00:00:00",
          "2021-11-19T00:00:00",
          "2021-11-19T00:00:00",
          "2021-11-19T00:00:00",
          "2021-11-19T00:00:00",
          "2021-11-25T00:00:00",
          "2021-11-30T00:00:00",
          "2021-12-01T00:00:00",
          "2021-12-01T00:00:00",
          "2021-12-03T00:00:00",
          "2021-12-03T00:00:00",
          "2021-12-10T00:00:00",
          "2021-12-10T00:00:00",
          "2021-12-17T00:00:00",
          "2021-12-23T00:00:00",
          "2021-12-24T00:00:00",
          "2021-12-24T00:00:00",
          "2021-12-24T00:00:00",
          "2021-12-29T00:00:00",
          "2021-12-29T00:00:00",
          "2022-01-05T00:00:00",
          "2022-01-05T00:00:00",
          "2022-01-07T00:00:00",
          "2022-01-07T00:00:00",
          "2022-01-07T00:00:00",
          "2022-01-07T00:00:00",
          "2022-01-07T00:00:00",
          "2022-01-07T00:00:00",
          "2022-01-07T00:00:00",
          "2022-01-07T00:00:00",
          "2022-01-07T00:00:00",
          "2022-01-07T00:00:00",
          "2022-01-07T00:00:00",
          "2022-01-07T00:00:00",
          "2022-01-07T00:00:00",
          "2022-01-07T00:00:00",
          "2022-01-07T00:00:00",
          "2022-01-07T00:00:00",
          "2022-01-07T00:00:00",
          "2022-01-07T00:00:00",
          "2022-01-07T00:00:00",
          "2022-01-09T00:00:00",
          "2022-01-10T00:00:00",
          "2022-01-10T00:00:00",
          "2022-01-10T00:00:00",
          "2022-01-14T00:00:00",
          "2022-01-14T00:00:00",
          "2022-01-15T00:00:00",
          "2022-01-17T00:00:00",
          "2022-01-19T00:00:00",
          "2022-01-20T00:00:00",
          "2022-01-21T00:00:00",
          "2022-01-21T00:00:00",
          "2022-01-26T00:00:00",
          "2022-01-28T00:00:00",
          "2022-01-28T00:00:00",
          "2022-01-30T00:00:00",
          "2022-02-01T00:00:00",
          "2022-02-02T00:00:00",
          "2022-02-04T00:00:00",
          "2022-02-04T00:00:00",
          "2022-02-04T00:00:00",
          "2022-02-04T00:00:00",
          "2022-02-06T00:00:00",
          "2022-02-06T00:00:00",
          "2022-02-09T00:00:00",
          "2022-02-10T00:00:00",
          "2022-02-11T00:00:00",
          "2022-02-11T00:00:00",
          "2022-02-11T00:00:00",
          "2022-02-11T00:00:00",
          "2022-02-11T00:00:00",
          "2022-02-11T00:00:00",
          "2022-02-14T00:00:00",
          "2022-02-15T00:00:00",
          "2022-02-17T00:00:00",
          "2022-02-18T00:00:00",
          "2022-02-18T00:00:00",
          "2022-02-18T00:00:00",
          "2022-02-18T00:00:00",
          "2022-02-18T00:00:00",
          "2022-02-22T00:00:00",
          "2022-02-22T00:00:00",
          "2022-02-25T00:00:00",
          "2022-02-25T00:00:00",
          "2022-03-03T00:00:00",
          "2022-03-03T00:00:00",
          "2022-03-03T00:00:00",
          "2022-03-04T00:00:00",
          "2022-03-10T00:00:00",
          "2022-03-11T00:00:00",
          "2022-03-11T00:00:00",
          "2022-03-14T00:00:00",
          "2022-03-17T00:00:00",
          "2022-03-18T00:00:00",
          "2022-03-18T00:00:00",
          "2022-03-18T00:00:00",
          "2022-03-18T00:00:00",
          "2022-03-19T00:00:00",
          "2022-03-23T00:00:00",
          "2022-03-23T00:00:00",
          "2022-03-24T00:00:00",
          "2022-03-25T00:00:00",
          "2022-03-25T00:00:00",
          "2022-03-25T00:00:00",
          "2022-03-25T00:00:00",
          "2022-03-30T00:00:00",
          "2022-03-30T00:00:00",
          "2022-03-31T00:00:00",
          "2022-03-31T00:00:00",
          "2022-03-31T00:00:00",
          "2022-04-01T00:00:00",
          "2022-04-01T00:00:00",
          "2022-04-01T00:00:00",
          "2022-04-05T00:00:00",
          "2022-04-05T00:00:00",
          "2022-04-06T00:00:00",
          "2022-04-07T00:00:00",
          "2022-04-08T00:00:00",
          "2022-04-08T00:00:00",
          "2022-04-08T00:00:00",
          "2022-04-08T00:00:00",
          "2022-04-08T00:00:00",
          "2022-04-13T00:00:00",
          "2022-04-14T00:00:00",
          "2022-04-20T00:00:00",
          "2022-04-21T00:00:00",
          "2022-04-21T00:00:00",
          "2022-04-22T00:00:00",
          "2022-04-22T00:00:00",
          "2022-04-22T00:00:00",
          "2022-04-22T00:00:00",
          "2022-04-22T00:00:00",
          "2022-04-24T00:00:00",
          "2022-04-25T00:00:00",
          "2022-04-27T00:00:00",
          "2022-04-28T00:00:00",
          "2022-04-29T00:00:00",
          "2022-04-29T00:00:00",
          "2022-04-29T00:00:00",
          "2022-04-29T00:00:00",
          "2022-05-02T00:00:00",
          "2022-05-02T00:00:00",
          "2022-05-03T00:00:00",
          "2022-05-06T00:00:00",
          "2022-05-06T00:00:00",
          "2022-05-06T00:00:00",
          "2022-05-06T00:00:00",
          "2022-05-06T00:00:00",
          "2022-05-06T00:00:00",
          "2022-05-06T00:00:00",
          "2022-05-06T00:00:00",
          "2022-05-06T00:00:00",
          "2022-05-06T00:00:00",
          "2022-05-06T00:00:00",
          "2022-05-06T00:00:00",
          "2022-05-06T00:00:00",
          "2022-05-06T00:00:00",
          "2022-05-06T00:00:00",
          "2022-05-06T00:00:00",
          "2022-05-06T00:00:00",
          "2022-05-06T00:00:00",
          "2022-05-06T00:00:00",
          "2022-05-06T00:00:00",
          "2022-05-06T00:00:00",
          "2022-05-06T00:00:00",
          "2022-05-06T00:00:00",
          "2022-05-06T00:00:00",
          "2022-05-06T00:00:00",
          "2022-05-06T00:00:00",
          "2022-05-06T00:00:00",
          "2022-05-08T00:00:00",
          "2022-05-12T00:00:00",
          "2022-05-12T00:00:00",
          "2022-05-13T00:00:00",
          "2022-05-13T00:00:00",
          "2022-05-13T00:00:00",
          "2022-05-13T00:00:00",
          "2022-05-13T00:00:00",
          "2022-05-13T00:00:00",
          "2022-05-13T00:00:00",
          "2022-05-13T00:00:00",
          "2022-05-13T00:00:00",
          "2022-05-13T00:00:00",
          "2022-05-13T00:00:00",
          "2022-05-13T00:00:00",
          "2022-05-13T00:00:00",
          "2022-05-13T00:00:00",
          "2022-05-13T00:00:00",
          "2022-05-13T00:00:00",
          "2022-05-13T00:00:00",
          "2022-05-13T00:00:00",
          "2022-05-13T00:00:00",
          "2022-05-13T00:00:00",
          "2022-05-13T00:00:00",
          "2022-05-13T00:00:00",
          "2022-05-13T00:00:00",
          "2022-05-20T00:00:00",
          "2022-05-20T00:00:00",
          "2022-05-20T00:00:00",
          "2022-05-20T00:00:00",
          "2022-05-20T00:00:00",
          "2022-05-20T00:00:00",
          "2022-05-20T00:00:00",
          "2022-05-20T00:00:00",
          "2022-05-20T00:00:00",
          "2022-05-20T00:00:00",
          "2022-05-20T00:00:00",
          "2022-05-20T00:00:00",
          "2022-05-20T00:00:00",
          "2022-05-20T00:00:00",
          "2022-05-25T00:00:00",
          "2022-05-26T00:00:00",
          "2022-05-27T00:00:00",
          "2022-05-27T00:00:00",
          "2022-05-31T00:00:00",
          "2022-06-02T00:00:00",
          "2022-06-02T00:00:00",
          "2022-06-03T00:00:00",
          "2022-06-03T00:00:00",
          "2022-06-03T00:00:00",
          "2022-06-08T00:00:00",
          "2022-06-09T00:00:00",
          "2022-06-10T00:00:00",
          "2022-06-10T00:00:00",
          "2022-06-10T00:00:00",
          "2022-06-10T00:00:00",
          "2022-06-10T00:00:00",
          "2022-06-10T00:00:00",
          "2022-06-10T00:00:00",
          "2022-06-10T00:00:00",
          "2022-06-10T00:00:00",
          "2022-06-10T00:00:00",
          "2022-06-15T00:00:00",
          "2022-06-16T00:00:00",
          "2022-06-16T00:00:00",
          "2022-06-17T00:00:00",
          "2022-06-17T00:00:00",
          "2022-06-17T00:00:00",
          "2022-06-21T00:00:00",
          "2022-06-23T00:00:00",
          "2022-06-24T00:00:00",
          "2022-06-24T00:00:00",
          "2022-06-24T00:00:00",
          "2022-06-29T00:00:00",
          "2022-07-01T00:00:00",
          "2022-07-01T00:00:00",
          "2022-07-01T00:00:00",
          "2022-07-06T00:00:00",
          "2022-07-06T00:00:00",
          "2022-07-08T00:00:00",
          "2022-07-12T00:00:00",
          "2022-07-14T00:00:00",
          "2022-07-15T00:00:00",
          "2022-07-15T00:00:00",
          "2022-07-15T00:00:00",
          "2022-07-15T00:00:00",
          "2022-07-15T00:00:00",
          "2022-07-17T00:00:00",
          "2022-07-17T00:00:00",
          "2022-07-20T00:00:00",
          "2022-07-20T00:00:00",
          "2022-07-20T00:00:00",
          "2022-07-21T00:00:00",
          "2022-07-22T00:00:00",
          "2022-07-22T00:00:00",
          "2022-07-25T00:00:00",
          "2022-07-28T00:00:00",
          "2022-07-28T00:00:00",
          "2022-07-29T00:00:00",
          "2022-07-29T00:00:00",
          "2022-08-01T00:00:00",
          "2022-08-01T00:00:00",
          "2022-08-04T00:00:00",
          "2022-08-05T00:00:00",
          "2022-08-05T00:00:00",
          "2022-08-05T00:00:00",
          "2022-08-05T00:00:00",
          "2022-08-05T00:00:00",
          "2022-08-11T00:00:00",
          "2022-08-12T00:00:00",
          "2022-08-15T00:00:00",
          "2022-08-16T00:00:00",
          "2022-08-18T00:00:00",
          "2022-08-19T00:00:00",
          "2022-08-19T00:00:00",
          "2022-08-22T00:00:00",
          "2022-08-25T00:00:00",
          "2022-08-26T00:00:00",
          "2022-08-26T00:00:00",
          "2022-09-02T00:00:00",
          "2022-09-08T00:00:00",
          "2022-09-09T00:00:00",
          "2022-09-09T00:00:00",
          "2022-09-13T00:00:00",
          "2022-09-13T00:00:00",
          "2022-09-13T00:00:00",
          "2022-09-14T00:00:00",
          "2022-09-16T00:00:00",
          "2022-09-16T00:00:00",
          "2022-09-16T00:00:00",
          "2022-09-22T00:00:00",
          "2022-09-22T00:00:00",
          "2022-09-22T00:00:00",
          "2022-09-22T00:00:00",
          "2022-09-28T00:00:00",
          "2022-09-28T00:00:00",
          "2022-09-29T00:00:00",
          "2022-09-29T00:00:00",
          "2022-09-29T00:00:00",
          "2022-10-03T00:00:00",
          "2022-10-06T00:00:00",
          "2022-10-07T00:00:00",
          "2022-10-12T00:00:00",
          "2022-10-12T00:00:00",
          "2022-10-12T00:00:00",
          "2022-10-14T00:00:00",
          "2022-10-14T00:00:00",
          "2022-10-17T00:00:00",
          "2022-10-17T00:00:00",
          "2022-10-17T00:00:00",
          "2022-10-19T00:00:00",
          "2022-10-20T00:00:00",
          "2022-10-20T00:00:00",
          "2022-10-21T00:00:00",
          "2022-10-21T00:00:00",
          "2022-10-21T00:00:00",
          "2022-10-21T00:00:00",
          "2022-10-21T00:00:00",
          "2022-10-21T00:00:00",
          "2022-10-21T00:00:00",
          "2022-10-21T00:00:00",
          "2022-10-21T00:00:00",
          "2022-10-21T00:00:00",
          "2022-10-21T00:00:00",
          "2022-10-21T00:00:00",
          "2022-10-21T00:00:00",
          "2022-10-21T00:00:00",
          "2022-10-21T00:00:00",
          "2022-10-21T00:00:00",
          "2022-10-21T00:00:00",
          "2022-10-26T00:00:00",
          "2022-10-28T00:00:00",
          "2022-10-28T00:00:00",
          "2022-10-28T00:00:00",
          "2022-10-31T00:00:00",
          "2022-11-01T00:00:00",
          "2022-11-03T00:00:00",
          "2022-11-03T00:00:00",
          "2022-11-03T00:00:00",
          "2022-11-04T00:00:00",
          "2022-11-04T00:00:00",
          "2022-11-04T00:00:00",
          "2022-11-04T00:00:00",
          "2022-11-04T00:00:00",
          "2022-11-04T00:00:00",
          "2022-11-04T00:00:00",
          "2022-11-04T00:00:00",
          "2022-11-04T00:00:00",
          "2022-11-04T00:00:00",
          "2022-11-04T00:00:00",
          "2022-11-04T00:00:00",
          "2022-11-04T00:00:00",
          "2022-11-04T00:00:00",
          "2022-11-05T00:00:00",
          "2022-11-13T00:00:00",
          "2022-11-20T00:00:00",
          "2022-11-24T00:00:00",
          "2022-11-25T00:00:00",
          "2022-11-30T00:00:00",
          "2022-11-30T00:00:00",
          "2022-11-30T00:00:00",
          "2022-12-01T00:00:00",
          "2022-12-02T00:00:00",
          "2022-12-02T00:00:00",
          "2022-12-02T00:00:00",
          "2022-12-02T00:00:00",
          "2022-12-02T00:00:00",
          "2022-12-02T00:00:00",
          "2022-12-02T00:00:00",
          "2022-12-02T00:00:00",
          "2022-12-02T00:00:00",
          "2022-12-02T00:00:00",
          "2022-12-02T00:00:00",
          "2022-12-02T00:00:00",
          "2022-12-08T00:00:00",
          "2022-12-08T00:00:00",
          "2022-12-08T00:00:00",
          "2022-12-08T00:00:00",
          "2022-12-08T00:00:00",
          "2022-12-09T00:00:00",
          "2022-12-09T00:00:00",
          "2022-12-09T00:00:00",
          "2022-12-09T00:00:00",
          "2022-12-09T00:00:00",
          "2022-12-09T00:00:00",
          "2022-12-09T00:00:00",
          "2022-12-09T00:00:00",
          "2022-12-09T00:00:00",
          "2022-12-09T00:00:00",
          "2022-12-09T00:00:00",
          "2022-12-09T00:00:00",
          "2022-12-09T00:00:00",
          "2022-12-09T00:00:00",
          "2022-12-09T00:00:00",
          "2022-12-09T00:00:00",
          "2022-12-12T00:00:00",
          "2022-12-15T00:00:00",
          "2022-12-15T00:00:00",
          "2022-12-15T00:00:00",
          "2022-12-16T00:00:00",
          "2022-12-16T00:00:00",
          "2022-12-19T00:00:00",
          "2022-12-20T00:00:00",
          "2022-12-22T00:00:00",
          "2022-12-23T00:00:00",
          "2022-12-24T00:00:00",
          "2022-12-30T00:00:00",
          "2023-01-02T00:00:00",
          "2023-01-11T00:00:00",
          "2023-01-12T00:00:00",
          "2023-01-12T00:00:00",
          "2023-01-13T00:00:00",
          "2023-01-13T00:00:00",
          "2023-01-20T00:00:00",
          "2023-01-23T00:00:00",
          "2023-01-23T00:00:00",
          "2023-01-27T00:00:00",
          "2023-01-27T00:00:00",
          "2023-01-27T00:00:00",
          "2023-01-27T00:00:00",
          "2023-01-27T00:00:00",
          "2023-01-27T00:00:00",
          "2023-01-27T00:00:00",
          "2023-01-31T00:00:00",
          "2023-01-31T00:00:00",
          "2023-01-31T00:00:00",
          "2023-02-02T00:00:00",
          "2023-02-02T00:00:00",
          "2023-02-02T00:00:00",
          "2023-02-03T00:00:00",
          "2023-02-03T00:00:00",
          "2023-02-05T00:00:00",
          "2023-02-08T00:00:00",
          "2023-02-10T00:00:00",
          "2023-02-10T00:00:00",
          "2023-02-14T00:00:00",
          "2023-02-14T00:00:00",
          "2023-02-17T00:00:00",
          "2023-02-23T00:00:00",
          "2023-02-23T00:00:00",
          "2023-02-23T00:00:00",
          "2023-02-24T00:00:00",
          "2023-02-24T00:00:00",
          "2023-02-24T00:00:00",
          "2023-02-24T00:00:00",
          "2023-02-24T00:00:00",
          "2023-02-24T00:00:00",
          "2023-02-24T00:00:00",
          "2023-02-25T00:00:00",
          "2023-03-01T00:00:00",
          "2023-03-02T00:00:00",
          "2023-03-03T00:00:00",
          "2023-03-03T00:00:00",
          "2023-03-03T00:00:00",
          "2023-03-03T00:00:00",
          "2023-03-03T00:00:00",
          "2023-03-03T00:00:00",
          "2023-03-03T00:00:00",
          "2023-03-03T00:00:00",
          "2023-03-03T00:00:00",
          "2023-03-04T00:00:00",
          "2023-03-10T00:00:00",
          "2023-03-14T00:00:00",
          "2023-03-16T00:00:00",
          "2023-03-17T00:00:00",
          "2023-03-17T00:00:00",
          "2023-03-17T00:00:00",
          "2023-03-17T00:00:00",
          "2023-03-17T00:00:00",
          "2023-03-17T00:00:00",
          "2023-03-17T00:00:00",
          "2023-03-22T00:00:00",
          "2023-03-23T00:00:00",
          "2023-03-23T00:00:00",
          "2023-03-24T00:00:00",
          "2023-03-24T00:00:00",
          "2023-03-24T00:00:00",
          "2023-03-24T00:00:00",
          "2023-03-24T00:00:00",
          "2023-03-25T00:00:00",
          "2023-03-27T00:00:00",
          "2023-03-29T00:00:00",
          "2023-03-30T00:00:00",
          "2023-03-31T00:00:00",
          "2023-03-31T00:00:00",
          "2023-03-31T00:00:00",
          "2023-04-04T00:00:00",
          "2023-04-04T00:00:00",
          "2023-04-06T00:00:00",
          "2023-04-07T00:00:00",
          "2023-04-07T00:00:00",
          "2023-04-07T00:00:00",
          "2023-04-07T00:00:00",
          "2023-04-07T00:00:00",
          "2023-04-10T00:00:00",
          "2023-04-12T00:00:00",
          "2023-04-14T00:00:00",
          "2023-04-14T00:00:00",
          "2023-04-14T00:00:00",
          "2023-04-17T00:00:00",
          "2023-04-21T00:00:00",
          "2023-04-21T00:00:00",
          "2023-04-21T00:00:00",
          "2023-04-24T00:00:00",
          "2023-04-25T00:00:00",
          "2023-04-27T00:00:00",
          "2023-04-30T00:00:00",
          "2023-05-01T00:00:00",
          "2023-05-01T00:00:00",
          "2023-05-04T00:00:00",
          "2023-05-04T00:00:00",
          "2023-05-04T00:00:00",
          "2023-05-05T00:00:00",
          "2023-05-11T00:00:00",
          "2023-05-11T00:00:00",
          "2023-05-12T00:00:00",
          "2023-05-12T00:00:00",
          "2023-05-13T00:00:00",
          "2023-05-15T00:00:00",
          "2023-05-15T00:00:00",
          "2023-05-15T00:00:00",
          "2023-05-18T00:00:00",
          "2023-05-18T00:00:00",
          "2023-05-19T00:00:00",
          "2023-05-19T00:00:00",
          "2023-05-19T00:00:00",
          "2023-05-19T00:00:00",
          "2023-05-22T00:00:00",
          "2023-05-22T00:00:00",
          "2023-05-25T00:00:00",
          "2023-05-26T00:00:00",
          "2023-05-26T00:00:00",
          "2023-05-26T00:00:00",
          "2023-05-26T00:00:00",
          "2023-05-26T00:00:00",
          "2023-05-31T00:00:00",
          "2023-06-01T00:00:00",
          "2023-06-01T00:00:00",
          "2023-06-01T00:00:00",
          "2023-06-02T00:00:00",
          "2023-06-02T00:00:00",
          "2023-06-02T00:00:00",
          "2023-06-02T00:00:00",
          "2023-06-02T00:00:00",
          "2023-06-02T00:00:00",
          "2023-06-02T00:00:00",
          "2023-06-02T00:00:00",
          "2023-06-02T00:00:00",
          "2023-06-02T00:00:00",
          "2023-06-02T00:00:00",
          "2023-06-02T00:00:00",
          "2023-06-05T00:00:00",
          "2023-06-08T00:00:00",
          "2023-06-09T00:00:00",
          "2023-06-15T00:00:00",
          "2023-06-21T00:00:00",
          "2023-06-22T00:00:00",
          "2023-06-22T00:00:00",
          "2023-06-22T00:00:00",
          "2023-06-22T00:00:00",
          "2023-06-22T00:00:00",
          "2023-06-23T00:00:00",
          "2023-06-23T00:00:00",
          "2023-06-23T00:00:00",
          "2023-06-28T00:00:00",
          "2023-06-29T00:00:00",
          "2023-06-30T00:00:00",
          "2023-06-30T00:00:00",
          "2023-07-07T00:00:00",
          "2023-07-07T00:00:00",
          "2023-07-07T00:00:00",
          "2023-07-07T00:00:00",
          "2023-07-07T00:00:00",
          "2023-07-07T00:00:00",
          "2023-07-07T00:00:00",
          "2023-07-07T00:00:00",
          "2023-07-13T00:00:00",
          "2023-07-13T00:00:00",
          "2023-07-13T00:00:00",
          "2023-07-14T00:00:00",
          "2023-07-14T00:00:00",
          "2023-07-14T00:00:00"
         ],
         "y": [
          9.0598517E7,
          3.95591396E8,
          3.89771964E8,
          4.73248298E8,
          3.95591396E8,
          7.41301563E8,
          1.78660459E8,
          2.95998468E8,
          7.6921352E8,
          2.45350949E8,
          1.27027715E8,
          4.46390129E8,
          6.63832097E8,
          2.42767149E8,
          4.04664135E8,
          1.145727611E9,
          5.20034544E8,
          4.60492795E8,
          8.38586769E8,
          2.009094673E9,
          2.197010679E9,
          4.03939487E8,
          1.95918494E8,
          1.54356956E8,
          1.593270737E9,
          1.159176109E9,
          3.51636786E8,
          1.479115056E9,
          4.81697415E8,
          1.205951614E9,
          1.024858327E9,
          4.29504768E8,
          7.04171068E8,
          1.553497987E9,
          1.690192927E9,
          3.68646862E8,
          1.271293243E9,
          1.449779435E9,
          1.357608774E9,
          5.79395142E8,
          1.06933107E8,
          1.03762518E8,
          1.284942608E9,
          6.75039469E8,
          1.210599487E9,
          8.43309044E8,
          1.755214421E9,
          9.18915401E8,
          1.424589568E9,
          6.24101957E8,
          1.624165576E9,
          2.61116938E8,
          1.202722675E9,
          1.829992958E9,
          1.687664027E9,
          1.69571202E9,
          6.55466831E8,
          1.608164312E9,
          1.361425037E9,
          1.806617704E9,
          1.241559043E9,
          1.089402494E9,
          5.27033089E8,
          6.57723613E8,
          1.80577478E8,
          1.21712071E9,
          8.87906111E8,
          1.592909789E9,
          1.279434863E9,
          6.21660989E8,
          1.641426668E9,
          9.50906471E8,
          5.40654286E8,
          1.062956628E9,
          1.472799873E9,
          3.72476382E8,
          6.29173063E8,
          2.84819874E8,
          1.163620694E9,
          1.457139296E9,
          9.83637508E8,
          1.235005533E9,
          1.953533826E9,
          4.76244795E8,
          8.07561936E8,
          1.840364617E9,
          8.22239726E8,
          8.82831184E8,
          1.093605526E9,
          1.479264469E9,
          2.282771485E9,
          5.8054811E7,
          1.813673666E9,
          1.481349984E9,
          1.661187319E9,
          7.03301727E8,
          2.011464183E9,
          1.788326445E9,
          9.33815613E8,
          1.297026226E9,
          1.970673297E9,
          1.26733335E9,
          1.09091573E8,
          2.086124197E9,
          2.40769997E8,
          2.135158446E9,
          4.85285717E8,
          8.34129063E8,
          1.355959075E9,
          1.606986953E9,
          5.88955257E8,
          1.113838873E9,
          7.86181836E8,
          1.456081449E9,
          2.280566092E9,
          4.66231982E8,
          2.236667932E9,
          6.46886885E8,
          1.13109094E9,
          9.72164968E8,
          1.79100057E9,
          6.77389855E8,
          7.89753877E8,
          9.24193303E8,
          1.41008883E9,
          5.71386359E8,
          8.24420218E8,
          1.947371785E9,
          1.65484133E8,
          3.70068639E8,
          1.127468248E9,
          2.123309722E9,
          5.82863434E8,
          9.39844851E8,
          2.71392235E9,
          1.56658366E8,
          2.591224264E9,
          3.80319238E8,
          4.21135627E8,
          8.0639707E8,
          2.420461338E9,
          2.565529693E9,
          1.714490998E9,
          1.22763672E8,
          4.80507035E8,
          4.45590495E8,
          9.56865266E8,
          1.647990401E9,
          6.11700552E8,
          6.84675814E8,
          2.559529074E9,
          6.90104769E8,
          3.56254389E9,
          2.594040133E9,
          9.20045682E8,
          2.204080728E9,
          8.41749534E8,
          7.77765388E8,
          1.929770265E9,
          1.116995633E9,
          1.897517891E9,
          2.288695111E9,
          8.88046992E8,
          1.047101291E9,
          2.355719893E9,
          1.02225823E9,
          4.98960285E8,
          1.84706613E8,
          6.85032533E8,
          1.605224506E9,
          2.84216603E8,
          1.35723538E8,
          1.367810478E9,
          5.99770206E8,
          1.200808494E9,
          1.449799467E9,
          7.05469769E8,
          1.374581173E9,
          1.122364376E9,
          2.159346687E9,
          2.80809655E9,
          2.887241814E9,
          7.23043854E8,
          1.13847411E9,
          6.86734357E8,
          9.91336132E8,
          1.065580332E9,
          2.864791672E9,
          2.44658767E8,
          4.11747614E8,
          4.61437791E8,
          1.304313953E9,
          2.484812918E9,
          4.67727006E8,
          1.435127549E9,
          2.36872197E8,
          7.26837877E8,
          4.2620483E8,
          1.85240616E8,
          8.00840817E8,
          2.132335812E9,
          5.40539717E8,
          3.87080183E8,
          1.759567999E9,
          2.82883169E8,
          5.5487573E8,
          5.63902868E8,
          9.29964809E8,
          2.0368027E8,
          2.65882712E8,
          2.303033973E9,
          1.608045237E9,
          2.44891912E8,
          8.65640097E8,
          2.322580122E9,
          3.703895074E9,
          1.439191367E9,
          1.023187129E9,
          8.07015863E8,
          1.062345656E9,
          8.72137015E8,
          1.180896317E9,
          4.05136812E8,
          6.9808614E8,
          9.51637566E8,
          6.850718E8,
          7.59208783E8,
          3.12622938E8,
          5.30511203E8,
          1.301799902E9,
          1.591223784E9,
          1.221813483E9,
          7.97196073E8,
          1.802514301E9,
          1.180094974E9,
          4.0309745E8,
          3.8411956E7,
          2.557975762E9,
          5.01541661E8,
          6.07123776E8,
          8.12019557E8,
          3.27498031E8,
          1.699402402E9,
          1.692897992E9,
          1.555511105E9,
          1.735441776E9,
          5.78207856E8,
          3.39473453E8,
          1.252563873E9,
          1.763363713E9,
          1.168642797E9,
          5.70515054E8,
          2.73914335E8,
          1.40430339E8,
          8.26623384E8,
          5.06778838E8,
          1.858144199E9,
          8.63756573E8,
          7.20825549E8,
          1.115880852E9,
          8.380799E8,
          1.167330737E9,
          8.51070493E8,
          1.445941661E9,
          1.256880657E9,
          1.575467011E9,
          7.97402345E8,
          3.50381515E8,
          6.24515457E8,
          6.51732901E8,
          5.9615209E8,
          3.94030335E8,
          4.22691058E8,
          1.887039593E9,
          1.83273246E8,
          1.143647827E9,
          7.83706581E8,
          8.50608354E8,
          6.65765558E8,
          1.230855859E9,
          1.260594497E9,
          1.042568408E9,
          3.30346424E8,
          5.28544703E8,
          1.309887447E9,
          6.7265625E8,
          4.9971059E8,
          4.65959382E8,
          8.09306935E8,
          5.16784627E8,
          1.329090101E9,
          5.13643924E8,
          6.10045621E8,
          6.08334048E8,
          2.665343922E9,
          1.814349763E9,
          4.12795151E8,
          1.056760045E9,
          9.72509632E8,
          5.66954746E8,
          6.73801126E8,
          5.63358137E8,
          1.84826429E8,
          2.90228626E8,
          2.23319934E8,
          4.27486004E8,
          1.007612429E9,
          6.74772936E8,
          5.6022275E8,
          3.7633303E8,
          3.63467642E8,
          7.26434358E8,
          3.55219175E8,
          1.223481149E9,
          5.93917618E8,
          5.94482982E8,
          3.4612784E8,
          4.89945871E8,
          4.36695353E8,
          4.08843328E8,
          1.302184087E9,
          8.63625566E8,
          2.6377903E8,
          5.8298138E8,
          3.54065229E8,
          9.20797189E8,
          4.21040617E8,
          1.061966512E9,
          3.45903614E8,
          7.75542072E8,
          1.406111294E9,
          2.58316038E8,
          2.61414174E8,
          6.11994237E8,
          2.09768491E8,
          5.10876816E8,
          2.63894529E8,
          1.223481149E9,
          3.93230256E8,
          3.42779426E8,
          6.56013912E8,
          5.39595276E8,
          3.83550148E8,
          2.45095641E8,
          2.00972675E8,
          5.46191065E8,
          3.7470694E8,
          5.83687007E8,
          1.98883004E8,
          2.25259194E8,
          1.77129919E8,
          1.67076418E8,
          2.52871192E8,
          1.81328253E8,
          4.66214729E8,
          2.67758538E8,
          1.84937148E8,
          4.32719968E8,
          1.54797871E8,
          3.57580552E8,
          2.40684449E8,
          2.47737946E8,
          2.87201015E8,
          3.56709897E8,
          6.52704649E8,
          1.85408548E8,
          4.15932686E8,
          2.31996128E8,
          2.61286503E8,
          3.17622165E8,
          1.91945597E8,
          6.571993E7,
          3.74191487E8,
          2.26897599E8,
          2.3694048E8,
          3.4958559E8,
          5.4937991E7,
          4.1924466E7,
          1.01114984E8,
          5.3933526E7,
          6.3803529E7,
          3.7307967E7,
          1.16903579E8,
          8.8103848E7,
          1.19238316E8,
          9.1656026E7,
          3.91251368E8,
          2.00660871E8,
          1.24407432E8,
          3.39659802E8,
          3.1959571E7,
          3.11395144E8,
          3.26792833E8,
          7.4601456E7,
          6.0680939E7,
          1.0880909E8,
          7.7337771E7,
          2.11372494E8,
          7.1014967E7,
          2.45400167E8,
          2.91709698E8,
          1.43139338E8,
          7.8489819E7,
          5.00340342E8,
          2.77132266E8,
          4.48843705E8,
          6.82475162E8,
          3.00983101E8,
          1.54119539E8,
          2.58714692E8,
          1.87772591E8,
          2.08166039E8,
          1.35079152E8,
          8.1350745E7,
          6.4787943E7,
          1.21913181E8,
          3.43197054E8,
          2.6328037E8,
          2.84249832E8,
          4.45763624E8,
          7.16591492E8,
          4.96311364E8,
          6.4714573E7,
          1.07255472E8,
          2.4637669E8,
          1.46789379E8,
          5.074662E7,
          3.07752576E8,
          1.82978249E8,
          4.21365166E8,
          3.83835984E8,
          2.99648208E8,
          3.23455692E8,
          1.93443895E8,
          3.19757142E8,
          1.35444283E8,
          5.4682594E7,
          1.53240879E8,
          1.20847157E8,
          2.02677468E8,
          9.4616487E7,
          2.2947331E8,
          7.56907987E8,
          5.3729194E7,
          2.99634472E8,
          2.44928911E8,
          4.62791599E8,
          1.76290831E8,
          2.86739476E8,
          1.97643795E8,
          2.1223499E8,
          2.73005485E8,
          1.437674063E9,
          1.85550869E8,
          2.40661097E8,
          1.30419412E8,
          8.99183384E8,
          1.57990698E8,
          1.26443991E8,
          3.49746291E8,
          1.39193812E8,
          1.18381354E8,
          2.513188493E9,
          1.78512385E8,
          2.55120451E8,
          1.90981339E8,
          4.77033549E8,
          1.84622518E8,
          3.05771063E8,
          1.07818292E8,
          8.9566512E7,
          7.5476209E7,
          2.93186992E8,
          2.27918678E8,
          6.94525298E8,
          1.01780047E8,
          1.4636313E8,
          1.36996305E8,
          7.23894473E8,
          7.7309611E7,
          8.85093467E8,
          6.06361689E8,
          1.60035717E8,
          1.90490915E8,
          4.49701773E8,
          2.44741137E8,
          6.00976848E8,
          2.40580042E8,
          1.64163229E8,
          5.5658527E8,
          4.04887295E8,
          1.0691968E8,
          3.82199619E8,
          2.54218729E8,
          2.12109195E8,
          2.44790012E8,
          2.29497852E8,
          2.38350348E8,
          2.46127838E8,
          2.83359161E8,
          3.44055883E8,
          4.6155854E8,
          3.38422004E8,
          1.50500965E8,
          1.047480053E9,
          2.1235189E8,
          2.7973794E8,
          1.21077868E8,
          4.79655659E8,
          3.05650299E8,
          1.440757818E9,
          9.09001996E8,
          6.71365962E8,
          1.133865788E9,
          3.19546754E8,
          6.14555082E8,
          6.08228647E8,
          1.32171975E8,
          2.03221468E8,
          1.264310836E9,
          4.03231558E8,
          4.17230415E8,
          2.83332261E8,
          4.48500832E8,
          3.13113297E8,
          7.1423324E7,
          2.71666301E8,
          2.93466523E8,
          3.7778188E7,
          1.26191104E8,
          4.2485571E7,
          2.37351106E8,
          1.64856284E8,
          1.2730918E8,
          1.08568542E9,
          5.3603447E7,
          3.3381454E7,
          5.8687425E7,
          3.01242089E8,
          7.6831876E7,
          4.1210087E7,
          1.73702135E8,
          8.617689E7,
          3.7091576E7,
          1.23216717E8,
          2.31657891E8,
          1.8480763E8,
          1.56898322E8,
          6.8895644E7,
          6.1739839E7,
          3.67814306E8,
          1.37070925E8,
          1.89236868E8,
          1.87703102E8,
          2.90833204E8,
          1.99587884E8,
          2.36060709E8,
          3.33146475E8,
          7.43693613E8,
          2.73194684E8,
          2.33671263E8,
          3.66214458E8,
          3.34733572E8,
          1.91873381E8,
          3.11482393E8,
          1.60845341E8,
          1.214083358E9,
          1.90625045E8,
          1.94902696E8,
          1.56777415E8,
          1.5713697E8,
          1.38334433E8,
          1.76103902E8,
          2.78920007E8,
          6.09293408E8,
          2.48511839E8,
          9.1781263E7,
          1.29314708E8,
          2.21752937E8,
          7.909527E7,
          1.36676504E8,
          1.14546317E8,
          9.88515741E8,
          2.22410722E8,
          2.95307001E8,
          3.30881149E8,
          3.02006641E8,
          2.44585109E8,
          2.40918092E8,
          2.79717388E8,
          6.18885532E8,
          1.95628667E8,
          1.91448892E8,
          3.54614964E8,
          1.15331792E8,
          1.31746175E8,
          7.2043424E8,
          2.13505179E8,
          8.22633917E8,
          1.87701588E8,
          8.5924992E7,
          1.55795783E8,
          1.21189256E8,
          1.356565093E9,
          4.59276435E8,
          9.7610446E7,
          2.47689123E8,
          7.23894473E8,
          7.51134527E8,
          3.42897938E8,
          2.0245286E8,
          1.2347312E8,
          6.35412045E8,
          3.66599607E8,
          4.82257456E8,
          1.85236961E8,
          6.81583126E8,
          3.38564981E8,
          2.87278853E8,
          2.09106362E8,
          4.71819764E8,
          7.82369383E8,
          7.0069745E7,
          1.71788484E8,
          5.95900742E8,
          2.6471748E8,
          3.63472647E8,
          3.31511413E8,
          2.19196651E8,
          2.84785823E8,
          4.97225336E8,
          1.7906144E8,
          1.70732845E8,
          1.99386237E8,
          4.2868568E8,
          2.95152154E8,
          1.3712388E8,
          1.59240673E8,
          6.01863821E8,
          5.51305895E8,
          2.65548837E8,
          3.22336177E8,
          1.109433169E9,
          1.89476119E8,
          1.48461629E8,
          3.62361576E8,
          1.74006928E8,
          2.39411309E8,
          5.3987404E7,
          1.85392587E8,
          4.7093942E7,
          1.81831132E8,
          2.22612678E8,
          4.8217524E8,
          2.35549288E8,
          1.46223492E8,
          3.04079786E8,
          3.32506354E8,
          1.23067589E9,
          1.16144341E8,
          2.1343858E8,
          3.09483971E8,
          1.76474912E8,
          7.1007139E7,
          1.68684524E8,
          6.7407271E8,
          2.25093344E8,
          5.32336353E8,
          2.10038833E8,
          3.19566866E8,
          8.4697729E7,
          8.5559365E7,
          3.01051721E8,
          4.57184829E8,
          1.70709584E8,
          3.80726517E8,
          1.33895612E8,
          2.36857112E8,
          9.99748277E8,
          3.28207708E8,
          1.2187187E8,
          4.04562836E8,
          1.87339835E8,
          4.88386797E8,
          5.02574952E8,
          3.17726339E8,
          2.18320587E8,
          4.33356509E8,
          2.23064273E8,
          3.23437194E8,
          1.8610431E8,
          1.8138259E8,
          2.5365085E8,
          1.77503916E8,
          3.48647203E8,
          1.562147E8,
          2.9732896E8,
          3.09653982E8,
          2.03436468E8,
          6.05086148E8,
          3.25592432E8,
          7.3513683E7,
          2.6345331E8,
          9.1473363E7,
          9.6007391E7,
          1.36689549E8,
          9.3367537E7,
          1.06249219E8,
          1.41720999E8,
          7.1095708E7,
          2.46390068E8,
          1.54863153E8,
          1.70413877E8,
          1.12436403E8,
          3.81161027E8,
          1.91333656E8,
          5.7363302E8,
          1.98365537E8,
          1.39836056E8,
          2.94352144E8,
          3.23358833E8,
          4.63564958E8,
          1.84308753E8,
          1.56338624E8,
          5.38115192E8,
          3.35074782E8,
          2.88101651E8,
          3.4503171E8,
          8.4395751E8,
          1.95516622E8,
          7.8139948E7,
          1.48469433E8,
          3.73199958E8,
          1.10649992E8,
          4.01036314E8,
          1.79659294E8,
          2.86400165E8,
          2.76259178E8,
          1.35611421E8,
          1.163093654E9,
          1.55653938E8,
          4.9262961E7,
          9.4005786E7,
          1.34294498E8,
          1.63284E8,
          5.6870689E7,
          6.7540165E7,
          5.1641685E7,
          1.1007325E8,
          6.5362788E7,
          2.67789608E8,
          1.10849052E8,
          2.72377463E8,
          2.84908316E8,
          6.2019074E7,
          9.8709329E7,
          5.7144458E7,
          3.99686758E8,
          7.3981293E7,
          8.8092256E7,
          1.40187018E8,
          2.98063749E8,
          2.23582566E8,
          2.21409663E8,
          3.67316268E8,
          2.31332117E8,
          3.97582059E8,
          5.85695368E8,
          3.041186E8,
          9.3587665E7,
          1.98275403E8,
          1.58950978E8,
          4.30977451E8,
          7.21975598E8,
          1.316855716E9,
          1.20972253E8,
          3.07370144E8,
          1.52850295E8,
          1.75399345E8,
          4.36027885E8,
          1.66570053E8,
          2.55932395E8,
          1.53454328E8,
          1.03787664E8,
          1.24988687E8,
          1.47538971E8,
          1.07642809E8,
          1.3425579E8,
          9.5623148E7,
          8.3021468E7,
          4.29829812E8,
          2.33801632E8,
          9.0025258E7,
          2.66624541E8,
          1.56338624E8,
          1.47290338E8,
          2.07033255E8,
          2.48088961E8,
          3.54495408E8,
          1.65584767E8,
          2.17672943E8,
          1.45458418E8,
          1.445848E8,
          9.343891E7,
          1.05062254E8,
          6.18990393E8,
          1.53372011E8,
          1.39681964E8,
          4.96795686E8,
          5.18745108E8,
          2.06399629E8,
          2.56483385E8,
          1.49778242E8,
          2.01660859E8,
          1.38517666E8,
          1.46409671E8,
          8.8791109E7,
          3.4450974E7,
          3.2526947E7,
          2.23633238E8,
          5.8890931E7,
          1.1659979E8,
          8.1419389E7,
          1.2591728E8,
          5.6533272E7,
          1.62887075E8,
          2.11050784E8,
          1.16334601E8,
          7.25980112E8,
          1.13509496E8,
          2.50305248E8,
          5.53634067E8,
          1.17206995E8,
          1.2756754E8,
          1.68448603E8,
          9.5131998E7,
          1.00409613E8,
          1.95576623E8,
          1.33716286E8,
          3.57925728E8,
          1.5705887E8,
          7.7377503E7,
          3.63369738E8,
          1.73627354E8,
          5.2722996E7,
          8.075835E7,
          6.707041E7,
          1.6146099E8,
          3.35222234E8,
          2.32896922E8,
          5.8473276E7,
          1.27026613E8,
          1.42095275E8,
          1.77740666E8,
          1.88933502E8,
          1.17747907E8,
          6.8216992E7,
          9.5816024E7,
          1.75097833E8,
          1.23132751E8,
          1.43573775E8,
          1.72825906E8,
          3.87570742E8,
          1.04992946E8,
          5.05671438E8,
          9.6180277E7,
          1.18810253E8,
          1.1501004E8,
          9.1221625E7,
          7.6910644E7,
          6.1105704E7,
          7.7233241E7,
          1.33753727E8,
          9.2035115E7,
          3.4502215E7,
          5.0847624E7,
          1.11947664E8,
          3.9893489E7,
          1.23124076E8,
          7.1573339E7,
          1.4456515E8,
          9.0839753E7,
          8.9933133E7,
          9.5217315E7,
          6.453304E7,
          9.6273746E7,
          5.7945987E7,
          3.03236322E8,
          5.7089066E7,
          4.7956378E7,
          8.1102253E7,
          1.76553476E8,
          7.6767396E7,
          5.4225632E7,
          1.27408954E8,
          9.5053634E7,
          6.8616963E7,
          4.6142772E7,
          6.0350538E7,
          4.6065667E7,
          2.00647221E8,
          1.1956641E7,
          1.23122413E8,
          1.83706234E8,
          3.7126685E7,
          9.4186466E7,
          8.6773632E7,
          1.09276132E8,
          2.4975653E7,
          1.0775385E8,
          3.9666245E7,
          3.2761689E7,
          4.3522589E7,
          1.15364561E8,
          6.5496046E7,
          7.0106975E7,
          5.1985779E7,
          5.7312735E7,
          1.18482347E8,
          5.787644E7,
          6.6902503E7,
          4.3857627E7,
          8.6444842E7,
          3.9058561E7,
          5.5842345E7,
          7.8300654E7,
          5.4266102E7,
          6.5156199E7,
          3.9709092E7,
          5.2294266E7,
          6.1245289E7,
          3.1873544E7,
          1.40003974E8,
          3.9228929E7,
          3.0343206E7,
          5.8149378E7,
          3.9578178E7,
          5.2135248E7,
          3.6912123E7,
          2.956222E7,
          5.825515E7,
          1.1599388E7,
          2.2581161E7,
          3.0546883E7,
          1.4780425E7,
          1.6011326E7,
          1.41381703E8
         ],
         "type": "scatter"
        }
       ],
       "layout": {
        "template": {
         "data": {
          "histogram2dcontour": [
           {
            "type": "histogram2dcontour",
            "colorbar": {
             "outlinewidth": 0,
             "ticks": ""
            },
            "colorscale": [
             [
              0.0,
              "#0d0887"
             ],
             [
              0.1111111111111111,
              "#46039f"
             ],
             [
              0.2222222222222222,
              "#7201a8"
             ],
             [
              0.3333333333333333,
              "#9c179e"
             ],
             [
              0.4444444444444444,
              "#bd3786"
             ],
             [
              0.5555555555555556,
              "#d8576b"
             ],
             [
              0.6666666666666666,
              "#ed7953"
             ],
             [
              0.7777777777777778,
              "#fb9f3a"
             ],
             [
              0.8888888888888888,
              "#fdca26"
             ],
             [
              1.0,
              "#f0f921"
             ]
            ]
           }
          ],
          "choropleth": [
           {
            "type": "choropleth",
            "colorbar": {
             "outlinewidth": 0,
             "ticks": ""
            }
           }
          ],
          "histogram2d": [
           {
            "type": "histogram2d",
            "colorbar": {
             "outlinewidth": 0,
             "ticks": ""
            },
            "colorscale": [
             [
              0.0,
              "#0d0887"
             ],
             [
              0.1111111111111111,
              "#46039f"
             ],
             [
              0.2222222222222222,
              "#7201a8"
             ],
             [
              0.3333333333333333,
              "#9c179e"
             ],
             [
              0.4444444444444444,
              "#bd3786"
             ],
             [
              0.5555555555555556,
              "#d8576b"
             ],
             [
              0.6666666666666666,
              "#ed7953"
             ],
             [
              0.7777777777777778,
              "#fb9f3a"
             ],
             [
              0.8888888888888888,
              "#fdca26"
             ],
             [
              1.0,
              "#f0f921"
             ]
            ]
           }
          ],
          "heatmap": [
           {
            "type": "heatmap",
            "colorbar": {
             "outlinewidth": 0,
             "ticks": ""
            },
            "colorscale": [
             [
              0.0,
              "#0d0887"
             ],
             [
              0.1111111111111111,
              "#46039f"
             ],
             [
              0.2222222222222222,
              "#7201a8"
             ],
             [
              0.3333333333333333,
              "#9c179e"
             ],
             [
              0.4444444444444444,
              "#bd3786"
             ],
             [
              0.5555555555555556,
              "#d8576b"
             ],
             [
              0.6666666666666666,
              "#ed7953"
             ],
             [
              0.7777777777777778,
              "#fb9f3a"
             ],
             [
              0.8888888888888888,
              "#fdca26"
             ],
             [
              1.0,
              "#f0f921"
             ]
            ]
           }
          ],
          "heatmapgl": [
           {
            "type": "heatmapgl",
            "colorbar": {
             "outlinewidth": 0,
             "ticks": ""
            },
            "colorscale": [
             [
              0.0,
              "#0d0887"
             ],
             [
              0.1111111111111111,
              "#46039f"
             ],
             [
              0.2222222222222222,
              "#7201a8"
             ],
             [
              0.3333333333333333,
              "#9c179e"
             ],
             [
              0.4444444444444444,
              "#bd3786"
             ],
             [
              0.5555555555555556,
              "#d8576b"
             ],
             [
              0.6666666666666666,
              "#ed7953"
             ],
             [
              0.7777777777777778,
              "#fb9f3a"
             ],
             [
              0.8888888888888888,
              "#fdca26"
             ],
             [
              1.0,
              "#f0f921"
             ]
            ]
           }
          ],
          "contourcarpet": [
           {
            "type": "contourcarpet",
            "colorbar": {
             "outlinewidth": 0,
             "ticks": ""
            }
           }
          ],
          "contour": [
           {
            "type": "contour",
            "colorbar": {
             "outlinewidth": 0,
             "ticks": ""
            },
            "colorscale": [
             [
              0.0,
              "#0d0887"
             ],
             [
              0.1111111111111111,
              "#46039f"
             ],
             [
              0.2222222222222222,
              "#7201a8"
             ],
             [
              0.3333333333333333,
              "#9c179e"
             ],
             [
              0.4444444444444444,
              "#bd3786"
             ],
             [
              0.5555555555555556,
              "#d8576b"
             ],
             [
              0.6666666666666666,
              "#ed7953"
             ],
             [
              0.7777777777777778,
              "#fb9f3a"
             ],
             [
              0.8888888888888888,
              "#fdca26"
             ],
             [
              1.0,
              "#f0f921"
             ]
            ]
           }
          ],
          "surface": [
           {
            "type": "surface",
            "colorbar": {
             "outlinewidth": 0,
             "ticks": ""
            },
            "colorscale": [
             [
              0.0,
              "#0d0887"
             ],
             [
              0.1111111111111111,
              "#46039f"
             ],
             [
              0.2222222222222222,
              "#7201a8"
             ],
             [
              0.3333333333333333,
              "#9c179e"
             ],
             [
              0.4444444444444444,
              "#bd3786"
             ],
             [
              0.5555555555555556,
              "#d8576b"
             ],
             [
              0.6666666666666666,
              "#ed7953"
             ],
             [
              0.7777777777777778,
              "#fb9f3a"
             ],
             [
              0.8888888888888888,
              "#fdca26"
             ],
             [
              1.0,
              "#f0f921"
             ]
            ]
           }
          ],
          "mesh3d": [
           {
            "type": "mesh3d",
            "colorbar": {
             "outlinewidth": 0,
             "ticks": ""
            }
           }
          ],
          "scatter": [
           {
            "marker": {
             "line": {
              "color": "#283442"
             }
            },
            "type": "scatter"
           }
          ],
          "parcoords": [
           {
            "type": "parcoords",
            "line": {
             "colorbar": {
              "outlinewidth": 0,
              "ticks": ""
             }
            }
           }
          ],
          "scatterpolargl": [
           {
            "type": "scatterpolargl",
            "marker": {
             "colorbar": {
              "outlinewidth": 0,
              "ticks": ""
             }
            }
           }
          ],
          "bar": [
           {
            "error_x": {
             "color": "#f2f5fa"
            },
            "error_y": {
             "color": "#f2f5fa"
            },
            "marker": {
             "line": {
              "color": "rgb(17,17,17)",
              "width": 0.5
             },
             "pattern": {
              "fillmode": "overlay",
              "size": 10,
              "solidity": 0.2
             }
            },
            "type": "bar"
           }
          ],
          "scattergeo": [
           {
            "type": "scattergeo",
            "marker": {
             "colorbar": {
              "outlinewidth": 0,
              "ticks": ""
             }
            }
           }
          ],
          "scatterpolar": [
           {
            "type": "scatterpolar",
            "marker": {
             "colorbar": {
              "outlinewidth": 0,
              "ticks": ""
             }
            }
           }
          ],
          "histogram": [
           {
            "marker": {
             "pattern": {
              "fillmode": "overlay",
              "size": 10,
              "solidity": 0.2
             }
            },
            "type": "histogram"
           }
          ],
          "scattergl": [
           {
            "marker": {
             "line": {
              "color": "#283442"
             }
            },
            "type": "scattergl"
           }
          ],
          "scatter3d": [
           {
            "type": "scatter3d",
            "line": {
             "colorbar": {
              "outlinewidth": 0,
              "ticks": ""
             }
            },
            "marker": {
             "colorbar": {
              "outlinewidth": 0,
              "ticks": ""
             }
            }
           }
          ],
          "scattermapbox": [
           {
            "type": "scattermapbox",
            "marker": {
             "colorbar": {
              "outlinewidth": 0,
              "ticks": ""
             }
            }
           }
          ],
          "scatterternary": [
           {
            "type": "scatterternary",
            "marker": {
             "colorbar": {
              "outlinewidth": 0,
              "ticks": ""
             }
            }
           }
          ],
          "scattercarpet": [
           {
            "type": "scattercarpet",
            "marker": {
             "colorbar": {
              "outlinewidth": 0,
              "ticks": ""
             }
            }
           }
          ],
          "carpet": [
           {
            "aaxis": {
             "endlinecolor": "#A2B1C6",
             "gridcolor": "#506784",
             "linecolor": "#506784",
             "minorgridcolor": "#506784",
             "startlinecolor": "#A2B1C6"
            },
            "baxis": {
             "endlinecolor": "#A2B1C6",
             "gridcolor": "#506784",
             "linecolor": "#506784",
             "minorgridcolor": "#506784",
             "startlinecolor": "#A2B1C6"
            },
            "type": "carpet"
           }
          ],
          "table": [
           {
            "cells": {
             "fill": {
              "color": "#506784"
             },
             "line": {
              "color": "rgb(17,17,17)"
             }
            },
            "header": {
             "fill": {
              "color": "#2a3f5f"
             },
             "line": {
              "color": "rgb(17,17,17)"
             }
            },
            "type": "table"
           }
          ],
          "barpolar": [
           {
            "marker": {
             "line": {
              "color": "rgb(17,17,17)",
              "width": 0.5
             },
             "pattern": {
              "fillmode": "overlay",
              "size": 10,
              "solidity": 0.2
             }
            },
            "type": "barpolar"
           }
          ],
          "pie": [
           {
            "automargin": true,
            "type": "pie"
           }
          ]
         },
         "layout": {
          "autotypenumbers": "strict",
          "colorway": [
           "#636efa",
           "#EF553B",
           "#00cc96",
           "#ab63fa",
           "#FFA15A",
           "#19d3f3",
           "#FF6692",
           "#B6E880",
           "#FF97FF",
           "#FECB52"
          ],
          "font": {
           "color": "#f2f5fa"
          },
          "hovermode": "closest",
          "hoverlabel": {
           "align": "left"
          },
          "paper_bgcolor": "rgb(17,17,17)",
          "plot_bgcolor": "rgb(17,17,17)",
          "polar": {
           "bgcolor": "rgb(17,17,17)",
           "angularaxis": {
            "gridcolor": "#506784",
            "linecolor": "#506784",
            "ticks": ""
           },
           "radialaxis": {
            "gridcolor": "#506784",
            "linecolor": "#506784",
            "ticks": ""
           }
          },
          "ternary": {
           "bgcolor": "rgb(17,17,17)",
           "aaxis": {
            "gridcolor": "#506784",
            "linecolor": "#506784",
            "ticks": ""
           },
           "baxis": {
            "gridcolor": "#506784",
            "linecolor": "#506784",
            "ticks": ""
           },
           "caxis": {
            "gridcolor": "#506784",
            "linecolor": "#506784",
            "ticks": ""
           }
          },
          "coloraxis": {
           "colorbar": {
            "outlinewidth": 0,
            "ticks": ""
           }
          },
          "colorscale": {
           "sequential": [
            [
             0.0,
             "#0d0887"
            ],
            [
             0.1111111111111111,
             "#46039f"
            ],
            [
             0.2222222222222222,
             "#7201a8"
            ],
            [
             0.3333333333333333,
             "#9c179e"
            ],
            [
             0.4444444444444444,
             "#bd3786"
            ],
            [
             0.5555555555555556,
             "#d8576b"
            ],
            [
             0.6666666666666666,
             "#ed7953"
            ],
            [
             0.7777777777777778,
             "#fb9f3a"
            ],
            [
             0.8888888888888888,
             "#fdca26"
            ],
            [
             1.0,
             "#f0f921"
            ]
           ],
           "sequentialminus": [
            [
             0.0,
             "#0d0887"
            ],
            [
             0.1111111111111111,
             "#46039f"
            ],
            [
             0.2222222222222222,
             "#7201a8"
            ],
            [
             0.3333333333333333,
             "#9c179e"
            ],
            [
             0.4444444444444444,
             "#bd3786"
            ],
            [
             0.5555555555555556,
             "#d8576b"
            ],
            [
             0.6666666666666666,
             "#ed7953"
            ],
            [
             0.7777777777777778,
             "#fb9f3a"
            ],
            [
             0.8888888888888888,
             "#fdca26"
            ],
            [
             1.0,
             "#f0f921"
            ]
           ],
           "diverging": [
            [
             0,
             "#8e0152"
            ],
            [
             0.1,
             "#c51b7d"
            ],
            [
             0.2,
             "#de77ae"
            ],
            [
             0.3,
             "#f1b6da"
            ],
            [
             0.4,
             "#fde0ef"
            ],
            [
             0.5,
             "#f7f7f7"
            ],
            [
             0.6,
             "#e6f5d0"
            ],
            [
             0.7,
             "#b8e186"
            ],
            [
             0.8,
             "#7fbc41"
            ],
            [
             0.9,
             "#4d9221"
            ],
            [
             1,
             "#276419"
            ]
           ]
          },
          "xaxis": {
           "gridcolor": "#283442",
           "linecolor": "#506784",
           "ticks": "",
           "title": {
            "standoff": 15
           },
           "zerolinecolor": "#283442",
           "automargin": true,
           "zerolinewidth": 2
          },
          "yaxis": {
           "gridcolor": "#283442",
           "linecolor": "#506784",
           "ticks": "",
           "title": {
            "standoff": 15
           },
           "zerolinecolor": "#283442",
           "automargin": true,
           "zerolinewidth": 2
          },
          "scene": {
           "xaxis": {
            "backgroundcolor": "rgb(17,17,17)",
            "gridcolor": "#506784",
            "linecolor": "#506784",
            "showbackground": true,
            "ticks": "",
            "zerolinecolor": "#C8D4E3",
            "gridwidth": 2
           },
           "yaxis": {
            "backgroundcolor": "rgb(17,17,17)",
            "gridcolor": "#506784",
            "linecolor": "#506784",
            "showbackground": true,
            "ticks": "",
            "zerolinecolor": "#C8D4E3",
            "gridwidth": 2
           },
           "zaxis": {
            "backgroundcolor": "rgb(17,17,17)",
            "gridcolor": "#506784",
            "linecolor": "#506784",
            "showbackground": true,
            "ticks": "",
            "zerolinecolor": "#C8D4E3",
            "gridwidth": 2
           }
          },
          "shapedefaults": {
           "line": {
            "color": "#f2f5fa"
           }
          },
          "annotationdefaults": {
           "arrowcolor": "#f2f5fa",
           "arrowhead": 0,
           "arrowwidth": 1
          },
          "geo": {
           "bgcolor": "rgb(17,17,17)",
           "landcolor": "rgb(17,17,17)",
           "subunitcolor": "#506784",
           "showland": true,
           "showlakes": true,
           "lakecolor": "rgb(17,17,17)"
          },
          "title": {
           "x": 0.05
          },
          "updatemenudefaults": {
           "bgcolor": "#506784",
           "borderwidth": 0
          },
          "sliderdefaults": {
           "bgcolor": "#C8D4E3",
           "borderwidth": 1,
           "bordercolor": "rgb(17,17,17)",
           "tickwidth": 0
          },
          "mapbox": {
           "style": "dark"
          }
         }
        },
        "shapes": [
         {
          "fillcolor": "rgb(160,210,255)",
          "line": {
           "width": 0
          },
          "type": "rect",
          "x0": -0.24,
          "x1": -0.2,
          "xref": "paper",
          "y0": 1.05,
          "y1": 1.0,
          "yref": "paper"
         },
         {
          "fillcolor": "rgb(143,206,0)",
          "line": {
           "width": 0
          },
          "type": "rect",
          "x0": -0.24,
          "x1": -0.2,
          "xref": "paper",
          "y0": 0.93,
          "y1": 0.88,
          "yref": "paper"
         },
         {
          "fillcolor": "rgb(255,206,58)",
          "line": {
           "width": 0
          },
          "type": "rect",
          "x0": -0.24,
          "x1": -0.2,
          "xref": "paper",
          "y0": 0.81,
          "y1": 0.76,
          "yref": "paper"
         },
         {
          "fillcolor": "rgb(206,126,0)",
          "line": {
           "width": 0
          },
          "type": "rect",
          "x0": -0.24,
          "x1": -0.2,
          "xref": "paper",
          "y0": 0.6900000000000001,
          "y1": 0.64,
          "yref": "paper"
         }
        ],
        "annotations": [
         {
          "align": "left",
          "font": {
           "color": "white",
           "size": 12
          },
          "showarrow": false,
          "text": "Hiver",
          "x": -0.18,
          "xref": "paper",
          "y": 1.025,
          "yref": "paper"
         },
         {
          "align": "left",
          "font": {
           "color": "white",
           "size": 12
          },
          "showarrow": false,
          "text": "Printemps",
          "x": -0.18,
          "xref": "paper",
          "y": 0.9049999999999999,
          "yref": "paper"
         },
         {
          "align": "left",
          "font": {
           "color": "white",
           "size": 12
          },
          "showarrow": false,
          "text": "Été",
          "x": -0.18,
          "xref": "paper",
          "y": 0.7849999999999999,
          "yref": "paper"
         },
         {
          "align": "left",
          "font": {
           "color": "white",
           "size": 12
          },
          "showarrow": false,
          "text": "Automne",
          "x": -0.18,
          "xref": "paper",
          "y": 0.6649999999999999,
          "yref": "paper"
         }
        ],
        "title": {
         "font": {
          "size": 20,
          "color": "white"
         },
         "text": "Dynamique des streams au long de l'histoire: Influence des saisons et des artistes",
         "x": 0.5,
         "y": 0.95
        },
        "xaxis": {
         "title": {
          "text": "Date"
         },
         "gridcolor": "gray",
         "showgrid": true,
         "tickformat": "%d/%m/%Y",
         "range": [
          "2020-01-01",
          "2023-07-14"
         ],
         "color": "white"
        },
        "yaxis": {
         "title": {
          "text": "Nombre de streams"
         },
         "gridcolor": "gray",
         "showgrid": true,
         "type": "log",
         "range": [
          7.0,
          9.57978359661681
         ],
         "color": "white"
        },
        "margin": {
         "t": 100,
         "l": 250,
         "r": 50,
         "b": 50
        },
        "plot_bgcolor": "black",
        "paper_bgcolor": "black",
        "hovermode": "closest",
        "height": 800,
        "width": 1200
       },
       "config": {
        "plotlyServerURL": "https://plot.ly"
       }
      },
      "text/html": [
       "<div>                            <div id=\"1768113d-d679-475c-9b72-d5867912b14a\" class=\"plotly-graph-div\" style=\"height:800px; width:1200px;\"></div>            <script type=\"text/javascript\">                require([\"plotly\"], function(Plotly) {                    window.PLOTLYENV=window.PLOTLYENV || {};                                    if (document.getElementById(\"1768113d-d679-475c-9b72-d5867912b14a\")) {                    Plotly.newPlot(                        \"1768113d-d679-475c-9b72-d5867912b14a\",                        [{\"customdata\":[[\"agudo m\\u00ef\\u00bf\\u00bd\\u00ef\\u00bf\\u00bdgi\",\"styrx, utku inc, thezth\",3],[\"white christmas\",\"bing crosby, john scott trotter & his orchestra, ken darby singers\",3],[\"the christmas song (merry christmas to you) - remastered 1999\",\"nat king cole\",1],[\"let it snow! let it snow! let it snow!\",\"frank sinatra, b. swanson quartet\",2],[\"a holly jolly christmas - single version\",\"burl ives\",1],[\"jingle bell rock\",\"bobby helms\",1],[\"jingle bells - remastered 1999\",\"frank sinatra\",1],[\"it's beginning to look a lot like christmas (with mitchell ayres & his orchestra)\",\"perry como, the fontane sisters, mitchell ayres & his orchestra\",3],[\"rockin' around the christmas tree\",\"brenda lee\",1],[\"run rudolph run - single version\",\"chuck berry\",1],[\"deck the hall - remastered 1999\",\"nat king cole\",1],[\"let it snow! let it snow! let it snow!\",\"dean martin\",1],[\"it's the most wonderful time of the year\",\"andy williams\",1],[\"christmas (baby please come home)\",\"darlene love\",1],[\"sleigh ride\",\"the ronettes\",1],[\"have you ever seen the rain?\",\"creedence clearwater revival\",1],[\"feliz navidad\",\"jos\\u00ef\\u00bf\\u00bd\\u00ef\\u00bf\\u00bd felic\",1],[\"happy xmas (war is over)\",\"john lennon, the harlem community choir, the plastic ono band, yoko ono\",4],[\"dream on\",\"aerosmith\",1],[\"riptide\",\"vance joy\",1],[\"bohemian rhapsody - remastered 2011\",\"queen\",1],[\"wonderful christmastime - edited version \\u002f remastered 2011\",\"paul mccartney\",1],[\"pass the dutchie\",\"musical youth\",1],[\"miss you\",\"southstar\",1],[\"every breath you take - remastered 2003\",\"the police\",1],[\"last christmas\",\"wham!\",1],[\"merry christmas everyone\",\"shakin' stevens\",1],[\"take on me\",\"a-ha\",1],[\"do they know it's christmas? - 1984 version\",\"band aid\",1],[\"everybody wants to rule the world\",\"tears for fears\",1],[\"running up that hill (a deal with god)\",\"kate bush\",1],[\"driving home for christmas - 2019 remaster\",\"chris rea\",1],[\"master of puppets (remastered)\",\"metallica\",1],[\"sweet child o' mine\",\"guns n' roses\",1],[\"smells like teen spirit - remastered 2021\",\"nirvana\",1],[\"something in the way - remastered 2021\",\"nirvana\",1],[\"creep\",\"radiohead\",1],[\"all i want for christmas is you\",\"mariah carey\",1],[\"gangsta's paradise\",\"coolio, l.v.\",2],[\"california love - original version (explicit)\",\"dr. dre, 2pac, roger\",3],[\"sigue\",\"ed sheeran, j balvin\",2],[\"cupid \\u00ef\\u00bf\\u00bd\\u00ef\\u00bf\\u00bd\\u00ef\\u00bf\\u00bd twin ver. (fifty fifty) \\u00ef\\u00bf\\u00bd\\u00ef\\u00bf\\u00bd\\u00ef\\u00bf\\u00bd spe\",\"sped up 8282\",1],[\"iris\",\"the goo goo dolls\",1],[\"forgot about dre\",\"eminem, dr. dre\",2],[\"still d.r.e.\",\"dr. dre, snoop dogg\",2],[\"the next episode\",\"dr. dre, snoop dogg\",2],[\"yellow\",\"chris molitor\",1],[\"stan\",\"eminem, dido\",2],[\"the real slim shady\",\"eminem\",1],[\"sparks\",\"coldplay\",1],[\"in the end\",\"linkin park\",1],[\"my only wish (this year)\",\"britney spears\",1],[\"in da club\",\"50 cent\",1],[\"lose yourself - soundtrack version\",\"eminem\",1],[\"without me\",\"eminem\",1],[\"'till i collapse\",\"eminem, nate dogg\",2],[\"superman\",\"eminem, dina rae\",2],[\"the scientist\",\"coldplay\",1],[\"numb\",\"linkin park\",1],[\"mr. brightside\",\"the killers\",1],[\"mockingbird\",\"eminem\",1],[\"somewhere only we know\",\"keane\",1],[\"yo voy (feat. daddy yankee)\",\"zion & lennox\",1],[\"gasolina\",\"daddy yankee\",1],[\"you make it feel like christmas (feat. blake shelton)\",\"gwen stefani, blake shelton\",2],[\"505\",\"arctic monkeys\",1],[\"heartless\",\"kanye west\",1],[\"viva la vida\",\"coldplay\",1],[\"danza kuduro\",\"don omar, lucenzo\",2],[\"enchanted\",\"taylor swift\",1],[\"just the way you are\",\"bruno mars\",1],[\"sure thing\",\"miguel\",1],[\"es un secreto\",\"plan b\",1],[\"talking to the moon\",\"bruno mars\",1],[\"rolling in the deep\",\"adele\",1],[\"bloody mary\",\"lady gaga\",1],[\"mistletoe\",\"justin bieber\",1],[\"radio\",\"lana del rey\",1],[\"set fire to the rain\",\"adele\",1],[\"somebody that i used to know\",\"gotye, kimbra\",2],[\"summertime sadness\",\"lana del rey\",1],[\"we found love\",\"rihanna, calvin harris\",2],[\"can't hold us (feat. ray dalton)\",\"ray dalton, ryan lewis, macklemore\",3],[\"holly jolly christmas\",\"michael bubl\\u00ef\\u00bf\",1],[\"it's beginning to look a lot like christmas\",\"michael bubl\\u00ef\\u00bf\",1],[\"demons\",\"imagine dragons\",1],[\"lost\",\"frank ocean\",1],[\"lover\",\"taylor swift\",1],[\"money trees\",\"kendrick lamar, jay rock\",2],[\"payphone\",\"maroon 5, wiz khalifa\",2],[\"sweater weather\",\"the neighbourhood\",1],[\"montagem - fr punk\",\"ayparia, unxbected\",2],[\"another love\",\"tom odell\",1],[\"locked out of heaven\",\"bruno mars\",1],[\"when i was your man\",\"bruno mars\",1],[\"bound 2\",\"kanye west\",1],[\"counting stars\",\"onerepublic\",1],[\"do i wanna know?\",\"arctic monkeys\",1],[\"get lucky - radio edit\",\"pharrell williams, nile rodgers, daft punk\",3],[\"i wanna be yours\",\"arctic monkeys\",1],[\"wake me up - radio edit\",\"avicii\",1],[\"why'd you only call me when you're high?\",\"arctic monkeys\",1],[\"thinking with my dick\",\"kevin gates, juicy j\",2],[\"all of me\",\"john legend\",1],[\"ginseng strip 2002\",\"yung lean\",1],[\"take me to church\",\"hozier\",1],[\"underneath the tree\",\"kelly clarkson\",1],[\"santa tell me\",\"ariana grande\",1],[\"blank space\",\"taylor swift\",1],[\"i'm not the only one\",\"sam smith\",1],[\"only love can hurt like this\",\"paloma faith\",1],[\"shake it off\",\"taylor swift\",1],[\"style\",\"taylor swift\",1],[\"the nights\",\"avicii\",1],[\"thinking out loud\",\"ed sheeran\",1],[\"lovers rock\",\"tv girl\",1],[\"photograph\",\"ed sheeran\",1],[\"after dark\",\"mr.kitty\",1],[\"night changes\",\"one direction\",1],[\"i love you so\",\"the walters\",1],[\"no role modelz\",\"j. cole\",1],[\"cool for the summer\",\"demi lovato\",1],[\"space song\",\"beach house\",1],[\"wait a minute!\",\"willow\",1],[\"the night we met\",\"lord huron\",1],[\"atlantis\",\"seafret\",1],[\"freaks\",\"surf curse\",1],[\"the hills\",\"the weeknd\",1],[\"makeba\",\"jain\",1],[\"alien blues\",\"vundabar\",1],[\"daddy issues\",\"the neighbourhood\",1],[\"love yourself\",\"justin bieber\",1],[\"house of memories\",\"panic! at the disco\",1],[\"unstoppable\",\"sia\",1],[\"one dance\",\"drake, wizkid, kyla\",3],[\"pope is a rockstar\",\"sales\",1],[\"closer\",\"the chainsmokers, halsey\",2],[\"selfish\",\"pnb rock\",1],[\"notion\",\"the rare occasions\",1],[\"pink + white\",\"frank ocean\",1],[\"say you won't let go\",\"james arthur\",1],[\"starboy\",\"the weeknd, daft punk\",2],[\"there's nothing holdin' me back\",\"shawn mendes\",1],[\"hey, mickey!\",\"baby tate\",1],[\"sex, drugs, etc.\",\"beach weather\",1],[\"me and your mama\",\"childish gambino\",1],[\"no lie\",\"sean paul, dua lipa\",2],[\"die for you\",\"the weeknd\",1],[\"stargirl interlude\",\"the weeknd, lana del rey\",2],[\"reminder\",\"the weeknd\",1],[\"perfect\",\"ed sheeran\",1],[\"snowman\",\"sia\",1],[\"shape of you\",\"ed sheeran\",1],[\"believer\",\"imagine dragons\",1],[\"dark red\",\"steve lacy\",1],[\"something just like this\",\"the chainsmokers, coldplay\",2],[\"apocalypse\",\"cigarettes after sex\",1],[\"bored\",\"billie eilish\",1],[\"humble.\",\"kendrick lamar\",1],[\"dandelions\",\"ruth b.\",1],[\"one kiss (with dua lipa)\",\"calvin harris, dua lipa\",2],[\"lucid dreams\",\"juice wrld\",1],[\"infinity\",\"jaymes young\",1],[\"see you again\",\"tyler, the creator, kali uchis\",3],[\"lovely - bonus track\",\"billie eilish, khalid\",2],[\"revenge\",\"xxxtentacion\",1],[\"swim\",\"chase atlantic\",1],[\"good looking\",\"suki waterhouse\",1],[\"don\\u00ef\\u00bf\\u00bd\\u00ef\\u00bf\\u00bd\\u00ef\\u00bf\\u00bdt bl\",\"taylor swift\",1],[\"cold heart - pnau remix\",\"dua lipa, elton john, pnau\",3],[\"hold me closer\",\"elton john, britney spears\",2],[\"merry christmas\",\"ed sheeran, elton john\",2],[\"beggin\",\"m\\u00ef\\u00bf\\u00bd\\u00ef\\u00bf\\u00bdne\",1],[\"softcore\",\"the neighbourhood\",1],[\"hope\",\"xxxtentacion\",1],[\"call out my name\",\"the weeknd\",1],[\"i was never there\",\"the weeknd, gesaffelstein\",2],[\"let me down slowly\",\"alec benjamin\",1],[\"slow dancing in the dark\",\"joji\",1],[\"shallow\",\"lady gaga, bradley cooper\",2],[\"sunflower - spider-man: into the spider-verse\",\"post malone, swae lee\",2],[\"someone you loved\",\"lewis capaldi\",1],[\"we fell in love in october\",\"girl in red\",1],[\"astronaut in the ocean\",\"masked wolf\",1],[\"lost in the fire\",\"the weeknd, gesaffelstein\",2],[\"arcade\",\"duncan laurence\",1],[\"boy with luv (feat. halsey)\",\"halsey, bts\",2],[\"dance monkey\",\"tones and i\",1],[\"heart to heart\",\"mac demarco\",1],[\"those eyes\",\"new west\",1],[\"new magic wand\",\"tyler, the creator\",2],[\"callaita\",\"bad bunny, tainy\",2],[\"se\\u00ef\\u00bf\\u00bd\\u00ef\\u00bf\\u00bdo\",\"shawn mendes, camila cabello\",2],[\"mount everest\",\"labrinth\",1],[\"la canci\\u00ef\\u00bf\\u00bd\",\"j balvin, bad bunny\",2],[\"tom's diner\",\"annenmaykantereit, giant rooks\",2],[\"love nwantiti (ah ah ah)\",\"ckay\",1],[\"all for us - from the hbo original series euphoria\",\"labrinth, zendaya\",2],[\"all of the girls you loved before\",\"taylor swift\",1],[\"cruel summer\",\"taylor swift\",1],[\"circles\",\"post malone\",1],[\"love nwantiti - remix\",\"ckay, ax'el, dj yo!\",3],[\"mary on a cross\",\"ghost\",1],[\"memories\",\"maroon 5\",1],[\"forever\",\"labrinth\",1],[\"formula\",\"labrinth\",1],[\"still don't know my name\",\"labrinth\",1],[\"under the influence\",\"chris brown\",1],[\"when i r.i.p.\",\"labrinth\",1],[\"car's outside\",\"james arthur\",1],[\"don't start now\",\"dua lipa\",1],[\"before you go\",\"lewis capaldi\",1],[\"san lucas\",\"kevin kaarl\",1],[\"streets\",\"doja cat\",1],[\"watermelon sugar\",\"harry styles\",1],[\"blinding lights\",\"the weeknd\",1],[\"adore you\",\"harry styles\",1],[\"falling\",\"harry styles\",1],[\"golden\",\"harry styles\",1],[\"the business\",\"ti\\u00ef\\u00bf\\u00bd\\u00ef\\u00bf\",1],[\"middle of the night\",\"elley duh\\u00ef\\u00bf\",1],[\"contection\",\"godzz__-, zakaria\",2],[\"shut up my moms calling\",\"hotel ugly\",1],[\"after hours\",\"the weeknd\",1],[\"heartbreak anniversary\",\"giveon\",1],[\"a tu merced\",\"bad bunny\",1],[\"la santa\",\"daddy yankee, bad bunny\",2],[\"la zona\",\"bad bunny\",1],[\"meet me at our spot\",\"the anxiety, willow, tyler cole\",3],[\"heather\",\"conan gray\",1],[\"save your tears\",\"the weeknd\",1],[\"save your tears (with ariana grande) (remix)\",\"ariana grande, the weeknd\",2],[\"levitating\",\"dua lipa\",1],[\"levitating (feat. dababy)\",\"dua lipa, dababy\",2],[\"you broke me first\",\"tate mcrae\",1],[\"\\u00fd\\u00fd\\u00fd\\u00fd\\u00fd\\u00fd\\u00fd\\u00fd\\u00fd\\u00fd\\u00fd\\u00fd\\u00fd\\u00fd\\u00fd\\u00fd\\u00fd\\u00fd\\u00fd\\u00fd\\u00fd\",\"fujii kaze\",1],[\"still with you\",\"jung kook\",1],[\"heat waves\",\"glass animals\",1],[\"life goes on\",\"oliver tree\",1],[\"august\",\"taylor swift\",1],[\"cardigan\",\"taylor swift\",1],[\"excuses\",\"intense, ap dhillon, gurinder gill\",3],[\"mood (feat. iann dior)\",\"24kgoldn, iann dior\",2],[\"dynamite\",\"bts\",1],[\"bad habits\",\"ed sheeran\",1],[\"montero (call me by your name)\",\"lil nas x\",1],[\"mon amour - remix\",\"aitana, zzoilo\",2],[\"demasiadas mujeres\",\"c. tangana\",1],[\"positions\",\"ariana grande\",1],[\"dakiti\",\"bad bunny, jhay cortez\",2],[\"todo de ti\",\"rauw alejandro\",1],[\"angels like you\",\"miley cyrus\",1],[\"caile\",\"luar la l\",1],[\"i really want to stay at your house\",\"rosa walton, hallie coggins\",2],[\"good days\",\"sza\",1],[\"sky\",\"playboi carti\",1],[\"drivers license\",\"olivia rodrigo\",1],[\"friday (feat. mufasa & hypeman) - dopamine re-edit\",\"riton, nightcrawlers, mufasa & hypeman, dopamine\",4],[\"qu\\u00ef\\u00bf\\u00bd\\u00ef\\u00bf\\u00bd m\\u00ef\\u00bf\\u00bd\\u00ef\\u00bf\",\"j balvin, maria becerra\",2],[\"leave the door open\",\"bruno mars, anderson .paak, silk sonic\",3],[\"bones\",\"imagine dragons\",1],[\"ghost\",\"justin bieber\",1],[\"i wanna be your slave\",\"m\\u00ef\\u00bf\\u00bd\\u00ef\\u00bf\\u00bdne\",1],[\"peaches (feat. daniel caesar & giveon)\",\"justin bieber, daniel caesar, giveon\",3],[\"deja vu\",\"olivia rodrigo\",1],[\"kiss me more (feat. sza)\",\"sza, doja cat\",2],[\"rapstar\",\"polo g\",1],[\"you belong with me (taylor\\u00ef\\u00bf\\u00bd\\u00ef\\u00bf\\u00bd\\u00ef\\u00bf\\u00bds ve\",\"taylor swift\",1],[\"2055\",\"sleepy hallow\",1],[\"leave before you love me (with jonas brothers)\",\"marshmello, jonas brothers\",2],[\"mi\\u00ef\\u00bf\\u00bd\\u00ef\\u00bf\\u00bdn\",\"tini, maria becerra\",2],[\"jordan\",\"ryan castro\",1],[\"thunder\",\"prezioso, gabry ponte, lum!x\",3],[\"good 4 u\",\"olivia rodrigo\",1],[\"295\",\"sidhu moose wala\",1],[\"butter\",\"bts\",1],[\"favorite crime\",\"olivia rodrigo\",1],[\"happier\",\"olivia rodrigo\",1],[\"jealousy, jealousy\",\"olivia rodrigo\",1],[\"traitor\",\"juan cruz toledo, huilen toledo\",2],[\"yonaguni\",\"bad bunny\",1],[\"need to know\",\"doja cat\",1],[\"por las noches\",\"peso pluma\",1],[\"am remix\",\"j balvin, nio garcia, bad bunny\",3],[\"pepas\",\"farruko\",1],[\"you right\",\"doja cat, the weeknd\",2],[\"ain't shit\",\"doja cat\",1],[\"c\\u00ef\\u00bf\\u00bd\\u00ef\\u00bf\\u00bd\",\"rauw alejandro\",1],[\"desesperados\",\"chencho corleone, rauw alejandro\",2],[\"get into it (yuh)\",\"doja cat\",1],[\"woman\",\"doja cat\",1],[\"sobrio\",\"maluma\",1],[\"volando - remix\",\"sech, bad bunny, mora\",3],[\"permission to dance\",\"bts\",1],[\"stay (with justin bieber)\",\"justin bieber, the kid laroi\",2],[\"industry baby (feat. jack harlow)\",\"jack harlow, lil nas x\",2],[\"happier than ever - edit\",\"billie eilish\",1],[\"happier than ever\",\"billie eilish\",1],[\"where are you now\",\"lost frequencies, calum scott\",2],[\"don't be shy\",\"ti\\u00ef\\u00bf\\u00bd\\u00ef\\u00bf\\u00bdsto, kar\",2],[\"volv\\u00ef\\u00bf\",\"aventura, bad bunny\",2],[\"take my breath\",\"the weeknd\",1],[\"flowers\",\"lauren spencer smith\",1],[\"every summertime\",\"niki\",1],[\"se le ve\",\"arcangel, de la ghetto, justin quiles, lenny tav\\u00ef\\u00bf\\u00bd\\u00ef\\u00bf\\u00bdrez, sech, dalex, dimelo flow, rich music\",8],[\"out out (feat. charli xcx & saweetie)\",\"charli xcx, jax jones, joel corry, saweetie\",4],[\"\\u00fd\\u00fd\\u00fdabcdefu\",\"gayle\",1],[\"do it to it\",\"cherish, acraze\",2],[\"family ties (with kendrick lamar)\",\"kendrick lamar, baby keem\",2],[\"praise god\",\"kanye west\",1],[\"acapulco\",\"jason derulo\",1],[\"until i found you\",\"stephen sanchez\",1],[\"ley seca\",\"anuel aa, jhay cortez\",2],[\"enemy (with jid) - from the series arcane league of legends\",\"imagine dragons, league of legends, jid, arcane\",4],[\"fair trade (with travis scott)\",\"drake, travis scott\",2],[\"knife talk (with 21 savage ft. project pat)\",\"drake, project pat, 21 savage\",3],[\"this is what falling in love feels like\",\"jvke\",1],[\"way 2 sexy (with future & young thug)\",\"drake, future, young thug\",3],[\"nost\\u00ef\\u00bf\\u00bd\\u00ef\\u00bf\\u00bdl\",\"chris brown, rvssian, rauw alejandro\",3],[\"angel baby\",\"troye sivan\",1],[\"shivers\",\"ed sheeran\",1],[\"money\",\"lisa\",1],[\"mon\\u00ef\\u00bf\\u00bd\\u00ef\\u00bf\\u00bdy so\",\"yeat\",1],[\"toxic\",\"boywithuke\",1],[\"sad girlz luv money remix (feat. kali uchis)\",\"kali uchis, amaarae, moliy\",3],[\"thats what i want\",\"lil nas x\",1],[\"better days (neiked x mae muller x polo g)\",\"neiked, mae muller, polo g\",3],[\"my universe\",\"coldplay, bts\",2],[\"the feels\",\"twice\",1],[\"lo siento bb:\\u002f (with bad bunny & julieta venegas)\",\"julieta venegas, bad bunny, tainy\",3],[\"easy on me\",\"adele\",1],[\"esque\\u00ef\\u00bf\\u00bd\\u00ef\\u00bf\\u00bda-me se for c\",\"mar\\u00ef\\u00bf\\u00bd\\u00ef\\u00bf\\u00bdlia mendon\\u00ef\\u00bf\\u00bd\\u00ef\\u00bf\\u00bda, maiara &\",2],[\"salimo de noche\",\"trueno, tiago pzk\",2],[\"moth to a flame (with the weeknd)\",\"the weeknd, swedish house mafia\",2],[\"problem\\u00ef\\u00bf\\u00bd\",\"alvaro diaz, rauw alejandro\",2],[\"tacones rojos\",\"sebastian yatra\",1],[\"vai l\\u00ef\\u00bf\\u00bd\\u00ef\\u00bf\\u00bd em casa\",\"mar\\u00ef\\u00bf\\u00bd\\u00ef\\u00bf\\u00bdlia mendon\\u00ef\\u00bf\\u00bd\\u00ef\\u00bf\\u00bda, george henrique &\",2],[\"enemy - from the series arcane league of legends\",\"imagine dragons, league of legends, arcane\",3],[\"medallo\",\"justin quiles, lenny tav\\u00ef\\u00bf\\u00bd\\u00ef\\u00bf\\u00bdrez, bl\",3],[\"super gremlin\",\"kodak black\",1],[\"the motto\",\"ti\\u00ef\\u00bf\\u00bd\\u00ef\\u00bf\\u00bdsto, ava\",2],[\"one right now (with the weeknd)\",\"the weeknd, post malone\",2],[\"smokin out the window\",\"bruno mars, anderson .paak, silk sonic\",3],[\"to the moon\",\"jnr choi\",1],[\"bar\",\"tini, l-gante\",2],[\"envolver\",\"anitta\",1],[\"la fama (with the weeknd)\",\"the weeknd, rosal\\u00ef\\u00bf\\u00bd\",2],[\"all too well (10 minute version) (taylor's version) (from the vault)\",\"taylor swift\",1],[\"dance crip\",\"trueno\",1],[\"i am woman\",\"emmy meli\",1],[\"s\\u00ef\\u00bf\\u00bd\\u00ef\\u00bf\\u00bd\",\"anuel aa, myke towers, jhay cortez\",3],[\"dos oruguitas\",\"sebastian yatra\",1],[\"down under (feat. colin hay)\",\"luude, colin hay\",2],[\"hrs and hrs\",\"muni long\",1],[\"oh my god\",\"adele\",1],[\"surface pressure\",\"jessica darrow\",1],[\"the family madrigal\",\"olga merediz, stephanie beatriz, encanto - cast\",3],[\"we don't talk about bruno\",\"adassa, mauro castillo, stephanie beatriz, encanto - cast, rhenzy feliz, diane guerrero, carolina gaitan\",7],[\"what else can i do?\",\"stephanie beatriz, diane guerrero\",2],[\"metamorphosis\",\"interworld\",1],[\"malvad\\u00ef\\u00bf\\u00bd\\u00ef\\u00bf\",\"xam\\u00ef\\u00bf\\u00bd\\u00ef\\u00bf\\u00bd, gustah, neo b\",3],[\"eleven\",\"ive\",1],[\"it'll be okay\",\"shawn mendes\",1],[\"i hate u\",\"sza\",1],[\"sunroof\",\"nicky youre, dazy\",2],[\"cigarettes\",\"juice wrld\",1],[\"the color violet\",\"tory lanez\",1],[\"mujeriego\",\"ryan castro\",1],[\"peru\",\"ed sheeran, fireboy dml\",2],[\"christmas tree\",\"v\",1],[\"la bebe\",\"yng lvcas\",1],[\"slomo\",\"chanel\",1],[\"tiago pzk: bzrp music sessions, vol. 48\",\"bizarrap, tiago pzk\",2],[\"when i\\u00ef\\u00bf\\u00bd\\u00ef\\u00bf\\u00bd\\u00ef\\u00bf\\u00bdm gone (with katy\",\"katy perry, alesso\",2],[\"entre nosotros (remix) [con nicki nicole]\",\"lit killah, maria becerra, tiago pzk, nicki nicole\",4],[\"fingers crossed\",\"lauren spencer smith, lauren spencer smith, lauren spencer smith\",3],[\"25k jacket (feat. lil baby)\",\"gunna, lil baby\",2],[\"a tale by quincy\",\"the weeknd\",1],[\"best friends\",\"the weeknd\",1],[\"dawn fm\",\"the weeknd\",1],[\"don\\u00ef\\u00bf\\u00bd\\u00ef\\u00bf\\u00bd\\u00ef\\u00bf\\u00bdt break my\",\"the weeknd\",1],[\"every angel is terrifying\",\"the weeknd\",1],[\"gasoline\",\"the weeknd\",1],[\"here we go\\u00ef\\u00bf\\u00bd\\u00ef\\u00bf\\u00bd\\u00ef\\u00bf\\u00bd again (feat. tyler, the cr\",\"the weeknd, tyler, the creator\",3],[\"how do i make you love me?\",\"the weeknd\",1],[\"i heard you're married (feat. lil wayne)\",\"the weeknd, lil wayne\",2],[\"is there someone else?\",\"the weeknd\",1],[\"less than zero\",\"the weeknd\",1],[\"miserable man\",\"david kushner\",1],[\"out of time\",\"the weeknd\",1],[\"phantom regret by jim\",\"the weeknd\",1],[\"pushin p (feat. young thug)\",\"young thug, future, gunna\",3],[\"sacrifice\",\"the weeknd\",1],[\"starry eyes\",\"the weeknd\",1],[\"thought i was playing\",\"21 savage, gunna\",2],[\"l\\u00ef\\u00bf\\u00bd\\u00ef\\u00bf\\u00bd\\u00ef\\u00bf\",\"stromae\",1],[\"blessed-cursed\",\"enhypen\",1],[\"polaroid love\",\"enhypen\",1],[\"the rumbling (tv size)\",\"sim\",1],[\"cay\\u00ef\\u00bf\\u00bd\\u00ef\\u00bf\\u00bd la noche (feat. cruz cafun\\u00ef\\u00bf\\u00bd\\u00ef\\u00bf\\u00bd, abhir hathi, bejo, el ima)\",\"quevedo, la pantera, juseph, cruz cafun\\u00ef\\u00bf\\u00bd\\u00ef\\u00bf\\u00bd, b\\u00ef\\u00bf\\u00bd\\u00ef\\u00bf\\u00bdjo, abhir hathi\",7],[\"mal feito - ao vivo\",\"mar\\u00ef\\u00bf\\u00bd\\u00ef\\u00bf\\u00bdlia mendon\\u00ef\\u00bf\\u00bd\\u00ef\\u00bf\\u00bda, hugo & g\",2],[\"212\",\"mainstreet, chefin\",2],[\"rumble\",\"skrillex, flowdan, fred again..\",3],[\"light switch\",\"charlie puth\",1],[\"billie eilish.\",\"armani white\",1],[\"murder in my mind\",\"kordhell\",1],[\"una noche en medell\\u00ef\\u00bf\\u00bd\",\"cris mj\",1],[\"where did you go?\",\"mnek, jax jones\",2],[\"malvada\",\"z\\u00ef\\u00bf\\u00bd\\u00ef\\u00bf\\u00bd fe\",1],[\"numb little bug\",\"em beihold\",1],[\"vampiro\",\"matu\\u00ef\\u00bf\\u00bd\\u00ef\\u00bf\\u00bd, wiu,\",3],[\"dan\\u00ef\\u00bf\\u00bd\\u00ef\\u00bf\\u00bda\",\"mc pedrinho, pedro sampaio\",2],[\"brividi\",\"mahmood, blanco\",2],[\"do we have a problem?\",\"nicki minaj, lil baby\",2],[\"gospel (with eminem)\",\"eminem, dr. dre\",2],[\"i'm tired - from \\\"euphoria\\\" an original hbo series\",\"labrinth\",1],[\"she's all i wanna be\",\"tate mcrae\",1],[\"ojos marrones\",\"lasso\",1],[\"pasoori\",\"shae gill, ali sethi\",2],[\"calm down\",\"r\\u00ef\\u00bf\\u00bd\\u00ef\",1],[\"mamiii\",\"karol g, becky g\",2],[\"boyfriend\",\"dove cameron\",1],[\"bussin\",\"nicki minaj, lil baby\",2],[\"city of gods\",\"kanye west, alicia keys, fivio foreign\",3],[\"stay alive (prod. suga of bts)\",\"jung kook\",1],[\"the joker and the queen (feat. taylor swift)\",\"ed sheeran, taylor swift\",2],[\"worst day\",\"future\",1],[\"ultra solo\",\"polima westcoast, pailita\",2],[\"darari\",\"treasure\",1],[\"fuera del mercado\",\"danny ocean\",1],[\"belly dancer\",\"byor, imanbek\",2],[\"chale\",\"eden mu\\u00ef\\u00bf\\u00bd\\u00ef\",1],[\"jgl\",\"luis r conriquez, la adictiva\",2],[\"nail tech\",\"jack harlow\",1],[\"ya no somos ni seremos\",\"christian nodal\",1],[\"o.o\",\"nmixx\",1],[\"space man\",\"sam ryder\",1],[\"freaky deaky\",\"tyga, doja cat\",2],[\"nobody like u - from \\\"turning red\\\"\",\"jordan fisher, josh levi, finneas o'connell, 4*town (from disney and pixar\\u00ef\\u00bf\\u00bd\\u00ef\\u00bf\\u00bd\\u00ef\\u00bf\\u00bds turning red), topher ngo, grayson vill\",6],[\"hati-hati di jalan\",\"tulus\",1],[\"residente: bzrp music sessions, vol. 49\",\"residente, bizarrap\",2],[\"starlight\",\"dave\",1],[\"bam bam (feat. ed sheeran)\",\"camila cabello, ed sheeran\",2],[\"stefania (kalush orchestra)\",\"kalush\",1],[\"sweetest pie\",\"dua lipa, megan thee stallion\",2],[\"the shade\",\"rex orange county\",1],[\"ferrari\",\"james hype, miggy dela rosa\",2],[\"sentadona (remix) s2\",\"lu\\u00ef\\u00bf\\u00bd\\u00ef\\u00bf\\u00bdsa sonza, mc frog, dj gabriel do borel, davi k\",4],[\"crazy what love can do\",\"david guetta, ella henderson, becky hill\",3],[\"idgaf (with blackbear)\",\"blackbear, boywithuke\",2],[\"maniac\",\"stray kids\",1],[\"pantysito\",\"feid, alejo, robi\",3],[\"snap\",\"rosa linn\",1],[\"10 things i hate about you\",\"leah kate\",1],[\"plan a\",\"paulo londra\",1],[\"layla\",\"sch\\u00ef\\u00bf\\u00bd\\u00ef\\u00bf\\u00bdrze, dj r\",2],[\"calm down (with selena gomez)\",\"r\\u00ef\\u00bf\\u00bd\\u00ef\\u00bf\\u00bdma, selena g\",2],[\"rumbat\\u00ef\\u00bf\\u00bd\",\"daddy yankee\",1],[\"soy el unico\",\"yahritza y su esencia\",1],[\"x \\u00ef\\u00bf\\u00bd\\u00ef\\u00bf\\u00bdltima\",\"daddy yankee, bad bunny\",2],[\"fim de semana no rio\",\"teto\",1],[\"me arrepent\\u00ef\\u00bf\",\"ak4:20, cris mj, pailita\",3],[\"as it was\",\"harry styles\",1],[\"si quieren frontear\",\"de la ghetto, duki, quevedo\",3],[\"when you're gone\",\"shawn mendes\",1],[\"in my head\",\"lil tjay\",1],[\"la inocente\",\"feid, mora\",2],[\"tus l\\u00ef\\u00bf\\u00bd\\u00ef\\u00bf\\u00bdgr\",\"sech, mora\",2],[\"love dive\",\"ive\",1],[\"still life\",\"bigbang\",1],[\"chance\",\"paulo londra\",1],[\"psychofreak (feat. willow)\",\"camila cabello, willow\",2],[\"ceilings\",\"lizzy mcalpine\",1],[\"evergreen (you didn\\u00ef\\u00bf\\u00bd\\u00ef\\u00bf\\u00bd\\u00ef\\u00bf\\u00bdt deserve me a\",\"omar apollo\",1],[\"first class\",\"jack harlow\",1],[\"right on\",\"lil baby\",1],[\"that's hilarious\",\"charlie puth\",1],[\"zoom\",\"jessi\",1],[\"about damn time\",\"lizzo\",1],[\"primera cita\",\"carin leon\",1],[\"provenza\",\"karol g\",1],[\"te felicito\",\"shakira, rauw alejandro\",2],[\"beautiful girl\",\"luciano\",1],[\"slut me out\",\"nle choppa\",1],[\"something in the orange\",\"zach bryan\",1],[\"thousand miles\",\"the kid laroi\",1],[\"until i found you (with em beihold) - em beihold version\",\"em beihold, stephen sanchez\",2],[\"with you\",\"ha sung woon, jimin\",2],[\"paulo londra: bzrp music sessions, vol. 23\",\"bizarrap, paulo londra\",2],[\"wait for u (feat. drake & tems)\",\"drake, future, tems\",3],[\"no se va\",\"grupo frontera\",1],[\"honest (feat. don toliver)\",\"justin bieber, don toliver\",2],[\"in the stars\",\"benson boone\",1],[\"puffin on zootiez\",\"future\",1],[\"that that (prod. & feat. suga of bts)\",\"psy, suga\",2],[\"afraid to feel\",\"lf system\",1],[\"fearless\",\"le sserafim\",1],[\"hold my hand\",\"lady gaga\",1],[\"agosto\",\"bad bunny\",1],[\"aguacero\",\"bad bunny\",1],[\"andrea\",\"buscabulla, bad bunny\",2],[\"despu\\u00ef\\u00bf\\u00bd\\u00ef\\u00bf\\u00bds de la p\",\"bad bunny\",1],[\"dos mil 16\",\"bad bunny\",1],[\"dua lipa\",\"jack harlow\",1],[\"efecto\",\"bad bunny\",1],[\"el apag\\u00ef\\u00bf\\u00bd\",\"bad bunny\",1],[\"ens\\u00ef\\u00bf\\u00bd\\u00ef\\u00bf\\u00bd\\u00ef\\u00bf\\u00bd\\u00ef\\u00bf\\u00bdame\",\"bad bunny\",1],[\"i tried to tell y'all\",\"ugly dray, tesla jnr\",2],[\"la corriente\",\"tony dize, bad bunny\",2],[\"me fui de vacaciones\",\"bad bunny\",1],[\"me porto bonito\",\"chencho corleone, bad bunny\",2],[\"moscow mule\",\"bad bunny\",1],[\"neverita\",\"bad bunny\",1],[\"ojitos lindos\",\"bomba est\\u00ef\\u00bf\\u00bd\\u00ef\\u00bf\\u00bdreo, bad b\",2],[\"otro atardecer\",\"bad bunny, the mar\\u00ef\\u00bf\\u00bd\\u00ef\",2],[\"party\",\"bad bunny, rauw alejandro\",2],[\"tarot\",\"bad bunny, jhay cortez\",2],[\"this love (taylor\\u00ef\\u00bf\\u00bd\\u00ef\\u00bf\\u00bd\\u00ef\\u00bf\\u00bds ve\",\"taylor swift\",1],[\"thought you should know\",\"morgan wallen\",1],[\"titi me pregunt\\u00ef\\u00bf\",\"bad bunny\",1],[\"un coco\",\"bad bunny\",1],[\"un ratito\",\"bad bunny\",1],[\"un verano sin ti\",\"bad bunny\",1],[\"vegas (from the original motion picture soundtrack elvis)\",\"doja cat\",1],[\"yo no soy celoso\",\"bad bunny\",1],[\"the heart part 5\",\"kendrick lamar\",1],[\"cooped up (with roddy ricch)\",\"post malone, roddy ricch\",2],[\"last last\",\"burna boy\",1],[\"auntie diaries\",\"kendrick lamar\",1],[\"count me out\",\"kendrick lamar\",1],[\"crown\",\"kendrick lamar\",1],[\"die hard\",\"kendrick lamar, blxst, amanda reifer\",3],[\"en el radio un cochinero\",\"victor cibrian\",1],[\"father time (feat. sampha)\",\"kendrick lamar, sampha\",2],[\"i ain't worried\",\"onerepublic\",1],[\"mirror\",\"kendrick lamar\",1],[\"mother i sober (feat. beth gibbons of portishead)\",\"kendrick lamar, beth gibbons\",2],[\"mr. morale\",\"kendrick lamar, tanna leone\",2],[\"n95\",\"kendrick lamar\",1],[\"purple hearts\",\"kendrick lamar, ghostface killah, summer walker\",3],[\"rich - interlude\",\"kendrick lamar\",1],[\"rich spirit\",\"kendrick lamar\",1],[\"savior\",\"kendrick lamar, sam dew, baby keem\",3],[\"savior - interlude\",\"kendrick lamar\",1],[\"silent hill\",\"kendrick lamar, kodak black\",2],[\"supermodel\",\"m\\u00ef\\u00bf\\u00bd\\u00ef\\u00bf\\u00bdne\",1],[\"tak ingin usai\",\"keisya levronka\",1],[\"united in grief\",\"kendrick lamar\",1],[\"we cry together\",\"kendrick lamar, taylour paige\",2],[\"worldwide steppers\",\"kendrick lamar\",1],[\"you proof\",\"morgan wallen\",1],[\"boyfriends\",\"harry styles\",1],[\"cinema\",\"harry styles\",1],[\"daydreaming\",\"harry styles\",1],[\"daylight\",\"harry styles\",1],[\"grapejuice\",\"harry styles\",1],[\"keep driving\",\"harry styles\",1],[\"la llevo al cielo (ft. \\u00ef\\u00bf\\u00bd\\u00ef\\u00bf\\u00bdengo f\",\"nengo flow, anuel aa, chris jedi, chencho corleone\",4],[\"late night talking\",\"harry styles\",1],[\"little freak\",\"harry styles\",1],[\"love of my life\",\"harry styles\",1],[\"matilda\",\"harry styles\",1],[\"music for a sushi restaurant\",\"harry styles\",1],[\"pipoco\",\"melody, ana castela, dj chris no beat\",3],[\"satellite\",\"harry styles\",1],[\"die young (feat. 347aidan)\",\"sleepy hallow, 347aidan\",2],[\"la bachata\",\"manuel turizo\",1],[\"potion (with dua lipa & young thug)\",\"calvin harris, dua lipa, young thug\",3],[\"true love\",\"kanye west, xxxtentacion\",2],[\"kahani suno 2.0\",\"kaifi khalil\",1],[\"antes de perderte\",\"duki\",1],[\"nos comemos (feat. ozuna)\",\"ozuna, tiago pzk\",2],[\"ai preto\",\"l7nnon, dj biel do furduncinho, bianca\",3],[\"ferxxo 100\",\"feid\",1],[\"i like you (a happier song) (with doja cat)\",\"post malone, doja cat\",2],[\"villano antillano: bzrp music sessions, vol. 51\",\"bizarrap, villano antillano\",2],[\"so good\",\"halsey\",1],[\"baile no morro\",\"mc vitin da igrejinha, mc tairon, dj win\",3],[\"betty (get money)\",\"yung gravy\",1],[\"born singer\",\"bts\",1],[\"cash in cash out\",\"pharrell williams, tyler, the creator, 21 savage\",4],[\"for youth\",\"bts\",1],[\"glimpse of us\",\"joji\",1],[\"ku lo sa - a colors show\",\"oxlade\",1],[\"numb\",\"marshmello, khalid\",2],[\"run bts\",\"bts\",1],[\"yet to come\",\"bts\",1],[\"b.o.t.a. (baddest of them all) - edit\",\"interplanetary criminal, eliza rose\",2],[\"don't you worry\",\"david guetta, shakira, black eyed peas\",3],[\"ultra solo remix\",\"de la ghetto, feid, polima westcoast, paloma mami, pailita\",5],[\"jimmy cooks (feat. 21 savage)\",\"drake, 21 savage\",2],[\"massive\",\"drake\",1],[\"sticky\",\"drake\",1],[\"break my soul\",\"beyonc\\u00ef\\u00bf\",1],[\"poland\",\"lil yachty\",1],[\"die first\",\"nessa barrett\",1],[\"left and right (feat. jung kook of bts)\",\"charlie puth, bts, jung kook\",3],[\"pop!\",\"nayeon\",1],[\"bad habit\",\"steve lacy\",1],[\"casei com a putaria\",\"mc ryan sp, love funk, mc paiva zs\",3],[\"hot shit (feat. ye & lil durk)\",\"kanye west, lil durk, cardi b\",3],[\"more\",\"j-hope\",1],[\"la loto\",\"anitta, tini, becky g\",3],[\"quevedo: bzrp music sessions, vol. 52\",\"bizarrap, quevedo\",2],[\"normal\",\"feid\",1],[\"come back home - from \\\"purple hearts\\\"\",\"sofia carson\",1],[\"2 be loved (am i ready)\",\"lizzo\",1],[\"about damn time\",\"lizzo\",1],[\"golden hour\",\"jvke\",1],[\"nonsense\",\"sabrina carpenter\",1],[\"static\",\"steve lacy\",1],[\"stay with me (with justin timberlake, halsey, & pharrell)\",\"calvin harris, halsey, pharrell williams, justin timberlake\",4],[\"here with me\",\"d4vd\",1],[\"kesariya (from \\\"brahmastra\\\")\",\"pritam, arijit singh, amitabh bhattacharya\",3],[\"doja\",\"central cee\",1],[\"givenchy\",\"duki\",1],[\"romantic homicide\",\"d4vd\",1],[\"tv\",\"billie eilish\",1],[\"el rescate\",\"grupo marca registrada, junior h\",2],[\"sin se\\u00ef\\u00bf\\u00bd\\u00ef\",\"ovy on the drums, quevedo\",2],[\"lokera\",\"brray, rauw alejandro, lyanno\",3],[\"despech\\u00ef\\u00bf\",\"rosal\\u00ef\\u00bf\\u00bd\",1],[\"lovezinho\",\"treyce\",1],[\"alien superstar\",\"beyonc\\u00ef\\u00bf\",1],[\"cuff it\",\"beyonc\\u00ef\\u00bf\",1],[\"attention\",\"newjeans\",1],[\"hype boy\",\"newjeans\",1],[\"c\\u00ef\\u00bf\\u00bd\\u00ef\\u00bf\\u00bdmo dormi\",\"rels b\",1],[\"bad decisions (with bts & snoop dogg)\",\"snoop dogg, bts, benny blanco\",3],[\"how do i say goodbye\",\"dean lewis\",1],[\"miss you\",\"robin schulz, oliver tree\",2],[\"si te la encuentras por ah\\u00ef\\u00bf\",\"feid\",1],[\"staying alive (feat. drake & lil baby)\",\"drake, dj khaled, lil baby\",3],[\"limbo\",\"freddie dredd\",1],[\"super freaky girl\",\"nicki minaj\",1],[\"siempre pendientes\",\"peso pluma, luis r conriquez\",2],[\"komang\",\"raim laode\",1],[\"baby otaku\",\"fran c, polima westcoast, nickoog clk, pablito pesadilla\",4],[\"feliz cumplea\\u00ef\\u00bf\\u00bd\\u00ef\\u00bf\\u00bdos fe\",\"feid\",1],[\"pink venom\",\"blackpink\",1],[\"after like\",\"ive\",1],[\"gat\\u00ef\\u00bf\\u00bd\\u00ef\\u00bf\\u00bd\",\"maldy, karol g\",2],[\"i'm good (blue)\",\"bebe rexha, david guetta\",2],[\"talk that talk\",\"twice\",1],[\"talk\",\"yeat\",1],[\"vista al mar\",\"quevedo\",1],[\"evoque prata\",\"dj escobar, mc menor sg, mc menor hr\",3],[\"forget me\",\"lewis capaldi\",1],[\"lady mi amor\",\"feid\",1],[\"prohibidox\",\"feid\",1],[\"xq te pones as\\u00ef\\u00bf\",\"yandel, feid\",2],[\"shut up my moms calling - (sped up)\",\"hotel ugly\",1],[\"eu gosto assim - ao vivo\",\"gustavo mioto, mari fernandez\",2],[\"shut down\",\"blackpink\",1],[\"typa girl\",\"blackpink\",1],[\"bamba (feat. aitch & bia)\",\"luciano, aitch, b\\u00ef\\u00bf\\u00bd\",3],[\"punto 40\",\"baby rasta, rauw alejandro\",2],[\"star walkin' (league of legends worlds anthem)\",\"lil nas x\",1],[\"unholy (feat. kim petras)\",\"sam smith, kim petras\",2],[\"tubar\\u00ef\\u00bf\\u00bd\\u00ef\\u00bf\\u00bdo te\",\"dj lk da esc\\u00ef\\u00bf\\u00bd\\u00ef\\u00bf\\u00bdcia, tchakabum, mc jhenny, m\",4],[\"worth nothing\",\"twisted, oliver tree\",2],[\"besos moja2\",\"wisin & yandel, rosal\\u00ef\\u00bf\\u00bd\",2],[\"celestial\",\"ed sheeran\",1],[\"obsessed\",\"abhijay sharma, riar saab\",2],[\"gatita\",\"bellakath\",1],[\"hey mor\",\"ozuna, feid\",2],[\"the loneliest\",\"m\\u00ef\\u00bf\\u00bd\\u00ef\\u00bf\\u00bdne\",1],[\"escapism.\",\"raye, 070 shake\",2],[\"kick back\",\"kenshi yonezu\",1],[\"maan meri jaan\",\"king\",1],[\"bye bye\",\"marshmello, juice wrld\",2],[\"california breeze\",\"lil baby\",1],[\"antifragile\",\"le sserafim\",1],[\"just wanna rock\",\"lil uzi vert\",1],[\"nxde\",\"(g)i-dle\",1],[\"monoton\\u00ef\\u00bf\\u00bd\",\"ozuna, shakira\",2],[\"en la de ella\",\"feid, sech, jhayco\",3],[\"qu\\u00ef\\u00bf\\u00bd\\u00ef\\u00bf\\u00bd ago\",\"yuridia, angela aguilar\",2],[\"anti-hero\",\"taylor swift\",1],[\"bejeweled\",\"taylor swift\",1],[\"bigger than the whole sky\",\"taylor swift\",1],[\"karma\",\"taylor swift\",1],[\"labyrinth\",\"taylor swift\",1],[\"lavender haze\",\"taylor swift\",1],[\"made you look\",\"meghan trainor\",1],[\"maroon\",\"taylor swift\",1],[\"mastermind\",\"taylor swift\",1],[\"midnight rain\",\"taylor swift\",1],[\"question...?\",\"taylor swift\",1],[\"snow on the beach (feat. lana del rey)\",\"taylor swift, lana del rey\",2],[\"sweet nothing\",\"taylor swift\",1],[\"the great war\",\"taylor swift\",1],[\"vigilante shit\",\"taylor swift\",1],[\"would've, could've, should've\",\"taylor swift\",1],[\"you're on your own, kid\",\"taylor swift\",1],[\"malas decisiones\",\"kenia os\",1],[\"lift me up - from black panther: wakanda forever - music from and inspired by\",\"rihanna\",1],[\"shirt\",\"sza\",1],[\"the astronaut\",\"jin\",1],[\"spit in my face!\",\"thxsomch\",1],[\"10:35\",\"ti\\u00ef\\u00bf\\u00bd\\u00ef\\u00bf\\u00bdsto, tate m\",2],[\"a veces (feat. feid)\",\"feid, paulo londra\",2],[\"bombonzinho - ao vivo\",\"israel & rodolffo, ana castela\",2],[\"my mind & me\",\"selena gomez\",1],[\"alone\",\"burna boy\",1],[\"antidepresan\",\"mabel matiz, mert demir\",2],[\"backoutsideboyz\",\"drake\",1],[\"broke boys\",\"drake, 21 savage\",2],[\"circo loco\",\"drake, 21 savage\",2],[\"con la brisa\",\"ludwig goransson, foudeqush\",2],[\"die for you\",\"joji\",1],[\"major distribution\",\"drake, 21 savage\",2],[\"on bs\",\"drake, 21 savage\",2],[\"privileged rappers\",\"drake, 21 savage\",2],[\"punto g\",\"quevedo\",1],[\"pussy & millions (feat. travis scott)\",\"drake, travis scott, 21 savage\",3],[\"rich flex\",\"drake, 21 savage\",2],[\"spin bout u\",\"drake, 21 savage\",2],[\"apna bana le (from \\\"bhediya\\\")\",\"arijit singh, sachin-jigar\",2],[\"cairo\",\"karol g, ovy on the drums\",2],[\"dreamers [music from the fifa world cup qatar 2022 official soundtrack]\",\"bts, jung kook, fifa sound\",3],[\"amg\",\"natanael cano, gabito ballesteros, peso pluma\",3],[\"escapism. - sped up\",\"raye, 070 shake\",2],[\"boy's a liar\",\"pinkpantheress\",1],[\"la jumpa\",\"arcangel, bad bunny\",2],[\"players\",\"coi leray\",1],[\"ch y la pizza\",\"fuerza regida, natanael cano\",2],[\"chorrito pa las animas\",\"feid\",1],[\"creepin'\",\"the weeknd, 21 savage, metro boomin\",3],[\"niagara falls (foot or 2) [with travis scott & 21 savage]\",\"travis scott, 21 savage, metro boomin\",3],[\"on time (with john legend)\",\"john legend, metro boomin\",2],[\"one thing at a time\",\"morgan wallen\",1],[\"people\",\"libianca\",1],[\"raindrops (insane) [with travis scott]\",\"travis scott, metro boomin\",2],[\"superhero (heroes & villains) [with future & chris brown]\",\"future, chris brown, metro boomin\",3],[\"tak segampang itu\",\"anggi marito\",1],[\"too many nights (feat. don toliver & with future)\",\"future, metro boomin, don toliver\",3],[\"trance (with travis scott & young thug)\",\"travis scott, young thug, metro boomin\",3],[\"wild flower (with youjeen)\",\"rm\",1],[\"kill bill\",\"sza\",1],[\"open arms (feat. travis scott)\",\"sza, travis scott\",2],[\"too late\",\"sza\",1],[\"used (feat. don toliver)\",\"sza, don toliver\",2],[\"zona de perigo\",\"leo santana\",1],[\"blind\",\"sza\",1],[\"conceited\",\"sza\",1],[\"f2f\",\"sza\",1],[\"far\",\"sza\",1],[\"ghost in the machine (feat. phoebe bridgers)\",\"sza, phoebe bridgers\",2],[\"gone girl\",\"sza\",1],[\"le\\u00ef\\u00bf\\u00bd\",\"mar\\u00ef\\u00bf\\u00bd\\u00ef\\u00bf\\u00bdlia mendo\",1],[\"love language\",\"sza\",1],[\"low\",\"sza\",1],[\"nobody gets me\",\"sza\",1],[\"notice me\",\"sza\",1],[\"seek & destroy\",\"sza\",1],[\"smoking on my ex pack\",\"sza\",1],[\"snooze\",\"sza\",1],[\"sos\",\"sza\",1],[\"special\",\"sza\",1],[\"besharam rang (from \\\"pathaan\\\")\",\"vishal-shekhar, shilpa rao, caralisa monteiro, kumaar, vishal dadlani, shekhar ravjiani\",6],[\"let go\",\"central cee\",1],[\"marisola - remix\",\"duki, nicki nicole, cris mj, standly, stars music chile\",5],[\"playa del ingl\\u00ef\\u00bf\\u00bd\",\"myke towers, quevedo\",2],[\"bebe dame\",\"fuerza regida, grupo frontera\",2],[\"mercho\",\"migrantes, lil cake, nico valdi\",3],[\"ditto\",\"newjeans\",1],[\"yandel 150\",\"yandel, feid\",2],[\"gato de noche\",\"nengo flow, bad bunny\",2],[\"sem alian\\u00ef\\u00bf\\u00bd\\u00ef\\u00bf\\u00bda no\",\"mc xenon, os gemeos da putaria\",2],[\"en paris\",\"el chachito, junior h\",2],[\"igualito a mi ap\\u00ef\\u00bf\",\"fuerza regida, peso pluma\",2],[\"omg\",\"newjeans\",1],[\"shakira: bzrp music sessions, vol. 53\",\"shakira, bizarrap\",2],[\"flowers\",\"miley cyrus\",1],[\"mu\\u00ef\\u00bf\\u00bd\\u00ef\\u00bf\\u00bd\",\"steve aoki, tini, la joaqui\",3],[\"fin de semana\",\"oscar maydon, junior h\",2],[\"vibe (feat. jimin of bts)\",\"taeyang, jimin\",2],[\"wanda\",\"quevedo\",1],[\"prc\",\"natanael cano, peso pluma\",2],[\"sial\",\"mahalini\",1],[\"el gordo trae el mando\",\"chino pacas\",1],[\"erro gostoso - ao vivo\",\"simone mendes\",1],[\"i'm not here to make friends\",\"sam smith, calvin harris, jessie reyez\",3],[\"llylm\",\"rosal\\u00ef\\u00bf\\u00bd\",1],[\"love again\",\"the kid laroi\",1],[\"sugar rush ride\",\"tomorrow x together\",1],[\"trustfall\",\"p!nk\",1],[\"everything i love\",\"morgan wallen\",1],[\"i wrote the book\",\"morgan wallen\",1],[\"last night\",\"morgan wallen\",1],[\"nosso quadro\",\"ana castela, agroplay\",2],[\"rosa pastel\",\"jasiel nu\\u00ef\\u00bf\\u00bd\\u00ef\\u00bf\\u00bdez, peso p\",2],[\"x si volvemos\",\"karol g, romeo santos\",2],[\"boy's a liar pt. 2\",\"pinkpantheress, ice spice\",2],[\"di que si\",\"grupo marca registrada, grupo frontera\",2],[\"watch this - arizonatears pluggnb remix\",\"sped up nightcore, arizonatears, lil uzi vert\",3],[\"rara vez\",\"taiu, milo j\",2],[\"el azul\",\"junior h, peso pluma\",2],[\"if we ever broke up\",\"mae stephens\",1],[\"cupido\",\"tini\",1],[\"oi balde - ao vivo\",\"z\\u00ef\\u00bf\\u00bd\\u00ef\\u00bf\\u00bd neto & crist\",1],[\"heaven\",\"niall horan\",1],[\"pero t\\u00ef\\u00bf\",\"karol g, quevedo\",2],[\"private landing (feat. justin bieber & future)\",\"don toliver, future, justin bieber\",3],[\"tqg\",\"karol g, shakira\",2],[\"amargura\",\"karol g\",1],[\"cupid\",\"fifty fifty\",1],[\"cupid - twin ver.\",\"fifty fifty\",1],[\"die for you - remix\",\"ariana grande, the weeknd\",2],[\"mientras me curo del cora\",\"karol g\",1],[\"moonlight\",\"kali uchis\",1],[\"tormenta (feat. bad bunny)\",\"gorillaz, bad bunny\",2],[\"tattoo\",\"loreen\",1],[\"seu brilho sumiu - ao vivo\",\"israel & rodolffo, mari fernandez\",2],[\"mas rica que ayer\",\"mambo kingz, dj luian, anuel aa\",3],[\"ain\\u00ef\\u00bf\\u00bd\\u00ef\\u00bf\\u00bd\\u00ef\\u00bf\\u00bdt tha\",\"morgan wallen\",1],[\"born with a beer in my hand\",\"morgan wallen\",1],[\"devil don\\u00ef\\u00bf\\u00bd\\u00ef\\u00bf\\u00bd\\u00ef\\u00bf\\u00bd\",\"morgan wallen\",1],[\"el merengue\",\"marshmello, manuel turizo\",2],[\"man made a bar (feat. eric church)\",\"morgan wallen, eric church\",2],[\"on the street (with j. cole)\",\"j-hope, j. cole\",2],[\"red ruby da sleeze\",\"nicki minaj\",1],[\"thinkin\\u00ef\\u00bf\\u00bd\\u00ef\\u00bf\\u00bd\\u00ef\\u00bf\\u00bd b\",\"morgan wallen\",1],[\"\\u00fd\\u00fd\\u00fd98 braves\",\"morgan wallen\",1],[\"shorty party\",\"cartel de santa, la kelly\",2],[\"miracle (with ellie goulding)\",\"calvin harris, ellie goulding\",2],[\"dijeron que no la iba lograr\",\"fuerza regida, chino pacas\",2],[\"ella baila sola\",\"eslabon armado, peso pluma\",2],[\"area codes\",\"kaliii, kaliii\",2],[\"coco chanel\",\"bad bunny, eladio carrion\",2],[\"la bebe - remix\",\"peso pluma, yng lvcas\",2],[\"remix exclusivo\",\"feid\",1],[\"say yes to heaven\",\"lana del rey\",1],[\"set me free pt.2\",\"jimin\",1],[\"what it is (solo version)\",\"doechii\",1],[\"arc\\u00ef\\u00bf\\u00bd\\u00ef\\u00bf\\u00bdngel: bzrp music sessions, vol\",\"arcangel, bizarrap\",2],[\"eyes closed\",\"ed sheeran\",1],[\"lala\",\"myke towers\",1],[\"beso\",\"rauw alejandro, rosal\\u00ef\\u00bf\\u00bd\",2],[\"fast car\",\"luke combs\",1],[\"i know - pr1svx edit\",\"kanii, pr1isvx\",2],[\"like crazy\",\"jimin\",1],[\"like crazy (english version)\",\"jimin\",1],[\"happy\",\"nf\",1],[\"dogtooth\",\"tyler, the creator\",2],[\"void\",\"melanie martinez\",1],[\"chanel\",\"becky g, peso pluma\",2],[\"classy 101\",\"feid, young miko\",2],[\"flower\",\"jisoo\",1],[\"sorry not sorry\",\"tyler, the creator\",2],[\"las morras\",\"blessd, peso pluma\",2],[\"un finde | crossover #2\",\"big one, fmk, ke personajes\",3],[\"baby don't hurt me\",\"david guetta, anne-marie, coi leray\",3],[\"fr\\u00ef\\u00bf\\u00bd\\u00ef\\u00bf\\u00bdgil (feat. grupo front\",\"yahritza y su esencia, grupo frontera\",2],[\"never felt so alone\",\"labrinth\",1],[\"peaches (from the super mario bros. movie)\",\"jack black\",1],[\"people pt.2 (feat. iu)\",\"iu, agust d\",2],[\"search & rescue\",\"drake\",1],[\"i am\",\"ive\",1],[\"\\u00fd\\u00fd\\u00fd\\u00fd\\u00fd\\u00fd\\u00fd\\u00fd\\u00fd\\u00fd\\u00fd\\u00fd\",\"yoasobi\",1],[\"chemical\",\"post malone\",1],[\"daylight\",\"david kushner\",1],[\"princess diana (with nicki minaj)\",\"nicki minaj, ice spice\",2],[\"un x100to\",\"bad bunny, grupo frontera\",2],[\"double fantasy (with future)\",\"the weeknd, future\",2],[\"haegeum\",\"agust d\",1],[\"ni\\u00ef\\u00bf\\u00bd\\u00ef\\u00bf\\u00bda bo\",\"sean paul, feid\",2],[\"super\",\"seventeen\",1],[\"shoong! (feat. lisa of blackpink)\",\"taeyang, lisa\",2],[\"mami chula\",\"quevedo, jhayco\",2],[\"conex\\u00ef\\u00bf\\u00bd\\u00ef\\u00bf\\u00bdes de m\\u00ef\\u00bf\\u00bd\\u00ef\\u00bf\\u00bdfia (feat. rich\",\"rich the kid, matu\\u00ef\\u00bf\",2],[\"angel pt 1 (feat. jimin of bts, jvke & muni long)\",\"kodak black, nle choppa, muni long, jvke, jimin\",5],[\"unforgiven (feat. nile rodgers)\",\"nile rodgers, le sserafim\",2],[\"don't ever say love me (feat. rm of bts)\",\"rm, colde\",2],[\"mejor que yo\",\"mambo kingz, dj luian, anuel aa\",3],[\"t\\u00ef\\u00bf\\u00bd\\u00ef\\u00bf\",\"dennis, mc kevin o chris\",2],[\"curtains\",\"ed sheeran\",1],[\"acr\\u00ef\\u00bf\\u00bd\\u00ef\\u00bf\\u00bds\",\"shakira\",1],[\"cart\\u00ef\\u00bf\\u00bd\\u00ef\\u00bf\\u00bdo b\",\"mc caverinha, kayblack\",2],[\"all my life (feat. j. cole)\",\"j. cole, lil durk\",2],[\"vagabundo\",\"sebastian yatra, manuel turizo, be\\u00ef\\u00bf\\u00bd\\u00ef\",3],[\"abcdario\",\"junior h, eden mu\\u00ef\\u00bf\\u00bd\\u00ef\",2],[\"fukumean\",\"gunna\",1],[\"phir aur kya chahiye (from \\\"zara hatke zara bachke\\\")\",\"arijit singh, sachin-jigar, amitabha bhattacharya\",3],[\"queencard\",\"(g)i-dle\",1],[\"69\",\"nicky jam, feid\",2],[\"where she goes\",\"bad bunny\",1],[\"america has a problem (feat. kendrick lamar)\",\"kendrick lamar, beyonc\\u00ef\\u00bf\",2],[\"cheques\",\"shubh\",1],[\"novo balan\\u00ef\\u00bf\\u00bd\",\"veigh, bvga beatz, supernova ent, prod malax\",4],[\"tqm\",\"fuerza regida\",1],[\"bite me\",\"enhypen\",1],[\"tere vaaste (from \\\"zara hatke zara bachke\\\")\",\"sachin-jigar, shadab faridi, altamash faridi, amitabh bhattacharya, varun jain\",5],[\"dance the night (from barbie the album)\",\"dua lipa\",1],[\"bye\",\"peso pluma\",1],[\"hits different\",\"taylor swift\",1],[\"karma (feat. ice spice)\",\"taylor swift, ice spice\",2],[\"snow on the beach (feat. more lana del rey)\",\"lana del rey, taylor swift\",2],[\"stand by me (feat. morgan wallen)\",\"lil durk, morgan wallen\",2],[\"peso pluma: bzrp music sessions, vol. 55\",\"bizarrap, peso pluma\",2],[\"gol bolinha, gol quadrado 2\",\"mc pedrinho, dj 900\",2],[\"los del espacio\",\"big one, duki, lit killah, maria becerra, fmk, rusherking, emilia, tiago pzk\",8],[\"sprinter\",\"dave, central cee\",2],[\"all the way live (spider-man: across the spider-verse) (metro boomin & future, lil uzi vert)\",\"future, lil uzi vert, metro boomin\",3],[\"am i dreaming (metro boomin & a$ap rocky, roisee)\",\"a$ap rocky, metro boomin, roisee\",3],[\"annihilate (spider-man: across the spider-verse) (metro boomin & swae lee, lil wayne, offset)\",\"swae lee, lil wayne, offset, metro boomin\",4],[\"calling (spider-man: across the spider-verse) (metro boomin & swae lee, nav, feat. a boogie wit da hoodie)\",\"swae lee, a boogie wit da hoodie, metro boomin, nav\",4],[\"danger (spider) (offset & jid)\",\"offset, jid\",2],[\"el cielo\",\"feid, myke towers, sky rompiendo\",3],[\"hummingbird (metro boomin & james blake)\",\"james blake, metro boomin\",2],[\"link up (metro boomin & don toliver, wizkid feat. beam & toian) - spider-verse remix (spider-man: across the spider-verse )\",\"wizkid, toian, metro boomin, don toliver, beam\",5],[\"pi\\u00ef\\u00bf\\u00bd\\u00ef\\u00bf\\u00bdman de\\u00ef\\u00bf\",\"semicenk, do\\u00ef\\u00bf\\u00bd\\u00ef\\u00bf\\u00bdu\",2],[\"popular (with playboi carti & madonna) - the idol vol. 1 (music from the hbo original series)\",\"the weeknd, madonna, playboi carti\",3],[\"s-class\",\"stray kids\",1],[\"self love (spider-man: across the spider-verse) (metro boomin & coi leray)\",\"metro boomin, coi leray\",2],[\"lilith (feat. suga of bts) (diablo iv anthem)\",\"halsey, suga\",2],[\"polaris - remix\",\"feid, mora, saiko, quevedo\",4],[\"take two\",\"bts\",1],[\"(it goes like) nanana - edit\",\"peggy gou\",1],[\"rauw alejandro: bzrp music sessions, vol. 56\",\"rauw alejandro, bizarrap\",2],[\"coraz\\u00ef\\u00bf\\u00bd\\u00ef\\u00bf\\u00bdn va\",\"maria becerra\",1],[\"lady gaga\",\"gabito ballesteros, junior h, peso pluma\",3],[\"lagunas\",\"jasiel nu\\u00ef\\u00bf\\u00bd\\u00ef\\u00bf\\u00bdez, peso p\",2],[\"luna\",\"junior h, peso pluma\",2],[\"sabor fresa\",\"fuerza regida\",1],[\"baby hello\",\"rauw alejandro, bizarrap\",2],[\"barbie world (with aqua) [from barbie the album]\",\"nicki minaj, aqua, ice spice\",3],[\"novidade na \\u00ef\\u00bf\\u00bd\\u00ef\\u00bf\",\"mc livinho, dj matt d\",2],[\"tulum\",\"peso pluma, grupo frontera\",2],[\"mojabi ghost\",\"tainy, bad bunny\",2],[\"mi bello angel\",\"natanael cano\",1],[\"vampire\",\"olivia rodrigo\",1],[\"back to december (taylor's version)\",\"taylor swift\",1],[\"better than revenge (taylor's version)\",\"taylor swift\",1],[\"columbia\",\"quevedo\",1],[\"enchanted (taylor's version)\",\"taylor swift\",1],[\"i can see you (taylor\\u00ef\\u00bf\\u00bd\\u00ef\\u00bf\\u00bd\\u00ef\\u00bf\\u00bds version) (from the\",\"taylor swift\",1],[\"mine (taylor's version)\",\"taylor swift\",1],[\"new jeans\",\"newjeans\",1],[\"super shy\",\"newjeans\",1],[\"quema\",\"sog, ryan castro, peso pluma\",3],[\"rush\",\"troye sivan\",1],[\"what was i made for? [from the motion picture \\\"barbie\\\"]\",\"billie eilish\",1],[\"overdrive\",\"post malone\",1],[\"s91\",\"karol g\",1],[\"seven (feat. latto) (explicit ver.)\",\"latto, jung kook\",2]],\"hovertemplate\":\"Date: %{x|%d\\u002f%m\\u002f%Y}\\u003cbr\\u003eStreams: %{y:,.0f}\\u003cbr\\u003eTitre: %{customdata[0]}\\u003cbr\\u003eArtiste: %{customdata[1]}\\u003cbr\\u003eNombre d'artistes: %{customdata[2]}\\u003cextra\\u003e\\u003c\\u002fextra\\u003e\",\"marker\":{\"color\":[\"rgb(135,206,235)\",\"rgb(135,206,235)\",\"rgb(206,126,0)\",\"rgb(135,206,235)\",\"rgb(135,206,235)\",\"rgb(135,206,235)\",\"rgb(135,206,235)\",\"rgb(135,206,235)\",\"rgb(135,206,235)\",\"rgb(135,206,235)\",\"rgb(135,206,235)\",\"rgb(206,126,0)\",\"rgb(206,126,0)\",\"rgb(206,126,0)\",\"rgb(206,126,0)\",\"rgb(255,206,58)\",\"rgb(206,126,0)\",\"rgb(135,206,235)\",\"rgb(135,206,235)\",\"rgb(135,206,235)\",\"rgb(206,126,0)\",\"rgb(206,126,0)\",\"rgb(135,206,235)\",\"rgb(143,206,0)\",\"rgb(135,206,235)\",\"rgb(135,206,235)\",\"rgb(135,206,235)\",\"rgb(206,126,0)\",\"rgb(206,126,0)\",\"rgb(135,206,235)\",\"rgb(206,126,0)\",\"rgb(135,206,235)\",\"rgb(143,206,0)\",\"rgb(135,206,235)\",\"rgb(206,126,0)\",\"rgb(206,126,0)\",\"rgb(206,126,0)\",\"rgb(206,126,0)\",\"rgb(255,206,58)\",\"rgb(135,206,235)\",\"rgb(206,126,0)\",\"rgb(135,206,235)\",\"rgb(143,206,0)\",\"rgb(135,206,235)\",\"rgb(135,206,235)\",\"rgb(135,206,235)\",\"rgb(135,206,235)\",\"rgb(206,126,0)\",\"rgb(135,206,235)\",\"rgb(255,206,58)\",\"rgb(206,126,0)\",\"rgb(206,126,0)\",\"rgb(135,206,235)\",\"rgb(135,206,235)\",\"rgb(135,206,235)\",\"rgb(143,206,0)\",\"rgb(143,206,0)\",\"rgb(255,206,58)\",\"rgb(143,206,0)\",\"rgb(206,126,0)\",\"rgb(135,206,235)\",\"rgb(135,206,235)\",\"rgb(143,206,0)\",\"rgb(255,206,58)\",\"rgb(206,126,0)\",\"rgb(143,206,0)\",\"rgb(135,206,235)\",\"rgb(135,206,235)\",\"rgb(135,206,235)\",\"rgb(135,206,235)\",\"rgb(135,206,235)\",\"rgb(143,206,0)\",\"rgb(255,206,58)\",\"rgb(206,126,0)\",\"rgb(206,126,0)\",\"rgb(135,206,235)\",\"rgb(135,206,235)\",\"rgb(135,206,235)\",\"rgb(135,206,235)\",\"rgb(135,206,235)\",\"rgb(135,206,235)\",\"rgb(135,206,235)\",\"rgb(255,206,58)\",\"rgb(206,126,0)\",\"rgb(206,126,0)\",\"rgb(135,206,235)\",\"rgb(135,206,235)\",\"rgb(135,206,235)\",\"rgb(135,206,235)\",\"rgb(135,206,235)\",\"rgb(143,206,0)\",\"rgb(255,206,58)\",\"rgb(206,126,0)\",\"rgb(135,206,235)\",\"rgb(135,206,235)\",\"rgb(135,206,235)\",\"rgb(135,206,235)\",\"rgb(135,206,235)\",\"rgb(135,206,235)\",\"rgb(135,206,235)\",\"rgb(135,206,235)\",\"rgb(135,206,235)\",\"rgb(255,206,58)\",\"rgb(255,206,58)\",\"rgb(255,206,58)\",\"rgb(206,126,0)\",\"rgb(206,126,0)\",\"rgb(135,206,235)\",\"rgb(135,206,235)\",\"rgb(135,206,235)\",\"rgb(135,206,235)\",\"rgb(135,206,235)\",\"rgb(135,206,235)\",\"rgb(135,206,235)\",\"rgb(135,206,235)\",\"rgb(255,206,58)\",\"rgb(255,206,58)\",\"rgb(255,206,58)\",\"rgb(206,126,0)\",\"rgb(206,126,0)\",\"rgb(135,206,235)\",\"rgb(135,206,235)\",\"rgb(135,206,235)\",\"rgb(135,206,235)\",\"rgb(135,206,235)\",\"rgb(143,206,0)\",\"rgb(143,206,0)\",\"rgb(143,206,0)\",\"rgb(255,206,58)\",\"rgb(255,206,58)\",\"rgb(206,126,0)\",\"rgb(206,126,0)\",\"rgb(135,206,235)\",\"rgb(135,206,235)\",\"rgb(143,206,0)\",\"rgb(143,206,0)\",\"rgb(143,206,0)\",\"rgb(255,206,58)\",\"rgb(255,206,58)\",\"rgb(255,206,58)\",\"rgb(206,126,0)\",\"rgb(206,126,0)\",\"rgb(206,126,0)\",\"rgb(206,126,0)\",\"rgb(206,126,0)\",\"rgb(206,126,0)\",\"rgb(206,126,0)\",\"rgb(206,126,0)\",\"rgb(206,126,0)\",\"rgb(206,126,0)\",\"rgb(135,206,235)\",\"rgb(135,206,235)\",\"rgb(135,206,235)\",\"rgb(135,206,235)\",\"rgb(135,206,235)\",\"rgb(135,206,235)\",\"rgb(143,206,0)\",\"rgb(143,206,0)\",\"rgb(143,206,0)\",\"rgb(143,206,0)\",\"rgb(255,206,58)\",\"rgb(255,206,58)\",\"rgb(255,206,58)\",\"rgb(255,206,58)\",\"rgb(255,206,58)\",\"rgb(255,206,58)\",\"rgb(206,126,0)\",\"rgb(206,126,0)\",\"rgb(206,126,0)\",\"rgb(206,126,0)\",\"rgb(206,126,0)\",\"rgb(206,126,0)\",\"rgb(135,206,235)\",\"rgb(143,206,0)\",\"rgb(143,206,0)\",\"rgb(143,206,0)\",\"rgb(143,206,0)\",\"rgb(143,206,0)\",\"rgb(206,126,0)\",\"rgb(206,126,0)\",\"rgb(206,126,0)\",\"rgb(206,126,0)\",\"rgb(206,126,0)\",\"rgb(135,206,235)\",\"rgb(135,206,235)\",\"rgb(143,206,0)\",\"rgb(143,206,0)\",\"rgb(143,206,0)\",\"rgb(143,206,0)\",\"rgb(143,206,0)\",\"rgb(143,206,0)\",\"rgb(143,206,0)\",\"rgb(255,206,58)\",\"rgb(255,206,58)\",\"rgb(255,206,58)\",\"rgb(255,206,58)\",\"rgb(255,206,58)\",\"rgb(255,206,58)\",\"rgb(255,206,58)\",\"rgb(255,206,58)\",\"rgb(255,206,58)\",\"rgb(255,206,58)\",\"rgb(206,126,0)\",\"rgb(206,126,0)\",\"rgb(206,126,0)\",\"rgb(206,126,0)\",\"rgb(206,126,0)\",\"rgb(206,126,0)\",\"rgb(206,126,0)\",\"rgb(206,126,0)\",\"rgb(206,126,0)\",\"rgb(206,126,0)\",\"rgb(206,126,0)\",\"rgb(206,126,0)\",\"rgb(206,126,0)\",\"rgb(206,126,0)\",\"rgb(135,206,235)\",\"rgb(135,206,235)\",\"rgb(135,206,235)\",\"rgb(135,206,235)\",\"rgb(135,206,235)\",\"rgb(135,206,235)\",\"rgb(135,206,235)\",\"rgb(135,206,235)\",\"rgb(135,206,235)\",\"rgb(135,206,235)\",\"rgb(135,206,235)\",\"rgb(135,206,235)\",\"rgb(143,206,0)\",\"rgb(143,206,0)\",\"rgb(143,206,0)\",\"rgb(143,206,0)\",\"rgb(143,206,0)\",\"rgb(143,206,0)\",\"rgb(143,206,0)\",\"rgb(143,206,0)\",\"rgb(255,206,58)\",\"rgb(255,206,58)\",\"rgb(255,206,58)\",\"rgb(255,206,58)\",\"rgb(255,206,58)\",\"rgb(255,206,58)\",\"rgb(255,206,58)\",\"rgb(255,206,58)\",\"rgb(206,126,0)\",\"rgb(206,126,0)\",\"rgb(206,126,0)\",\"rgb(206,126,0)\",\"rgb(206,126,0)\",\"rgb(206,126,0)\",\"rgb(206,126,0)\",\"rgb(206,126,0)\",\"rgb(135,206,235)\",\"rgb(135,206,235)\",\"rgb(135,206,235)\",\"rgb(135,206,235)\",\"rgb(135,206,235)\",\"rgb(135,206,235)\",\"rgb(135,206,235)\",\"rgb(143,206,0)\",\"rgb(143,206,0)\",\"rgb(143,206,0)\",\"rgb(143,206,0)\",\"rgb(143,206,0)\",\"rgb(143,206,0)\",\"rgb(143,206,0)\",\"rgb(143,206,0)\",\"rgb(143,206,0)\",\"rgb(143,206,0)\",\"rgb(143,206,0)\",\"rgb(143,206,0)\",\"rgb(143,206,0)\",\"rgb(143,206,0)\",\"rgb(143,206,0)\",\"rgb(143,206,0)\",\"rgb(143,206,0)\",\"rgb(143,206,0)\",\"rgb(143,206,0)\",\"rgb(143,206,0)\",\"rgb(143,206,0)\",\"rgb(255,206,58)\",\"rgb(255,206,58)\",\"rgb(255,206,58)\",\"rgb(255,206,58)\",\"rgb(255,206,58)\",\"rgb(255,206,58)\",\"rgb(255,206,58)\",\"rgb(255,206,58)\",\"rgb(255,206,58)\",\"rgb(255,206,58)\",\"rgb(255,206,58)\",\"rgb(255,206,58)\",\"rgb(255,206,58)\",\"rgb(255,206,58)\",\"rgb(255,206,58)\",\"rgb(255,206,58)\",\"rgb(255,206,58)\",\"rgb(255,206,58)\",\"rgb(255,206,58)\",\"rgb(255,206,58)\",\"rgb(255,206,58)\",\"rgb(255,206,58)\",\"rgb(255,206,58)\",\"rgb(255,206,58)\",\"rgb(255,206,58)\",\"rgb(255,206,58)\",\"rgb(255,206,58)\",\"rgb(255,206,58)\",\"rgb(255,206,58)\",\"rgb(255,206,58)\",\"rgb(206,126,0)\",\"rgb(206,126,0)\",\"rgb(206,126,0)\",\"rgb(206,126,0)\",\"rgb(206,126,0)\",\"rgb(206,126,0)\",\"rgb(206,126,0)\",\"rgb(206,126,0)\",\"rgb(206,126,0)\",\"rgb(206,126,0)\",\"rgb(206,126,0)\",\"rgb(206,126,0)\",\"rgb(206,126,0)\",\"rgb(206,126,0)\",\"rgb(206,126,0)\",\"rgb(206,126,0)\",\"rgb(206,126,0)\",\"rgb(206,126,0)\",\"rgb(206,126,0)\",\"rgb(206,126,0)\",\"rgb(206,126,0)\",\"rgb(206,126,0)\",\"rgb(206,126,0)\",\"rgb(206,126,0)\",\"rgb(206,126,0)\",\"rgb(206,126,0)\",\"rgb(206,126,0)\",\"rgb(206,126,0)\",\"rgb(206,126,0)\",\"rgb(206,126,0)\",\"rgb(206,126,0)\",\"rgb(206,126,0)\",\"rgb(206,126,0)\",\"rgb(206,126,0)\",\"rgb(206,126,0)\",\"rgb(206,126,0)\",\"rgb(206,126,0)\",\"rgb(206,126,0)\",\"rgb(206,126,0)\",\"rgb(206,126,0)\",\"rgb(206,126,0)\",\"rgb(206,126,0)\",\"rgb(206,126,0)\",\"rgb(206,126,0)\",\"rgb(206,126,0)\",\"rgb(206,126,0)\",\"rgb(206,126,0)\",\"rgb(206,126,0)\",\"rgb(206,126,0)\",\"rgb(206,126,0)\",\"rgb(206,126,0)\",\"rgb(135,206,235)\",\"rgb(135,206,235)\",\"rgb(135,206,235)\",\"rgb(135,206,235)\",\"rgb(135,206,235)\",\"rgb(135,206,235)\",\"rgb(135,206,235)\",\"rgb(135,206,235)\",\"rgb(135,206,235)\",\"rgb(135,206,235)\",\"rgb(135,206,235)\",\"rgb(135,206,235)\",\"rgb(135,206,235)\",\"rgb(135,206,235)\",\"rgb(135,206,235)\",\"rgb(135,206,235)\",\"rgb(135,206,235)\",\"rgb(135,206,235)\",\"rgb(135,206,235)\",\"rgb(135,206,235)\",\"rgb(135,206,235)\",\"rgb(135,206,235)\",\"rgb(135,206,235)\",\"rgb(135,206,235)\",\"rgb(135,206,235)\",\"rgb(135,206,235)\",\"rgb(135,206,235)\",\"rgb(135,206,235)\",\"rgb(135,206,235)\",\"rgb(135,206,235)\",\"rgb(135,206,235)\",\"rgb(135,206,235)\",\"rgb(135,206,235)\",\"rgb(135,206,235)\",\"rgb(135,206,235)\",\"rgb(135,206,235)\",\"rgb(135,206,235)\",\"rgb(135,206,235)\",\"rgb(135,206,235)\",\"rgb(135,206,235)\",\"rgb(135,206,235)\",\"rgb(135,206,235)\",\"rgb(135,206,235)\",\"rgb(135,206,235)\",\"rgb(135,206,235)\",\"rgb(135,206,235)\",\"rgb(135,206,235)\",\"rgb(135,206,235)\",\"rgb(135,206,235)\",\"rgb(135,206,235)\",\"rgb(135,206,235)\",\"rgb(135,206,235)\",\"rgb(135,206,235)\",\"rgb(135,206,235)\",\"rgb(135,206,235)\",\"rgb(135,206,235)\",\"rgb(135,206,235)\",\"rgb(135,206,235)\",\"rgb(135,206,235)\",\"rgb(135,206,235)\",\"rgb(135,206,235)\",\"rgb(135,206,235)\",\"rgb(135,206,235)\",\"rgb(135,206,235)\",\"rgb(135,206,235)\",\"rgb(135,206,235)\",\"rgb(135,206,235)\",\"rgb(135,206,235)\",\"rgb(135,206,235)\",\"rgb(135,206,235)\",\"rgb(135,206,235)\",\"rgb(135,206,235)\",\"rgb(135,206,235)\",\"rgb(135,206,235)\",\"rgb(135,206,235)\",\"rgb(135,206,235)\",\"rgb(135,206,235)\",\"rgb(135,206,235)\",\"rgb(143,206,0)\",\"rgb(143,206,0)\",\"rgb(143,206,0)\",\"rgb(143,206,0)\",\"rgb(143,206,0)\",\"rgb(143,206,0)\",\"rgb(143,206,0)\",\"rgb(143,206,0)\",\"rgb(143,206,0)\",\"rgb(143,206,0)\",\"rgb(143,206,0)\",\"rgb(143,206,0)\",\"rgb(143,206,0)\",\"rgb(143,206,0)\",\"rgb(143,206,0)\",\"rgb(143,206,0)\",\"rgb(143,206,0)\",\"rgb(143,206,0)\",\"rgb(143,206,0)\",\"rgb(143,206,0)\",\"rgb(143,206,0)\",\"rgb(143,206,0)\",\"rgb(143,206,0)\",\"rgb(143,206,0)\",\"rgb(143,206,0)\",\"rgb(143,206,0)\",\"rgb(143,206,0)\",\"rgb(143,206,0)\",\"rgb(143,206,0)\",\"rgb(143,206,0)\",\"rgb(143,206,0)\",\"rgb(143,206,0)\",\"rgb(143,206,0)\",\"rgb(143,206,0)\",\"rgb(143,206,0)\",\"rgb(143,206,0)\",\"rgb(143,206,0)\",\"rgb(143,206,0)\",\"rgb(143,206,0)\",\"rgb(143,206,0)\",\"rgb(143,206,0)\",\"rgb(143,206,0)\",\"rgb(143,206,0)\",\"rgb(143,206,0)\",\"rgb(143,206,0)\",\"rgb(143,206,0)\",\"rgb(143,206,0)\",\"rgb(143,206,0)\",\"rgb(143,206,0)\",\"rgb(143,206,0)\",\"rgb(143,206,0)\",\"rgb(143,206,0)\",\"rgb(143,206,0)\",\"rgb(143,206,0)\",\"rgb(143,206,0)\",\"rgb(143,206,0)\",\"rgb(143,206,0)\",\"rgb(143,206,0)\",\"rgb(143,206,0)\",\"rgb(143,206,0)\",\"rgb(143,206,0)\",\"rgb(143,206,0)\",\"rgb(143,206,0)\",\"rgb(143,206,0)\",\"rgb(143,206,0)\",\"rgb(143,206,0)\",\"rgb(143,206,0)\",\"rgb(143,206,0)\",\"rgb(143,206,0)\",\"rgb(143,206,0)\",\"rgb(143,206,0)\",\"rgb(143,206,0)\",\"rgb(143,206,0)\",\"rgb(143,206,0)\",\"rgb(143,206,0)\",\"rgb(143,206,0)\",\"rgb(143,206,0)\",\"rgb(143,206,0)\",\"rgb(143,206,0)\",\"rgb(143,206,0)\",\"rgb(143,206,0)\",\"rgb(143,206,0)\",\"rgb(143,206,0)\",\"rgb(143,206,0)\",\"rgb(143,206,0)\",\"rgb(143,206,0)\",\"rgb(143,206,0)\",\"rgb(143,206,0)\",\"rgb(143,206,0)\",\"rgb(143,206,0)\",\"rgb(143,206,0)\",\"rgb(143,206,0)\",\"rgb(143,206,0)\",\"rgb(143,206,0)\",\"rgb(143,206,0)\",\"rgb(143,206,0)\",\"rgb(143,206,0)\",\"rgb(143,206,0)\",\"rgb(143,206,0)\",\"rgb(143,206,0)\",\"rgb(143,206,0)\",\"rgb(143,206,0)\",\"rgb(143,206,0)\",\"rgb(143,206,0)\",\"rgb(143,206,0)\",\"rgb(143,206,0)\",\"rgb(143,206,0)\",\"rgb(143,206,0)\",\"rgb(143,206,0)\",\"rgb(143,206,0)\",\"rgb(143,206,0)\",\"rgb(143,206,0)\",\"rgb(143,206,0)\",\"rgb(143,206,0)\",\"rgb(143,206,0)\",\"rgb(143,206,0)\",\"rgb(143,206,0)\",\"rgb(143,206,0)\",\"rgb(143,206,0)\",\"rgb(143,206,0)\",\"rgb(143,206,0)\",\"rgb(143,206,0)\",\"rgb(143,206,0)\",\"rgb(143,206,0)\",\"rgb(143,206,0)\",\"rgb(143,206,0)\",\"rgb(143,206,0)\",\"rgb(143,206,0)\",\"rgb(143,206,0)\",\"rgb(143,206,0)\",\"rgb(143,206,0)\",\"rgb(255,206,58)\",\"rgb(255,206,58)\",\"rgb(255,206,58)\",\"rgb(255,206,58)\",\"rgb(255,206,58)\",\"rgb(255,206,58)\",\"rgb(255,206,58)\",\"rgb(255,206,58)\",\"rgb(255,206,58)\",\"rgb(255,206,58)\",\"rgb(255,206,58)\",\"rgb(255,206,58)\",\"rgb(255,206,58)\",\"rgb(255,206,58)\",\"rgb(255,206,58)\",\"rgb(255,206,58)\",\"rgb(255,206,58)\",\"rgb(255,206,58)\",\"rgb(255,206,58)\",\"rgb(255,206,58)\",\"rgb(255,206,58)\",\"rgb(255,206,58)\",\"rgb(255,206,58)\",\"rgb(255,206,58)\",\"rgb(255,206,58)\",\"rgb(255,206,58)\",\"rgb(255,206,58)\",\"rgb(255,206,58)\",\"rgb(255,206,58)\",\"rgb(255,206,58)\",\"rgb(255,206,58)\",\"rgb(255,206,58)\",\"rgb(255,206,58)\",\"rgb(255,206,58)\",\"rgb(255,206,58)\",\"rgb(255,206,58)\",\"rgb(255,206,58)\",\"rgb(255,206,58)\",\"rgb(255,206,58)\",\"rgb(255,206,58)\",\"rgb(255,206,58)\",\"rgb(255,206,58)\",\"rgb(255,206,58)\",\"rgb(255,206,58)\",\"rgb(255,206,58)\",\"rgb(255,206,58)\",\"rgb(255,206,58)\",\"rgb(255,206,58)\",\"rgb(255,206,58)\",\"rgb(255,206,58)\",\"rgb(255,206,58)\",\"rgb(255,206,58)\",\"rgb(255,206,58)\",\"rgb(255,206,58)\",\"rgb(255,206,58)\",\"rgb(255,206,58)\",\"rgb(255,206,58)\",\"rgb(255,206,58)\",\"rgb(255,206,58)\",\"rgb(255,206,58)\",\"rgb(255,206,58)\",\"rgb(255,206,58)\",\"rgb(255,206,58)\",\"rgb(255,206,58)\",\"rgb(255,206,58)\",\"rgb(255,206,58)\",\"rgb(255,206,58)\",\"rgb(255,206,58)\",\"rgb(255,206,58)\",\"rgb(255,206,58)\",\"rgb(255,206,58)\",\"rgb(255,206,58)\",\"rgb(255,206,58)\",\"rgb(255,206,58)\",\"rgb(206,126,0)\",\"rgb(206,126,0)\",\"rgb(206,126,0)\",\"rgb(206,126,0)\",\"rgb(206,126,0)\",\"rgb(206,126,0)\",\"rgb(206,126,0)\",\"rgb(206,126,0)\",\"rgb(206,126,0)\",\"rgb(206,126,0)\",\"rgb(206,126,0)\",\"rgb(206,126,0)\",\"rgb(206,126,0)\",\"rgb(206,126,0)\",\"rgb(206,126,0)\",\"rgb(206,126,0)\",\"rgb(206,126,0)\",\"rgb(206,126,0)\",\"rgb(206,126,0)\",\"rgb(206,126,0)\",\"rgb(206,126,0)\",\"rgb(206,126,0)\",\"rgb(206,126,0)\",\"rgb(206,126,0)\",\"rgb(206,126,0)\",\"rgb(206,126,0)\",\"rgb(206,126,0)\",\"rgb(206,126,0)\",\"rgb(206,126,0)\",\"rgb(206,126,0)\",\"rgb(206,126,0)\",\"rgb(206,126,0)\",\"rgb(206,126,0)\",\"rgb(206,126,0)\",\"rgb(206,126,0)\",\"rgb(206,126,0)\",\"rgb(206,126,0)\",\"rgb(206,126,0)\",\"rgb(206,126,0)\",\"rgb(206,126,0)\",\"rgb(206,126,0)\",\"rgb(206,126,0)\",\"rgb(206,126,0)\",\"rgb(206,126,0)\",\"rgb(206,126,0)\",\"rgb(206,126,0)\",\"rgb(206,126,0)\",\"rgb(206,126,0)\",\"rgb(206,126,0)\",\"rgb(206,126,0)\",\"rgb(206,126,0)\",\"rgb(206,126,0)\",\"rgb(206,126,0)\",\"rgb(206,126,0)\",\"rgb(206,126,0)\",\"rgb(206,126,0)\",\"rgb(206,126,0)\",\"rgb(206,126,0)\",\"rgb(206,126,0)\",\"rgb(206,126,0)\",\"rgb(206,126,0)\",\"rgb(206,126,0)\",\"rgb(206,126,0)\",\"rgb(206,126,0)\",\"rgb(206,126,0)\",\"rgb(206,126,0)\",\"rgb(206,126,0)\",\"rgb(206,126,0)\",\"rgb(206,126,0)\",\"rgb(206,126,0)\",\"rgb(206,126,0)\",\"rgb(206,126,0)\",\"rgb(206,126,0)\",\"rgb(206,126,0)\",\"rgb(206,126,0)\",\"rgb(206,126,0)\",\"rgb(206,126,0)\",\"rgb(206,126,0)\",\"rgb(206,126,0)\",\"rgb(206,126,0)\",\"rgb(206,126,0)\",\"rgb(206,126,0)\",\"rgb(135,206,235)\",\"rgb(135,206,235)\",\"rgb(135,206,235)\",\"rgb(135,206,235)\",\"rgb(135,206,235)\",\"rgb(135,206,235)\",\"rgb(135,206,235)\",\"rgb(135,206,235)\",\"rgb(135,206,235)\",\"rgb(135,206,235)\",\"rgb(135,206,235)\",\"rgb(135,206,235)\",\"rgb(135,206,235)\",\"rgb(135,206,235)\",\"rgb(135,206,235)\",\"rgb(135,206,235)\",\"rgb(135,206,235)\",\"rgb(135,206,235)\",\"rgb(135,206,235)\",\"rgb(135,206,235)\",\"rgb(135,206,235)\",\"rgb(135,206,235)\",\"rgb(135,206,235)\",\"rgb(135,206,235)\",\"rgb(135,206,235)\",\"rgb(135,206,235)\",\"rgb(135,206,235)\",\"rgb(135,206,235)\",\"rgb(135,206,235)\",\"rgb(135,206,235)\",\"rgb(135,206,235)\",\"rgb(135,206,235)\",\"rgb(135,206,235)\",\"rgb(135,206,235)\",\"rgb(135,206,235)\",\"rgb(135,206,235)\",\"rgb(135,206,235)\",\"rgb(135,206,235)\",\"rgb(135,206,235)\",\"rgb(135,206,235)\",\"rgb(135,206,235)\",\"rgb(135,206,235)\",\"rgb(135,206,235)\",\"rgb(135,206,235)\",\"rgb(135,206,235)\",\"rgb(135,206,235)\",\"rgb(135,206,235)\",\"rgb(135,206,235)\",\"rgb(135,206,235)\",\"rgb(135,206,235)\",\"rgb(135,206,235)\",\"rgb(135,206,235)\",\"rgb(135,206,235)\",\"rgb(135,206,235)\",\"rgb(135,206,235)\",\"rgb(135,206,235)\",\"rgb(135,206,235)\",\"rgb(135,206,235)\",\"rgb(135,206,235)\",\"rgb(135,206,235)\",\"rgb(135,206,235)\",\"rgb(135,206,235)\",\"rgb(135,206,235)\",\"rgb(135,206,235)\",\"rgb(135,206,235)\",\"rgb(135,206,235)\",\"rgb(135,206,235)\",\"rgb(135,206,235)\",\"rgb(135,206,235)\",\"rgb(135,206,235)\",\"rgb(135,206,235)\",\"rgb(135,206,235)\",\"rgb(135,206,235)\",\"rgb(135,206,235)\",\"rgb(135,206,235)\",\"rgb(135,206,235)\",\"rgb(135,206,235)\",\"rgb(135,206,235)\",\"rgb(135,206,235)\",\"rgb(135,206,235)\",\"rgb(135,206,235)\",\"rgb(135,206,235)\",\"rgb(135,206,235)\",\"rgb(135,206,235)\",\"rgb(135,206,235)\",\"rgb(135,206,235)\",\"rgb(135,206,235)\",\"rgb(135,206,235)\",\"rgb(143,206,0)\",\"rgb(143,206,0)\",\"rgb(143,206,0)\",\"rgb(143,206,0)\",\"rgb(143,206,0)\",\"rgb(143,206,0)\",\"rgb(143,206,0)\",\"rgb(143,206,0)\",\"rgb(143,206,0)\",\"rgb(143,206,0)\",\"rgb(143,206,0)\",\"rgb(143,206,0)\",\"rgb(143,206,0)\",\"rgb(143,206,0)\",\"rgb(143,206,0)\",\"rgb(143,206,0)\",\"rgb(143,206,0)\",\"rgb(143,206,0)\",\"rgb(143,206,0)\",\"rgb(143,206,0)\",\"rgb(143,206,0)\",\"rgb(143,206,0)\",\"rgb(143,206,0)\",\"rgb(143,206,0)\",\"rgb(143,206,0)\",\"rgb(143,206,0)\",\"rgb(143,206,0)\",\"rgb(143,206,0)\",\"rgb(143,206,0)\",\"rgb(143,206,0)\",\"rgb(143,206,0)\",\"rgb(143,206,0)\",\"rgb(143,206,0)\",\"rgb(143,206,0)\",\"rgb(143,206,0)\",\"rgb(143,206,0)\",\"rgb(143,206,0)\",\"rgb(143,206,0)\",\"rgb(143,206,0)\",\"rgb(143,206,0)\",\"rgb(143,206,0)\",\"rgb(143,206,0)\",\"rgb(143,206,0)\",\"rgb(143,206,0)\",\"rgb(143,206,0)\",\"rgb(143,206,0)\",\"rgb(143,206,0)\",\"rgb(143,206,0)\",\"rgb(143,206,0)\",\"rgb(143,206,0)\",\"rgb(143,206,0)\",\"rgb(143,206,0)\",\"rgb(143,206,0)\",\"rgb(143,206,0)\",\"rgb(143,206,0)\",\"rgb(143,206,0)\",\"rgb(143,206,0)\",\"rgb(143,206,0)\",\"rgb(143,206,0)\",\"rgb(143,206,0)\",\"rgb(143,206,0)\",\"rgb(143,206,0)\",\"rgb(143,206,0)\",\"rgb(143,206,0)\",\"rgb(143,206,0)\",\"rgb(143,206,0)\",\"rgb(143,206,0)\",\"rgb(143,206,0)\",\"rgb(143,206,0)\",\"rgb(143,206,0)\",\"rgb(143,206,0)\",\"rgb(143,206,0)\",\"rgb(143,206,0)\",\"rgb(143,206,0)\",\"rgb(143,206,0)\",\"rgb(143,206,0)\",\"rgb(143,206,0)\",\"rgb(143,206,0)\",\"rgb(143,206,0)\",\"rgb(143,206,0)\",\"rgb(143,206,0)\",\"rgb(143,206,0)\",\"rgb(143,206,0)\",\"rgb(143,206,0)\",\"rgb(143,206,0)\",\"rgb(143,206,0)\",\"rgb(143,206,0)\",\"rgb(255,206,58)\",\"rgb(255,206,58)\",\"rgb(255,206,58)\",\"rgb(255,206,58)\",\"rgb(255,206,58)\",\"rgb(255,206,58)\",\"rgb(255,206,58)\",\"rgb(255,206,58)\",\"rgb(255,206,58)\",\"rgb(255,206,58)\",\"rgb(255,206,58)\",\"rgb(255,206,58)\",\"rgb(255,206,58)\",\"rgb(255,206,58)\",\"rgb(255,206,58)\",\"rgb(255,206,58)\",\"rgb(255,206,58)\",\"rgb(255,206,58)\",\"rgb(255,206,58)\",\"rgb(255,206,58)\",\"rgb(255,206,58)\",\"rgb(255,206,58)\",\"rgb(255,206,58)\",\"rgb(255,206,58)\",\"rgb(255,206,58)\",\"rgb(255,206,58)\",\"rgb(255,206,58)\",\"rgb(255,206,58)\",\"rgb(255,206,58)\",\"rgb(255,206,58)\",\"rgb(255,206,58)\",\"rgb(255,206,58)\",\"rgb(255,206,58)\",\"rgb(255,206,58)\",\"rgb(255,206,58)\",\"rgb(255,206,58)\",\"rgb(255,206,58)\",\"rgb(255,206,58)\",\"rgb(255,206,58)\",\"rgb(255,206,58)\",\"rgb(255,206,58)\",\"rgb(255,206,58)\",\"rgb(255,206,58)\",\"rgb(255,206,58)\",\"rgb(255,206,58)\",\"rgb(255,206,58)\"],\"line\":{\"color\":\"#2c3e50\",\"width\":1},\"opacity\":0.7,\"size\":[18.57142857142857,18.57142857142857,10.0,14.285714285714285,10.0,10.0,10.0,18.57142857142857,10.0,10.0,10.0,10.0,10.0,10.0,10.0,10.0,10.0,22.857142857142854,10.0,10.0,10.0,10.0,10.0,10.0,10.0,10.0,10.0,10.0,10.0,10.0,10.0,10.0,10.0,10.0,10.0,10.0,10.0,10.0,14.285714285714285,18.57142857142857,14.285714285714285,10.0,10.0,14.285714285714285,14.285714285714285,14.285714285714285,10.0,14.285714285714285,10.0,10.0,10.0,10.0,10.0,10.0,10.0,14.285714285714285,14.285714285714285,10.0,10.0,10.0,10.0,10.0,10.0,10.0,14.285714285714285,10.0,10.0,10.0,14.285714285714285,10.0,10.0,10.0,10.0,10.0,10.0,10.0,10.0,10.0,10.0,14.285714285714285,10.0,14.285714285714285,18.57142857142857,10.0,10.0,10.0,10.0,10.0,14.285714285714285,14.285714285714285,10.0,14.285714285714285,10.0,10.0,10.0,10.0,10.0,10.0,18.57142857142857,10.0,10.0,10.0,14.285714285714285,10.0,10.0,10.0,10.0,10.0,10.0,10.0,10.0,10.0,10.0,10.0,10.0,10.0,10.0,10.0,10.0,10.0,10.0,10.0,10.0,10.0,10.0,10.0,10.0,10.0,10.0,10.0,10.0,10.0,10.0,10.0,18.57142857142857,10.0,14.285714285714285,10.0,10.0,10.0,10.0,14.285714285714285,10.0,10.0,10.0,10.0,14.285714285714285,10.0,14.285714285714285,10.0,10.0,10.0,10.0,10.0,10.0,14.285714285714285,10.0,10.0,10.0,10.0,14.285714285714285,10.0,10.0,18.57142857142857,14.285714285714285,10.0,10.0,10.0,10.0,18.57142857142857,14.285714285714285,14.285714285714285,10.0,10.0,10.0,10.0,14.285714285714285,10.0,10.0,14.285714285714285,14.285714285714285,10.0,10.0,10.0,14.285714285714285,10.0,14.285714285714285,10.0,10.0,10.0,14.285714285714285,14.285714285714285,14.285714285714285,10.0,14.285714285714285,14.285714285714285,10.0,14.285714285714285,10.0,10.0,10.0,18.57142857142857,10.0,10.0,10.0,10.0,10.0,10.0,10.0,10.0,10.0,10.0,10.0,10.0,10.0,10.0,10.0,10.0,10.0,10.0,10.0,14.285714285714285,10.0,10.0,10.0,10.0,14.285714285714285,10.0,18.57142857142857,10.0,10.0,14.285714285714285,10.0,14.285714285714285,10.0,10.0,10.0,10.0,10.0,10.0,10.0,18.57142857142857,14.285714285714285,10.0,10.0,10.0,14.285714285714285,10.0,10.0,14.285714285714285,10.0,10.0,10.0,14.285714285714285,10.0,10.0,10.0,22.857142857142854,14.285714285714285,18.57142857142857,10.0,10.0,10.0,18.57142857142857,10.0,14.285714285714285,10.0,10.0,10.0,14.285714285714285,14.285714285714285,10.0,18.57142857142857,10.0,10.0,10.0,10.0,10.0,10.0,14.285714285714285,10.0,10.0,10.0,18.57142857142857,10.0,14.285714285714285,10.0,10.0,14.285714285714285,10.0,10.0,10.0,18.57142857142857,10.0,14.285714285714285,14.285714285714285,10.0,10.0,14.285714285714285,14.285714285714285,14.285714285714285,10.0,10.0,10.0,40.0,22.857142857142854,10.0,14.285714285714285,14.285714285714285,10.0,10.0,10.0,14.285714285714285,22.857142857142854,14.285714285714285,18.57142857142857,10.0,18.57142857142857,18.57142857142857,10.0,10.0,10.0,10.0,10.0,18.57142857142857,10.0,18.57142857142857,14.285714285714285,10.0,18.57142857142857,10.0,14.285714285714285,14.285714285714285,14.285714285714285,14.285714285714285,10.0,14.285714285714285,18.57142857142857,18.57142857142857,10.0,14.285714285714285,14.285714285714285,18.57142857142857,10.0,14.285714285714285,10.0,14.285714285714285,10.0,10.0,10.0,18.57142857142857,10.0,14.285714285714285,10.0,10.0,10.0,18.57142857142857,35.71428571428571,14.285714285714285,10.0,18.57142857142857,10.0,10.0,10.0,14.285714285714285,10.0,10.0,10.0,14.285714285714285,10.0,10.0,10.0,14.285714285714285,14.285714285714285,22.857142857142854,18.57142857142857,14.285714285714285,10.0,10.0,10.0,10.0,10.0,10.0,18.57142857142857,10.0,14.285714285714285,10.0,10.0,10.0,10.0,10.0,18.57142857142857,10.0,10.0,14.285714285714285,10.0,10.0,10.0,10.0,35.71428571428571,14.285714285714285,14.285714285714285,18.57142857142857,10.0,10.0,10.0,10.0,14.285714285714285,10.0,10.0,18.57142857142857,14.285714285714285,14.285714285714285,14.285714285714285,14.285714285714285,10.0,10.0,10.0,14.285714285714285,10.0,14.285714285714285,10.0,14.285714285714285,18.57142857142857,10.0,14.285714285714285,10.0,14.285714285714285,10.0,10.0,14.285714285714285,10.0,14.285714285714285,10.0,10.0,10.0,10.0,14.285714285714285,31.42857142857143,10.0,14.285714285714285,10.0,14.285714285714285,10.0,14.285714285714285,10.0,14.285714285714285,22.857142857142854,18.57142857142857,14.285714285714285,10.0,18.57142857142857,10.0,10.0,10.0,14.285714285714285,14.285714285714285,10.0,10.0,14.285714285714285,10.0,18.57142857142857,10.0,18.57142857142857,10.0,10.0,14.285714285714285,14.285714285714285,10.0,10.0,10.0,14.285714285714285,10.0,10.0,10.0,10.0,10.0,10.0,10.0,10.0,10.0,14.285714285714285,10.0,10.0,10.0,10.0,14.285714285714285,14.285714285714285,14.285714285714285,18.57142857142857,10.0,14.285714285714285,10.0,10.0,14.285714285714285,10.0,10.0,10.0,10.0,10.0,14.285714285714285,10.0,10.0,10.0,10.0,10.0,10.0,14.285714285714285,14.285714285714285,10.0,14.285714285714285,10.0,10.0,14.285714285714285,14.285714285714285,14.285714285714285,14.285714285714285,10.0,10.0,10.0,10.0,10.0,10.0,10.0,10.0,10.0,14.285714285714285,10.0,10.0,10.0,10.0,18.57142857142857,10.0,14.285714285714285,10.0,10.0,14.285714285714285,14.285714285714285,10.0,18.57142857142857,10.0,10.0,18.57142857142857,10.0,14.285714285714285,10.0,10.0,10.0,14.285714285714285,10.0,10.0,10.0,10.0,10.0,10.0,10.0,10.0,22.857142857142854,10.0,10.0,10.0,10.0,10.0,18.57142857142857,10.0,14.285714285714285,10.0,18.57142857142857,14.285714285714285,10.0,10.0,14.285714285714285,18.57142857142857,10.0,14.285714285714285,14.285714285714285,10.0,18.57142857142857,10.0,10.0,22.857142857142854,10.0,10.0,10.0,14.285714285714285,10.0,10.0,14.285714285714285,18.57142857142857,27.142857142857142,14.285714285714285,10.0,10.0,10.0,10.0,10.0,18.57142857142857,10.0,10.0,18.57142857142857,18.57142857142857,10.0,18.57142857142857,14.285714285714285,10.0,10.0,10.0,10.0,10.0,10.0,10.0,22.857142857142854,10.0,18.57142857142857,10.0,10.0,10.0,10.0,14.285714285714285,14.285714285714285,18.57142857142857,10.0,10.0,10.0,10.0,10.0,10.0,10.0,18.57142857142857,10.0,14.285714285714285,10.0,18.57142857142857,10.0,10.0,14.285714285714285,10.0,22.857142857142854,10.0,10.0,10.0,14.285714285714285,14.285714285714285,10.0,10.0,10.0,18.57142857142857,10.0,10.0,10.0,14.285714285714285,10.0,14.285714285714285,10.0,10.0,18.57142857142857,14.285714285714285,10.0,14.285714285714285,22.857142857142854,14.285714285714285,14.285714285714285,10.0,14.285714285714285,10.0,14.285714285714285,10.0,14.285714285714285,10.0,10.0,14.285714285714285,10.0,10.0,10.0,10.0,14.285714285714285,18.57142857142857,14.285714285714285,10.0,10.0,10.0,10.0,10.0,10.0,10.0,10.0,10.0,10.0,10.0,14.285714285714285,10.0,10.0,10.0,10.0,10.0,10.0,10.0,10.0,10.0,10.0,14.285714285714285,14.285714285714285,14.285714285714285,10.0,10.0,14.285714285714285,10.0,14.285714285714285,14.285714285714285,14.285714285714285,10.0,14.285714285714285,14.285714285714285,14.285714285714285,10.0,18.57142857142857,14.285714285714285,14.285714285714285,14.285714285714285,14.285714285714285,18.57142857142857,18.57142857142857,14.285714285714285,10.0,14.285714285714285,10.0,14.285714285714285,10.0,18.57142857142857,18.57142857142857,14.285714285714285,10.0,10.0,14.285714285714285,18.57142857142857,10.0,18.57142857142857,18.57142857142857,10.0,10.0,14.285714285714285,10.0,14.285714285714285,10.0,10.0,10.0,10.0,10.0,14.285714285714285,10.0,10.0,10.0,10.0,10.0,10.0,10.0,10.0,10.0,10.0,10.0,31.42857142857143,10.0,27.142857142857142,14.285714285714285,14.285714285714285,18.57142857142857,10.0,14.285714285714285,14.285714285714285,14.285714285714285,14.285714285714285,14.285714285714285,10.0,14.285714285714285,10.0,18.57142857142857,14.285714285714285,14.285714285714285,10.0,14.285714285714285,10.0,10.0,10.0,18.57142857142857,10.0,10.0,10.0,10.0,10.0,10.0,10.0,14.285714285714285,14.285714285714285,14.285714285714285,14.285714285714285,14.285714285714285,18.57142857142857,14.285714285714285,14.285714285714285,10.0,10.0,10.0,10.0,14.285714285714285,18.57142857142857,14.285714285714285,10.0,10.0,10.0,14.285714285714285,10.0,10.0,14.285714285714285,10.0,14.285714285714285,18.57142857142857,10.0,10.0,10.0,14.285714285714285,14.285714285714285,14.285714285714285,10.0,10.0,10.0,14.285714285714285,14.285714285714285,14.285714285714285,14.285714285714285,14.285714285714285,14.285714285714285,14.285714285714285,10.0,10.0,10.0,10.0,14.285714285714285,10.0,10.0,14.285714285714285,10.0,14.285714285714285,10.0,10.0,10.0,14.285714285714285,10.0,14.285714285714285,14.285714285714285,10.0,14.285714285714285,14.285714285714285,18.57142857142857,18.57142857142857,14.285714285714285,10.0,10.0,14.285714285714285,10.0,10.0,10.0,10.0,10.0,14.285714285714285,14.285714285714285,14.285714285714285,10.0,14.285714285714285,10.0,14.285714285714285,14.285714285714285,14.285714285714285,27.142857142857142,14.285714285714285,14.285714285714285,18.57142857142857,14.285714285714285,10.0,10.0,14.285714285714285,14.285714285714285,18.57142857142857,14.285714285714285,10.0,18.57142857142857,10.0,14.285714285714285,10.0,14.285714285714285,10.0,22.857142857142854,10.0,10.0,27.142857142857142,10.0,10.0,10.0,14.285714285714285,14.285714285714285,14.285714285714285,14.285714285714285,14.285714285714285,40.0,14.285714285714285,18.57142857142857,18.57142857142857,22.857142857142854,22.857142857142854,14.285714285714285,18.57142857142857,14.285714285714285,27.142857142857142,14.285714285714285,18.57142857142857,10.0,14.285714285714285,14.285714285714285,22.857142857142854,10.0,10.0,14.285714285714285,10.0,18.57142857142857,14.285714285714285,14.285714285714285,10.0,14.285714285714285,18.57142857142857,14.285714285714285,14.285714285714285,14.285714285714285,10.0,10.0,10.0,10.0,10.0,10.0,10.0,10.0,10.0,10.0,18.57142857142857,10.0,10.0,10.0,10.0,14.285714285714285]},\"mode\":\"markers\",\"x\":[\"1930-01-01T00:00:00\",\"1942-01-01T00:00:00\",\"1946-11-01T00:00:00\",\"1950-01-01T00:00:00\",\"1952-01-01T00:00:00\",\"1957-01-01T00:00:00\",\"1957-01-01T00:00:00\",\"1958-01-01T00:00:00\",\"1958-01-01T00:00:00\",\"1958-01-01T00:00:00\",\"1959-01-01T00:00:00\",\"1959-11-16T00:00:00\",\"1963-10-14T00:00:00\",\"1963-11-22T00:00:00\",\"1963-11-22T00:00:00\",\"1968-07-01T00:00:00\",\"1970-11-01T00:00:00\",\"1971-12-01T00:00:00\",\"1973-01-05T00:00:00\",\"1975-01-01T00:00:00\",\"1975-10-31T00:00:00\",\"1979-11-16T00:00:00\",\"1982-01-01T00:00:00\",\"1982-05-16T00:00:00\",\"1983-01-06T00:00:00\",\"1984-01-01T00:00:00\",\"1984-01-01T00:00:00\",\"1984-10-19T00:00:00\",\"1984-11-25T00:00:00\",\"1985-02-17T00:00:00\",\"1985-09-16T00:00:00\",\"1986-01-01T00:00:00\",\"1986-03-03T00:00:00\",\"1987-01-01T00:00:00\",\"1991-09-10T00:00:00\",\"1991-09-24T00:00:00\",\"1992-09-21T00:00:00\",\"1994-10-28T00:00:00\",\"1995-07-11T00:00:00\",\"1995-12-28T00:00:00\",\"1996-11-24T00:00:00\",\"1997-01-01T00:00:00\",\"1998-03-31T00:00:00\",\"1999-01-01T00:00:00\",\"1999-01-01T00:00:00\",\"1999-01-01T00:00:00\",\"1999-01-01T00:00:00\",\"1999-11-21T00:00:00\",\"2000-01-01T00:00:00\",\"2000-07-10T00:00:00\",\"2000-10-24T00:00:00\",\"2000-11-07T00:00:00\",\"2002-01-01T00:00:00\",\"2002-01-01T00:00:00\",\"2002-01-01T00:00:00\",\"2002-05-26T00:00:00\",\"2002-05-26T00:00:00\",\"2002-08-05T00:00:00\",\"2003-03-24T00:00:00\",\"2003-09-23T00:00:00\",\"2004-01-01T00:00:00\",\"2004-01-01T00:00:00\",\"2004-05-04T00:00:00\",\"2004-07-13T00:00:00\",\"2005-09-20T00:00:00\",\"2007-04-20T00:00:00\",\"2008-01-01T00:00:00\",\"2008-01-01T00:00:00\",\"2010-01-01T00:00:00\",\"2010-01-01T00:00:00\",\"2010-01-01T00:00:00\",\"2010-05-25T00:00:00\",\"2010-07-20T00:00:00\",\"2010-10-04T00:00:00\",\"2010-11-29T00:00:00\",\"2011-01-01T00:00:00\",\"2011-01-01T00:00:00\",\"2011-01-01T00:00:00\",\"2011-01-01T00:00:00\",\"2011-01-01T00:00:00\",\"2011-01-01T00:00:00\",\"2011-01-01T00:00:00\",\"2011-08-16T00:00:00\",\"2011-10-14T00:00:00\",\"2011-10-14T00:00:00\",\"2012-01-01T00:00:00\",\"2012-01-01T00:00:00\",\"2012-01-01T00:00:00\",\"2012-01-01T00:00:00\",\"2012-01-01T00:00:00\",\"2012-05-14T00:00:00\",\"2012-06-20T00:00:00\",\"2012-10-15T00:00:00\",\"2012-12-05T00:00:00\",\"2012-12-05T00:00:00\",\"2013-01-01T00:00:00\",\"2013-01-01T00:00:00\",\"2013-01-01T00:00:00\",\"2013-01-01T00:00:00\",\"2013-01-01T00:00:00\",\"2013-01-01T00:00:00\",\"2013-01-01T00:00:00\",\"2013-07-16T00:00:00\",\"2013-08-01T00:00:00\",\"2013-08-16T00:00:00\",\"2013-09-13T00:00:00\",\"2013-10-25T00:00:00\",\"2013-12-13T00:00:00\",\"2014-01-01T00:00:00\",\"2014-01-01T00:00:00\",\"2014-01-01T00:00:00\",\"2014-01-01T00:00:00\",\"2014-01-01T00:00:00\",\"2014-01-01T00:00:00\",\"2014-01-01T00:00:00\",\"2014-06-05T00:00:00\",\"2014-06-20T00:00:00\",\"2014-08-08T00:00:00\",\"2014-11-17T00:00:00\",\"2014-11-28T00:00:00\",\"2014-12-09T00:00:00\",\"2015-01-01T00:00:00\",\"2015-01-01T00:00:00\",\"2015-01-11T00:00:00\",\"2015-02-02T00:00:00\",\"2015-04-22T00:00:00\",\"2015-05-10T00:00:00\",\"2015-05-27T00:00:00\",\"2015-06-22T00:00:00\",\"2015-07-24T00:00:00\",\"2015-10-30T00:00:00\",\"2015-11-09T00:00:00\",\"2016-01-15T00:00:00\",\"2016-01-21T00:00:00\",\"2016-04-04T00:00:00\",\"2016-04-20T00:00:00\",\"2016-05-31T00:00:00\",\"2016-06-23T00:00:00\",\"2016-08-05T00:00:00\",\"2016-08-20T00:00:00\",\"2016-09-09T00:00:00\",\"2016-09-21T00:00:00\",\"2016-09-23T00:00:00\",\"2016-09-27T00:00:00\",\"2016-11-04T00:00:00\",\"2016-11-10T00:00:00\",\"2016-11-18T00:00:00\",\"2016-11-24T00:00:00\",\"2016-11-24T00:00:00\",\"2016-11-25T00:00:00\",\"2017-01-01T00:00:00\",\"2017-01-01T00:00:00\",\"2017-01-06T00:00:00\",\"2017-01-31T00:00:00\",\"2017-02-20T00:00:00\",\"2017-02-22T00:00:00\",\"2017-03-21T00:00:00\",\"2017-03-30T00:00:00\",\"2017-03-30T00:00:00\",\"2017-04-28T00:00:00\",\"2017-06-02T00:00:00\",\"2017-06-15T00:00:00\",\"2017-06-23T00:00:00\",\"2017-07-21T00:00:00\",\"2017-08-11T00:00:00\",\"2017-08-25T00:00:00\",\"2017-10-04T00:00:00\",\"2017-10-20T00:00:00\",\"2017-11-08T00:00:00\",\"2017-11-10T00:00:00\",\"2017-11-10T00:00:00\",\"2017-11-10T00:00:00\",\"2017-12-08T00:00:00\",\"2018-03-09T00:00:00\",\"2018-03-16T00:00:00\",\"2018-03-29T00:00:00\",\"2018-03-29T00:00:00\",\"2018-05-25T00:00:00\",\"2018-09-12T00:00:00\",\"2018-09-27T00:00:00\",\"2018-10-09T00:00:00\",\"2018-11-08T00:00:00\",\"2018-11-21T00:00:00\",\"2019-01-01T00:00:00\",\"2019-01-11T00:00:00\",\"2019-03-07T00:00:00\",\"2019-04-12T00:00:00\",\"2019-05-10T00:00:00\",\"2019-05-10T00:00:00\",\"2019-05-10T00:00:00\",\"2019-05-16T00:00:00\",\"2019-05-31T00:00:00\",\"2019-06-19T00:00:00\",\"2019-06-21T00:00:00\",\"2019-06-28T00:00:00\",\"2019-06-28T00:00:00\",\"2019-07-26T00:00:00\",\"2019-08-04T00:00:00\",\"2019-08-23T00:00:00\",\"2019-08-23T00:00:00\",\"2019-08-30T00:00:00\",\"2019-08-30T00:00:00\",\"2019-09-13T00:00:00\",\"2019-09-20T00:00:00\",\"2019-10-04T00:00:00\",\"2019-10-04T00:00:00\",\"2019-10-04T00:00:00\",\"2019-10-04T00:00:00\",\"2019-10-04T00:00:00\",\"2019-10-18T00:00:00\",\"2019-10-31T00:00:00\",\"2019-11-01T00:00:00\",\"2019-11-07T00:00:00\",\"2019-11-07T00:00:00\",\"2019-11-17T00:00:00\",\"2019-11-29T00:00:00\",\"2019-12-06T00:00:00\",\"2019-12-13T00:00:00\",\"2019-12-13T00:00:00\",\"2020-01-01T00:00:00\",\"2020-01-10T00:00:00\",\"2020-01-16T00:00:00\",\"2020-02-10T00:00:00\",\"2020-02-19T00:00:00\",\"2020-02-21T00:00:00\",\"2020-02-29T00:00:00\",\"2020-02-29T00:00:00\",\"2020-02-29T00:00:00\",\"2020-03-13T00:00:00\",\"2020-03-20T00:00:00\",\"2020-03-20T00:00:00\",\"2020-03-20T00:00:00\",\"2020-03-27T00:00:00\",\"2020-03-27T00:00:00\",\"2020-04-17T00:00:00\",\"2020-05-20T00:00:00\",\"2020-06-05T00:00:00\",\"2020-06-28T00:00:00\",\"2020-07-17T00:00:00\",\"2020-07-24T00:00:00\",\"2020-07-24T00:00:00\",\"2020-07-24T00:00:00\",\"2020-07-24T00:00:00\",\"2020-08-21T00:00:00\",\"2020-09-03T00:00:00\",\"2020-09-18T00:00:00\",\"2020-09-21T00:00:00\",\"2020-10-08T00:00:00\",\"2020-10-23T00:00:00\",\"2020-10-30T00:00:00\",\"2020-11-02T00:00:00\",\"2020-11-27T00:00:00\",\"2020-12-18T00:00:00\",\"2020-12-18T00:00:00\",\"2020-12-24T00:00:00\",\"2020-12-25T00:00:00\",\"2021-01-08T00:00:00\",\"2021-01-15T00:00:00\",\"2021-01-28T00:00:00\",\"2021-03-05T00:00:00\",\"2021-03-11T00:00:00\",\"2021-03-19T00:00:00\",\"2021-03-19T00:00:00\",\"2021-03-19T00:00:00\",\"2021-04-01T00:00:00\",\"2021-04-09T00:00:00\",\"2021-04-09T00:00:00\",\"2021-04-09T00:00:00\",\"2021-04-14T00:00:00\",\"2021-04-28T00:00:00\",\"2021-04-29T00:00:00\",\"2021-04-30T00:00:00\",\"2021-05-07T00:00:00\",\"2021-05-14T00:00:00\",\"2021-05-15T00:00:00\",\"2021-05-21T00:00:00\",\"2021-05-21T00:00:00\",\"2021-05-21T00:00:00\",\"2021-05-21T00:00:00\",\"2021-05-21T00:00:00\",\"2021-06-04T00:00:00\",\"2021-06-11T00:00:00\",\"2021-06-11T00:00:00\",\"2021-06-24T00:00:00\",\"2021-06-24T00:00:00\",\"2021-06-24T00:00:00\",\"2021-06-25T00:00:00\",\"2021-06-25T00:00:00\",\"2021-06-25T00:00:00\",\"2021-06-25T00:00:00\",\"2021-06-25T00:00:00\",\"2021-07-08T00:00:00\",\"2021-07-08T00:00:00\",\"2021-07-09T00:00:00\",\"2021-07-09T00:00:00\",\"2021-07-23T00:00:00\",\"2021-07-28T00:00:00\",\"2021-07-30T00:00:00\",\"2021-07-30T00:00:00\",\"2021-08-01T00:00:00\",\"2021-08-03T00:00:00\",\"2021-08-06T00:00:00\",\"2021-08-09T00:00:00\",\"2021-08-10T00:00:00\",\"2021-08-12T00:00:00\",\"2021-08-13T00:00:00\",\"2021-08-13T00:00:00\",\"2021-08-20T00:00:00\",\"2021-08-27T00:00:00\",\"2021-08-29T00:00:00\",\"2021-09-01T00:00:00\",\"2021-09-01T00:00:00\",\"2021-09-02T00:00:00\",\"2021-09-03T00:00:00\",\"2021-09-03T00:00:00\",\"2021-09-03T00:00:00\",\"2021-09-03T00:00:00\",\"2021-09-03T00:00:00\",\"2021-09-08T00:00:00\",\"2021-09-09T00:00:00\",\"2021-09-09T00:00:00\",\"2021-09-10T00:00:00\",\"2021-09-10T00:00:00\",\"2021-09-10T00:00:00\",\"2021-09-16T00:00:00\",\"2021-09-17T00:00:00\",\"2021-09-24T00:00:00\",\"2021-09-24T00:00:00\",\"2021-10-01T00:00:00\",\"2021-10-05T00:00:00\",\"2021-10-14T00:00:00\",\"2021-10-14T00:00:00\",\"2021-10-21T00:00:00\",\"2021-10-22T00:00:00\",\"2021-10-22T00:00:00\",\"2021-10-22T00:00:00\",\"2021-10-22T00:00:00\",\"2021-10-27T00:00:00\",\"2021-10-27T00:00:00\",\"2021-10-30T00:00:00\",\"2021-11-04T00:00:00\",\"2021-11-05T00:00:00\",\"2021-11-05T00:00:00\",\"2021-11-05T00:00:00\",\"2021-11-11T00:00:00\",\"2021-11-11T00:00:00\",\"2021-11-11T00:00:00\",\"2021-11-12T00:00:00\",\"2021-11-17T00:00:00\",\"2021-11-18T00:00:00\",\"2021-11-18T00:00:00\",\"2021-11-19T00:00:00\",\"2021-11-19T00:00:00\",\"2021-11-19T00:00:00\",\"2021-11-19T00:00:00\",\"2021-11-19T00:00:00\",\"2021-11-19T00:00:00\",\"2021-11-19T00:00:00\",\"2021-11-19T00:00:00\",\"2021-11-25T00:00:00\",\"2021-11-30T00:00:00\",\"2021-12-01T00:00:00\",\"2021-12-01T00:00:00\",\"2021-12-03T00:00:00\",\"2021-12-03T00:00:00\",\"2021-12-10T00:00:00\",\"2021-12-10T00:00:00\",\"2021-12-17T00:00:00\",\"2021-12-23T00:00:00\",\"2021-12-24T00:00:00\",\"2021-12-24T00:00:00\",\"2021-12-24T00:00:00\",\"2021-12-29T00:00:00\",\"2021-12-29T00:00:00\",\"2022-01-05T00:00:00\",\"2022-01-05T00:00:00\",\"2022-01-07T00:00:00\",\"2022-01-07T00:00:00\",\"2022-01-07T00:00:00\",\"2022-01-07T00:00:00\",\"2022-01-07T00:00:00\",\"2022-01-07T00:00:00\",\"2022-01-07T00:00:00\",\"2022-01-07T00:00:00\",\"2022-01-07T00:00:00\",\"2022-01-07T00:00:00\",\"2022-01-07T00:00:00\",\"2022-01-07T00:00:00\",\"2022-01-07T00:00:00\",\"2022-01-07T00:00:00\",\"2022-01-07T00:00:00\",\"2022-01-07T00:00:00\",\"2022-01-07T00:00:00\",\"2022-01-07T00:00:00\",\"2022-01-07T00:00:00\",\"2022-01-09T00:00:00\",\"2022-01-10T00:00:00\",\"2022-01-10T00:00:00\",\"2022-01-10T00:00:00\",\"2022-01-14T00:00:00\",\"2022-01-14T00:00:00\",\"2022-01-15T00:00:00\",\"2022-01-17T00:00:00\",\"2022-01-19T00:00:00\",\"2022-01-20T00:00:00\",\"2022-01-21T00:00:00\",\"2022-01-21T00:00:00\",\"2022-01-26T00:00:00\",\"2022-01-28T00:00:00\",\"2022-01-28T00:00:00\",\"2022-01-30T00:00:00\",\"2022-02-01T00:00:00\",\"2022-02-02T00:00:00\",\"2022-02-04T00:00:00\",\"2022-02-04T00:00:00\",\"2022-02-04T00:00:00\",\"2022-02-04T00:00:00\",\"2022-02-06T00:00:00\",\"2022-02-06T00:00:00\",\"2022-02-09T00:00:00\",\"2022-02-10T00:00:00\",\"2022-02-11T00:00:00\",\"2022-02-11T00:00:00\",\"2022-02-11T00:00:00\",\"2022-02-11T00:00:00\",\"2022-02-11T00:00:00\",\"2022-02-11T00:00:00\",\"2022-02-14T00:00:00\",\"2022-02-15T00:00:00\",\"2022-02-17T00:00:00\",\"2022-02-18T00:00:00\",\"2022-02-18T00:00:00\",\"2022-02-18T00:00:00\",\"2022-02-18T00:00:00\",\"2022-02-18T00:00:00\",\"2022-02-22T00:00:00\",\"2022-02-22T00:00:00\",\"2022-02-25T00:00:00\",\"2022-02-25T00:00:00\",\"2022-03-03T00:00:00\",\"2022-03-03T00:00:00\",\"2022-03-03T00:00:00\",\"2022-03-04T00:00:00\",\"2022-03-10T00:00:00\",\"2022-03-11T00:00:00\",\"2022-03-11T00:00:00\",\"2022-03-14T00:00:00\",\"2022-03-17T00:00:00\",\"2022-03-18T00:00:00\",\"2022-03-18T00:00:00\",\"2022-03-18T00:00:00\",\"2022-03-18T00:00:00\",\"2022-03-19T00:00:00\",\"2022-03-23T00:00:00\",\"2022-03-23T00:00:00\",\"2022-03-24T00:00:00\",\"2022-03-25T00:00:00\",\"2022-03-25T00:00:00\",\"2022-03-25T00:00:00\",\"2022-03-25T00:00:00\",\"2022-03-30T00:00:00\",\"2022-03-30T00:00:00\",\"2022-03-31T00:00:00\",\"2022-03-31T00:00:00\",\"2022-03-31T00:00:00\",\"2022-04-01T00:00:00\",\"2022-04-01T00:00:00\",\"2022-04-01T00:00:00\",\"2022-04-05T00:00:00\",\"2022-04-05T00:00:00\",\"2022-04-06T00:00:00\",\"2022-04-07T00:00:00\",\"2022-04-08T00:00:00\",\"2022-04-08T00:00:00\",\"2022-04-08T00:00:00\",\"2022-04-08T00:00:00\",\"2022-04-08T00:00:00\",\"2022-04-13T00:00:00\",\"2022-04-14T00:00:00\",\"2022-04-20T00:00:00\",\"2022-04-21T00:00:00\",\"2022-04-21T00:00:00\",\"2022-04-22T00:00:00\",\"2022-04-22T00:00:00\",\"2022-04-22T00:00:00\",\"2022-04-22T00:00:00\",\"2022-04-22T00:00:00\",\"2022-04-24T00:00:00\",\"2022-04-25T00:00:00\",\"2022-04-27T00:00:00\",\"2022-04-28T00:00:00\",\"2022-04-29T00:00:00\",\"2022-04-29T00:00:00\",\"2022-04-29T00:00:00\",\"2022-04-29T00:00:00\",\"2022-05-02T00:00:00\",\"2022-05-02T00:00:00\",\"2022-05-03T00:00:00\",\"2022-05-06T00:00:00\",\"2022-05-06T00:00:00\",\"2022-05-06T00:00:00\",\"2022-05-06T00:00:00\",\"2022-05-06T00:00:00\",\"2022-05-06T00:00:00\",\"2022-05-06T00:00:00\",\"2022-05-06T00:00:00\",\"2022-05-06T00:00:00\",\"2022-05-06T00:00:00\",\"2022-05-06T00:00:00\",\"2022-05-06T00:00:00\",\"2022-05-06T00:00:00\",\"2022-05-06T00:00:00\",\"2022-05-06T00:00:00\",\"2022-05-06T00:00:00\",\"2022-05-06T00:00:00\",\"2022-05-06T00:00:00\",\"2022-05-06T00:00:00\",\"2022-05-06T00:00:00\",\"2022-05-06T00:00:00\",\"2022-05-06T00:00:00\",\"2022-05-06T00:00:00\",\"2022-05-06T00:00:00\",\"2022-05-06T00:00:00\",\"2022-05-06T00:00:00\",\"2022-05-06T00:00:00\",\"2022-05-08T00:00:00\",\"2022-05-12T00:00:00\",\"2022-05-12T00:00:00\",\"2022-05-13T00:00:00\",\"2022-05-13T00:00:00\",\"2022-05-13T00:00:00\",\"2022-05-13T00:00:00\",\"2022-05-13T00:00:00\",\"2022-05-13T00:00:00\",\"2022-05-13T00:00:00\",\"2022-05-13T00:00:00\",\"2022-05-13T00:00:00\",\"2022-05-13T00:00:00\",\"2022-05-13T00:00:00\",\"2022-05-13T00:00:00\",\"2022-05-13T00:00:00\",\"2022-05-13T00:00:00\",\"2022-05-13T00:00:00\",\"2022-05-13T00:00:00\",\"2022-05-13T00:00:00\",\"2022-05-13T00:00:00\",\"2022-05-13T00:00:00\",\"2022-05-13T00:00:00\",\"2022-05-13T00:00:00\",\"2022-05-13T00:00:00\",\"2022-05-13T00:00:00\",\"2022-05-20T00:00:00\",\"2022-05-20T00:00:00\",\"2022-05-20T00:00:00\",\"2022-05-20T00:00:00\",\"2022-05-20T00:00:00\",\"2022-05-20T00:00:00\",\"2022-05-20T00:00:00\",\"2022-05-20T00:00:00\",\"2022-05-20T00:00:00\",\"2022-05-20T00:00:00\",\"2022-05-20T00:00:00\",\"2022-05-20T00:00:00\",\"2022-05-20T00:00:00\",\"2022-05-20T00:00:00\",\"2022-05-25T00:00:00\",\"2022-05-26T00:00:00\",\"2022-05-27T00:00:00\",\"2022-05-27T00:00:00\",\"2022-05-31T00:00:00\",\"2022-06-02T00:00:00\",\"2022-06-02T00:00:00\",\"2022-06-03T00:00:00\",\"2022-06-03T00:00:00\",\"2022-06-03T00:00:00\",\"2022-06-08T00:00:00\",\"2022-06-09T00:00:00\",\"2022-06-10T00:00:00\",\"2022-06-10T00:00:00\",\"2022-06-10T00:00:00\",\"2022-06-10T00:00:00\",\"2022-06-10T00:00:00\",\"2022-06-10T00:00:00\",\"2022-06-10T00:00:00\",\"2022-06-10T00:00:00\",\"2022-06-10T00:00:00\",\"2022-06-10T00:00:00\",\"2022-06-15T00:00:00\",\"2022-06-16T00:00:00\",\"2022-06-16T00:00:00\",\"2022-06-17T00:00:00\",\"2022-06-17T00:00:00\",\"2022-06-17T00:00:00\",\"2022-06-21T00:00:00\",\"2022-06-23T00:00:00\",\"2022-06-24T00:00:00\",\"2022-06-24T00:00:00\",\"2022-06-24T00:00:00\",\"2022-06-29T00:00:00\",\"2022-07-01T00:00:00\",\"2022-07-01T00:00:00\",\"2022-07-01T00:00:00\",\"2022-07-06T00:00:00\",\"2022-07-06T00:00:00\",\"2022-07-08T00:00:00\",\"2022-07-12T00:00:00\",\"2022-07-14T00:00:00\",\"2022-07-15T00:00:00\",\"2022-07-15T00:00:00\",\"2022-07-15T00:00:00\",\"2022-07-15T00:00:00\",\"2022-07-15T00:00:00\",\"2022-07-17T00:00:00\",\"2022-07-17T00:00:00\",\"2022-07-20T00:00:00\",\"2022-07-20T00:00:00\",\"2022-07-20T00:00:00\",\"2022-07-21T00:00:00\",\"2022-07-22T00:00:00\",\"2022-07-22T00:00:00\",\"2022-07-25T00:00:00\",\"2022-07-28T00:00:00\",\"2022-07-28T00:00:00\",\"2022-07-29T00:00:00\",\"2022-07-29T00:00:00\",\"2022-08-01T00:00:00\",\"2022-08-01T00:00:00\",\"2022-08-04T00:00:00\",\"2022-08-05T00:00:00\",\"2022-08-05T00:00:00\",\"2022-08-05T00:00:00\",\"2022-08-05T00:00:00\",\"2022-08-05T00:00:00\",\"2022-08-11T00:00:00\",\"2022-08-12T00:00:00\",\"2022-08-15T00:00:00\",\"2022-08-16T00:00:00\",\"2022-08-18T00:00:00\",\"2022-08-19T00:00:00\",\"2022-08-19T00:00:00\",\"2022-08-22T00:00:00\",\"2022-08-25T00:00:00\",\"2022-08-26T00:00:00\",\"2022-08-26T00:00:00\",\"2022-09-02T00:00:00\",\"2022-09-08T00:00:00\",\"2022-09-09T00:00:00\",\"2022-09-09T00:00:00\",\"2022-09-13T00:00:00\",\"2022-09-13T00:00:00\",\"2022-09-13T00:00:00\",\"2022-09-14T00:00:00\",\"2022-09-16T00:00:00\",\"2022-09-16T00:00:00\",\"2022-09-16T00:00:00\",\"2022-09-22T00:00:00\",\"2022-09-22T00:00:00\",\"2022-09-22T00:00:00\",\"2022-09-22T00:00:00\",\"2022-09-28T00:00:00\",\"2022-09-28T00:00:00\",\"2022-09-29T00:00:00\",\"2022-09-29T00:00:00\",\"2022-09-29T00:00:00\",\"2022-10-03T00:00:00\",\"2022-10-06T00:00:00\",\"2022-10-07T00:00:00\",\"2022-10-12T00:00:00\",\"2022-10-12T00:00:00\",\"2022-10-12T00:00:00\",\"2022-10-14T00:00:00\",\"2022-10-14T00:00:00\",\"2022-10-17T00:00:00\",\"2022-10-17T00:00:00\",\"2022-10-17T00:00:00\",\"2022-10-19T00:00:00\",\"2022-10-20T00:00:00\",\"2022-10-20T00:00:00\",\"2022-10-21T00:00:00\",\"2022-10-21T00:00:00\",\"2022-10-21T00:00:00\",\"2022-10-21T00:00:00\",\"2022-10-21T00:00:00\",\"2022-10-21T00:00:00\",\"2022-10-21T00:00:00\",\"2022-10-21T00:00:00\",\"2022-10-21T00:00:00\",\"2022-10-21T00:00:00\",\"2022-10-21T00:00:00\",\"2022-10-21T00:00:00\",\"2022-10-21T00:00:00\",\"2022-10-21T00:00:00\",\"2022-10-21T00:00:00\",\"2022-10-21T00:00:00\",\"2022-10-21T00:00:00\",\"2022-10-26T00:00:00\",\"2022-10-28T00:00:00\",\"2022-10-28T00:00:00\",\"2022-10-28T00:00:00\",\"2022-10-31T00:00:00\",\"2022-11-01T00:00:00\",\"2022-11-03T00:00:00\",\"2022-11-03T00:00:00\",\"2022-11-03T00:00:00\",\"2022-11-04T00:00:00\",\"2022-11-04T00:00:00\",\"2022-11-04T00:00:00\",\"2022-11-04T00:00:00\",\"2022-11-04T00:00:00\",\"2022-11-04T00:00:00\",\"2022-11-04T00:00:00\",\"2022-11-04T00:00:00\",\"2022-11-04T00:00:00\",\"2022-11-04T00:00:00\",\"2022-11-04T00:00:00\",\"2022-11-04T00:00:00\",\"2022-11-04T00:00:00\",\"2022-11-04T00:00:00\",\"2022-11-05T00:00:00\",\"2022-11-13T00:00:00\",\"2022-11-20T00:00:00\",\"2022-11-24T00:00:00\",\"2022-11-25T00:00:00\",\"2022-11-30T00:00:00\",\"2022-11-30T00:00:00\",\"2022-11-30T00:00:00\",\"2022-12-01T00:00:00\",\"2022-12-02T00:00:00\",\"2022-12-02T00:00:00\",\"2022-12-02T00:00:00\",\"2022-12-02T00:00:00\",\"2022-12-02T00:00:00\",\"2022-12-02T00:00:00\",\"2022-12-02T00:00:00\",\"2022-12-02T00:00:00\",\"2022-12-02T00:00:00\",\"2022-12-02T00:00:00\",\"2022-12-02T00:00:00\",\"2022-12-02T00:00:00\",\"2022-12-08T00:00:00\",\"2022-12-08T00:00:00\",\"2022-12-08T00:00:00\",\"2022-12-08T00:00:00\",\"2022-12-08T00:00:00\",\"2022-12-09T00:00:00\",\"2022-12-09T00:00:00\",\"2022-12-09T00:00:00\",\"2022-12-09T00:00:00\",\"2022-12-09T00:00:00\",\"2022-12-09T00:00:00\",\"2022-12-09T00:00:00\",\"2022-12-09T00:00:00\",\"2022-12-09T00:00:00\",\"2022-12-09T00:00:00\",\"2022-12-09T00:00:00\",\"2022-12-09T00:00:00\",\"2022-12-09T00:00:00\",\"2022-12-09T00:00:00\",\"2022-12-09T00:00:00\",\"2022-12-09T00:00:00\",\"2022-12-12T00:00:00\",\"2022-12-15T00:00:00\",\"2022-12-15T00:00:00\",\"2022-12-15T00:00:00\",\"2022-12-16T00:00:00\",\"2022-12-16T00:00:00\",\"2022-12-19T00:00:00\",\"2022-12-20T00:00:00\",\"2022-12-22T00:00:00\",\"2022-12-23T00:00:00\",\"2022-12-24T00:00:00\",\"2022-12-30T00:00:00\",\"2023-01-02T00:00:00\",\"2023-01-11T00:00:00\",\"2023-01-12T00:00:00\",\"2023-01-12T00:00:00\",\"2023-01-13T00:00:00\",\"2023-01-13T00:00:00\",\"2023-01-20T00:00:00\",\"2023-01-23T00:00:00\",\"2023-01-23T00:00:00\",\"2023-01-27T00:00:00\",\"2023-01-27T00:00:00\",\"2023-01-27T00:00:00\",\"2023-01-27T00:00:00\",\"2023-01-27T00:00:00\",\"2023-01-27T00:00:00\",\"2023-01-27T00:00:00\",\"2023-01-31T00:00:00\",\"2023-01-31T00:00:00\",\"2023-01-31T00:00:00\",\"2023-02-02T00:00:00\",\"2023-02-02T00:00:00\",\"2023-02-02T00:00:00\",\"2023-02-03T00:00:00\",\"2023-02-03T00:00:00\",\"2023-02-05T00:00:00\",\"2023-02-08T00:00:00\",\"2023-02-10T00:00:00\",\"2023-02-10T00:00:00\",\"2023-02-14T00:00:00\",\"2023-02-14T00:00:00\",\"2023-02-17T00:00:00\",\"2023-02-23T00:00:00\",\"2023-02-23T00:00:00\",\"2023-02-23T00:00:00\",\"2023-02-24T00:00:00\",\"2023-02-24T00:00:00\",\"2023-02-24T00:00:00\",\"2023-02-24T00:00:00\",\"2023-02-24T00:00:00\",\"2023-02-24T00:00:00\",\"2023-02-24T00:00:00\",\"2023-02-25T00:00:00\",\"2023-03-01T00:00:00\",\"2023-03-02T00:00:00\",\"2023-03-03T00:00:00\",\"2023-03-03T00:00:00\",\"2023-03-03T00:00:00\",\"2023-03-03T00:00:00\",\"2023-03-03T00:00:00\",\"2023-03-03T00:00:00\",\"2023-03-03T00:00:00\",\"2023-03-03T00:00:00\",\"2023-03-03T00:00:00\",\"2023-03-04T00:00:00\",\"2023-03-10T00:00:00\",\"2023-03-14T00:00:00\",\"2023-03-16T00:00:00\",\"2023-03-17T00:00:00\",\"2023-03-17T00:00:00\",\"2023-03-17T00:00:00\",\"2023-03-17T00:00:00\",\"2023-03-17T00:00:00\",\"2023-03-17T00:00:00\",\"2023-03-17T00:00:00\",\"2023-03-22T00:00:00\",\"2023-03-23T00:00:00\",\"2023-03-23T00:00:00\",\"2023-03-24T00:00:00\",\"2023-03-24T00:00:00\",\"2023-03-24T00:00:00\",\"2023-03-24T00:00:00\",\"2023-03-24T00:00:00\",\"2023-03-25T00:00:00\",\"2023-03-27T00:00:00\",\"2023-03-29T00:00:00\",\"2023-03-30T00:00:00\",\"2023-03-31T00:00:00\",\"2023-03-31T00:00:00\",\"2023-03-31T00:00:00\",\"2023-04-04T00:00:00\",\"2023-04-04T00:00:00\",\"2023-04-06T00:00:00\",\"2023-04-07T00:00:00\",\"2023-04-07T00:00:00\",\"2023-04-07T00:00:00\",\"2023-04-07T00:00:00\",\"2023-04-07T00:00:00\",\"2023-04-10T00:00:00\",\"2023-04-12T00:00:00\",\"2023-04-14T00:00:00\",\"2023-04-14T00:00:00\",\"2023-04-14T00:00:00\",\"2023-04-17T00:00:00\",\"2023-04-21T00:00:00\",\"2023-04-21T00:00:00\",\"2023-04-21T00:00:00\",\"2023-04-24T00:00:00\",\"2023-04-25T00:00:00\",\"2023-04-27T00:00:00\",\"2023-04-30T00:00:00\",\"2023-05-01T00:00:00\",\"2023-05-01T00:00:00\",\"2023-05-04T00:00:00\",\"2023-05-04T00:00:00\",\"2023-05-04T00:00:00\",\"2023-05-05T00:00:00\",\"2023-05-11T00:00:00\",\"2023-05-11T00:00:00\",\"2023-05-12T00:00:00\",\"2023-05-12T00:00:00\",\"2023-05-13T00:00:00\",\"2023-05-15T00:00:00\",\"2023-05-15T00:00:00\",\"2023-05-15T00:00:00\",\"2023-05-18T00:00:00\",\"2023-05-18T00:00:00\",\"2023-05-19T00:00:00\",\"2023-05-19T00:00:00\",\"2023-05-19T00:00:00\",\"2023-05-19T00:00:00\",\"2023-05-22T00:00:00\",\"2023-05-22T00:00:00\",\"2023-05-25T00:00:00\",\"2023-05-26T00:00:00\",\"2023-05-26T00:00:00\",\"2023-05-26T00:00:00\",\"2023-05-26T00:00:00\",\"2023-05-26T00:00:00\",\"2023-05-31T00:00:00\",\"2023-06-01T00:00:00\",\"2023-06-01T00:00:00\",\"2023-06-01T00:00:00\",\"2023-06-02T00:00:00\",\"2023-06-02T00:00:00\",\"2023-06-02T00:00:00\",\"2023-06-02T00:00:00\",\"2023-06-02T00:00:00\",\"2023-06-02T00:00:00\",\"2023-06-02T00:00:00\",\"2023-06-02T00:00:00\",\"2023-06-02T00:00:00\",\"2023-06-02T00:00:00\",\"2023-06-02T00:00:00\",\"2023-06-02T00:00:00\",\"2023-06-05T00:00:00\",\"2023-06-08T00:00:00\",\"2023-06-09T00:00:00\",\"2023-06-15T00:00:00\",\"2023-06-21T00:00:00\",\"2023-06-22T00:00:00\",\"2023-06-22T00:00:00\",\"2023-06-22T00:00:00\",\"2023-06-22T00:00:00\",\"2023-06-22T00:00:00\",\"2023-06-23T00:00:00\",\"2023-06-23T00:00:00\",\"2023-06-23T00:00:00\",\"2023-06-28T00:00:00\",\"2023-06-29T00:00:00\",\"2023-06-30T00:00:00\",\"2023-06-30T00:00:00\",\"2023-07-07T00:00:00\",\"2023-07-07T00:00:00\",\"2023-07-07T00:00:00\",\"2023-07-07T00:00:00\",\"2023-07-07T00:00:00\",\"2023-07-07T00:00:00\",\"2023-07-07T00:00:00\",\"2023-07-07T00:00:00\",\"2023-07-13T00:00:00\",\"2023-07-13T00:00:00\",\"2023-07-13T00:00:00\",\"2023-07-14T00:00:00\",\"2023-07-14T00:00:00\",\"2023-07-14T00:00:00\"],\"y\":[90598517.0,395591396.0,389771964.0,473248298.0,395591396.0,741301563.0,178660459.0,295998468.0,769213520.0,245350949.0,127027715.0,446390129.0,663832097.0,242767149.0,404664135.0,1145727611.0,520034544.0,460492795.0,838586769.0,2009094673.0,2197010679.0,403939487.0,195918494.0,154356956.0,1593270737.0,1159176109.0,351636786.0,1479115056.0,481697415.0,1205951614.0,1024858327.0,429504768.0,704171068.0,1553497987.0,1690192927.0,368646862.0,1271293243.0,1449779435.0,1357608774.0,579395142.0,106933107.0,103762518.0,1284942608.0,675039469.0,1210599487.0,843309044.0,1755214421.0,918915401.0,1424589568.0,624101957.0,1624165576.0,261116938.0,1202722675.0,1829992958.0,1687664027.0,1695712020.0,655466831.0,1608164312.0,1361425037.0,1806617704.0,1241559043.0,1089402494.0,527033089.0,657723613.0,180577478.0,1217120710.0,887906111.0,1592909789.0,1279434863.0,621660989.0,1641426668.0,950906471.0,540654286.0,1062956628.0,1472799873.0,372476382.0,629173063.0,284819874.0,1163620694.0,1457139296.0,983637508.0,1235005533.0,1953533826.0,476244795.0,807561936.0,1840364617.0,822239726.0,882831184.0,1093605526.0,1479264469.0,2282771485.0,58054811.0,1813673666.0,1481349984.0,1661187319.0,703301727.0,2011464183.0,1788326445.0,933815613.0,1297026226.0,1970673297.0,1267333350.0,109091573.0,2086124197.0,240769997.0,2135158446.0,485285717.0,834129063.0,1355959075.0,1606986953.0,588955257.0,1113838873.0,786181836.0,1456081449.0,2280566092.0,466231982.0,2236667932.0,646886885.0,1131090940.0,972164968.0,1791000570.0,677389855.0,789753877.0,924193303.0,1410088830.0,571386359.0,824420218.0,1947371785.0,165484133.0,370068639.0,1127468248.0,2123309722.0,582863434.0,939844851.0,2713922350.0,156658366.0,2591224264.0,380319238.0,421135627.0,806397070.0,2420461338.0,2565529693.0,1714490998.0,122763672.0,480507035.0,445590495.0,956865266.0,1647990401.0,611700552.0,684675814.0,2559529074.0,690104769.0,3562543890.0,2594040133.0,920045682.0,2204080728.0,841749534.0,777765388.0,1929770265.0,1116995633.0,1897517891.0,2288695111.0,888046992.0,1047101291.0,2355719893.0,1022258230.0,498960285.0,184706613.0,685032533.0,1605224506.0,284216603.0,135723538.0,1367810478.0,599770206.0,1200808494.0,1449799467.0,705469769.0,1374581173.0,1122364376.0,2159346687.0,2808096550.0,2887241814.0,723043854.0,1138474110.0,686734357.0,991336132.0,1065580332.0,2864791672.0,244658767.0,411747614.0,461437791.0,1304313953.0,2484812918.0,467727006.0,1435127549.0,236872197.0,726837877.0,426204830.0,185240616.0,800840817.0,2132335812.0,540539717.0,387080183.0,1759567999.0,282883169.0,554875730.0,563902868.0,929964809.0,203680270.0,265882712.0,2303033973.0,1608045237.0,244891912.0,865640097.0,2322580122.0,3703895074.0,1439191367.0,1023187129.0,807015863.0,1062345656.0,872137015.0,1180896317.0,405136812.0,698086140.0,951637566.0,685071800.0,759208783.0,312622938.0,530511203.0,1301799902.0,1591223784.0,1221813483.0,797196073.0,1802514301.0,1180094974.0,403097450.0,38411956.0,2557975762.0,501541661.0,607123776.0,812019557.0,327498031.0,1699402402.0,1692897992.0,1555511105.0,1735441776.0,578207856.0,339473453.0,1252563873.0,1763363713.0,1168642797.0,570515054.0,273914335.0,140430339.0,826623384.0,506778838.0,1858144199.0,863756573.0,720825549.0,1115880852.0,838079900.0,1167330737.0,851070493.0,1445941661.0,1256880657.0,1575467011.0,797402345.0,350381515.0,624515457.0,651732901.0,596152090.0,394030335.0,422691058.0,1887039593.0,183273246.0,1143647827.0,783706581.0,850608354.0,665765558.0,1230855859.0,1260594497.0,1042568408.0,330346424.0,528544703.0,1309887447.0,672656250.0,499710590.0,465959382.0,809306935.0,516784627.0,1329090101.0,513643924.0,610045621.0,608334048.0,2665343922.0,1814349763.0,412795151.0,1056760045.0,972509632.0,566954746.0,673801126.0,563358137.0,184826429.0,290228626.0,223319934.0,427486004.0,1007612429.0,674772936.0,560222750.0,376333030.0,363467642.0,726434358.0,355219175.0,1223481149.0,593917618.0,594482982.0,346127840.0,489945871.0,436695353.0,408843328.0,1302184087.0,863625566.0,263779030.0,582981380.0,354065229.0,920797189.0,421040617.0,1061966512.0,345903614.0,775542072.0,1406111294.0,258316038.0,261414174.0,611994237.0,209768491.0,510876816.0,263894529.0,1223481149.0,393230256.0,342779426.0,656013912.0,539595276.0,383550148.0,245095641.0,200972675.0,546191065.0,374706940.0,583687007.0,198883004.0,225259194.0,177129919.0,167076418.0,252871192.0,181328253.0,466214729.0,267758538.0,184937148.0,432719968.0,154797871.0,357580552.0,240684449.0,247737946.0,287201015.0,356709897.0,652704649.0,185408548.0,415932686.0,231996128.0,261286503.0,317622165.0,191945597.0,65719930.0,374191487.0,226897599.0,236940480.0,349585590.0,54937991.0,41924466.0,101114984.0,53933526.0,63803529.0,37307967.0,116903579.0,88103848.0,119238316.0,91656026.0,391251368.0,200660871.0,124407432.0,339659802.0,31959571.0,311395144.0,326792833.0,74601456.0,60680939.0,108809090.0,77337771.0,211372494.0,71014967.0,245400167.0,291709698.0,143139338.0,78489819.0,500340342.0,277132266.0,448843705.0,682475162.0,300983101.0,154119539.0,258714692.0,187772591.0,208166039.0,135079152.0,81350745.0,64787943.0,121913181.0,343197054.0,263280370.0,284249832.0,445763624.0,716591492.0,496311364.0,64714573.0,107255472.0,246376690.0,146789379.0,50746620.0,307752576.0,182978249.0,421365166.0,383835984.0,299648208.0,323455692.0,193443895.0,319757142.0,135444283.0,54682594.0,153240879.0,120847157.0,202677468.0,94616487.0,229473310.0,756907987.0,53729194.0,299634472.0,244928911.0,462791599.0,176290831.0,286739476.0,197643795.0,212234990.0,273005485.0,1437674063.0,185550869.0,240661097.0,130419412.0,899183384.0,157990698.0,126443991.0,349746291.0,139193812.0,118381354.0,2513188493.0,178512385.0,255120451.0,190981339.0,477033549.0,184622518.0,305771063.0,107818292.0,89566512.0,75476209.0,293186992.0,227918678.0,694525298.0,101780047.0,146363130.0,136996305.0,723894473.0,77309611.0,885093467.0,606361689.0,160035717.0,190490915.0,449701773.0,244741137.0,600976848.0,240580042.0,164163229.0,556585270.0,404887295.0,106919680.0,382199619.0,254218729.0,212109195.0,244790012.0,229497852.0,238350348.0,246127838.0,283359161.0,344055883.0,461558540.0,338422004.0,150500965.0,1047480053.0,212351890.0,279737940.0,121077868.0,479655659.0,305650299.0,1440757818.0,909001996.0,671365962.0,1133865788.0,319546754.0,614555082.0,608228647.0,132171975.0,203221468.0,1264310836.0,403231558.0,417230415.0,283332261.0,448500832.0,313113297.0,71423324.0,271666301.0,293466523.0,37778188.0,126191104.0,42485571.0,237351106.0,164856284.0,127309180.0,1085685420.0,53603447.0,33381454.0,58687425.0,301242089.0,76831876.0,41210087.0,173702135.0,86176890.0,37091576.0,123216717.0,231657891.0,184807630.0,156898322.0,68895644.0,61739839.0,367814306.0,137070925.0,189236868.0,187703102.0,290833204.0,199587884.0,236060709.0,333146475.0,743693613.0,273194684.0,233671263.0,366214458.0,334733572.0,191873381.0,311482393.0,160845341.0,1214083358.0,190625045.0,194902696.0,156777415.0,157136970.0,138334433.0,176103902.0,278920007.0,609293408.0,248511839.0,91781263.0,129314708.0,221752937.0,79095270.0,136676504.0,114546317.0,988515741.0,222410722.0,295307001.0,330881149.0,302006641.0,244585109.0,240918092.0,279717388.0,618885532.0,195628667.0,191448892.0,354614964.0,115331792.0,131746175.0,720434240.0,213505179.0,822633917.0,187701588.0,85924992.0,155795783.0,121189256.0,1356565093.0,459276435.0,97610446.0,247689123.0,723894473.0,751134527.0,342897938.0,202452860.0,123473120.0,635412045.0,366599607.0,482257456.0,185236961.0,681583126.0,338564981.0,287278853.0,209106362.0,471819764.0,782369383.0,70069745.0,171788484.0,595900742.0,264717480.0,363472647.0,331511413.0,219196651.0,284785823.0,497225336.0,179061440.0,170732845.0,199386237.0,428685680.0,295152154.0,137123880.0,159240673.0,601863821.0,551305895.0,265548837.0,322336177.0,1109433169.0,189476119.0,148461629.0,362361576.0,174006928.0,239411309.0,53987404.0,185392587.0,47093942.0,181831132.0,222612678.0,482175240.0,235549288.0,146223492.0,304079786.0,332506354.0,1230675890.0,116144341.0,213438580.0,309483971.0,176474912.0,71007139.0,168684524.0,674072710.0,225093344.0,532336353.0,210038833.0,319566866.0,84697729.0,85559365.0,301051721.0,457184829.0,170709584.0,380726517.0,133895612.0,236857112.0,999748277.0,328207708.0,121871870.0,404562836.0,187339835.0,488386797.0,502574952.0,317726339.0,218320587.0,433356509.0,223064273.0,323437194.0,186104310.0,181382590.0,253650850.0,177503916.0,348647203.0,156214700.0,297328960.0,309653982.0,203436468.0,605086148.0,325592432.0,73513683.0,263453310.0,91473363.0,96007391.0,136689549.0,93367537.0,106249219.0,141720999.0,71095708.0,246390068.0,154863153.0,170413877.0,112436403.0,381161027.0,191333656.0,573633020.0,198365537.0,139836056.0,294352144.0,323358833.0,463564958.0,184308753.0,156338624.0,538115192.0,335074782.0,288101651.0,345031710.0,843957510.0,195516622.0,78139948.0,148469433.0,373199958.0,110649992.0,401036314.0,179659294.0,286400165.0,276259178.0,135611421.0,1163093654.0,155653938.0,49262961.0,94005786.0,134294498.0,163284000.0,56870689.0,67540165.0,51641685.0,110073250.0,65362788.0,267789608.0,110849052.0,272377463.0,284908316.0,62019074.0,98709329.0,57144458.0,399686758.0,73981293.0,88092256.0,140187018.0,298063749.0,223582566.0,221409663.0,367316268.0,231332117.0,397582059.0,585695368.0,304118600.0,93587665.0,198275403.0,158950978.0,430977451.0,721975598.0,1316855716.0,120972253.0,307370144.0,152850295.0,175399345.0,436027885.0,166570053.0,255932395.0,153454328.0,103787664.0,124988687.0,147538971.0,107642809.0,134255790.0,95623148.0,83021468.0,429829812.0,233801632.0,90025258.0,266624541.0,156338624.0,147290338.0,207033255.0,248088961.0,354495408.0,165584767.0,217672943.0,145458418.0,144584800.0,93438910.0,105062254.0,618990393.0,153372011.0,139681964.0,496795686.0,518745108.0,206399629.0,256483385.0,149778242.0,201660859.0,138517666.0,146409671.0,88791109.0,34450974.0,32526947.0,223633238.0,58890931.0,116599790.0,81419389.0,125917280.0,56533272.0,162887075.0,211050784.0,116334601.0,725980112.0,113509496.0,250305248.0,553634067.0,117206995.0,127567540.0,168448603.0,95131998.0,100409613.0,195576623.0,133716286.0,357925728.0,157058870.0,77377503.0,363369738.0,173627354.0,52722996.0,80758350.0,67070410.0,161460990.0,335222234.0,232896922.0,58473276.0,127026613.0,142095275.0,177740666.0,188933502.0,117747907.0,68216992.0,95816024.0,175097833.0,123132751.0,143573775.0,172825906.0,387570742.0,104992946.0,505671438.0,96180277.0,118810253.0,115010040.0,91221625.0,76910644.0,61105704.0,77233241.0,133753727.0,92035115.0,34502215.0,50847624.0,111947664.0,39893489.0,123124076.0,71573339.0,144565150.0,90839753.0,89933133.0,95217315.0,64533040.0,96273746.0,57945987.0,303236322.0,57089066.0,47956378.0,81102253.0,176553476.0,76767396.0,54225632.0,127408954.0,95053634.0,68616963.0,46142772.0,60350538.0,46065667.0,200647221.0,11956641.0,123122413.0,183706234.0,37126685.0,94186466.0,86773632.0,109276132.0,24975653.0,107753850.0,39666245.0,32761689.0,43522589.0,115364561.0,65496046.0,70106975.0,51985779.0,57312735.0,118482347.0,57876440.0,66902503.0,43857627.0,86444842.0,39058561.0,55842345.0,78300654.0,54266102.0,65156199.0,39709092.0,52294266.0,61245289.0,31873544.0,140003974.0,39228929.0,30343206.0,58149378.0,39578178.0,52135248.0,36912123.0,29562220.0,58255150.0,11599388.0,22581161.0,30546883.0,14780425.0,16011326.0,141381703.0],\"type\":\"scatter\"}],                        {\"template\":{\"data\":{\"histogram2dcontour\":[{\"type\":\"histogram2dcontour\",\"colorbar\":{\"outlinewidth\":0,\"ticks\":\"\"},\"colorscale\":[[0.0,\"#0d0887\"],[0.1111111111111111,\"#46039f\"],[0.2222222222222222,\"#7201a8\"],[0.3333333333333333,\"#9c179e\"],[0.4444444444444444,\"#bd3786\"],[0.5555555555555556,\"#d8576b\"],[0.6666666666666666,\"#ed7953\"],[0.7777777777777778,\"#fb9f3a\"],[0.8888888888888888,\"#fdca26\"],[1.0,\"#f0f921\"]]}],\"choropleth\":[{\"type\":\"choropleth\",\"colorbar\":{\"outlinewidth\":0,\"ticks\":\"\"}}],\"histogram2d\":[{\"type\":\"histogram2d\",\"colorbar\":{\"outlinewidth\":0,\"ticks\":\"\"},\"colorscale\":[[0.0,\"#0d0887\"],[0.1111111111111111,\"#46039f\"],[0.2222222222222222,\"#7201a8\"],[0.3333333333333333,\"#9c179e\"],[0.4444444444444444,\"#bd3786\"],[0.5555555555555556,\"#d8576b\"],[0.6666666666666666,\"#ed7953\"],[0.7777777777777778,\"#fb9f3a\"],[0.8888888888888888,\"#fdca26\"],[1.0,\"#f0f921\"]]}],\"heatmap\":[{\"type\":\"heatmap\",\"colorbar\":{\"outlinewidth\":0,\"ticks\":\"\"},\"colorscale\":[[0.0,\"#0d0887\"],[0.1111111111111111,\"#46039f\"],[0.2222222222222222,\"#7201a8\"],[0.3333333333333333,\"#9c179e\"],[0.4444444444444444,\"#bd3786\"],[0.5555555555555556,\"#d8576b\"],[0.6666666666666666,\"#ed7953\"],[0.7777777777777778,\"#fb9f3a\"],[0.8888888888888888,\"#fdca26\"],[1.0,\"#f0f921\"]]}],\"heatmapgl\":[{\"type\":\"heatmapgl\",\"colorbar\":{\"outlinewidth\":0,\"ticks\":\"\"},\"colorscale\":[[0.0,\"#0d0887\"],[0.1111111111111111,\"#46039f\"],[0.2222222222222222,\"#7201a8\"],[0.3333333333333333,\"#9c179e\"],[0.4444444444444444,\"#bd3786\"],[0.5555555555555556,\"#d8576b\"],[0.6666666666666666,\"#ed7953\"],[0.7777777777777778,\"#fb9f3a\"],[0.8888888888888888,\"#fdca26\"],[1.0,\"#f0f921\"]]}],\"contourcarpet\":[{\"type\":\"contourcarpet\",\"colorbar\":{\"outlinewidth\":0,\"ticks\":\"\"}}],\"contour\":[{\"type\":\"contour\",\"colorbar\":{\"outlinewidth\":0,\"ticks\":\"\"},\"colorscale\":[[0.0,\"#0d0887\"],[0.1111111111111111,\"#46039f\"],[0.2222222222222222,\"#7201a8\"],[0.3333333333333333,\"#9c179e\"],[0.4444444444444444,\"#bd3786\"],[0.5555555555555556,\"#d8576b\"],[0.6666666666666666,\"#ed7953\"],[0.7777777777777778,\"#fb9f3a\"],[0.8888888888888888,\"#fdca26\"],[1.0,\"#f0f921\"]]}],\"surface\":[{\"type\":\"surface\",\"colorbar\":{\"outlinewidth\":0,\"ticks\":\"\"},\"colorscale\":[[0.0,\"#0d0887\"],[0.1111111111111111,\"#46039f\"],[0.2222222222222222,\"#7201a8\"],[0.3333333333333333,\"#9c179e\"],[0.4444444444444444,\"#bd3786\"],[0.5555555555555556,\"#d8576b\"],[0.6666666666666666,\"#ed7953\"],[0.7777777777777778,\"#fb9f3a\"],[0.8888888888888888,\"#fdca26\"],[1.0,\"#f0f921\"]]}],\"mesh3d\":[{\"type\":\"mesh3d\",\"colorbar\":{\"outlinewidth\":0,\"ticks\":\"\"}}],\"scatter\":[{\"marker\":{\"line\":{\"color\":\"#283442\"}},\"type\":\"scatter\"}],\"parcoords\":[{\"type\":\"parcoords\",\"line\":{\"colorbar\":{\"outlinewidth\":0,\"ticks\":\"\"}}}],\"scatterpolargl\":[{\"type\":\"scatterpolargl\",\"marker\":{\"colorbar\":{\"outlinewidth\":0,\"ticks\":\"\"}}}],\"bar\":[{\"error_x\":{\"color\":\"#f2f5fa\"},\"error_y\":{\"color\":\"#f2f5fa\"},\"marker\":{\"line\":{\"color\":\"rgb(17,17,17)\",\"width\":0.5},\"pattern\":{\"fillmode\":\"overlay\",\"size\":10,\"solidity\":0.2}},\"type\":\"bar\"}],\"scattergeo\":[{\"type\":\"scattergeo\",\"marker\":{\"colorbar\":{\"outlinewidth\":0,\"ticks\":\"\"}}}],\"scatterpolar\":[{\"type\":\"scatterpolar\",\"marker\":{\"colorbar\":{\"outlinewidth\":0,\"ticks\":\"\"}}}],\"histogram\":[{\"marker\":{\"pattern\":{\"fillmode\":\"overlay\",\"size\":10,\"solidity\":0.2}},\"type\":\"histogram\"}],\"scattergl\":[{\"marker\":{\"line\":{\"color\":\"#283442\"}},\"type\":\"scattergl\"}],\"scatter3d\":[{\"type\":\"scatter3d\",\"line\":{\"colorbar\":{\"outlinewidth\":0,\"ticks\":\"\"}},\"marker\":{\"colorbar\":{\"outlinewidth\":0,\"ticks\":\"\"}}}],\"scattermapbox\":[{\"type\":\"scattermapbox\",\"marker\":{\"colorbar\":{\"outlinewidth\":0,\"ticks\":\"\"}}}],\"scatterternary\":[{\"type\":\"scatterternary\",\"marker\":{\"colorbar\":{\"outlinewidth\":0,\"ticks\":\"\"}}}],\"scattercarpet\":[{\"type\":\"scattercarpet\",\"marker\":{\"colorbar\":{\"outlinewidth\":0,\"ticks\":\"\"}}}],\"carpet\":[{\"aaxis\":{\"endlinecolor\":\"#A2B1C6\",\"gridcolor\":\"#506784\",\"linecolor\":\"#506784\",\"minorgridcolor\":\"#506784\",\"startlinecolor\":\"#A2B1C6\"},\"baxis\":{\"endlinecolor\":\"#A2B1C6\",\"gridcolor\":\"#506784\",\"linecolor\":\"#506784\",\"minorgridcolor\":\"#506784\",\"startlinecolor\":\"#A2B1C6\"},\"type\":\"carpet\"}],\"table\":[{\"cells\":{\"fill\":{\"color\":\"#506784\"},\"line\":{\"color\":\"rgb(17,17,17)\"}},\"header\":{\"fill\":{\"color\":\"#2a3f5f\"},\"line\":{\"color\":\"rgb(17,17,17)\"}},\"type\":\"table\"}],\"barpolar\":[{\"marker\":{\"line\":{\"color\":\"rgb(17,17,17)\",\"width\":0.5},\"pattern\":{\"fillmode\":\"overlay\",\"size\":10,\"solidity\":0.2}},\"type\":\"barpolar\"}],\"pie\":[{\"automargin\":true,\"type\":\"pie\"}]},\"layout\":{\"autotypenumbers\":\"strict\",\"colorway\":[\"#636efa\",\"#EF553B\",\"#00cc96\",\"#ab63fa\",\"#FFA15A\",\"#19d3f3\",\"#FF6692\",\"#B6E880\",\"#FF97FF\",\"#FECB52\"],\"font\":{\"color\":\"#f2f5fa\"},\"hovermode\":\"closest\",\"hoverlabel\":{\"align\":\"left\"},\"paper_bgcolor\":\"rgb(17,17,17)\",\"plot_bgcolor\":\"rgb(17,17,17)\",\"polar\":{\"bgcolor\":\"rgb(17,17,17)\",\"angularaxis\":{\"gridcolor\":\"#506784\",\"linecolor\":\"#506784\",\"ticks\":\"\"},\"radialaxis\":{\"gridcolor\":\"#506784\",\"linecolor\":\"#506784\",\"ticks\":\"\"}},\"ternary\":{\"bgcolor\":\"rgb(17,17,17)\",\"aaxis\":{\"gridcolor\":\"#506784\",\"linecolor\":\"#506784\",\"ticks\":\"\"},\"baxis\":{\"gridcolor\":\"#506784\",\"linecolor\":\"#506784\",\"ticks\":\"\"},\"caxis\":{\"gridcolor\":\"#506784\",\"linecolor\":\"#506784\",\"ticks\":\"\"}},\"coloraxis\":{\"colorbar\":{\"outlinewidth\":0,\"ticks\":\"\"}},\"colorscale\":{\"sequential\":[[0.0,\"#0d0887\"],[0.1111111111111111,\"#46039f\"],[0.2222222222222222,\"#7201a8\"],[0.3333333333333333,\"#9c179e\"],[0.4444444444444444,\"#bd3786\"],[0.5555555555555556,\"#d8576b\"],[0.6666666666666666,\"#ed7953\"],[0.7777777777777778,\"#fb9f3a\"],[0.8888888888888888,\"#fdca26\"],[1.0,\"#f0f921\"]],\"sequentialminus\":[[0.0,\"#0d0887\"],[0.1111111111111111,\"#46039f\"],[0.2222222222222222,\"#7201a8\"],[0.3333333333333333,\"#9c179e\"],[0.4444444444444444,\"#bd3786\"],[0.5555555555555556,\"#d8576b\"],[0.6666666666666666,\"#ed7953\"],[0.7777777777777778,\"#fb9f3a\"],[0.8888888888888888,\"#fdca26\"],[1.0,\"#f0f921\"]],\"diverging\":[[0,\"#8e0152\"],[0.1,\"#c51b7d\"],[0.2,\"#de77ae\"],[0.3,\"#f1b6da\"],[0.4,\"#fde0ef\"],[0.5,\"#f7f7f7\"],[0.6,\"#e6f5d0\"],[0.7,\"#b8e186\"],[0.8,\"#7fbc41\"],[0.9,\"#4d9221\"],[1,\"#276419\"]]},\"xaxis\":{\"gridcolor\":\"#283442\",\"linecolor\":\"#506784\",\"ticks\":\"\",\"title\":{\"standoff\":15},\"zerolinecolor\":\"#283442\",\"automargin\":true,\"zerolinewidth\":2},\"yaxis\":{\"gridcolor\":\"#283442\",\"linecolor\":\"#506784\",\"ticks\":\"\",\"title\":{\"standoff\":15},\"zerolinecolor\":\"#283442\",\"automargin\":true,\"zerolinewidth\":2},\"scene\":{\"xaxis\":{\"backgroundcolor\":\"rgb(17,17,17)\",\"gridcolor\":\"#506784\",\"linecolor\":\"#506784\",\"showbackground\":true,\"ticks\":\"\",\"zerolinecolor\":\"#C8D4E3\",\"gridwidth\":2},\"yaxis\":{\"backgroundcolor\":\"rgb(17,17,17)\",\"gridcolor\":\"#506784\",\"linecolor\":\"#506784\",\"showbackground\":true,\"ticks\":\"\",\"zerolinecolor\":\"#C8D4E3\",\"gridwidth\":2},\"zaxis\":{\"backgroundcolor\":\"rgb(17,17,17)\",\"gridcolor\":\"#506784\",\"linecolor\":\"#506784\",\"showbackground\":true,\"ticks\":\"\",\"zerolinecolor\":\"#C8D4E3\",\"gridwidth\":2}},\"shapedefaults\":{\"line\":{\"color\":\"#f2f5fa\"}},\"annotationdefaults\":{\"arrowcolor\":\"#f2f5fa\",\"arrowhead\":0,\"arrowwidth\":1},\"geo\":{\"bgcolor\":\"rgb(17,17,17)\",\"landcolor\":\"rgb(17,17,17)\",\"subunitcolor\":\"#506784\",\"showland\":true,\"showlakes\":true,\"lakecolor\":\"rgb(17,17,17)\"},\"title\":{\"x\":0.05},\"updatemenudefaults\":{\"bgcolor\":\"#506784\",\"borderwidth\":0},\"sliderdefaults\":{\"bgcolor\":\"#C8D4E3\",\"borderwidth\":1,\"bordercolor\":\"rgb(17,17,17)\",\"tickwidth\":0},\"mapbox\":{\"style\":\"dark\"}}},\"shapes\":[{\"fillcolor\":\"rgb(160,210,255)\",\"line\":{\"width\":0},\"type\":\"rect\",\"x0\":-0.24,\"x1\":-0.2,\"xref\":\"paper\",\"y0\":1.05,\"y1\":1.0,\"yref\":\"paper\"},{\"fillcolor\":\"rgb(143,206,0)\",\"line\":{\"width\":0},\"type\":\"rect\",\"x0\":-0.24,\"x1\":-0.2,\"xref\":\"paper\",\"y0\":0.93,\"y1\":0.88,\"yref\":\"paper\"},{\"fillcolor\":\"rgb(255,206,58)\",\"line\":{\"width\":0},\"type\":\"rect\",\"x0\":-0.24,\"x1\":-0.2,\"xref\":\"paper\",\"y0\":0.81,\"y1\":0.76,\"yref\":\"paper\"},{\"fillcolor\":\"rgb(206,126,0)\",\"line\":{\"width\":0},\"type\":\"rect\",\"x0\":-0.24,\"x1\":-0.2,\"xref\":\"paper\",\"y0\":0.6900000000000001,\"y1\":0.64,\"yref\":\"paper\"}],\"annotations\":[{\"align\":\"left\",\"font\":{\"color\":\"white\",\"size\":12},\"showarrow\":false,\"text\":\"Hiver\",\"x\":-0.18,\"xref\":\"paper\",\"y\":1.025,\"yref\":\"paper\"},{\"align\":\"left\",\"font\":{\"color\":\"white\",\"size\":12},\"showarrow\":false,\"text\":\"Printemps\",\"x\":-0.18,\"xref\":\"paper\",\"y\":0.9049999999999999,\"yref\":\"paper\"},{\"align\":\"left\",\"font\":{\"color\":\"white\",\"size\":12},\"showarrow\":false,\"text\":\"\\u00c9t\\u00e9\",\"x\":-0.18,\"xref\":\"paper\",\"y\":0.7849999999999999,\"yref\":\"paper\"},{\"align\":\"left\",\"font\":{\"color\":\"white\",\"size\":12},\"showarrow\":false,\"text\":\"Automne\",\"x\":-0.18,\"xref\":\"paper\",\"y\":0.6649999999999999,\"yref\":\"paper\"}],\"title\":{\"font\":{\"size\":20,\"color\":\"white\"},\"text\":\"Dynamique des streams au long de l'histoire: Influence des saisons et des artistes\",\"x\":0.5,\"y\":0.95},\"xaxis\":{\"title\":{\"text\":\"Date\"},\"gridcolor\":\"gray\",\"showgrid\":true,\"tickformat\":\"%d\\u002f%m\\u002f%Y\",\"range\":[\"2020-01-01\",\"2023-07-14\"],\"color\":\"white\"},\"yaxis\":{\"title\":{\"text\":\"Nombre de streams\"},\"gridcolor\":\"gray\",\"showgrid\":true,\"type\":\"log\",\"range\":[7.0,9.57978359661681],\"color\":\"white\"},\"margin\":{\"t\":100,\"l\":250,\"r\":50,\"b\":50},\"plot_bgcolor\":\"black\",\"paper_bgcolor\":\"black\",\"hovermode\":\"closest\",\"height\":800,\"width\":1200},                        {\"responsive\": true}                    ).then(function(){\n",
       "                            \n",
       "var gd = document.getElementById('1768113d-d679-475c-9b72-d5867912b14a');\n",
       "var x = new MutationObserver(function (mutations, observer) {{\n",
       "        var display = window.getComputedStyle(gd).display;\n",
       "        if (!display || display === 'none') {{\n",
       "            console.log([gd, 'removed!']);\n",
       "            Plotly.purge(gd);\n",
       "            observer.disconnect();\n",
       "        }}\n",
       "}});\n",
       "\n",
       "// Listen for the removal of the full notebook cells\n",
       "var notebookContainer = gd.closest('#notebook-container');\n",
       "if (notebookContainer) {{\n",
       "    x.observe(notebookContainer, {childList: true});\n",
       "}}\n",
       "\n",
       "// Listen for the clearing of the current output cell\n",
       "var outputEl = gd.closest('.output');\n",
       "if (outputEl) {{\n",
       "    x.observe(outputEl, {childList: true});\n",
       "}}\n",
       "\n",
       "                        })                };                });            </script>        </div>"
      ]
     },
     "metadata": {},
     "output_type": "display_data"
    }
   ],
   "execution_count": 13
  }
 ],
 "metadata": {
  "kernelspec": {
   "display_name": "Python 3 (ipykernel)",
   "language": "python",
   "name": "python3"
  },
  "language_info": {
   "codemirror_mode": {
    "name": "ipython",
    "version": 3
   },
   "file_extension": ".py",
   "mimetype": "text/x-python",
   "name": "python",
   "nbconvert_exporter": "python",
   "pygments_lexer": "ipython3",
   "version": "3.11.4"
  }
 },
 "nbformat": 4,
 "nbformat_minor": 2
}
