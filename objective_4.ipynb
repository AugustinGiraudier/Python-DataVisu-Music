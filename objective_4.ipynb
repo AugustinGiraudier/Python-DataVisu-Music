{
 "cells": [
  {
   "cell_type": "markdown",
   "metadata": {},
   "source": [
    "# 🎶 Objectif 4 : Visualisation dynamique des Streams Musicaux : Évolution Temporelle, influence des saisons de l'année, impact des collaborations\n",
    "\n",
    "#### Rappel\n",
    "\n",
    "L'objectif est de visualiser l'évolution du nombre de streams musicaux sur un siècle avec une triple granularité de temps permettant d'explorer les tendances par saison (hiver, printemps, été, automne). Le graphique à ligne permet de se concentrer sur des périodes spécifiques, offrant ainsi une vue détaillée de l'activité musicale au fil du temps. Un bonus de cette analyse permet d'observer l'évolution du nombre d'artistes impliqués dans chaque morceau pendant ces périodes. Ce graphique est conçu pour mettre en évidence les moments les plus dynamiques du secteur musical.\n",
    "\n",
    "**Techniques utilisées :**  \n",
    "- **Triple granularité de temps** : Utilisation des colonnes année, mois, jour pour offrir une vue détaillée.  \n",
    "- **Visualisation de la tendance des streams** : Diagramme en ligne avec possibilité de zoomer sur des périodes spécifiques (focus + context).  \n",
    "- **Affichage de la collaboration artistique** : Intégration du nombre d'artistes associés à chaque morceau pour via la multiplication d'un coefficient sur le diamètre de la bulle affichée.\n"
   ]
  },
  {
   "cell_type": "markdown",
   "metadata": {},
   "source": [
    "## Import et configuration"
   ]
  },
  {
   "cell_type": "code",
   "execution_count": 16,
   "metadata": {},
   "outputs": [],
   "source": [
    "import pandas as pd\n",
    "import plotly.graph_objects as go\n",
    "import numpy as np"
   ]
  },
  {
   "cell_type": "markdown",
   "metadata": {},
   "source": [
    "## Chargement et préparation des données\n"
   ]
  },
  {
   "cell_type": "code",
   "execution_count": 17,
   "metadata": {},
   "outputs": [],
   "source": [
    "\n",
    "# Load and prepare data\n",
    "df = pd.read_csv('dataset/dataset_filtered.csv')\n",
    "df['streams'] = pd.to_numeric(df['streams'], errors='coerce')\n",
    "df['date'] = pd.to_datetime(dict(\n",
    "    year=df['releasedyear'],\n",
    "    month=df['releasedmonth'],\n",
    "    day=df['releasedday']\n",
    "))\n",
    "\n",
    "# Filter for tracks with >10M streams\n",
    "popular_tracks = df.groupby('track')['streams'].sum() >= 10_000_000\n",
    "df_filtered = df[df['track'].isin(popular_tracks[popular_tracks].index)]\n",
    "\n",
    "# Aggregate monthly streams\n",
    "monthly_streams = df_filtered.groupby(\n",
    "    ['date', 'track', 'artistname', 'artist_count']\n",
    ")['streams'].sum().reset_index()\n",
    "\n"
   ]
  },
  {
   "cell_type": "markdown",
   "metadata": {},
   "source": [
    "# Analyse Saisonnière des Streams Musicaux 🎶\n",
    "\n",
    "Pour mieux comprendre les périodes où le secteur musical est le plus dynamique, nous avons catégorisé les données par saison. \n",
    "Chaque saison est représentée par une couleur, un emoji, et les codes couleur correspondants :\n",
    "\n",
    "- **❄️ Hiver** : ![#870000](https://via.placeholder.com/15/87ceeb/000000?text=+)   \n",
    "- **🌱 Printemps** : ![#8FCE00](https://via.placeholder.com/15/8FCE00/000000?text=+)  \n",
    "- **🏖️ Été** : ![#FFCE3A](https://via.placeholder.com/15/FFCE3A/000000?text=+) \n",
    "- **🍂 Automne** : ![#CE7E00](https://via.placeholder.com/15/CE7E00/000000?text=+)\n",
    "\n",
    "Cette visualisation saisonnière permet de mettre en évidence les périodes clés où le nombre de streams atteint son apogée, offrant un aperçu des tendances musicales en fonction des saisons.\n",
    "\n",
    "\n",
    "\n"
   ]
  },
  {
   "cell_type": "code",
   "execution_count": 18,
   "metadata": {},
   "outputs": [],
   "source": [
    "def get_season_color(date):\n",
    "    month = date.month\n",
    "    if month in [12, 1, 2]:\n",
    "        return 'rgb(135,206,235)'  # Winter\n",
    "    elif month in [3, 4, 5]:\n",
    "        return 'rgb(143,206,0)'    # Spring\n",
    "    elif month in [6, 7, 8]:\n",
    "        return 'rgb(255,206,58)'   # Summer\n",
    "    return 'rgb(206,126,0)'        # Autumn"
   ]
  },
  {
   "cell_type": "markdown",
   "metadata": {},
   "source": [
    "### 🧮 Calcul des tailles des Marqueurs en Fonction du Nombre d'Artistes 🎨:\n"
   ]
  },
  {
   "cell_type": "code",
   "execution_count": 19,
   "metadata": {},
   "outputs": [],
   "source": [
    "# Calculate visualization parameters\n",
    "monthly_streams['color'] = monthly_streams['date'].apply(get_season_color)\n",
    "artist_count_range = monthly_streams['artist_count'].agg(['min', 'max'])\n",
    "marker_sizes = 10 + (monthly_streams['artist_count'] - artist_count_range['min']) / (\n",
    "    artist_count_range['max'] - artist_count_range['min']\n",
    ") * 30"
   ]
  },
  {
   "cell_type": "code",
   "execution_count": 22,
   "metadata": {},
   "outputs": [
    {
     "data": {
      "application/vnd.plotly.v1+json": {
       "config": {
        "plotlyServerURL": "https://plot.ly"
       },
       "data": [
        {
         "customdata": [
          [
           "agudo mï¿½ï¿½gi",
           "styrx, utku inc, thezth",
           3
          ],
          [
           "white christmas",
           "bing crosby, john scott trotter & his orchestra, ken darby singers",
           3
          ],
          [
           "the christmas song (merry christmas to you) - remastered 1999",
           "nat king cole",
           1
          ],
          [
           "let it snow! let it snow! let it snow!",
           "frank sinatra, b. swanson quartet",
           2
          ],
          [
           "a holly jolly christmas - single version",
           "burl ives",
           1
          ],
          [
           "jingle bell rock",
           "bobby helms",
           1
          ],
          [
           "jingle bells - remastered 1999",
           "frank sinatra",
           1
          ],
          [
           "it's beginning to look a lot like christmas (with mitchell ayres & his orchestra)",
           "perry como, the fontane sisters, mitchell ayres & his orchestra",
           3
          ],
          [
           "rockin' around the christmas tree",
           "brenda lee",
           1
          ],
          [
           "run rudolph run - single version",
           "chuck berry",
           1
          ],
          [
           "deck the hall - remastered 1999",
           "nat king cole",
           1
          ],
          [
           "let it snow! let it snow! let it snow!",
           "dean martin",
           1
          ],
          [
           "it's the most wonderful time of the year",
           "andy williams",
           1
          ],
          [
           "christmas (baby please come home)",
           "darlene love",
           1
          ],
          [
           "sleigh ride",
           "the ronettes",
           1
          ],
          [
           "have you ever seen the rain?",
           "creedence clearwater revival",
           1
          ],
          [
           "feliz navidad",
           "josï¿½ï¿½ felic",
           1
          ],
          [
           "happy xmas (war is over)",
           "john lennon, the harlem community choir, the plastic ono band, yoko ono",
           4
          ],
          [
           "dream on",
           "aerosmith",
           1
          ],
          [
           "riptide",
           "vance joy",
           1
          ],
          [
           "bohemian rhapsody - remastered 2011",
           "queen",
           1
          ],
          [
           "wonderful christmastime - edited version / remastered 2011",
           "paul mccartney",
           1
          ],
          [
           "pass the dutchie",
           "musical youth",
           1
          ],
          [
           "miss you",
           "southstar",
           1
          ],
          [
           "every breath you take - remastered 2003",
           "the police",
           1
          ],
          [
           "last christmas",
           "wham!",
           1
          ],
          [
           "merry christmas everyone",
           "shakin' stevens",
           1
          ],
          [
           "take on me",
           "a-ha",
           1
          ],
          [
           "do they know it's christmas? - 1984 version",
           "band aid",
           1
          ],
          [
           "everybody wants to rule the world",
           "tears for fears",
           1
          ],
          [
           "running up that hill (a deal with god)",
           "kate bush",
           1
          ],
          [
           "driving home for christmas - 2019 remaster",
           "chris rea",
           1
          ],
          [
           "master of puppets (remastered)",
           "metallica",
           1
          ],
          [
           "sweet child o' mine",
           "guns n' roses",
           1
          ],
          [
           "smells like teen spirit - remastered 2021",
           "nirvana",
           1
          ],
          [
           "something in the way - remastered 2021",
           "nirvana",
           1
          ],
          [
           "creep",
           "radiohead",
           1
          ],
          [
           "all i want for christmas is you",
           "mariah carey",
           1
          ],
          [
           "gangsta's paradise",
           "coolio, l.v.",
           2
          ],
          [
           "california love - original version (explicit)",
           "dr. dre, 2pac, roger",
           3
          ],
          [
           "sigue",
           "ed sheeran, j balvin",
           2
          ],
          [
           "cupid ï¿½ï¿½ï¿½ twin ver. (fifty fifty) ï¿½ï¿½ï¿½ spe",
           "sped up 8282",
           1
          ],
          [
           "iris",
           "the goo goo dolls",
           1
          ],
          [
           "forgot about dre",
           "eminem, dr. dre",
           2
          ],
          [
           "still d.r.e.",
           "dr. dre, snoop dogg",
           2
          ],
          [
           "the next episode",
           "dr. dre, snoop dogg",
           2
          ],
          [
           "yellow",
           "chris molitor",
           1
          ],
          [
           "stan",
           "eminem, dido",
           2
          ],
          [
           "the real slim shady",
           "eminem",
           1
          ],
          [
           "sparks",
           "coldplay",
           1
          ],
          [
           "in the end",
           "linkin park",
           1
          ],
          [
           "my only wish (this year)",
           "britney spears",
           1
          ],
          [
           "in da club",
           "50 cent",
           1
          ],
          [
           "lose yourself - soundtrack version",
           "eminem",
           1
          ],
          [
           "without me",
           "eminem",
           1
          ],
          [
           "'till i collapse",
           "eminem, nate dogg",
           2
          ],
          [
           "superman",
           "eminem, dina rae",
           2
          ],
          [
           "the scientist",
           "coldplay",
           1
          ],
          [
           "numb",
           "linkin park",
           1
          ],
          [
           "mr. brightside",
           "the killers",
           1
          ],
          [
           "mockingbird",
           "eminem",
           1
          ],
          [
           "somewhere only we know",
           "keane",
           1
          ],
          [
           "yo voy (feat. daddy yankee)",
           "zion & lennox",
           1
          ],
          [
           "gasolina",
           "daddy yankee",
           1
          ],
          [
           "you make it feel like christmas (feat. blake shelton)",
           "gwen stefani, blake shelton",
           2
          ],
          [
           "505",
           "arctic monkeys",
           1
          ],
          [
           "heartless",
           "kanye west",
           1
          ],
          [
           "viva la vida",
           "coldplay",
           1
          ],
          [
           "danza kuduro",
           "don omar, lucenzo",
           2
          ],
          [
           "enchanted",
           "taylor swift",
           1
          ],
          [
           "just the way you are",
           "bruno mars",
           1
          ],
          [
           "sure thing",
           "miguel",
           1
          ],
          [
           "es un secreto",
           "plan b",
           1
          ],
          [
           "talking to the moon",
           "bruno mars",
           1
          ],
          [
           "rolling in the deep",
           "adele",
           1
          ],
          [
           "bloody mary",
           "lady gaga",
           1
          ],
          [
           "mistletoe",
           "justin bieber",
           1
          ],
          [
           "radio",
           "lana del rey",
           1
          ],
          [
           "set fire to the rain",
           "adele",
           1
          ],
          [
           "somebody that i used to know",
           "gotye, kimbra",
           2
          ],
          [
           "summertime sadness",
           "lana del rey",
           1
          ],
          [
           "we found love",
           "rihanna, calvin harris",
           2
          ],
          [
           "can't hold us (feat. ray dalton)",
           "ray dalton, ryan lewis, macklemore",
           3
          ],
          [
           "holly jolly christmas",
           "michael bublï¿",
           1
          ],
          [
           "it's beginning to look a lot like christmas",
           "michael bublï¿",
           1
          ],
          [
           "demons",
           "imagine dragons",
           1
          ],
          [
           "lost",
           "frank ocean",
           1
          ],
          [
           "lover",
           "taylor swift",
           1
          ],
          [
           "money trees",
           "kendrick lamar, jay rock",
           2
          ],
          [
           "payphone",
           "maroon 5, wiz khalifa",
           2
          ],
          [
           "sweater weather",
           "the neighbourhood",
           1
          ],
          [
           "montagem - fr punk",
           "ayparia, unxbected",
           2
          ],
          [
           "another love",
           "tom odell",
           1
          ],
          [
           "locked out of heaven",
           "bruno mars",
           1
          ],
          [
           "when i was your man",
           "bruno mars",
           1
          ],
          [
           "bound 2",
           "kanye west",
           1
          ],
          [
           "counting stars",
           "onerepublic",
           1
          ],
          [
           "do i wanna know?",
           "arctic monkeys",
           1
          ],
          [
           "get lucky - radio edit",
           "pharrell williams, nile rodgers, daft punk",
           3
          ],
          [
           "i wanna be yours",
           "arctic monkeys",
           1
          ],
          [
           "wake me up - radio edit",
           "avicii",
           1
          ],
          [
           "why'd you only call me when you're high?",
           "arctic monkeys",
           1
          ],
          [
           "thinking with my dick",
           "kevin gates, juicy j",
           2
          ],
          [
           "all of me",
           "john legend",
           1
          ],
          [
           "ginseng strip 2002",
           "yung lean",
           1
          ],
          [
           "take me to church",
           "hozier",
           1
          ],
          [
           "underneath the tree",
           "kelly clarkson",
           1
          ],
          [
           "santa tell me",
           "ariana grande",
           1
          ],
          [
           "blank space",
           "taylor swift",
           1
          ],
          [
           "i'm not the only one",
           "sam smith",
           1
          ],
          [
           "only love can hurt like this",
           "paloma faith",
           1
          ],
          [
           "shake it off",
           "taylor swift",
           1
          ],
          [
           "style",
           "taylor swift",
           1
          ],
          [
           "the nights",
           "avicii",
           1
          ],
          [
           "thinking out loud",
           "ed sheeran",
           1
          ],
          [
           "lovers rock",
           "tv girl",
           1
          ],
          [
           "photograph",
           "ed sheeran",
           1
          ],
          [
           "after dark",
           "mr.kitty",
           1
          ],
          [
           "night changes",
           "one direction",
           1
          ],
          [
           "i love you so",
           "the walters",
           1
          ],
          [
           "no role modelz",
           "j. cole",
           1
          ],
          [
           "cool for the summer",
           "demi lovato",
           1
          ],
          [
           "space song",
           "beach house",
           1
          ],
          [
           "wait a minute!",
           "willow",
           1
          ],
          [
           "the night we met",
           "lord huron",
           1
          ],
          [
           "atlantis",
           "seafret",
           1
          ],
          [
           "freaks",
           "surf curse",
           1
          ],
          [
           "the hills",
           "the weeknd",
           1
          ],
          [
           "makeba",
           "jain",
           1
          ],
          [
           "alien blues",
           "vundabar",
           1
          ],
          [
           "daddy issues",
           "the neighbourhood",
           1
          ],
          [
           "love yourself",
           "justin bieber",
           1
          ],
          [
           "house of memories",
           "panic! at the disco",
           1
          ],
          [
           "unstoppable",
           "sia",
           1
          ],
          [
           "one dance",
           "drake, wizkid, kyla",
           3
          ],
          [
           "pope is a rockstar",
           "sales",
           1
          ],
          [
           "closer",
           "the chainsmokers, halsey",
           2
          ],
          [
           "selfish",
           "pnb rock",
           1
          ],
          [
           "notion",
           "the rare occasions",
           1
          ],
          [
           "pink + white",
           "frank ocean",
           1
          ],
          [
           "say you won't let go",
           "james arthur",
           1
          ],
          [
           "starboy",
           "the weeknd, daft punk",
           2
          ],
          [
           "there's nothing holdin' me back",
           "shawn mendes",
           1
          ],
          [
           "hey, mickey!",
           "baby tate",
           1
          ],
          [
           "sex, drugs, etc.",
           "beach weather",
           1
          ],
          [
           "me and your mama",
           "childish gambino",
           1
          ],
          [
           "no lie",
           "sean paul, dua lipa",
           2
          ],
          [
           "die for you",
           "the weeknd",
           1
          ],
          [
           "stargirl interlude",
           "the weeknd, lana del rey",
           2
          ],
          [
           "reminder",
           "the weeknd",
           1
          ],
          [
           "perfect",
           "ed sheeran",
           1
          ],
          [
           "snowman",
           "sia",
           1
          ],
          [
           "shape of you",
           "ed sheeran",
           1
          ],
          [
           "believer",
           "imagine dragons",
           1
          ],
          [
           "dark red",
           "steve lacy",
           1
          ],
          [
           "something just like this",
           "the chainsmokers, coldplay",
           2
          ],
          [
           "apocalypse",
           "cigarettes after sex",
           1
          ],
          [
           "bored",
           "billie eilish",
           1
          ],
          [
           "humble.",
           "kendrick lamar",
           1
          ],
          [
           "dandelions",
           "ruth b.",
           1
          ],
          [
           "one kiss (with dua lipa)",
           "calvin harris, dua lipa",
           2
          ],
          [
           "lucid dreams",
           "juice wrld",
           1
          ],
          [
           "infinity",
           "jaymes young",
           1
          ],
          [
           "see you again",
           "tyler, the creator, kali uchis",
           3
          ],
          [
           "lovely - bonus track",
           "billie eilish, khalid",
           2
          ],
          [
           "revenge",
           "xxxtentacion",
           1
          ],
          [
           "swim",
           "chase atlantic",
           1
          ],
          [
           "good looking",
           "suki waterhouse",
           1
          ],
          [
           "donï¿½ï¿½ï¿½t bl",
           "taylor swift",
           1
          ],
          [
           "cold heart - pnau remix",
           "dua lipa, elton john, pnau",
           3
          ],
          [
           "hold me closer",
           "elton john, britney spears",
           2
          ],
          [
           "merry christmas",
           "ed sheeran, elton john",
           2
          ],
          [
           "beggin",
           "mï¿½ï¿½ne",
           1
          ],
          [
           "softcore",
           "the neighbourhood",
           1
          ],
          [
           "hope",
           "xxxtentacion",
           1
          ],
          [
           "call out my name",
           "the weeknd",
           1
          ],
          [
           "i was never there",
           "the weeknd, gesaffelstein",
           2
          ],
          [
           "let me down slowly",
           "alec benjamin",
           1
          ],
          [
           "slow dancing in the dark",
           "joji",
           1
          ],
          [
           "shallow",
           "lady gaga, bradley cooper",
           2
          ],
          [
           "sunflower - spider-man: into the spider-verse",
           "post malone, swae lee",
           2
          ],
          [
           "someone you loved",
           "lewis capaldi",
           1
          ],
          [
           "we fell in love in october",
           "girl in red",
           1
          ],
          [
           "astronaut in the ocean",
           "masked wolf",
           1
          ],
          [
           "lost in the fire",
           "the weeknd, gesaffelstein",
           2
          ],
          [
           "arcade",
           "duncan laurence",
           1
          ],
          [
           "boy with luv (feat. halsey)",
           "halsey, bts",
           2
          ],
          [
           "dance monkey",
           "tones and i",
           1
          ],
          [
           "heart to heart",
           "mac demarco",
           1
          ],
          [
           "those eyes",
           "new west",
           1
          ],
          [
           "new magic wand",
           "tyler, the creator",
           2
          ],
          [
           "callaita",
           "bad bunny, tainy",
           2
          ],
          [
           "seï¿½ï¿½o",
           "shawn mendes, camila cabello",
           2
          ],
          [
           "mount everest",
           "labrinth",
           1
          ],
          [
           "la canciï¿½",
           "j balvin, bad bunny",
           2
          ],
          [
           "tom's diner",
           "annenmaykantereit, giant rooks",
           2
          ],
          [
           "love nwantiti (ah ah ah)",
           "ckay",
           1
          ],
          [
           "all for us - from the hbo original series euphoria",
           "labrinth, zendaya",
           2
          ],
          [
           "all of the girls you loved before",
           "taylor swift",
           1
          ],
          [
           "cruel summer",
           "taylor swift",
           1
          ],
          [
           "circles",
           "post malone",
           1
          ],
          [
           "love nwantiti - remix",
           "ckay, ax'el, dj yo!",
           3
          ],
          [
           "mary on a cross",
           "ghost",
           1
          ],
          [
           "memories",
           "maroon 5",
           1
          ],
          [
           "forever",
           "labrinth",
           1
          ],
          [
           "formula",
           "labrinth",
           1
          ],
          [
           "still don't know my name",
           "labrinth",
           1
          ],
          [
           "under the influence",
           "chris brown",
           1
          ],
          [
           "when i r.i.p.",
           "labrinth",
           1
          ],
          [
           "car's outside",
           "james arthur",
           1
          ],
          [
           "don't start now",
           "dua lipa",
           1
          ],
          [
           "before you go",
           "lewis capaldi",
           1
          ],
          [
           "san lucas",
           "kevin kaarl",
           1
          ],
          [
           "streets",
           "doja cat",
           1
          ],
          [
           "watermelon sugar",
           "harry styles",
           1
          ],
          [
           "blinding lights",
           "the weeknd",
           1
          ],
          [
           "adore you",
           "harry styles",
           1
          ],
          [
           "falling",
           "harry styles",
           1
          ],
          [
           "golden",
           "harry styles",
           1
          ],
          [
           "the business",
           "tiï¿½ï¿",
           1
          ],
          [
           "middle of the night",
           "elley duhï¿",
           1
          ],
          [
           "contection",
           "godzz__-, zakaria",
           2
          ],
          [
           "shut up my moms calling",
           "hotel ugly",
           1
          ],
          [
           "after hours",
           "the weeknd",
           1
          ],
          [
           "heartbreak anniversary",
           "giveon",
           1
          ],
          [
           "a tu merced",
           "bad bunny",
           1
          ],
          [
           "la santa",
           "daddy yankee, bad bunny",
           2
          ],
          [
           "la zona",
           "bad bunny",
           1
          ],
          [
           "meet me at our spot",
           "the anxiety, willow, tyler cole",
           3
          ],
          [
           "heather",
           "conan gray",
           1
          ],
          [
           "save your tears",
           "the weeknd",
           1
          ],
          [
           "save your tears (with ariana grande) (remix)",
           "ariana grande, the weeknd",
           2
          ],
          [
           "levitating",
           "dua lipa",
           1
          ],
          [
           "levitating (feat. dababy)",
           "dua lipa, dababy",
           2
          ],
          [
           "you broke me first",
           "tate mcrae",
           1
          ],
          [
           "ýýýýýýýýýýýýýýýýýýýýý",
           "fujii kaze",
           1
          ],
          [
           "still with you",
           "jung kook",
           1
          ],
          [
           "heat waves",
           "glass animals",
           1
          ],
          [
           "life goes on",
           "oliver tree",
           1
          ],
          [
           "august",
           "taylor swift",
           1
          ],
          [
           "cardigan",
           "taylor swift",
           1
          ],
          [
           "excuses",
           "intense, ap dhillon, gurinder gill",
           3
          ],
          [
           "mood (feat. iann dior)",
           "24kgoldn, iann dior",
           2
          ],
          [
           "dynamite",
           "bts",
           1
          ],
          [
           "bad habits",
           "ed sheeran",
           1
          ],
          [
           "montero (call me by your name)",
           "lil nas x",
           1
          ],
          [
           "mon amour - remix",
           "aitana, zzoilo",
           2
          ],
          [
           "demasiadas mujeres",
           "c. tangana",
           1
          ],
          [
           "positions",
           "ariana grande",
           1
          ],
          [
           "dakiti",
           "bad bunny, jhay cortez",
           2
          ],
          [
           "todo de ti",
           "rauw alejandro",
           1
          ],
          [
           "angels like you",
           "miley cyrus",
           1
          ],
          [
           "caile",
           "luar la l",
           1
          ],
          [
           "i really want to stay at your house",
           "rosa walton, hallie coggins",
           2
          ],
          [
           "good days",
           "sza",
           1
          ],
          [
           "sky",
           "playboi carti",
           1
          ],
          [
           "drivers license",
           "olivia rodrigo",
           1
          ],
          [
           "friday (feat. mufasa & hypeman) - dopamine re-edit",
           "riton, nightcrawlers, mufasa & hypeman, dopamine",
           4
          ],
          [
           "quï¿½ï¿½ mï¿½ï¿",
           "j balvin, maria becerra",
           2
          ],
          [
           "leave the door open",
           "bruno mars, anderson .paak, silk sonic",
           3
          ],
          [
           "bones",
           "imagine dragons",
           1
          ],
          [
           "ghost",
           "justin bieber",
           1
          ],
          [
           "i wanna be your slave",
           "mï¿½ï¿½ne",
           1
          ],
          [
           "peaches (feat. daniel caesar & giveon)",
           "justin bieber, daniel caesar, giveon",
           3
          ],
          [
           "deja vu",
           "olivia rodrigo",
           1
          ],
          [
           "kiss me more (feat. sza)",
           "sza, doja cat",
           2
          ],
          [
           "rapstar",
           "polo g",
           1
          ],
          [
           "you belong with me (taylorï¿½ï¿½ï¿½s ve",
           "taylor swift",
           1
          ],
          [
           "2055",
           "sleepy hallow",
           1
          ],
          [
           "leave before you love me (with jonas brothers)",
           "marshmello, jonas brothers",
           2
          ],
          [
           "miï¿½ï¿½n",
           "tini, maria becerra",
           2
          ],
          [
           "jordan",
           "ryan castro",
           1
          ],
          [
           "thunder",
           "prezioso, gabry ponte, lum!x",
           3
          ],
          [
           "good 4 u",
           "olivia rodrigo",
           1
          ],
          [
           "295",
           "sidhu moose wala",
           1
          ],
          [
           "butter",
           "bts",
           1
          ],
          [
           "favorite crime",
           "olivia rodrigo",
           1
          ],
          [
           "happier",
           "olivia rodrigo",
           1
          ],
          [
           "jealousy, jealousy",
           "olivia rodrigo",
           1
          ],
          [
           "traitor",
           "juan cruz toledo, huilen toledo",
           2
          ],
          [
           "yonaguni",
           "bad bunny",
           1
          ],
          [
           "need to know",
           "doja cat",
           1
          ],
          [
           "por las noches",
           "peso pluma",
           1
          ],
          [
           "am remix",
           "j balvin, nio garcia, bad bunny",
           3
          ],
          [
           "pepas",
           "farruko",
           1
          ],
          [
           "you right",
           "doja cat, the weeknd",
           2
          ],
          [
           "ain't shit",
           "doja cat",
           1
          ],
          [
           "cï¿½ï¿½",
           "rauw alejandro",
           1
          ],
          [
           "desesperados",
           "chencho corleone, rauw alejandro",
           2
          ],
          [
           "get into it (yuh)",
           "doja cat",
           1
          ],
          [
           "woman",
           "doja cat",
           1
          ],
          [
           "sobrio",
           "maluma",
           1
          ],
          [
           "volando - remix",
           "sech, bad bunny, mora",
           3
          ],
          [
           "permission to dance",
           "bts",
           1
          ],
          [
           "stay (with justin bieber)",
           "justin bieber, the kid laroi",
           2
          ],
          [
           "industry baby (feat. jack harlow)",
           "jack harlow, lil nas x",
           2
          ],
          [
           "happier than ever - edit",
           "billie eilish",
           1
          ],
          [
           "happier than ever",
           "billie eilish",
           1
          ],
          [
           "where are you now",
           "lost frequencies, calum scott",
           2
          ],
          [
           "don't be shy",
           "tiï¿½ï¿½sto, kar",
           2
          ],
          [
           "volvï¿",
           "aventura, bad bunny",
           2
          ],
          [
           "take my breath",
           "the weeknd",
           1
          ],
          [
           "flowers",
           "lauren spencer smith",
           1
          ],
          [
           "every summertime",
           "niki",
           1
          ],
          [
           "se le ve",
           "arcangel, de la ghetto, justin quiles, lenny tavï¿½ï¿½rez, sech, dalex, dimelo flow, rich music",
           8
          ],
          [
           "out out (feat. charli xcx & saweetie)",
           "charli xcx, jax jones, joel corry, saweetie",
           4
          ],
          [
           "ýýýabcdefu",
           "gayle",
           1
          ],
          [
           "do it to it",
           "cherish, acraze",
           2
          ],
          [
           "family ties (with kendrick lamar)",
           "kendrick lamar, baby keem",
           2
          ],
          [
           "praise god",
           "kanye west",
           1
          ],
          [
           "acapulco",
           "jason derulo",
           1
          ],
          [
           "until i found you",
           "stephen sanchez",
           1
          ],
          [
           "ley seca",
           "anuel aa, jhay cortez",
           2
          ],
          [
           "enemy (with jid) - from the series arcane league of legends",
           "imagine dragons, league of legends, jid, arcane",
           4
          ],
          [
           "fair trade (with travis scott)",
           "drake, travis scott",
           2
          ],
          [
           "knife talk (with 21 savage ft. project pat)",
           "drake, project pat, 21 savage",
           3
          ],
          [
           "this is what falling in love feels like",
           "jvke",
           1
          ],
          [
           "way 2 sexy (with future & young thug)",
           "drake, future, young thug",
           3
          ],
          [
           "nostï¿½ï¿½l",
           "chris brown, rvssian, rauw alejandro",
           3
          ],
          [
           "angel baby",
           "troye sivan",
           1
          ],
          [
           "shivers",
           "ed sheeran",
           1
          ],
          [
           "money",
           "lisa",
           1
          ],
          [
           "monï¿½ï¿½y so",
           "yeat",
           1
          ],
          [
           "toxic",
           "boywithuke",
           1
          ],
          [
           "sad girlz luv money remix (feat. kali uchis)",
           "kali uchis, amaarae, moliy",
           3
          ],
          [
           "thats what i want",
           "lil nas x",
           1
          ],
          [
           "better days (neiked x mae muller x polo g)",
           "neiked, mae muller, polo g",
           3
          ],
          [
           "my universe",
           "coldplay, bts",
           2
          ],
          [
           "the feels",
           "twice",
           1
          ],
          [
           "lo siento bb:/ (with bad bunny & julieta venegas)",
           "julieta venegas, bad bunny, tainy",
           3
          ],
          [
           "easy on me",
           "adele",
           1
          ],
          [
           "esqueï¿½ï¿½a-me se for c",
           "marï¿½ï¿½lia mendonï¿½ï¿½a, maiara &",
           2
          ],
          [
           "salimo de noche",
           "trueno, tiago pzk",
           2
          ],
          [
           "moth to a flame (with the weeknd)",
           "the weeknd, swedish house mafia",
           2
          ],
          [
           "problemï¿½",
           "alvaro diaz, rauw alejandro",
           2
          ],
          [
           "tacones rojos",
           "sebastian yatra",
           1
          ],
          [
           "vai lï¿½ï¿½ em casa",
           "marï¿½ï¿½lia mendonï¿½ï¿½a, george henrique &",
           2
          ],
          [
           "enemy - from the series arcane league of legends",
           "imagine dragons, league of legends, arcane",
           3
          ],
          [
           "medallo",
           "justin quiles, lenny tavï¿½ï¿½rez, bl",
           3
          ],
          [
           "super gremlin",
           "kodak black",
           1
          ],
          [
           "the motto",
           "tiï¿½ï¿½sto, ava",
           2
          ],
          [
           "one right now (with the weeknd)",
           "the weeknd, post malone",
           2
          ],
          [
           "smokin out the window",
           "bruno mars, anderson .paak, silk sonic",
           3
          ],
          [
           "to the moon",
           "jnr choi",
           1
          ],
          [
           "bar",
           "tini, l-gante",
           2
          ],
          [
           "envolver",
           "anitta",
           1
          ],
          [
           "la fama (with the weeknd)",
           "the weeknd, rosalï¿½",
           2
          ],
          [
           "all too well (10 minute version) (taylor's version) (from the vault)",
           "taylor swift",
           1
          ],
          [
           "dance crip",
           "trueno",
           1
          ],
          [
           "i am woman",
           "emmy meli",
           1
          ],
          [
           "sï¿½ï¿½",
           "anuel aa, myke towers, jhay cortez",
           3
          ],
          [
           "dos oruguitas",
           "sebastian yatra",
           1
          ],
          [
           "down under (feat. colin hay)",
           "luude, colin hay",
           2
          ],
          [
           "hrs and hrs",
           "muni long",
           1
          ],
          [
           "oh my god",
           "adele",
           1
          ],
          [
           "surface pressure",
           "jessica darrow",
           1
          ],
          [
           "the family madrigal",
           "olga merediz, stephanie beatriz, encanto - cast",
           3
          ],
          [
           "we don't talk about bruno",
           "adassa, mauro castillo, stephanie beatriz, encanto - cast, rhenzy feliz, diane guerrero, carolina gaitan",
           7
          ],
          [
           "what else can i do?",
           "stephanie beatriz, diane guerrero",
           2
          ],
          [
           "metamorphosis",
           "interworld",
           1
          ],
          [
           "malvadï¿½ï¿",
           "xamï¿½ï¿½, gustah, neo b",
           3
          ],
          [
           "eleven",
           "ive",
           1
          ],
          [
           "it'll be okay",
           "shawn mendes",
           1
          ],
          [
           "i hate u",
           "sza",
           1
          ],
          [
           "sunroof",
           "nicky youre, dazy",
           2
          ],
          [
           "cigarettes",
           "juice wrld",
           1
          ],
          [
           "the color violet",
           "tory lanez",
           1
          ],
          [
           "mujeriego",
           "ryan castro",
           1
          ],
          [
           "peru",
           "ed sheeran, fireboy dml",
           2
          ],
          [
           "christmas tree",
           "v",
           1
          ],
          [
           "la bebe",
           "yng lvcas",
           1
          ],
          [
           "slomo",
           "chanel",
           1
          ],
          [
           "tiago pzk: bzrp music sessions, vol. 48",
           "bizarrap, tiago pzk",
           2
          ],
          [
           "when iï¿½ï¿½ï¿½m gone (with katy",
           "katy perry, alesso",
           2
          ],
          [
           "entre nosotros (remix) [con nicki nicole]",
           "lit killah, maria becerra, tiago pzk, nicki nicole",
           4
          ],
          [
           "fingers crossed",
           "lauren spencer smith, lauren spencer smith, lauren spencer smith",
           3
          ],
          [
           "25k jacket (feat. lil baby)",
           "gunna, lil baby",
           2
          ],
          [
           "a tale by quincy",
           "the weeknd",
           1
          ],
          [
           "best friends",
           "the weeknd",
           1
          ],
          [
           "dawn fm",
           "the weeknd",
           1
          ],
          [
           "donï¿½ï¿½ï¿½t break my",
           "the weeknd",
           1
          ],
          [
           "every angel is terrifying",
           "the weeknd",
           1
          ],
          [
           "gasoline",
           "the weeknd",
           1
          ],
          [
           "here we goï¿½ï¿½ï¿½ again (feat. tyler, the cr",
           "the weeknd, tyler, the creator",
           3
          ],
          [
           "how do i make you love me?",
           "the weeknd",
           1
          ],
          [
           "i heard you're married (feat. lil wayne)",
           "the weeknd, lil wayne",
           2
          ],
          [
           "is there someone else?",
           "the weeknd",
           1
          ],
          [
           "less than zero",
           "the weeknd",
           1
          ],
          [
           "miserable man",
           "david kushner",
           1
          ],
          [
           "out of time",
           "the weeknd",
           1
          ],
          [
           "phantom regret by jim",
           "the weeknd",
           1
          ],
          [
           "pushin p (feat. young thug)",
           "young thug, future, gunna",
           3
          ],
          [
           "sacrifice",
           "the weeknd",
           1
          ],
          [
           "starry eyes",
           "the weeknd",
           1
          ],
          [
           "thought i was playing",
           "21 savage, gunna",
           2
          ],
          [
           "lï¿½ï¿½ï¿",
           "stromae",
           1
          ],
          [
           "blessed-cursed",
           "enhypen",
           1
          ],
          [
           "polaroid love",
           "enhypen",
           1
          ],
          [
           "the rumbling (tv size)",
           "sim",
           1
          ],
          [
           "cayï¿½ï¿½ la noche (feat. cruz cafunï¿½ï¿½, abhir hathi, bejo, el ima)",
           "quevedo, la pantera, juseph, cruz cafunï¿½ï¿½, bï¿½ï¿½jo, abhir hathi",
           7
          ],
          [
           "mal feito - ao vivo",
           "marï¿½ï¿½lia mendonï¿½ï¿½a, hugo & g",
           2
          ],
          [
           "212",
           "mainstreet, chefin",
           2
          ],
          [
           "rumble",
           "skrillex, flowdan, fred again..",
           3
          ],
          [
           "light switch",
           "charlie puth",
           1
          ],
          [
           "billie eilish.",
           "armani white",
           1
          ],
          [
           "murder in my mind",
           "kordhell",
           1
          ],
          [
           "una noche en medellï¿½",
           "cris mj",
           1
          ],
          [
           "where did you go?",
           "mnek, jax jones",
           2
          ],
          [
           "malvada",
           "zï¿½ï¿½ fe",
           1
          ],
          [
           "numb little bug",
           "em beihold",
           1
          ],
          [
           "vampiro",
           "matuï¿½ï¿½, wiu,",
           3
          ],
          [
           "danï¿½ï¿½a",
           "mc pedrinho, pedro sampaio",
           2
          ],
          [
           "brividi",
           "mahmood, blanco",
           2
          ],
          [
           "do we have a problem?",
           "nicki minaj, lil baby",
           2
          ],
          [
           "gospel (with eminem)",
           "eminem, dr. dre",
           2
          ],
          [
           "i'm tired - from \"euphoria\" an original hbo series",
           "labrinth",
           1
          ],
          [
           "she's all i wanna be",
           "tate mcrae",
           1
          ],
          [
           "ojos marrones",
           "lasso",
           1
          ],
          [
           "pasoori",
           "shae gill, ali sethi",
           2
          ],
          [
           "calm down",
           "rï¿½ï",
           1
          ],
          [
           "mamiii",
           "karol g, becky g",
           2
          ],
          [
           "boyfriend",
           "dove cameron",
           1
          ],
          [
           "bussin",
           "nicki minaj, lil baby",
           2
          ],
          [
           "city of gods",
           "kanye west, alicia keys, fivio foreign",
           3
          ],
          [
           "stay alive (prod. suga of bts)",
           "jung kook",
           1
          ],
          [
           "the joker and the queen (feat. taylor swift)",
           "ed sheeran, taylor swift",
           2
          ],
          [
           "worst day",
           "future",
           1
          ],
          [
           "ultra solo",
           "polima westcoast, pailita",
           2
          ],
          [
           "darari",
           "treasure",
           1
          ],
          [
           "fuera del mercado",
           "danny ocean",
           1
          ],
          [
           "belly dancer",
           "byor, imanbek",
           2
          ],
          [
           "chale",
           "eden muï¿½ï",
           1
          ],
          [
           "jgl",
           "luis r conriquez, la adictiva",
           2
          ],
          [
           "nail tech",
           "jack harlow",
           1
          ],
          [
           "ya no somos ni seremos",
           "christian nodal",
           1
          ],
          [
           "o.o",
           "nmixx",
           1
          ],
          [
           "space man",
           "sam ryder",
           1
          ],
          [
           "freaky deaky",
           "tyga, doja cat",
           2
          ],
          [
           "nobody like u - from \"turning red\"",
           "jordan fisher, josh levi, finneas o'connell, 4*town (from disney and pixarï¿½ï¿½ï¿½s turning red), topher ngo, grayson vill",
           6
          ],
          [
           "hati-hati di jalan",
           "tulus",
           1
          ],
          [
           "residente: bzrp music sessions, vol. 49",
           "residente, bizarrap",
           2
          ],
          [
           "starlight",
           "dave",
           1
          ],
          [
           "bam bam (feat. ed sheeran)",
           "camila cabello, ed sheeran",
           2
          ],
          [
           "stefania (kalush orchestra)",
           "kalush",
           1
          ],
          [
           "sweetest pie",
           "dua lipa, megan thee stallion",
           2
          ],
          [
           "the shade",
           "rex orange county",
           1
          ],
          [
           "ferrari",
           "james hype, miggy dela rosa",
           2
          ],
          [
           "sentadona (remix) s2",
           "luï¿½ï¿½sa sonza, mc frog, dj gabriel do borel, davi k",
           4
          ],
          [
           "crazy what love can do",
           "david guetta, ella henderson, becky hill",
           3
          ],
          [
           "idgaf (with blackbear)",
           "blackbear, boywithuke",
           2
          ],
          [
           "maniac",
           "stray kids",
           1
          ],
          [
           "pantysito",
           "feid, alejo, robi",
           3
          ],
          [
           "snap",
           "rosa linn",
           1
          ],
          [
           "10 things i hate about you",
           "leah kate",
           1
          ],
          [
           "plan a",
           "paulo londra",
           1
          ],
          [
           "layla",
           "schï¿½ï¿½rze, dj r",
           2
          ],
          [
           "calm down (with selena gomez)",
           "rï¿½ï¿½ma, selena g",
           2
          ],
          [
           "rumbatï¿½",
           "daddy yankee",
           1
          ],
          [
           "soy el unico",
           "yahritza y su esencia",
           1
          ],
          [
           "x ï¿½ï¿½ltima",
           "daddy yankee, bad bunny",
           2
          ],
          [
           "fim de semana no rio",
           "teto",
           1
          ],
          [
           "me arrepentï¿",
           "ak4:20, cris mj, pailita",
           3
          ],
          [
           "as it was",
           "harry styles",
           1
          ],
          [
           "si quieren frontear",
           "de la ghetto, duki, quevedo",
           3
          ],
          [
           "when you're gone",
           "shawn mendes",
           1
          ],
          [
           "in my head",
           "lil tjay",
           1
          ],
          [
           "la inocente",
           "feid, mora",
           2
          ],
          [
           "tus lï¿½ï¿½gr",
           "sech, mora",
           2
          ],
          [
           "love dive",
           "ive",
           1
          ],
          [
           "still life",
           "bigbang",
           1
          ],
          [
           "chance",
           "paulo londra",
           1
          ],
          [
           "psychofreak (feat. willow)",
           "camila cabello, willow",
           2
          ],
          [
           "ceilings",
           "lizzy mcalpine",
           1
          ],
          [
           "evergreen (you didnï¿½ï¿½ï¿½t deserve me a",
           "omar apollo",
           1
          ],
          [
           "first class",
           "jack harlow",
           1
          ],
          [
           "right on",
           "lil baby",
           1
          ],
          [
           "that's hilarious",
           "charlie puth",
           1
          ],
          [
           "zoom",
           "jessi",
           1
          ],
          [
           "about damn time",
           "lizzo",
           1
          ],
          [
           "primera cita",
           "carin leon",
           1
          ],
          [
           "provenza",
           "karol g",
           1
          ],
          [
           "te felicito",
           "shakira, rauw alejandro",
           2
          ],
          [
           "beautiful girl",
           "luciano",
           1
          ],
          [
           "slut me out",
           "nle choppa",
           1
          ],
          [
           "something in the orange",
           "zach bryan",
           1
          ],
          [
           "thousand miles",
           "the kid laroi",
           1
          ],
          [
           "until i found you (with em beihold) - em beihold version",
           "em beihold, stephen sanchez",
           2
          ],
          [
           "with you",
           "ha sung woon, jimin",
           2
          ],
          [
           "paulo londra: bzrp music sessions, vol. 23",
           "bizarrap, paulo londra",
           2
          ],
          [
           "wait for u (feat. drake & tems)",
           "drake, future, tems",
           3
          ],
          [
           "no se va",
           "grupo frontera",
           1
          ],
          [
           "honest (feat. don toliver)",
           "justin bieber, don toliver",
           2
          ],
          [
           "in the stars",
           "benson boone",
           1
          ],
          [
           "puffin on zootiez",
           "future",
           1
          ],
          [
           "that that (prod. & feat. suga of bts)",
           "psy, suga",
           2
          ],
          [
           "afraid to feel",
           "lf system",
           1
          ],
          [
           "fearless",
           "le sserafim",
           1
          ],
          [
           "hold my hand",
           "lady gaga",
           1
          ],
          [
           "agosto",
           "bad bunny",
           1
          ],
          [
           "aguacero",
           "bad bunny",
           1
          ],
          [
           "andrea",
           "buscabulla, bad bunny",
           2
          ],
          [
           "despuï¿½ï¿½s de la p",
           "bad bunny",
           1
          ],
          [
           "dos mil 16",
           "bad bunny",
           1
          ],
          [
           "dua lipa",
           "jack harlow",
           1
          ],
          [
           "efecto",
           "bad bunny",
           1
          ],
          [
           "el apagï¿½",
           "bad bunny",
           1
          ],
          [
           "ensï¿½ï¿½ï¿½ï¿½ame",
           "bad bunny",
           1
          ],
          [
           "i tried to tell y'all",
           "ugly dray, tesla jnr",
           2
          ],
          [
           "la corriente",
           "tony dize, bad bunny",
           2
          ],
          [
           "me fui de vacaciones",
           "bad bunny",
           1
          ],
          [
           "me porto bonito",
           "chencho corleone, bad bunny",
           2
          ],
          [
           "moscow mule",
           "bad bunny",
           1
          ],
          [
           "neverita",
           "bad bunny",
           1
          ],
          [
           "ojitos lindos",
           "bomba estï¿½ï¿½reo, bad b",
           2
          ],
          [
           "otro atardecer",
           "bad bunny, the marï¿½ï",
           2
          ],
          [
           "party",
           "bad bunny, rauw alejandro",
           2
          ],
          [
           "tarot",
           "bad bunny, jhay cortez",
           2
          ],
          [
           "this love (taylorï¿½ï¿½ï¿½s ve",
           "taylor swift",
           1
          ],
          [
           "thought you should know",
           "morgan wallen",
           1
          ],
          [
           "titi me preguntï¿",
           "bad bunny",
           1
          ],
          [
           "un coco",
           "bad bunny",
           1
          ],
          [
           "un ratito",
           "bad bunny",
           1
          ],
          [
           "un verano sin ti",
           "bad bunny",
           1
          ],
          [
           "vegas (from the original motion picture soundtrack elvis)",
           "doja cat",
           1
          ],
          [
           "yo no soy celoso",
           "bad bunny",
           1
          ],
          [
           "the heart part 5",
           "kendrick lamar",
           1
          ],
          [
           "cooped up (with roddy ricch)",
           "post malone, roddy ricch",
           2
          ],
          [
           "last last",
           "burna boy",
           1
          ],
          [
           "auntie diaries",
           "kendrick lamar",
           1
          ],
          [
           "count me out",
           "kendrick lamar",
           1
          ],
          [
           "crown",
           "kendrick lamar",
           1
          ],
          [
           "die hard",
           "kendrick lamar, blxst, amanda reifer",
           3
          ],
          [
           "en el radio un cochinero",
           "victor cibrian",
           1
          ],
          [
           "father time (feat. sampha)",
           "kendrick lamar, sampha",
           2
          ],
          [
           "i ain't worried",
           "onerepublic",
           1
          ],
          [
           "mirror",
           "kendrick lamar",
           1
          ],
          [
           "mother i sober (feat. beth gibbons of portishead)",
           "kendrick lamar, beth gibbons",
           2
          ],
          [
           "mr. morale",
           "kendrick lamar, tanna leone",
           2
          ],
          [
           "n95",
           "kendrick lamar",
           1
          ],
          [
           "purple hearts",
           "kendrick lamar, ghostface killah, summer walker",
           3
          ],
          [
           "rich - interlude",
           "kendrick lamar",
           1
          ],
          [
           "rich spirit",
           "kendrick lamar",
           1
          ],
          [
           "savior",
           "kendrick lamar, sam dew, baby keem",
           3
          ],
          [
           "savior - interlude",
           "kendrick lamar",
           1
          ],
          [
           "silent hill",
           "kendrick lamar, kodak black",
           2
          ],
          [
           "supermodel",
           "mï¿½ï¿½ne",
           1
          ],
          [
           "tak ingin usai",
           "keisya levronka",
           1
          ],
          [
           "united in grief",
           "kendrick lamar",
           1
          ],
          [
           "we cry together",
           "kendrick lamar, taylour paige",
           2
          ],
          [
           "worldwide steppers",
           "kendrick lamar",
           1
          ],
          [
           "you proof",
           "morgan wallen",
           1
          ],
          [
           "boyfriends",
           "harry styles",
           1
          ],
          [
           "cinema",
           "harry styles",
           1
          ],
          [
           "daydreaming",
           "harry styles",
           1
          ],
          [
           "daylight",
           "harry styles",
           1
          ],
          [
           "grapejuice",
           "harry styles",
           1
          ],
          [
           "keep driving",
           "harry styles",
           1
          ],
          [
           "la llevo al cielo (ft. ï¿½ï¿½engo f",
           "nengo flow, anuel aa, chris jedi, chencho corleone",
           4
          ],
          [
           "late night talking",
           "harry styles",
           1
          ],
          [
           "little freak",
           "harry styles",
           1
          ],
          [
           "love of my life",
           "harry styles",
           1
          ],
          [
           "matilda",
           "harry styles",
           1
          ],
          [
           "music for a sushi restaurant",
           "harry styles",
           1
          ],
          [
           "pipoco",
           "melody, ana castela, dj chris no beat",
           3
          ],
          [
           "satellite",
           "harry styles",
           1
          ],
          [
           "die young (feat. 347aidan)",
           "sleepy hallow, 347aidan",
           2
          ],
          [
           "la bachata",
           "manuel turizo",
           1
          ],
          [
           "potion (with dua lipa & young thug)",
           "calvin harris, dua lipa, young thug",
           3
          ],
          [
           "true love",
           "kanye west, xxxtentacion",
           2
          ],
          [
           "kahani suno 2.0",
           "kaifi khalil",
           1
          ],
          [
           "antes de perderte",
           "duki",
           1
          ],
          [
           "nos comemos (feat. ozuna)",
           "ozuna, tiago pzk",
           2
          ],
          [
           "ai preto",
           "l7nnon, dj biel do furduncinho, bianca",
           3
          ],
          [
           "ferxxo 100",
           "feid",
           1
          ],
          [
           "i like you (a happier song) (with doja cat)",
           "post malone, doja cat",
           2
          ],
          [
           "villano antillano: bzrp music sessions, vol. 51",
           "bizarrap, villano antillano",
           2
          ],
          [
           "so good",
           "halsey",
           1
          ],
          [
           "baile no morro",
           "mc vitin da igrejinha, mc tairon, dj win",
           3
          ],
          [
           "betty (get money)",
           "yung gravy",
           1
          ],
          [
           "born singer",
           "bts",
           1
          ],
          [
           "cash in cash out",
           "pharrell williams, tyler, the creator, 21 savage",
           4
          ],
          [
           "for youth",
           "bts",
           1
          ],
          [
           "glimpse of us",
           "joji",
           1
          ],
          [
           "ku lo sa - a colors show",
           "oxlade",
           1
          ],
          [
           "numb",
           "marshmello, khalid",
           2
          ],
          [
           "run bts",
           "bts",
           1
          ],
          [
           "yet to come",
           "bts",
           1
          ],
          [
           "b.o.t.a. (baddest of them all) - edit",
           "interplanetary criminal, eliza rose",
           2
          ],
          [
           "don't you worry",
           "david guetta, shakira, black eyed peas",
           3
          ],
          [
           "ultra solo remix",
           "de la ghetto, feid, polima westcoast, paloma mami, pailita",
           5
          ],
          [
           "jimmy cooks (feat. 21 savage)",
           "drake, 21 savage",
           2
          ],
          [
           "massive",
           "drake",
           1
          ],
          [
           "sticky",
           "drake",
           1
          ],
          [
           "break my soul",
           "beyoncï¿",
           1
          ],
          [
           "poland",
           "lil yachty",
           1
          ],
          [
           "die first",
           "nessa barrett",
           1
          ],
          [
           "left and right (feat. jung kook of bts)",
           "charlie puth, bts, jung kook",
           3
          ],
          [
           "pop!",
           "nayeon",
           1
          ],
          [
           "bad habit",
           "steve lacy",
           1
          ],
          [
           "casei com a putaria",
           "mc ryan sp, love funk, mc paiva zs",
           3
          ],
          [
           "hot shit (feat. ye & lil durk)",
           "kanye west, lil durk, cardi b",
           3
          ],
          [
           "more",
           "j-hope",
           1
          ],
          [
           "la loto",
           "anitta, tini, becky g",
           3
          ],
          [
           "quevedo: bzrp music sessions, vol. 52",
           "bizarrap, quevedo",
           2
          ],
          [
           "normal",
           "feid",
           1
          ],
          [
           "come back home - from \"purple hearts\"",
           "sofia carson",
           1
          ],
          [
           "2 be loved (am i ready)",
           "lizzo",
           1
          ],
          [
           "about damn time",
           "lizzo",
           1
          ],
          [
           "golden hour",
           "jvke",
           1
          ],
          [
           "nonsense",
           "sabrina carpenter",
           1
          ],
          [
           "static",
           "steve lacy",
           1
          ],
          [
           "stay with me (with justin timberlake, halsey, & pharrell)",
           "calvin harris, halsey, pharrell williams, justin timberlake",
           4
          ],
          [
           "here with me",
           "d4vd",
           1
          ],
          [
           "kesariya (from \"brahmastra\")",
           "pritam, arijit singh, amitabh bhattacharya",
           3
          ],
          [
           "doja",
           "central cee",
           1
          ],
          [
           "givenchy",
           "duki",
           1
          ],
          [
           "romantic homicide",
           "d4vd",
           1
          ],
          [
           "tv",
           "billie eilish",
           1
          ],
          [
           "el rescate",
           "grupo marca registrada, junior h",
           2
          ],
          [
           "sin seï¿½ï",
           "ovy on the drums, quevedo",
           2
          ],
          [
           "lokera",
           "brray, rauw alejandro, lyanno",
           3
          ],
          [
           "despechï¿",
           "rosalï¿½",
           1
          ],
          [
           "lovezinho",
           "treyce",
           1
          ],
          [
           "alien superstar",
           "beyoncï¿",
           1
          ],
          [
           "cuff it",
           "beyoncï¿",
           1
          ],
          [
           "attention",
           "newjeans",
           1
          ],
          [
           "hype boy",
           "newjeans",
           1
          ],
          [
           "cï¿½ï¿½mo dormi",
           "rels b",
           1
          ],
          [
           "bad decisions (with bts & snoop dogg)",
           "snoop dogg, bts, benny blanco",
           3
          ],
          [
           "how do i say goodbye",
           "dean lewis",
           1
          ],
          [
           "miss you",
           "robin schulz, oliver tree",
           2
          ],
          [
           "si te la encuentras por ahï¿",
           "feid",
           1
          ],
          [
           "staying alive (feat. drake & lil baby)",
           "drake, dj khaled, lil baby",
           3
          ],
          [
           "limbo",
           "freddie dredd",
           1
          ],
          [
           "super freaky girl",
           "nicki minaj",
           1
          ],
          [
           "siempre pendientes",
           "peso pluma, luis r conriquez",
           2
          ],
          [
           "komang",
           "raim laode",
           1
          ],
          [
           "baby otaku",
           "fran c, polima westcoast, nickoog clk, pablito pesadilla",
           4
          ],
          [
           "feliz cumpleaï¿½ï¿½os fe",
           "feid",
           1
          ],
          [
           "pink venom",
           "blackpink",
           1
          ],
          [
           "after like",
           "ive",
           1
          ],
          [
           "gatï¿½ï¿½",
           "maldy, karol g",
           2
          ],
          [
           "i'm good (blue)",
           "bebe rexha, david guetta",
           2
          ],
          [
           "talk that talk",
           "twice",
           1
          ],
          [
           "talk",
           "yeat",
           1
          ],
          [
           "vista al mar",
           "quevedo",
           1
          ],
          [
           "evoque prata",
           "dj escobar, mc menor sg, mc menor hr",
           3
          ],
          [
           "forget me",
           "lewis capaldi",
           1
          ],
          [
           "lady mi amor",
           "feid",
           1
          ],
          [
           "prohibidox",
           "feid",
           1
          ],
          [
           "xq te pones asï¿",
           "yandel, feid",
           2
          ],
          [
           "shut up my moms calling - (sped up)",
           "hotel ugly",
           1
          ],
          [
           "eu gosto assim - ao vivo",
           "gustavo mioto, mari fernandez",
           2
          ],
          [
           "shut down",
           "blackpink",
           1
          ],
          [
           "typa girl",
           "blackpink",
           1
          ],
          [
           "bamba (feat. aitch & bia)",
           "luciano, aitch, bï¿½",
           3
          ],
          [
           "punto 40",
           "baby rasta, rauw alejandro",
           2
          ],
          [
           "star walkin' (league of legends worlds anthem)",
           "lil nas x",
           1
          ],
          [
           "unholy (feat. kim petras)",
           "sam smith, kim petras",
           2
          ],
          [
           "tubarï¿½ï¿½o te",
           "dj lk da escï¿½ï¿½cia, tchakabum, mc jhenny, m",
           4
          ],
          [
           "worth nothing",
           "twisted, oliver tree",
           2
          ],
          [
           "besos moja2",
           "wisin & yandel, rosalï¿½",
           2
          ],
          [
           "celestial",
           "ed sheeran",
           1
          ],
          [
           "obsessed",
           "abhijay sharma, riar saab",
           2
          ],
          [
           "gatita",
           "bellakath",
           1
          ],
          [
           "hey mor",
           "ozuna, feid",
           2
          ],
          [
           "the loneliest",
           "mï¿½ï¿½ne",
           1
          ],
          [
           "escapism.",
           "raye, 070 shake",
           2
          ],
          [
           "kick back",
           "kenshi yonezu",
           1
          ],
          [
           "maan meri jaan",
           "king",
           1
          ],
          [
           "bye bye",
           "marshmello, juice wrld",
           2
          ],
          [
           "california breeze",
           "lil baby",
           1
          ],
          [
           "antifragile",
           "le sserafim",
           1
          ],
          [
           "just wanna rock",
           "lil uzi vert",
           1
          ],
          [
           "nxde",
           "(g)i-dle",
           1
          ],
          [
           "monotonï¿½",
           "ozuna, shakira",
           2
          ],
          [
           "en la de ella",
           "feid, sech, jhayco",
           3
          ],
          [
           "quï¿½ï¿½ ago",
           "yuridia, angela aguilar",
           2
          ],
          [
           "anti-hero",
           "taylor swift",
           1
          ],
          [
           "bejeweled",
           "taylor swift",
           1
          ],
          [
           "bigger than the whole sky",
           "taylor swift",
           1
          ],
          [
           "karma",
           "taylor swift",
           1
          ],
          [
           "labyrinth",
           "taylor swift",
           1
          ],
          [
           "lavender haze",
           "taylor swift",
           1
          ],
          [
           "made you look",
           "meghan trainor",
           1
          ],
          [
           "maroon",
           "taylor swift",
           1
          ],
          [
           "mastermind",
           "taylor swift",
           1
          ],
          [
           "midnight rain",
           "taylor swift",
           1
          ],
          [
           "question...?",
           "taylor swift",
           1
          ],
          [
           "snow on the beach (feat. lana del rey)",
           "taylor swift, lana del rey",
           2
          ],
          [
           "sweet nothing",
           "taylor swift",
           1
          ],
          [
           "the great war",
           "taylor swift",
           1
          ],
          [
           "vigilante shit",
           "taylor swift",
           1
          ],
          [
           "would've, could've, should've",
           "taylor swift",
           1
          ],
          [
           "you're on your own, kid",
           "taylor swift",
           1
          ],
          [
           "malas decisiones",
           "kenia os",
           1
          ],
          [
           "lift me up - from black panther: wakanda forever - music from and inspired by",
           "rihanna",
           1
          ],
          [
           "shirt",
           "sza",
           1
          ],
          [
           "the astronaut",
           "jin",
           1
          ],
          [
           "spit in my face!",
           "thxsomch",
           1
          ],
          [
           "10:35",
           "tiï¿½ï¿½sto, tate m",
           2
          ],
          [
           "a veces (feat. feid)",
           "feid, paulo londra",
           2
          ],
          [
           "bombonzinho - ao vivo",
           "israel & rodolffo, ana castela",
           2
          ],
          [
           "my mind & me",
           "selena gomez",
           1
          ],
          [
           "alone",
           "burna boy",
           1
          ],
          [
           "antidepresan",
           "mabel matiz, mert demir",
           2
          ],
          [
           "backoutsideboyz",
           "drake",
           1
          ],
          [
           "broke boys",
           "drake, 21 savage",
           2
          ],
          [
           "circo loco",
           "drake, 21 savage",
           2
          ],
          [
           "con la brisa",
           "ludwig goransson, foudeqush",
           2
          ],
          [
           "die for you",
           "joji",
           1
          ],
          [
           "major distribution",
           "drake, 21 savage",
           2
          ],
          [
           "on bs",
           "drake, 21 savage",
           2
          ],
          [
           "privileged rappers",
           "drake, 21 savage",
           2
          ],
          [
           "punto g",
           "quevedo",
           1
          ],
          [
           "pussy & millions (feat. travis scott)",
           "drake, travis scott, 21 savage",
           3
          ],
          [
           "rich flex",
           "drake, 21 savage",
           2
          ],
          [
           "spin bout u",
           "drake, 21 savage",
           2
          ],
          [
           "apna bana le (from \"bhediya\")",
           "arijit singh, sachin-jigar",
           2
          ],
          [
           "cairo",
           "karol g, ovy on the drums",
           2
          ],
          [
           "dreamers [music from the fifa world cup qatar 2022 official soundtrack]",
           "bts, jung kook, fifa sound",
           3
          ],
          [
           "amg",
           "natanael cano, gabito ballesteros, peso pluma",
           3
          ],
          [
           "escapism. - sped up",
           "raye, 070 shake",
           2
          ],
          [
           "boy's a liar",
           "pinkpantheress",
           1
          ],
          [
           "la jumpa",
           "arcangel, bad bunny",
           2
          ],
          [
           "players",
           "coi leray",
           1
          ],
          [
           "ch y la pizza",
           "fuerza regida, natanael cano",
           2
          ],
          [
           "chorrito pa las animas",
           "feid",
           1
          ],
          [
           "creepin'",
           "the weeknd, 21 savage, metro boomin",
           3
          ],
          [
           "niagara falls (foot or 2) [with travis scott & 21 savage]",
           "travis scott, 21 savage, metro boomin",
           3
          ],
          [
           "on time (with john legend)",
           "john legend, metro boomin",
           2
          ],
          [
           "one thing at a time",
           "morgan wallen",
           1
          ],
          [
           "people",
           "libianca",
           1
          ],
          [
           "raindrops (insane) [with travis scott]",
           "travis scott, metro boomin",
           2
          ],
          [
           "superhero (heroes & villains) [with future & chris brown]",
           "future, chris brown, metro boomin",
           3
          ],
          [
           "tak segampang itu",
           "anggi marito",
           1
          ],
          [
           "too many nights (feat. don toliver & with future)",
           "future, metro boomin, don toliver",
           3
          ],
          [
           "trance (with travis scott & young thug)",
           "travis scott, young thug, metro boomin",
           3
          ],
          [
           "wild flower (with youjeen)",
           "rm",
           1
          ],
          [
           "kill bill",
           "sza",
           1
          ],
          [
           "open arms (feat. travis scott)",
           "sza, travis scott",
           2
          ],
          [
           "too late",
           "sza",
           1
          ],
          [
           "used (feat. don toliver)",
           "sza, don toliver",
           2
          ],
          [
           "zona de perigo",
           "leo santana",
           1
          ],
          [
           "blind",
           "sza",
           1
          ],
          [
           "conceited",
           "sza",
           1
          ],
          [
           "f2f",
           "sza",
           1
          ],
          [
           "far",
           "sza",
           1
          ],
          [
           "ghost in the machine (feat. phoebe bridgers)",
           "sza, phoebe bridgers",
           2
          ],
          [
           "gone girl",
           "sza",
           1
          ],
          [
           "leï¿½",
           "marï¿½ï¿½lia mendo",
           1
          ],
          [
           "love language",
           "sza",
           1
          ],
          [
           "low",
           "sza",
           1
          ],
          [
           "nobody gets me",
           "sza",
           1
          ],
          [
           "notice me",
           "sza",
           1
          ],
          [
           "seek & destroy",
           "sza",
           1
          ],
          [
           "smoking on my ex pack",
           "sza",
           1
          ],
          [
           "snooze",
           "sza",
           1
          ],
          [
           "sos",
           "sza",
           1
          ],
          [
           "special",
           "sza",
           1
          ],
          [
           "besharam rang (from \"pathaan\")",
           "vishal-shekhar, shilpa rao, caralisa monteiro, kumaar, vishal dadlani, shekhar ravjiani",
           6
          ],
          [
           "let go",
           "central cee",
           1
          ],
          [
           "marisola - remix",
           "duki, nicki nicole, cris mj, standly, stars music chile",
           5
          ],
          [
           "playa del inglï¿½",
           "myke towers, quevedo",
           2
          ],
          [
           "bebe dame",
           "fuerza regida, grupo frontera",
           2
          ],
          [
           "mercho",
           "migrantes, lil cake, nico valdi",
           3
          ],
          [
           "ditto",
           "newjeans",
           1
          ],
          [
           "yandel 150",
           "yandel, feid",
           2
          ],
          [
           "gato de noche",
           "nengo flow, bad bunny",
           2
          ],
          [
           "sem alianï¿½ï¿½a no",
           "mc xenon, os gemeos da putaria",
           2
          ],
          [
           "en paris",
           "el chachito, junior h",
           2
          ],
          [
           "igualito a mi apï¿",
           "fuerza regida, peso pluma",
           2
          ],
          [
           "omg",
           "newjeans",
           1
          ],
          [
           "shakira: bzrp music sessions, vol. 53",
           "shakira, bizarrap",
           2
          ],
          [
           "flowers",
           "miley cyrus",
           1
          ],
          [
           "muï¿½ï¿½",
           "steve aoki, tini, la joaqui",
           3
          ],
          [
           "fin de semana",
           "oscar maydon, junior h",
           2
          ],
          [
           "vibe (feat. jimin of bts)",
           "taeyang, jimin",
           2
          ],
          [
           "wanda",
           "quevedo",
           1
          ],
          [
           "prc",
           "natanael cano, peso pluma",
           2
          ],
          [
           "sial",
           "mahalini",
           1
          ],
          [
           "el gordo trae el mando",
           "chino pacas",
           1
          ],
          [
           "erro gostoso - ao vivo",
           "simone mendes",
           1
          ],
          [
           "i'm not here to make friends",
           "sam smith, calvin harris, jessie reyez",
           3
          ],
          [
           "llylm",
           "rosalï¿½",
           1
          ],
          [
           "love again",
           "the kid laroi",
           1
          ],
          [
           "sugar rush ride",
           "tomorrow x together",
           1
          ],
          [
           "trustfall",
           "p!nk",
           1
          ],
          [
           "everything i love",
           "morgan wallen",
           1
          ],
          [
           "i wrote the book",
           "morgan wallen",
           1
          ],
          [
           "last night",
           "morgan wallen",
           1
          ],
          [
           "nosso quadro",
           "ana castela, agroplay",
           2
          ],
          [
           "rosa pastel",
           "jasiel nuï¿½ï¿½ez, peso p",
           2
          ],
          [
           "x si volvemos",
           "karol g, romeo santos",
           2
          ],
          [
           "boy's a liar pt. 2",
           "pinkpantheress, ice spice",
           2
          ],
          [
           "di que si",
           "grupo marca registrada, grupo frontera",
           2
          ],
          [
           "watch this - arizonatears pluggnb remix",
           "sped up nightcore, arizonatears, lil uzi vert",
           3
          ],
          [
           "rara vez",
           "taiu, milo j",
           2
          ],
          [
           "el azul",
           "junior h, peso pluma",
           2
          ],
          [
           "if we ever broke up",
           "mae stephens",
           1
          ],
          [
           "cupido",
           "tini",
           1
          ],
          [
           "oi balde - ao vivo",
           "zï¿½ï¿½ neto & crist",
           1
          ],
          [
           "heaven",
           "niall horan",
           1
          ],
          [
           "pero tï¿",
           "karol g, quevedo",
           2
          ],
          [
           "private landing (feat. justin bieber & future)",
           "don toliver, future, justin bieber",
           3
          ],
          [
           "tqg",
           "karol g, shakira",
           2
          ],
          [
           "amargura",
           "karol g",
           1
          ],
          [
           "cupid",
           "fifty fifty",
           1
          ],
          [
           "cupid - twin ver.",
           "fifty fifty",
           1
          ],
          [
           "die for you - remix",
           "ariana grande, the weeknd",
           2
          ],
          [
           "mientras me curo del cora",
           "karol g",
           1
          ],
          [
           "moonlight",
           "kali uchis",
           1
          ],
          [
           "tormenta (feat. bad bunny)",
           "gorillaz, bad bunny",
           2
          ],
          [
           "tattoo",
           "loreen",
           1
          ],
          [
           "seu brilho sumiu - ao vivo",
           "israel & rodolffo, mari fernandez",
           2
          ],
          [
           "mas rica que ayer",
           "mambo kingz, dj luian, anuel aa",
           3
          ],
          [
           "ainï¿½ï¿½ï¿½t tha",
           "morgan wallen",
           1
          ],
          [
           "born with a beer in my hand",
           "morgan wallen",
           1
          ],
          [
           "devil donï¿½ï¿½ï¿½",
           "morgan wallen",
           1
          ],
          [
           "el merengue",
           "marshmello, manuel turizo",
           2
          ],
          [
           "man made a bar (feat. eric church)",
           "morgan wallen, eric church",
           2
          ],
          [
           "on the street (with j. cole)",
           "j-hope, j. cole",
           2
          ],
          [
           "red ruby da sleeze",
           "nicki minaj",
           1
          ],
          [
           "thinkinï¿½ï¿½ï¿½ b",
           "morgan wallen",
           1
          ],
          [
           "ýýý98 braves",
           "morgan wallen",
           1
          ],
          [
           "shorty party",
           "cartel de santa, la kelly",
           2
          ],
          [
           "miracle (with ellie goulding)",
           "calvin harris, ellie goulding",
           2
          ],
          [
           "dijeron que no la iba lograr",
           "fuerza regida, chino pacas",
           2
          ],
          [
           "ella baila sola",
           "eslabon armado, peso pluma",
           2
          ],
          [
           "area codes",
           "kaliii, kaliii",
           2
          ],
          [
           "coco chanel",
           "bad bunny, eladio carrion",
           2
          ],
          [
           "la bebe - remix",
           "peso pluma, yng lvcas",
           2
          ],
          [
           "remix exclusivo",
           "feid",
           1
          ],
          [
           "say yes to heaven",
           "lana del rey",
           1
          ],
          [
           "set me free pt.2",
           "jimin",
           1
          ],
          [
           "what it is (solo version)",
           "doechii",
           1
          ],
          [
           "arcï¿½ï¿½ngel: bzrp music sessions, vol",
           "arcangel, bizarrap",
           2
          ],
          [
           "eyes closed",
           "ed sheeran",
           1
          ],
          [
           "lala",
           "myke towers",
           1
          ],
          [
           "beso",
           "rauw alejandro, rosalï¿½",
           2
          ],
          [
           "fast car",
           "luke combs",
           1
          ],
          [
           "i know - pr1svx edit",
           "kanii, pr1isvx",
           2
          ],
          [
           "like crazy",
           "jimin",
           1
          ],
          [
           "like crazy (english version)",
           "jimin",
           1
          ],
          [
           "happy",
           "nf",
           1
          ],
          [
           "dogtooth",
           "tyler, the creator",
           2
          ],
          [
           "void",
           "melanie martinez",
           1
          ],
          [
           "chanel",
           "becky g, peso pluma",
           2
          ],
          [
           "classy 101",
           "feid, young miko",
           2
          ],
          [
           "flower",
           "jisoo",
           1
          ],
          [
           "sorry not sorry",
           "tyler, the creator",
           2
          ],
          [
           "las morras",
           "blessd, peso pluma",
           2
          ],
          [
           "un finde | crossover #2",
           "big one, fmk, ke personajes",
           3
          ],
          [
           "baby don't hurt me",
           "david guetta, anne-marie, coi leray",
           3
          ],
          [
           "frï¿½ï¿½gil (feat. grupo front",
           "yahritza y su esencia, grupo frontera",
           2
          ],
          [
           "never felt so alone",
           "labrinth",
           1
          ],
          [
           "peaches (from the super mario bros. movie)",
           "jack black",
           1
          ],
          [
           "people pt.2 (feat. iu)",
           "iu, agust d",
           2
          ],
          [
           "search & rescue",
           "drake",
           1
          ],
          [
           "i am",
           "ive",
           1
          ],
          [
           "ýýýýýýýýýýýý",
           "yoasobi",
           1
          ],
          [
           "chemical",
           "post malone",
           1
          ],
          [
           "daylight",
           "david kushner",
           1
          ],
          [
           "princess diana (with nicki minaj)",
           "nicki minaj, ice spice",
           2
          ],
          [
           "un x100to",
           "bad bunny, grupo frontera",
           2
          ],
          [
           "double fantasy (with future)",
           "the weeknd, future",
           2
          ],
          [
           "haegeum",
           "agust d",
           1
          ],
          [
           "niï¿½ï¿½a bo",
           "sean paul, feid",
           2
          ],
          [
           "super",
           "seventeen",
           1
          ],
          [
           "shoong! (feat. lisa of blackpink)",
           "taeyang, lisa",
           2
          ],
          [
           "mami chula",
           "quevedo, jhayco",
           2
          ],
          [
           "conexï¿½ï¿½es de mï¿½ï¿½fia (feat. rich",
           "rich the kid, matuï¿",
           2
          ],
          [
           "angel pt 1 (feat. jimin of bts, jvke & muni long)",
           "kodak black, nle choppa, muni long, jvke, jimin",
           5
          ],
          [
           "unforgiven (feat. nile rodgers)",
           "nile rodgers, le sserafim",
           2
          ],
          [
           "don't ever say love me (feat. rm of bts)",
           "rm, colde",
           2
          ],
          [
           "mejor que yo",
           "mambo kingz, dj luian, anuel aa",
           3
          ],
          [
           "tï¿½ï¿",
           "dennis, mc kevin o chris",
           2
          ],
          [
           "curtains",
           "ed sheeran",
           1
          ],
          [
           "acrï¿½ï¿½s",
           "shakira",
           1
          ],
          [
           "cartï¿½ï¿½o b",
           "mc caverinha, kayblack",
           2
          ],
          [
           "all my life (feat. j. cole)",
           "j. cole, lil durk",
           2
          ],
          [
           "vagabundo",
           "sebastian yatra, manuel turizo, beï¿½ï",
           3
          ],
          [
           "abcdario",
           "junior h, eden muï¿½ï",
           2
          ],
          [
           "fukumean",
           "gunna",
           1
          ],
          [
           "phir aur kya chahiye (from \"zara hatke zara bachke\")",
           "arijit singh, sachin-jigar, amitabha bhattacharya",
           3
          ],
          [
           "queencard",
           "(g)i-dle",
           1
          ],
          [
           "69",
           "nicky jam, feid",
           2
          ],
          [
           "where she goes",
           "bad bunny",
           1
          ],
          [
           "america has a problem (feat. kendrick lamar)",
           "kendrick lamar, beyoncï¿",
           2
          ],
          [
           "cheques",
           "shubh",
           1
          ],
          [
           "novo balanï¿½",
           "veigh, bvga beatz, supernova ent, prod malax",
           4
          ],
          [
           "tqm",
           "fuerza regida",
           1
          ],
          [
           "bite me",
           "enhypen",
           1
          ],
          [
           "tere vaaste (from \"zara hatke zara bachke\")",
           "sachin-jigar, shadab faridi, altamash faridi, amitabh bhattacharya, varun jain",
           5
          ],
          [
           "dance the night (from barbie the album)",
           "dua lipa",
           1
          ],
          [
           "bye",
           "peso pluma",
           1
          ],
          [
           "hits different",
           "taylor swift",
           1
          ],
          [
           "karma (feat. ice spice)",
           "taylor swift, ice spice",
           2
          ],
          [
           "snow on the beach (feat. more lana del rey)",
           "lana del rey, taylor swift",
           2
          ],
          [
           "stand by me (feat. morgan wallen)",
           "lil durk, morgan wallen",
           2
          ],
          [
           "peso pluma: bzrp music sessions, vol. 55",
           "bizarrap, peso pluma",
           2
          ],
          [
           "gol bolinha, gol quadrado 2",
           "mc pedrinho, dj 900",
           2
          ],
          [
           "los del espacio",
           "big one, duki, lit killah, maria becerra, fmk, rusherking, emilia, tiago pzk",
           8
          ],
          [
           "sprinter",
           "dave, central cee",
           2
          ],
          [
           "all the way live (spider-man: across the spider-verse) (metro boomin & future, lil uzi vert)",
           "future, lil uzi vert, metro boomin",
           3
          ],
          [
           "am i dreaming (metro boomin & a$ap rocky, roisee)",
           "a$ap rocky, metro boomin, roisee",
           3
          ],
          [
           "annihilate (spider-man: across the spider-verse) (metro boomin & swae lee, lil wayne, offset)",
           "swae lee, lil wayne, offset, metro boomin",
           4
          ],
          [
           "calling (spider-man: across the spider-verse) (metro boomin & swae lee, nav, feat. a boogie wit da hoodie)",
           "swae lee, a boogie wit da hoodie, metro boomin, nav",
           4
          ],
          [
           "danger (spider) (offset & jid)",
           "offset, jid",
           2
          ],
          [
           "el cielo",
           "feid, myke towers, sky rompiendo",
           3
          ],
          [
           "hummingbird (metro boomin & james blake)",
           "james blake, metro boomin",
           2
          ],
          [
           "link up (metro boomin & don toliver, wizkid feat. beam & toian) - spider-verse remix (spider-man: across the spider-verse )",
           "wizkid, toian, metro boomin, don toliver, beam",
           5
          ],
          [
           "piï¿½ï¿½man deï¿",
           "semicenk, doï¿½ï¿½u",
           2
          ],
          [
           "popular (with playboi carti & madonna) - the idol vol. 1 (music from the hbo original series)",
           "the weeknd, madonna, playboi carti",
           3
          ],
          [
           "s-class",
           "stray kids",
           1
          ],
          [
           "self love (spider-man: across the spider-verse) (metro boomin & coi leray)",
           "metro boomin, coi leray",
           2
          ],
          [
           "lilith (feat. suga of bts) (diablo iv anthem)",
           "halsey, suga",
           2
          ],
          [
           "polaris - remix",
           "feid, mora, saiko, quevedo",
           4
          ],
          [
           "take two",
           "bts",
           1
          ],
          [
           "(it goes like) nanana - edit",
           "peggy gou",
           1
          ],
          [
           "rauw alejandro: bzrp music sessions, vol. 56",
           "rauw alejandro, bizarrap",
           2
          ],
          [
           "corazï¿½ï¿½n va",
           "maria becerra",
           1
          ],
          [
           "lady gaga",
           "gabito ballesteros, junior h, peso pluma",
           3
          ],
          [
           "lagunas",
           "jasiel nuï¿½ï¿½ez, peso p",
           2
          ],
          [
           "luna",
           "junior h, peso pluma",
           2
          ],
          [
           "sabor fresa",
           "fuerza regida",
           1
          ],
          [
           "baby hello",
           "rauw alejandro, bizarrap",
           2
          ],
          [
           "barbie world (with aqua) [from barbie the album]",
           "nicki minaj, aqua, ice spice",
           3
          ],
          [
           "novidade na ï¿½ï¿",
           "mc livinho, dj matt d",
           2
          ],
          [
           "tulum",
           "peso pluma, grupo frontera",
           2
          ],
          [
           "mojabi ghost",
           "tainy, bad bunny",
           2
          ],
          [
           "mi bello angel",
           "natanael cano",
           1
          ],
          [
           "vampire",
           "olivia rodrigo",
           1
          ],
          [
           "back to december (taylor's version)",
           "taylor swift",
           1
          ],
          [
           "better than revenge (taylor's version)",
           "taylor swift",
           1
          ],
          [
           "columbia",
           "quevedo",
           1
          ],
          [
           "enchanted (taylor's version)",
           "taylor swift",
           1
          ],
          [
           "i can see you (taylorï¿½ï¿½ï¿½s version) (from the",
           "taylor swift",
           1
          ],
          [
           "mine (taylor's version)",
           "taylor swift",
           1
          ],
          [
           "new jeans",
           "newjeans",
           1
          ],
          [
           "super shy",
           "newjeans",
           1
          ],
          [
           "quema",
           "sog, ryan castro, peso pluma",
           3
          ],
          [
           "rush",
           "troye sivan",
           1
          ],
          [
           "what was i made for? [from the motion picture \"barbie\"]",
           "billie eilish",
           1
          ],
          [
           "overdrive",
           "post malone",
           1
          ],
          [
           "s91",
           "karol g",
           1
          ],
          [
           "seven (feat. latto) (explicit ver.)",
           "latto, jung kook",
           2
          ]
         ],
         "hovertemplate": "Date: %{x|%d/%m/%Y}<br>Streams: %{y:,.0f}<br>Titre: %{customdata[0]}<br>Artiste: %{customdata[1]}<br>Nombre d'artistes: %{customdata[2]}<extra></extra>",
         "marker": {
          "color": [
           "rgb(135,206,235)",
           "rgb(135,206,235)",
           "rgb(206,126,0)",
           "rgb(135,206,235)",
           "rgb(135,206,235)",
           "rgb(135,206,235)",
           "rgb(135,206,235)",
           "rgb(135,206,235)",
           "rgb(135,206,235)",
           "rgb(135,206,235)",
           "rgb(135,206,235)",
           "rgb(206,126,0)",
           "rgb(206,126,0)",
           "rgb(206,126,0)",
           "rgb(206,126,0)",
           "rgb(255,206,58)",
           "rgb(206,126,0)",
           "rgb(135,206,235)",
           "rgb(135,206,235)",
           "rgb(135,206,235)",
           "rgb(206,126,0)",
           "rgb(206,126,0)",
           "rgb(135,206,235)",
           "rgb(143,206,0)",
           "rgb(135,206,235)",
           "rgb(135,206,235)",
           "rgb(135,206,235)",
           "rgb(206,126,0)",
           "rgb(206,126,0)",
           "rgb(135,206,235)",
           "rgb(206,126,0)",
           "rgb(135,206,235)",
           "rgb(143,206,0)",
           "rgb(135,206,235)",
           "rgb(206,126,0)",
           "rgb(206,126,0)",
           "rgb(206,126,0)",
           "rgb(206,126,0)",
           "rgb(255,206,58)",
           "rgb(135,206,235)",
           "rgb(206,126,0)",
           "rgb(135,206,235)",
           "rgb(143,206,0)",
           "rgb(135,206,235)",
           "rgb(135,206,235)",
           "rgb(135,206,235)",
           "rgb(135,206,235)",
           "rgb(206,126,0)",
           "rgb(135,206,235)",
           "rgb(255,206,58)",
           "rgb(206,126,0)",
           "rgb(206,126,0)",
           "rgb(135,206,235)",
           "rgb(135,206,235)",
           "rgb(135,206,235)",
           "rgb(143,206,0)",
           "rgb(143,206,0)",
           "rgb(255,206,58)",
           "rgb(143,206,0)",
           "rgb(206,126,0)",
           "rgb(135,206,235)",
           "rgb(135,206,235)",
           "rgb(143,206,0)",
           "rgb(255,206,58)",
           "rgb(206,126,0)",
           "rgb(143,206,0)",
           "rgb(135,206,235)",
           "rgb(135,206,235)",
           "rgb(135,206,235)",
           "rgb(135,206,235)",
           "rgb(135,206,235)",
           "rgb(143,206,0)",
           "rgb(255,206,58)",
           "rgb(206,126,0)",
           "rgb(206,126,0)",
           "rgb(135,206,235)",
           "rgb(135,206,235)",
           "rgb(135,206,235)",
           "rgb(135,206,235)",
           "rgb(135,206,235)",
           "rgb(135,206,235)",
           "rgb(135,206,235)",
           "rgb(255,206,58)",
           "rgb(206,126,0)",
           "rgb(206,126,0)",
           "rgb(135,206,235)",
           "rgb(135,206,235)",
           "rgb(135,206,235)",
           "rgb(135,206,235)",
           "rgb(135,206,235)",
           "rgb(143,206,0)",
           "rgb(255,206,58)",
           "rgb(206,126,0)",
           "rgb(135,206,235)",
           "rgb(135,206,235)",
           "rgb(135,206,235)",
           "rgb(135,206,235)",
           "rgb(135,206,235)",
           "rgb(135,206,235)",
           "rgb(135,206,235)",
           "rgb(135,206,235)",
           "rgb(135,206,235)",
           "rgb(255,206,58)",
           "rgb(255,206,58)",
           "rgb(255,206,58)",
           "rgb(206,126,0)",
           "rgb(206,126,0)",
           "rgb(135,206,235)",
           "rgb(135,206,235)",
           "rgb(135,206,235)",
           "rgb(135,206,235)",
           "rgb(135,206,235)",
           "rgb(135,206,235)",
           "rgb(135,206,235)",
           "rgb(135,206,235)",
           "rgb(255,206,58)",
           "rgb(255,206,58)",
           "rgb(255,206,58)",
           "rgb(206,126,0)",
           "rgb(206,126,0)",
           "rgb(135,206,235)",
           "rgb(135,206,235)",
           "rgb(135,206,235)",
           "rgb(135,206,235)",
           "rgb(135,206,235)",
           "rgb(143,206,0)",
           "rgb(143,206,0)",
           "rgb(143,206,0)",
           "rgb(255,206,58)",
           "rgb(255,206,58)",
           "rgb(206,126,0)",
           "rgb(206,126,0)",
           "rgb(135,206,235)",
           "rgb(135,206,235)",
           "rgb(143,206,0)",
           "rgb(143,206,0)",
           "rgb(143,206,0)",
           "rgb(255,206,58)",
           "rgb(255,206,58)",
           "rgb(255,206,58)",
           "rgb(206,126,0)",
           "rgb(206,126,0)",
           "rgb(206,126,0)",
           "rgb(206,126,0)",
           "rgb(206,126,0)",
           "rgb(206,126,0)",
           "rgb(206,126,0)",
           "rgb(206,126,0)",
           "rgb(206,126,0)",
           "rgb(206,126,0)",
           "rgb(135,206,235)",
           "rgb(135,206,235)",
           "rgb(135,206,235)",
           "rgb(135,206,235)",
           "rgb(135,206,235)",
           "rgb(135,206,235)",
           "rgb(143,206,0)",
           "rgb(143,206,0)",
           "rgb(143,206,0)",
           "rgb(143,206,0)",
           "rgb(255,206,58)",
           "rgb(255,206,58)",
           "rgb(255,206,58)",
           "rgb(255,206,58)",
           "rgb(255,206,58)",
           "rgb(255,206,58)",
           "rgb(206,126,0)",
           "rgb(206,126,0)",
           "rgb(206,126,0)",
           "rgb(206,126,0)",
           "rgb(206,126,0)",
           "rgb(206,126,0)",
           "rgb(135,206,235)",
           "rgb(143,206,0)",
           "rgb(143,206,0)",
           "rgb(143,206,0)",
           "rgb(143,206,0)",
           "rgb(143,206,0)",
           "rgb(206,126,0)",
           "rgb(206,126,0)",
           "rgb(206,126,0)",
           "rgb(206,126,0)",
           "rgb(206,126,0)",
           "rgb(135,206,235)",
           "rgb(135,206,235)",
           "rgb(143,206,0)",
           "rgb(143,206,0)",
           "rgb(143,206,0)",
           "rgb(143,206,0)",
           "rgb(143,206,0)",
           "rgb(143,206,0)",
           "rgb(143,206,0)",
           "rgb(255,206,58)",
           "rgb(255,206,58)",
           "rgb(255,206,58)",
           "rgb(255,206,58)",
           "rgb(255,206,58)",
           "rgb(255,206,58)",
           "rgb(255,206,58)",
           "rgb(255,206,58)",
           "rgb(255,206,58)",
           "rgb(255,206,58)",
           "rgb(206,126,0)",
           "rgb(206,126,0)",
           "rgb(206,126,0)",
           "rgb(206,126,0)",
           "rgb(206,126,0)",
           "rgb(206,126,0)",
           "rgb(206,126,0)",
           "rgb(206,126,0)",
           "rgb(206,126,0)",
           "rgb(206,126,0)",
           "rgb(206,126,0)",
           "rgb(206,126,0)",
           "rgb(206,126,0)",
           "rgb(206,126,0)",
           "rgb(135,206,235)",
           "rgb(135,206,235)",
           "rgb(135,206,235)",
           "rgb(135,206,235)",
           "rgb(135,206,235)",
           "rgb(135,206,235)",
           "rgb(135,206,235)",
           "rgb(135,206,235)",
           "rgb(135,206,235)",
           "rgb(135,206,235)",
           "rgb(135,206,235)",
           "rgb(135,206,235)",
           "rgb(143,206,0)",
           "rgb(143,206,0)",
           "rgb(143,206,0)",
           "rgb(143,206,0)",
           "rgb(143,206,0)",
           "rgb(143,206,0)",
           "rgb(143,206,0)",
           "rgb(143,206,0)",
           "rgb(255,206,58)",
           "rgb(255,206,58)",
           "rgb(255,206,58)",
           "rgb(255,206,58)",
           "rgb(255,206,58)",
           "rgb(255,206,58)",
           "rgb(255,206,58)",
           "rgb(255,206,58)",
           "rgb(206,126,0)",
           "rgb(206,126,0)",
           "rgb(206,126,0)",
           "rgb(206,126,0)",
           "rgb(206,126,0)",
           "rgb(206,126,0)",
           "rgb(206,126,0)",
           "rgb(206,126,0)",
           "rgb(135,206,235)",
           "rgb(135,206,235)",
           "rgb(135,206,235)",
           "rgb(135,206,235)",
           "rgb(135,206,235)",
           "rgb(135,206,235)",
           "rgb(135,206,235)",
           "rgb(143,206,0)",
           "rgb(143,206,0)",
           "rgb(143,206,0)",
           "rgb(143,206,0)",
           "rgb(143,206,0)",
           "rgb(143,206,0)",
           "rgb(143,206,0)",
           "rgb(143,206,0)",
           "rgb(143,206,0)",
           "rgb(143,206,0)",
           "rgb(143,206,0)",
           "rgb(143,206,0)",
           "rgb(143,206,0)",
           "rgb(143,206,0)",
           "rgb(143,206,0)",
           "rgb(143,206,0)",
           "rgb(143,206,0)",
           "rgb(143,206,0)",
           "rgb(143,206,0)",
           "rgb(143,206,0)",
           "rgb(143,206,0)",
           "rgb(255,206,58)",
           "rgb(255,206,58)",
           "rgb(255,206,58)",
           "rgb(255,206,58)",
           "rgb(255,206,58)",
           "rgb(255,206,58)",
           "rgb(255,206,58)",
           "rgb(255,206,58)",
           "rgb(255,206,58)",
           "rgb(255,206,58)",
           "rgb(255,206,58)",
           "rgb(255,206,58)",
           "rgb(255,206,58)",
           "rgb(255,206,58)",
           "rgb(255,206,58)",
           "rgb(255,206,58)",
           "rgb(255,206,58)",
           "rgb(255,206,58)",
           "rgb(255,206,58)",
           "rgb(255,206,58)",
           "rgb(255,206,58)",
           "rgb(255,206,58)",
           "rgb(255,206,58)",
           "rgb(255,206,58)",
           "rgb(255,206,58)",
           "rgb(255,206,58)",
           "rgb(255,206,58)",
           "rgb(255,206,58)",
           "rgb(255,206,58)",
           "rgb(255,206,58)",
           "rgb(206,126,0)",
           "rgb(206,126,0)",
           "rgb(206,126,0)",
           "rgb(206,126,0)",
           "rgb(206,126,0)",
           "rgb(206,126,0)",
           "rgb(206,126,0)",
           "rgb(206,126,0)",
           "rgb(206,126,0)",
           "rgb(206,126,0)",
           "rgb(206,126,0)",
           "rgb(206,126,0)",
           "rgb(206,126,0)",
           "rgb(206,126,0)",
           "rgb(206,126,0)",
           "rgb(206,126,0)",
           "rgb(206,126,0)",
           "rgb(206,126,0)",
           "rgb(206,126,0)",
           "rgb(206,126,0)",
           "rgb(206,126,0)",
           "rgb(206,126,0)",
           "rgb(206,126,0)",
           "rgb(206,126,0)",
           "rgb(206,126,0)",
           "rgb(206,126,0)",
           "rgb(206,126,0)",
           "rgb(206,126,0)",
           "rgb(206,126,0)",
           "rgb(206,126,0)",
           "rgb(206,126,0)",
           "rgb(206,126,0)",
           "rgb(206,126,0)",
           "rgb(206,126,0)",
           "rgb(206,126,0)",
           "rgb(206,126,0)",
           "rgb(206,126,0)",
           "rgb(206,126,0)",
           "rgb(206,126,0)",
           "rgb(206,126,0)",
           "rgb(206,126,0)",
           "rgb(206,126,0)",
           "rgb(206,126,0)",
           "rgb(206,126,0)",
           "rgb(206,126,0)",
           "rgb(206,126,0)",
           "rgb(206,126,0)",
           "rgb(206,126,0)",
           "rgb(206,126,0)",
           "rgb(206,126,0)",
           "rgb(206,126,0)",
           "rgb(135,206,235)",
           "rgb(135,206,235)",
           "rgb(135,206,235)",
           "rgb(135,206,235)",
           "rgb(135,206,235)",
           "rgb(135,206,235)",
           "rgb(135,206,235)",
           "rgb(135,206,235)",
           "rgb(135,206,235)",
           "rgb(135,206,235)",
           "rgb(135,206,235)",
           "rgb(135,206,235)",
           "rgb(135,206,235)",
           "rgb(135,206,235)",
           "rgb(135,206,235)",
           "rgb(135,206,235)",
           "rgb(135,206,235)",
           "rgb(135,206,235)",
           "rgb(135,206,235)",
           "rgb(135,206,235)",
           "rgb(135,206,235)",
           "rgb(135,206,235)",
           "rgb(135,206,235)",
           "rgb(135,206,235)",
           "rgb(135,206,235)",
           "rgb(135,206,235)",
           "rgb(135,206,235)",
           "rgb(135,206,235)",
           "rgb(135,206,235)",
           "rgb(135,206,235)",
           "rgb(135,206,235)",
           "rgb(135,206,235)",
           "rgb(135,206,235)",
           "rgb(135,206,235)",
           "rgb(135,206,235)",
           "rgb(135,206,235)",
           "rgb(135,206,235)",
           "rgb(135,206,235)",
           "rgb(135,206,235)",
           "rgb(135,206,235)",
           "rgb(135,206,235)",
           "rgb(135,206,235)",
           "rgb(135,206,235)",
           "rgb(135,206,235)",
           "rgb(135,206,235)",
           "rgb(135,206,235)",
           "rgb(135,206,235)",
           "rgb(135,206,235)",
           "rgb(135,206,235)",
           "rgb(135,206,235)",
           "rgb(135,206,235)",
           "rgb(135,206,235)",
           "rgb(135,206,235)",
           "rgb(135,206,235)",
           "rgb(135,206,235)",
           "rgb(135,206,235)",
           "rgb(135,206,235)",
           "rgb(135,206,235)",
           "rgb(135,206,235)",
           "rgb(135,206,235)",
           "rgb(135,206,235)",
           "rgb(135,206,235)",
           "rgb(135,206,235)",
           "rgb(135,206,235)",
           "rgb(135,206,235)",
           "rgb(135,206,235)",
           "rgb(135,206,235)",
           "rgb(135,206,235)",
           "rgb(135,206,235)",
           "rgb(135,206,235)",
           "rgb(135,206,235)",
           "rgb(135,206,235)",
           "rgb(135,206,235)",
           "rgb(135,206,235)",
           "rgb(135,206,235)",
           "rgb(135,206,235)",
           "rgb(135,206,235)",
           "rgb(135,206,235)",
           "rgb(143,206,0)",
           "rgb(143,206,0)",
           "rgb(143,206,0)",
           "rgb(143,206,0)",
           "rgb(143,206,0)",
           "rgb(143,206,0)",
           "rgb(143,206,0)",
           "rgb(143,206,0)",
           "rgb(143,206,0)",
           "rgb(143,206,0)",
           "rgb(143,206,0)",
           "rgb(143,206,0)",
           "rgb(143,206,0)",
           "rgb(143,206,0)",
           "rgb(143,206,0)",
           "rgb(143,206,0)",
           "rgb(143,206,0)",
           "rgb(143,206,0)",
           "rgb(143,206,0)",
           "rgb(143,206,0)",
           "rgb(143,206,0)",
           "rgb(143,206,0)",
           "rgb(143,206,0)",
           "rgb(143,206,0)",
           "rgb(143,206,0)",
           "rgb(143,206,0)",
           "rgb(143,206,0)",
           "rgb(143,206,0)",
           "rgb(143,206,0)",
           "rgb(143,206,0)",
           "rgb(143,206,0)",
           "rgb(143,206,0)",
           "rgb(143,206,0)",
           "rgb(143,206,0)",
           "rgb(143,206,0)",
           "rgb(143,206,0)",
           "rgb(143,206,0)",
           "rgb(143,206,0)",
           "rgb(143,206,0)",
           "rgb(143,206,0)",
           "rgb(143,206,0)",
           "rgb(143,206,0)",
           "rgb(143,206,0)",
           "rgb(143,206,0)",
           "rgb(143,206,0)",
           "rgb(143,206,0)",
           "rgb(143,206,0)",
           "rgb(143,206,0)",
           "rgb(143,206,0)",
           "rgb(143,206,0)",
           "rgb(143,206,0)",
           "rgb(143,206,0)",
           "rgb(143,206,0)",
           "rgb(143,206,0)",
           "rgb(143,206,0)",
           "rgb(143,206,0)",
           "rgb(143,206,0)",
           "rgb(143,206,0)",
           "rgb(143,206,0)",
           "rgb(143,206,0)",
           "rgb(143,206,0)",
           "rgb(143,206,0)",
           "rgb(143,206,0)",
           "rgb(143,206,0)",
           "rgb(143,206,0)",
           "rgb(143,206,0)",
           "rgb(143,206,0)",
           "rgb(143,206,0)",
           "rgb(143,206,0)",
           "rgb(143,206,0)",
           "rgb(143,206,0)",
           "rgb(143,206,0)",
           "rgb(143,206,0)",
           "rgb(143,206,0)",
           "rgb(143,206,0)",
           "rgb(143,206,0)",
           "rgb(143,206,0)",
           "rgb(143,206,0)",
           "rgb(143,206,0)",
           "rgb(143,206,0)",
           "rgb(143,206,0)",
           "rgb(143,206,0)",
           "rgb(143,206,0)",
           "rgb(143,206,0)",
           "rgb(143,206,0)",
           "rgb(143,206,0)",
           "rgb(143,206,0)",
           "rgb(143,206,0)",
           "rgb(143,206,0)",
           "rgb(143,206,0)",
           "rgb(143,206,0)",
           "rgb(143,206,0)",
           "rgb(143,206,0)",
           "rgb(143,206,0)",
           "rgb(143,206,0)",
           "rgb(143,206,0)",
           "rgb(143,206,0)",
           "rgb(143,206,0)",
           "rgb(143,206,0)",
           "rgb(143,206,0)",
           "rgb(143,206,0)",
           "rgb(143,206,0)",
           "rgb(143,206,0)",
           "rgb(143,206,0)",
           "rgb(143,206,0)",
           "rgb(143,206,0)",
           "rgb(143,206,0)",
           "rgb(143,206,0)",
           "rgb(143,206,0)",
           "rgb(143,206,0)",
           "rgb(143,206,0)",
           "rgb(143,206,0)",
           "rgb(143,206,0)",
           "rgb(143,206,0)",
           "rgb(143,206,0)",
           "rgb(143,206,0)",
           "rgb(143,206,0)",
           "rgb(143,206,0)",
           "rgb(143,206,0)",
           "rgb(143,206,0)",
           "rgb(143,206,0)",
           "rgb(143,206,0)",
           "rgb(143,206,0)",
           "rgb(143,206,0)",
           "rgb(143,206,0)",
           "rgb(143,206,0)",
           "rgb(143,206,0)",
           "rgb(143,206,0)",
           "rgb(143,206,0)",
           "rgb(143,206,0)",
           "rgb(143,206,0)",
           "rgb(255,206,58)",
           "rgb(255,206,58)",
           "rgb(255,206,58)",
           "rgb(255,206,58)",
           "rgb(255,206,58)",
           "rgb(255,206,58)",
           "rgb(255,206,58)",
           "rgb(255,206,58)",
           "rgb(255,206,58)",
           "rgb(255,206,58)",
           "rgb(255,206,58)",
           "rgb(255,206,58)",
           "rgb(255,206,58)",
           "rgb(255,206,58)",
           "rgb(255,206,58)",
           "rgb(255,206,58)",
           "rgb(255,206,58)",
           "rgb(255,206,58)",
           "rgb(255,206,58)",
           "rgb(255,206,58)",
           "rgb(255,206,58)",
           "rgb(255,206,58)",
           "rgb(255,206,58)",
           "rgb(255,206,58)",
           "rgb(255,206,58)",
           "rgb(255,206,58)",
           "rgb(255,206,58)",
           "rgb(255,206,58)",
           "rgb(255,206,58)",
           "rgb(255,206,58)",
           "rgb(255,206,58)",
           "rgb(255,206,58)",
           "rgb(255,206,58)",
           "rgb(255,206,58)",
           "rgb(255,206,58)",
           "rgb(255,206,58)",
           "rgb(255,206,58)",
           "rgb(255,206,58)",
           "rgb(255,206,58)",
           "rgb(255,206,58)",
           "rgb(255,206,58)",
           "rgb(255,206,58)",
           "rgb(255,206,58)",
           "rgb(255,206,58)",
           "rgb(255,206,58)",
           "rgb(255,206,58)",
           "rgb(255,206,58)",
           "rgb(255,206,58)",
           "rgb(255,206,58)",
           "rgb(255,206,58)",
           "rgb(255,206,58)",
           "rgb(255,206,58)",
           "rgb(255,206,58)",
           "rgb(255,206,58)",
           "rgb(255,206,58)",
           "rgb(255,206,58)",
           "rgb(255,206,58)",
           "rgb(255,206,58)",
           "rgb(255,206,58)",
           "rgb(255,206,58)",
           "rgb(255,206,58)",
           "rgb(255,206,58)",
           "rgb(255,206,58)",
           "rgb(255,206,58)",
           "rgb(255,206,58)",
           "rgb(255,206,58)",
           "rgb(255,206,58)",
           "rgb(255,206,58)",
           "rgb(255,206,58)",
           "rgb(255,206,58)",
           "rgb(255,206,58)",
           "rgb(255,206,58)",
           "rgb(255,206,58)",
           "rgb(255,206,58)",
           "rgb(206,126,0)",
           "rgb(206,126,0)",
           "rgb(206,126,0)",
           "rgb(206,126,0)",
           "rgb(206,126,0)",
           "rgb(206,126,0)",
           "rgb(206,126,0)",
           "rgb(206,126,0)",
           "rgb(206,126,0)",
           "rgb(206,126,0)",
           "rgb(206,126,0)",
           "rgb(206,126,0)",
           "rgb(206,126,0)",
           "rgb(206,126,0)",
           "rgb(206,126,0)",
           "rgb(206,126,0)",
           "rgb(206,126,0)",
           "rgb(206,126,0)",
           "rgb(206,126,0)",
           "rgb(206,126,0)",
           "rgb(206,126,0)",
           "rgb(206,126,0)",
           "rgb(206,126,0)",
           "rgb(206,126,0)",
           "rgb(206,126,0)",
           "rgb(206,126,0)",
           "rgb(206,126,0)",
           "rgb(206,126,0)",
           "rgb(206,126,0)",
           "rgb(206,126,0)",
           "rgb(206,126,0)",
           "rgb(206,126,0)",
           "rgb(206,126,0)",
           "rgb(206,126,0)",
           "rgb(206,126,0)",
           "rgb(206,126,0)",
           "rgb(206,126,0)",
           "rgb(206,126,0)",
           "rgb(206,126,0)",
           "rgb(206,126,0)",
           "rgb(206,126,0)",
           "rgb(206,126,0)",
           "rgb(206,126,0)",
           "rgb(206,126,0)",
           "rgb(206,126,0)",
           "rgb(206,126,0)",
           "rgb(206,126,0)",
           "rgb(206,126,0)",
           "rgb(206,126,0)",
           "rgb(206,126,0)",
           "rgb(206,126,0)",
           "rgb(206,126,0)",
           "rgb(206,126,0)",
           "rgb(206,126,0)",
           "rgb(206,126,0)",
           "rgb(206,126,0)",
           "rgb(206,126,0)",
           "rgb(206,126,0)",
           "rgb(206,126,0)",
           "rgb(206,126,0)",
           "rgb(206,126,0)",
           "rgb(206,126,0)",
           "rgb(206,126,0)",
           "rgb(206,126,0)",
           "rgb(206,126,0)",
           "rgb(206,126,0)",
           "rgb(206,126,0)",
           "rgb(206,126,0)",
           "rgb(206,126,0)",
           "rgb(206,126,0)",
           "rgb(206,126,0)",
           "rgb(206,126,0)",
           "rgb(206,126,0)",
           "rgb(206,126,0)",
           "rgb(206,126,0)",
           "rgb(206,126,0)",
           "rgb(206,126,0)",
           "rgb(206,126,0)",
           "rgb(206,126,0)",
           "rgb(206,126,0)",
           "rgb(206,126,0)",
           "rgb(206,126,0)",
           "rgb(135,206,235)",
           "rgb(135,206,235)",
           "rgb(135,206,235)",
           "rgb(135,206,235)",
           "rgb(135,206,235)",
           "rgb(135,206,235)",
           "rgb(135,206,235)",
           "rgb(135,206,235)",
           "rgb(135,206,235)",
           "rgb(135,206,235)",
           "rgb(135,206,235)",
           "rgb(135,206,235)",
           "rgb(135,206,235)",
           "rgb(135,206,235)",
           "rgb(135,206,235)",
           "rgb(135,206,235)",
           "rgb(135,206,235)",
           "rgb(135,206,235)",
           "rgb(135,206,235)",
           "rgb(135,206,235)",
           "rgb(135,206,235)",
           "rgb(135,206,235)",
           "rgb(135,206,235)",
           "rgb(135,206,235)",
           "rgb(135,206,235)",
           "rgb(135,206,235)",
           "rgb(135,206,235)",
           "rgb(135,206,235)",
           "rgb(135,206,235)",
           "rgb(135,206,235)",
           "rgb(135,206,235)",
           "rgb(135,206,235)",
           "rgb(135,206,235)",
           "rgb(135,206,235)",
           "rgb(135,206,235)",
           "rgb(135,206,235)",
           "rgb(135,206,235)",
           "rgb(135,206,235)",
           "rgb(135,206,235)",
           "rgb(135,206,235)",
           "rgb(135,206,235)",
           "rgb(135,206,235)",
           "rgb(135,206,235)",
           "rgb(135,206,235)",
           "rgb(135,206,235)",
           "rgb(135,206,235)",
           "rgb(135,206,235)",
           "rgb(135,206,235)",
           "rgb(135,206,235)",
           "rgb(135,206,235)",
           "rgb(135,206,235)",
           "rgb(135,206,235)",
           "rgb(135,206,235)",
           "rgb(135,206,235)",
           "rgb(135,206,235)",
           "rgb(135,206,235)",
           "rgb(135,206,235)",
           "rgb(135,206,235)",
           "rgb(135,206,235)",
           "rgb(135,206,235)",
           "rgb(135,206,235)",
           "rgb(135,206,235)",
           "rgb(135,206,235)",
           "rgb(135,206,235)",
           "rgb(135,206,235)",
           "rgb(135,206,235)",
           "rgb(135,206,235)",
           "rgb(135,206,235)",
           "rgb(135,206,235)",
           "rgb(135,206,235)",
           "rgb(135,206,235)",
           "rgb(135,206,235)",
           "rgb(135,206,235)",
           "rgb(135,206,235)",
           "rgb(135,206,235)",
           "rgb(135,206,235)",
           "rgb(135,206,235)",
           "rgb(135,206,235)",
           "rgb(135,206,235)",
           "rgb(135,206,235)",
           "rgb(135,206,235)",
           "rgb(135,206,235)",
           "rgb(135,206,235)",
           "rgb(135,206,235)",
           "rgb(135,206,235)",
           "rgb(135,206,235)",
           "rgb(135,206,235)",
           "rgb(135,206,235)",
           "rgb(143,206,0)",
           "rgb(143,206,0)",
           "rgb(143,206,0)",
           "rgb(143,206,0)",
           "rgb(143,206,0)",
           "rgb(143,206,0)",
           "rgb(143,206,0)",
           "rgb(143,206,0)",
           "rgb(143,206,0)",
           "rgb(143,206,0)",
           "rgb(143,206,0)",
           "rgb(143,206,0)",
           "rgb(143,206,0)",
           "rgb(143,206,0)",
           "rgb(143,206,0)",
           "rgb(143,206,0)",
           "rgb(143,206,0)",
           "rgb(143,206,0)",
           "rgb(143,206,0)",
           "rgb(143,206,0)",
           "rgb(143,206,0)",
           "rgb(143,206,0)",
           "rgb(143,206,0)",
           "rgb(143,206,0)",
           "rgb(143,206,0)",
           "rgb(143,206,0)",
           "rgb(143,206,0)",
           "rgb(143,206,0)",
           "rgb(143,206,0)",
           "rgb(143,206,0)",
           "rgb(143,206,0)",
           "rgb(143,206,0)",
           "rgb(143,206,0)",
           "rgb(143,206,0)",
           "rgb(143,206,0)",
           "rgb(143,206,0)",
           "rgb(143,206,0)",
           "rgb(143,206,0)",
           "rgb(143,206,0)",
           "rgb(143,206,0)",
           "rgb(143,206,0)",
           "rgb(143,206,0)",
           "rgb(143,206,0)",
           "rgb(143,206,0)",
           "rgb(143,206,0)",
           "rgb(143,206,0)",
           "rgb(143,206,0)",
           "rgb(143,206,0)",
           "rgb(143,206,0)",
           "rgb(143,206,0)",
           "rgb(143,206,0)",
           "rgb(143,206,0)",
           "rgb(143,206,0)",
           "rgb(143,206,0)",
           "rgb(143,206,0)",
           "rgb(143,206,0)",
           "rgb(143,206,0)",
           "rgb(143,206,0)",
           "rgb(143,206,0)",
           "rgb(143,206,0)",
           "rgb(143,206,0)",
           "rgb(143,206,0)",
           "rgb(143,206,0)",
           "rgb(143,206,0)",
           "rgb(143,206,0)",
           "rgb(143,206,0)",
           "rgb(143,206,0)",
           "rgb(143,206,0)",
           "rgb(143,206,0)",
           "rgb(143,206,0)",
           "rgb(143,206,0)",
           "rgb(143,206,0)",
           "rgb(143,206,0)",
           "rgb(143,206,0)",
           "rgb(143,206,0)",
           "rgb(143,206,0)",
           "rgb(143,206,0)",
           "rgb(143,206,0)",
           "rgb(143,206,0)",
           "rgb(143,206,0)",
           "rgb(143,206,0)",
           "rgb(143,206,0)",
           "rgb(143,206,0)",
           "rgb(143,206,0)",
           "rgb(143,206,0)",
           "rgb(143,206,0)",
           "rgb(143,206,0)",
           "rgb(255,206,58)",
           "rgb(255,206,58)",
           "rgb(255,206,58)",
           "rgb(255,206,58)",
           "rgb(255,206,58)",
           "rgb(255,206,58)",
           "rgb(255,206,58)",
           "rgb(255,206,58)",
           "rgb(255,206,58)",
           "rgb(255,206,58)",
           "rgb(255,206,58)",
           "rgb(255,206,58)",
           "rgb(255,206,58)",
           "rgb(255,206,58)",
           "rgb(255,206,58)",
           "rgb(255,206,58)",
           "rgb(255,206,58)",
           "rgb(255,206,58)",
           "rgb(255,206,58)",
           "rgb(255,206,58)",
           "rgb(255,206,58)",
           "rgb(255,206,58)",
           "rgb(255,206,58)",
           "rgb(255,206,58)",
           "rgb(255,206,58)",
           "rgb(255,206,58)",
           "rgb(255,206,58)",
           "rgb(255,206,58)",
           "rgb(255,206,58)",
           "rgb(255,206,58)",
           "rgb(255,206,58)",
           "rgb(255,206,58)",
           "rgb(255,206,58)",
           "rgb(255,206,58)",
           "rgb(255,206,58)",
           "rgb(255,206,58)",
           "rgb(255,206,58)",
           "rgb(255,206,58)",
           "rgb(255,206,58)",
           "rgb(255,206,58)",
           "rgb(255,206,58)",
           "rgb(255,206,58)",
           "rgb(255,206,58)",
           "rgb(255,206,58)",
           "rgb(255,206,58)",
           "rgb(255,206,58)"
          ],
          "line": {
           "color": "#2c3e50",
           "width": 1
          },
          "opacity": 0.7,
          "size": [
           18.57142857142857,
           18.57142857142857,
           10,
           14.285714285714285,
           10,
           10,
           10,
           18.57142857142857,
           10,
           10,
           10,
           10,
           10,
           10,
           10,
           10,
           10,
           22.857142857142854,
           10,
           10,
           10,
           10,
           10,
           10,
           10,
           10,
           10,
           10,
           10,
           10,
           10,
           10,
           10,
           10,
           10,
           10,
           10,
           10,
           14.285714285714285,
           18.57142857142857,
           14.285714285714285,
           10,
           10,
           14.285714285714285,
           14.285714285714285,
           14.285714285714285,
           10,
           14.285714285714285,
           10,
           10,
           10,
           10,
           10,
           10,
           10,
           14.285714285714285,
           14.285714285714285,
           10,
           10,
           10,
           10,
           10,
           10,
           10,
           14.285714285714285,
           10,
           10,
           10,
           14.285714285714285,
           10,
           10,
           10,
           10,
           10,
           10,
           10,
           10,
           10,
           10,
           14.285714285714285,
           10,
           14.285714285714285,
           18.57142857142857,
           10,
           10,
           10,
           10,
           10,
           14.285714285714285,
           14.285714285714285,
           10,
           14.285714285714285,
           10,
           10,
           10,
           10,
           10,
           10,
           18.57142857142857,
           10,
           10,
           10,
           14.285714285714285,
           10,
           10,
           10,
           10,
           10,
           10,
           10,
           10,
           10,
           10,
           10,
           10,
           10,
           10,
           10,
           10,
           10,
           10,
           10,
           10,
           10,
           10,
           10,
           10,
           10,
           10,
           10,
           10,
           10,
           10,
           10,
           18.57142857142857,
           10,
           14.285714285714285,
           10,
           10,
           10,
           10,
           14.285714285714285,
           10,
           10,
           10,
           10,
           14.285714285714285,
           10,
           14.285714285714285,
           10,
           10,
           10,
           10,
           10,
           10,
           14.285714285714285,
           10,
           10,
           10,
           10,
           14.285714285714285,
           10,
           10,
           18.57142857142857,
           14.285714285714285,
           10,
           10,
           10,
           10,
           18.57142857142857,
           14.285714285714285,
           14.285714285714285,
           10,
           10,
           10,
           10,
           14.285714285714285,
           10,
           10,
           14.285714285714285,
           14.285714285714285,
           10,
           10,
           10,
           14.285714285714285,
           10,
           14.285714285714285,
           10,
           10,
           10,
           14.285714285714285,
           14.285714285714285,
           14.285714285714285,
           10,
           14.285714285714285,
           14.285714285714285,
           10,
           14.285714285714285,
           10,
           10,
           10,
           18.57142857142857,
           10,
           10,
           10,
           10,
           10,
           10,
           10,
           10,
           10,
           10,
           10,
           10,
           10,
           10,
           10,
           10,
           10,
           10,
           10,
           14.285714285714285,
           10,
           10,
           10,
           10,
           14.285714285714285,
           10,
           18.57142857142857,
           10,
           10,
           14.285714285714285,
           10,
           14.285714285714285,
           10,
           10,
           10,
           10,
           10,
           10,
           10,
           18.57142857142857,
           14.285714285714285,
           10,
           10,
           10,
           14.285714285714285,
           10,
           10,
           14.285714285714285,
           10,
           10,
           10,
           14.285714285714285,
           10,
           10,
           10,
           22.857142857142854,
           14.285714285714285,
           18.57142857142857,
           10,
           10,
           10,
           18.57142857142857,
           10,
           14.285714285714285,
           10,
           10,
           10,
           14.285714285714285,
           14.285714285714285,
           10,
           18.57142857142857,
           10,
           10,
           10,
           10,
           10,
           10,
           14.285714285714285,
           10,
           10,
           10,
           18.57142857142857,
           10,
           14.285714285714285,
           10,
           10,
           14.285714285714285,
           10,
           10,
           10,
           18.57142857142857,
           10,
           14.285714285714285,
           14.285714285714285,
           10,
           10,
           14.285714285714285,
           14.285714285714285,
           14.285714285714285,
           10,
           10,
           10,
           40,
           22.857142857142854,
           10,
           14.285714285714285,
           14.285714285714285,
           10,
           10,
           10,
           14.285714285714285,
           22.857142857142854,
           14.285714285714285,
           18.57142857142857,
           10,
           18.57142857142857,
           18.57142857142857,
           10,
           10,
           10,
           10,
           10,
           18.57142857142857,
           10,
           18.57142857142857,
           14.285714285714285,
           10,
           18.57142857142857,
           10,
           14.285714285714285,
           14.285714285714285,
           14.285714285714285,
           14.285714285714285,
           10,
           14.285714285714285,
           18.57142857142857,
           18.57142857142857,
           10,
           14.285714285714285,
           14.285714285714285,
           18.57142857142857,
           10,
           14.285714285714285,
           10,
           14.285714285714285,
           10,
           10,
           10,
           18.57142857142857,
           10,
           14.285714285714285,
           10,
           10,
           10,
           18.57142857142857,
           35.71428571428571,
           14.285714285714285,
           10,
           18.57142857142857,
           10,
           10,
           10,
           14.285714285714285,
           10,
           10,
           10,
           14.285714285714285,
           10,
           10,
           10,
           14.285714285714285,
           14.285714285714285,
           22.857142857142854,
           18.57142857142857,
           14.285714285714285,
           10,
           10,
           10,
           10,
           10,
           10,
           18.57142857142857,
           10,
           14.285714285714285,
           10,
           10,
           10,
           10,
           10,
           18.57142857142857,
           10,
           10,
           14.285714285714285,
           10,
           10,
           10,
           10,
           35.71428571428571,
           14.285714285714285,
           14.285714285714285,
           18.57142857142857,
           10,
           10,
           10,
           10,
           14.285714285714285,
           10,
           10,
           18.57142857142857,
           14.285714285714285,
           14.285714285714285,
           14.285714285714285,
           14.285714285714285,
           10,
           10,
           10,
           14.285714285714285,
           10,
           14.285714285714285,
           10,
           14.285714285714285,
           18.57142857142857,
           10,
           14.285714285714285,
           10,
           14.285714285714285,
           10,
           10,
           14.285714285714285,
           10,
           14.285714285714285,
           10,
           10,
           10,
           10,
           14.285714285714285,
           31.42857142857143,
           10,
           14.285714285714285,
           10,
           14.285714285714285,
           10,
           14.285714285714285,
           10,
           14.285714285714285,
           22.857142857142854,
           18.57142857142857,
           14.285714285714285,
           10,
           18.57142857142857,
           10,
           10,
           10,
           14.285714285714285,
           14.285714285714285,
           10,
           10,
           14.285714285714285,
           10,
           18.57142857142857,
           10,
           18.57142857142857,
           10,
           10,
           14.285714285714285,
           14.285714285714285,
           10,
           10,
           10,
           14.285714285714285,
           10,
           10,
           10,
           10,
           10,
           10,
           10,
           10,
           10,
           14.285714285714285,
           10,
           10,
           10,
           10,
           14.285714285714285,
           14.285714285714285,
           14.285714285714285,
           18.57142857142857,
           10,
           14.285714285714285,
           10,
           10,
           14.285714285714285,
           10,
           10,
           10,
           10,
           10,
           14.285714285714285,
           10,
           10,
           10,
           10,
           10,
           10,
           14.285714285714285,
           14.285714285714285,
           10,
           14.285714285714285,
           10,
           10,
           14.285714285714285,
           14.285714285714285,
           14.285714285714285,
           14.285714285714285,
           10,
           10,
           10,
           10,
           10,
           10,
           10,
           10,
           10,
           14.285714285714285,
           10,
           10,
           10,
           10,
           18.57142857142857,
           10,
           14.285714285714285,
           10,
           10,
           14.285714285714285,
           14.285714285714285,
           10,
           18.57142857142857,
           10,
           10,
           18.57142857142857,
           10,
           14.285714285714285,
           10,
           10,
           10,
           14.285714285714285,
           10,
           10,
           10,
           10,
           10,
           10,
           10,
           10,
           22.857142857142854,
           10,
           10,
           10,
           10,
           10,
           18.57142857142857,
           10,
           14.285714285714285,
           10,
           18.57142857142857,
           14.285714285714285,
           10,
           10,
           14.285714285714285,
           18.57142857142857,
           10,
           14.285714285714285,
           14.285714285714285,
           10,
           18.57142857142857,
           10,
           10,
           22.857142857142854,
           10,
           10,
           10,
           14.285714285714285,
           10,
           10,
           14.285714285714285,
           18.57142857142857,
           27.142857142857142,
           14.285714285714285,
           10,
           10,
           10,
           10,
           10,
           18.57142857142857,
           10,
           10,
           18.57142857142857,
           18.57142857142857,
           10,
           18.57142857142857,
           14.285714285714285,
           10,
           10,
           10,
           10,
           10,
           10,
           10,
           22.857142857142854,
           10,
           18.57142857142857,
           10,
           10,
           10,
           10,
           14.285714285714285,
           14.285714285714285,
           18.57142857142857,
           10,
           10,
           10,
           10,
           10,
           10,
           10,
           18.57142857142857,
           10,
           14.285714285714285,
           10,
           18.57142857142857,
           10,
           10,
           14.285714285714285,
           10,
           22.857142857142854,
           10,
           10,
           10,
           14.285714285714285,
           14.285714285714285,
           10,
           10,
           10,
           18.57142857142857,
           10,
           10,
           10,
           14.285714285714285,
           10,
           14.285714285714285,
           10,
           10,
           18.57142857142857,
           14.285714285714285,
           10,
           14.285714285714285,
           22.857142857142854,
           14.285714285714285,
           14.285714285714285,
           10,
           14.285714285714285,
           10,
           14.285714285714285,
           10,
           14.285714285714285,
           10,
           10,
           14.285714285714285,
           10,
           10,
           10,
           10,
           14.285714285714285,
           18.57142857142857,
           14.285714285714285,
           10,
           10,
           10,
           10,
           10,
           10,
           10,
           10,
           10,
           10,
           10,
           14.285714285714285,
           10,
           10,
           10,
           10,
           10,
           10,
           10,
           10,
           10,
           10,
           14.285714285714285,
           14.285714285714285,
           14.285714285714285,
           10,
           10,
           14.285714285714285,
           10,
           14.285714285714285,
           14.285714285714285,
           14.285714285714285,
           10,
           14.285714285714285,
           14.285714285714285,
           14.285714285714285,
           10,
           18.57142857142857,
           14.285714285714285,
           14.285714285714285,
           14.285714285714285,
           14.285714285714285,
           18.57142857142857,
           18.57142857142857,
           14.285714285714285,
           10,
           14.285714285714285,
           10,
           14.285714285714285,
           10,
           18.57142857142857,
           18.57142857142857,
           14.285714285714285,
           10,
           10,
           14.285714285714285,
           18.57142857142857,
           10,
           18.57142857142857,
           18.57142857142857,
           10,
           10,
           14.285714285714285,
           10,
           14.285714285714285,
           10,
           10,
           10,
           10,
           10,
           14.285714285714285,
           10,
           10,
           10,
           10,
           10,
           10,
           10,
           10,
           10,
           10,
           10,
           31.42857142857143,
           10,
           27.142857142857142,
           14.285714285714285,
           14.285714285714285,
           18.57142857142857,
           10,
           14.285714285714285,
           14.285714285714285,
           14.285714285714285,
           14.285714285714285,
           14.285714285714285,
           10,
           14.285714285714285,
           10,
           18.57142857142857,
           14.285714285714285,
           14.285714285714285,
           10,
           14.285714285714285,
           10,
           10,
           10,
           18.57142857142857,
           10,
           10,
           10,
           10,
           10,
           10,
           10,
           14.285714285714285,
           14.285714285714285,
           14.285714285714285,
           14.285714285714285,
           14.285714285714285,
           18.57142857142857,
           14.285714285714285,
           14.285714285714285,
           10,
           10,
           10,
           10,
           14.285714285714285,
           18.57142857142857,
           14.285714285714285,
           10,
           10,
           10,
           14.285714285714285,
           10,
           10,
           14.285714285714285,
           10,
           14.285714285714285,
           18.57142857142857,
           10,
           10,
           10,
           14.285714285714285,
           14.285714285714285,
           14.285714285714285,
           10,
           10,
           10,
           14.285714285714285,
           14.285714285714285,
           14.285714285714285,
           14.285714285714285,
           14.285714285714285,
           14.285714285714285,
           14.285714285714285,
           10,
           10,
           10,
           10,
           14.285714285714285,
           10,
           10,
           14.285714285714285,
           10,
           14.285714285714285,
           10,
           10,
           10,
           14.285714285714285,
           10,
           14.285714285714285,
           14.285714285714285,
           10,
           14.285714285714285,
           14.285714285714285,
           18.57142857142857,
           18.57142857142857,
           14.285714285714285,
           10,
           10,
           14.285714285714285,
           10,
           10,
           10,
           10,
           10,
           14.285714285714285,
           14.285714285714285,
           14.285714285714285,
           10,
           14.285714285714285,
           10,
           14.285714285714285,
           14.285714285714285,
           14.285714285714285,
           27.142857142857142,
           14.285714285714285,
           14.285714285714285,
           18.57142857142857,
           14.285714285714285,
           10,
           10,
           14.285714285714285,
           14.285714285714285,
           18.57142857142857,
           14.285714285714285,
           10,
           18.57142857142857,
           10,
           14.285714285714285,
           10,
           14.285714285714285,
           10,
           22.857142857142854,
           10,
           10,
           27.142857142857142,
           10,
           10,
           10,
           14.285714285714285,
           14.285714285714285,
           14.285714285714285,
           14.285714285714285,
           14.285714285714285,
           40,
           14.285714285714285,
           18.57142857142857,
           18.57142857142857,
           22.857142857142854,
           22.857142857142854,
           14.285714285714285,
           18.57142857142857,
           14.285714285714285,
           27.142857142857142,
           14.285714285714285,
           18.57142857142857,
           10,
           14.285714285714285,
           14.285714285714285,
           22.857142857142854,
           10,
           10,
           14.285714285714285,
           10,
           18.57142857142857,
           14.285714285714285,
           14.285714285714285,
           10,
           14.285714285714285,
           18.57142857142857,
           14.285714285714285,
           14.285714285714285,
           14.285714285714285,
           10,
           10,
           10,
           10,
           10,
           10,
           10,
           10,
           10,
           10,
           18.57142857142857,
           10,
           10,
           10,
           10,
           14.285714285714285
          ]
         },
         "mode": "markers",
         "type": "scatter",
         "x": [
          "1930-01-01T00:00:00",
          "1942-01-01T00:00:00",
          "1946-11-01T00:00:00",
          "1950-01-01T00:00:00",
          "1952-01-01T00:00:00",
          "1957-01-01T00:00:00",
          "1957-01-01T00:00:00",
          "1958-01-01T00:00:00",
          "1958-01-01T00:00:00",
          "1958-01-01T00:00:00",
          "1959-01-01T00:00:00",
          "1959-11-16T00:00:00",
          "1963-10-14T00:00:00",
          "1963-11-22T00:00:00",
          "1963-11-22T00:00:00",
          "1968-07-01T00:00:00",
          "1970-11-01T00:00:00",
          "1971-12-01T00:00:00",
          "1973-01-05T00:00:00",
          "1975-01-01T00:00:00",
          "1975-10-31T00:00:00",
          "1979-11-16T00:00:00",
          "1982-01-01T00:00:00",
          "1982-05-16T00:00:00",
          "1983-01-06T00:00:00",
          "1984-01-01T00:00:00",
          "1984-01-01T00:00:00",
          "1984-10-19T00:00:00",
          "1984-11-25T00:00:00",
          "1985-02-17T00:00:00",
          "1985-09-16T00:00:00",
          "1986-01-01T00:00:00",
          "1986-03-03T00:00:00",
          "1987-01-01T00:00:00",
          "1991-09-10T00:00:00",
          "1991-09-24T00:00:00",
          "1992-09-21T00:00:00",
          "1994-10-28T00:00:00",
          "1995-07-11T00:00:00",
          "1995-12-28T00:00:00",
          "1996-11-24T00:00:00",
          "1997-01-01T00:00:00",
          "1998-03-31T00:00:00",
          "1999-01-01T00:00:00",
          "1999-01-01T00:00:00",
          "1999-01-01T00:00:00",
          "1999-01-01T00:00:00",
          "1999-11-21T00:00:00",
          "2000-01-01T00:00:00",
          "2000-07-10T00:00:00",
          "2000-10-24T00:00:00",
          "2000-11-07T00:00:00",
          "2002-01-01T00:00:00",
          "2002-01-01T00:00:00",
          "2002-01-01T00:00:00",
          "2002-05-26T00:00:00",
          "2002-05-26T00:00:00",
          "2002-08-05T00:00:00",
          "2003-03-24T00:00:00",
          "2003-09-23T00:00:00",
          "2004-01-01T00:00:00",
          "2004-01-01T00:00:00",
          "2004-05-04T00:00:00",
          "2004-07-13T00:00:00",
          "2005-09-20T00:00:00",
          "2007-04-20T00:00:00",
          "2008-01-01T00:00:00",
          "2008-01-01T00:00:00",
          "2010-01-01T00:00:00",
          "2010-01-01T00:00:00",
          "2010-01-01T00:00:00",
          "2010-05-25T00:00:00",
          "2010-07-20T00:00:00",
          "2010-10-04T00:00:00",
          "2010-11-29T00:00:00",
          "2011-01-01T00:00:00",
          "2011-01-01T00:00:00",
          "2011-01-01T00:00:00",
          "2011-01-01T00:00:00",
          "2011-01-01T00:00:00",
          "2011-01-01T00:00:00",
          "2011-01-01T00:00:00",
          "2011-08-16T00:00:00",
          "2011-10-14T00:00:00",
          "2011-10-14T00:00:00",
          "2012-01-01T00:00:00",
          "2012-01-01T00:00:00",
          "2012-01-01T00:00:00",
          "2012-01-01T00:00:00",
          "2012-01-01T00:00:00",
          "2012-05-14T00:00:00",
          "2012-06-20T00:00:00",
          "2012-10-15T00:00:00",
          "2012-12-05T00:00:00",
          "2012-12-05T00:00:00",
          "2013-01-01T00:00:00",
          "2013-01-01T00:00:00",
          "2013-01-01T00:00:00",
          "2013-01-01T00:00:00",
          "2013-01-01T00:00:00",
          "2013-01-01T00:00:00",
          "2013-01-01T00:00:00",
          "2013-07-16T00:00:00",
          "2013-08-01T00:00:00",
          "2013-08-16T00:00:00",
          "2013-09-13T00:00:00",
          "2013-10-25T00:00:00",
          "2013-12-13T00:00:00",
          "2014-01-01T00:00:00",
          "2014-01-01T00:00:00",
          "2014-01-01T00:00:00",
          "2014-01-01T00:00:00",
          "2014-01-01T00:00:00",
          "2014-01-01T00:00:00",
          "2014-01-01T00:00:00",
          "2014-06-05T00:00:00",
          "2014-06-20T00:00:00",
          "2014-08-08T00:00:00",
          "2014-11-17T00:00:00",
          "2014-11-28T00:00:00",
          "2014-12-09T00:00:00",
          "2015-01-01T00:00:00",
          "2015-01-01T00:00:00",
          "2015-01-11T00:00:00",
          "2015-02-02T00:00:00",
          "2015-04-22T00:00:00",
          "2015-05-10T00:00:00",
          "2015-05-27T00:00:00",
          "2015-06-22T00:00:00",
          "2015-07-24T00:00:00",
          "2015-10-30T00:00:00",
          "2015-11-09T00:00:00",
          "2016-01-15T00:00:00",
          "2016-01-21T00:00:00",
          "2016-04-04T00:00:00",
          "2016-04-20T00:00:00",
          "2016-05-31T00:00:00",
          "2016-06-23T00:00:00",
          "2016-08-05T00:00:00",
          "2016-08-20T00:00:00",
          "2016-09-09T00:00:00",
          "2016-09-21T00:00:00",
          "2016-09-23T00:00:00",
          "2016-09-27T00:00:00",
          "2016-11-04T00:00:00",
          "2016-11-10T00:00:00",
          "2016-11-18T00:00:00",
          "2016-11-24T00:00:00",
          "2016-11-24T00:00:00",
          "2016-11-25T00:00:00",
          "2017-01-01T00:00:00",
          "2017-01-01T00:00:00",
          "2017-01-06T00:00:00",
          "2017-01-31T00:00:00",
          "2017-02-20T00:00:00",
          "2017-02-22T00:00:00",
          "2017-03-21T00:00:00",
          "2017-03-30T00:00:00",
          "2017-03-30T00:00:00",
          "2017-04-28T00:00:00",
          "2017-06-02T00:00:00",
          "2017-06-15T00:00:00",
          "2017-06-23T00:00:00",
          "2017-07-21T00:00:00",
          "2017-08-11T00:00:00",
          "2017-08-25T00:00:00",
          "2017-10-04T00:00:00",
          "2017-10-20T00:00:00",
          "2017-11-08T00:00:00",
          "2017-11-10T00:00:00",
          "2017-11-10T00:00:00",
          "2017-11-10T00:00:00",
          "2017-12-08T00:00:00",
          "2018-03-09T00:00:00",
          "2018-03-16T00:00:00",
          "2018-03-29T00:00:00",
          "2018-03-29T00:00:00",
          "2018-05-25T00:00:00",
          "2018-09-12T00:00:00",
          "2018-09-27T00:00:00",
          "2018-10-09T00:00:00",
          "2018-11-08T00:00:00",
          "2018-11-21T00:00:00",
          "2019-01-01T00:00:00",
          "2019-01-11T00:00:00",
          "2019-03-07T00:00:00",
          "2019-04-12T00:00:00",
          "2019-05-10T00:00:00",
          "2019-05-10T00:00:00",
          "2019-05-10T00:00:00",
          "2019-05-16T00:00:00",
          "2019-05-31T00:00:00",
          "2019-06-19T00:00:00",
          "2019-06-21T00:00:00",
          "2019-06-28T00:00:00",
          "2019-06-28T00:00:00",
          "2019-07-26T00:00:00",
          "2019-08-04T00:00:00",
          "2019-08-23T00:00:00",
          "2019-08-23T00:00:00",
          "2019-08-30T00:00:00",
          "2019-08-30T00:00:00",
          "2019-09-13T00:00:00",
          "2019-09-20T00:00:00",
          "2019-10-04T00:00:00",
          "2019-10-04T00:00:00",
          "2019-10-04T00:00:00",
          "2019-10-04T00:00:00",
          "2019-10-04T00:00:00",
          "2019-10-18T00:00:00",
          "2019-10-31T00:00:00",
          "2019-11-01T00:00:00",
          "2019-11-07T00:00:00",
          "2019-11-07T00:00:00",
          "2019-11-17T00:00:00",
          "2019-11-29T00:00:00",
          "2019-12-06T00:00:00",
          "2019-12-13T00:00:00",
          "2019-12-13T00:00:00",
          "2020-01-01T00:00:00",
          "2020-01-10T00:00:00",
          "2020-01-16T00:00:00",
          "2020-02-10T00:00:00",
          "2020-02-19T00:00:00",
          "2020-02-21T00:00:00",
          "2020-02-29T00:00:00",
          "2020-02-29T00:00:00",
          "2020-02-29T00:00:00",
          "2020-03-13T00:00:00",
          "2020-03-20T00:00:00",
          "2020-03-20T00:00:00",
          "2020-03-20T00:00:00",
          "2020-03-27T00:00:00",
          "2020-03-27T00:00:00",
          "2020-04-17T00:00:00",
          "2020-05-20T00:00:00",
          "2020-06-05T00:00:00",
          "2020-06-28T00:00:00",
          "2020-07-17T00:00:00",
          "2020-07-24T00:00:00",
          "2020-07-24T00:00:00",
          "2020-07-24T00:00:00",
          "2020-07-24T00:00:00",
          "2020-08-21T00:00:00",
          "2020-09-03T00:00:00",
          "2020-09-18T00:00:00",
          "2020-09-21T00:00:00",
          "2020-10-08T00:00:00",
          "2020-10-23T00:00:00",
          "2020-10-30T00:00:00",
          "2020-11-02T00:00:00",
          "2020-11-27T00:00:00",
          "2020-12-18T00:00:00",
          "2020-12-18T00:00:00",
          "2020-12-24T00:00:00",
          "2020-12-25T00:00:00",
          "2021-01-08T00:00:00",
          "2021-01-15T00:00:00",
          "2021-01-28T00:00:00",
          "2021-03-05T00:00:00",
          "2021-03-11T00:00:00",
          "2021-03-19T00:00:00",
          "2021-03-19T00:00:00",
          "2021-03-19T00:00:00",
          "2021-04-01T00:00:00",
          "2021-04-09T00:00:00",
          "2021-04-09T00:00:00",
          "2021-04-09T00:00:00",
          "2021-04-14T00:00:00",
          "2021-04-28T00:00:00",
          "2021-04-29T00:00:00",
          "2021-04-30T00:00:00",
          "2021-05-07T00:00:00",
          "2021-05-14T00:00:00",
          "2021-05-15T00:00:00",
          "2021-05-21T00:00:00",
          "2021-05-21T00:00:00",
          "2021-05-21T00:00:00",
          "2021-05-21T00:00:00",
          "2021-05-21T00:00:00",
          "2021-06-04T00:00:00",
          "2021-06-11T00:00:00",
          "2021-06-11T00:00:00",
          "2021-06-24T00:00:00",
          "2021-06-24T00:00:00",
          "2021-06-24T00:00:00",
          "2021-06-25T00:00:00",
          "2021-06-25T00:00:00",
          "2021-06-25T00:00:00",
          "2021-06-25T00:00:00",
          "2021-06-25T00:00:00",
          "2021-07-08T00:00:00",
          "2021-07-08T00:00:00",
          "2021-07-09T00:00:00",
          "2021-07-09T00:00:00",
          "2021-07-23T00:00:00",
          "2021-07-28T00:00:00",
          "2021-07-30T00:00:00",
          "2021-07-30T00:00:00",
          "2021-08-01T00:00:00",
          "2021-08-03T00:00:00",
          "2021-08-06T00:00:00",
          "2021-08-09T00:00:00",
          "2021-08-10T00:00:00",
          "2021-08-12T00:00:00",
          "2021-08-13T00:00:00",
          "2021-08-13T00:00:00",
          "2021-08-20T00:00:00",
          "2021-08-27T00:00:00",
          "2021-08-29T00:00:00",
          "2021-09-01T00:00:00",
          "2021-09-01T00:00:00",
          "2021-09-02T00:00:00",
          "2021-09-03T00:00:00",
          "2021-09-03T00:00:00",
          "2021-09-03T00:00:00",
          "2021-09-03T00:00:00",
          "2021-09-03T00:00:00",
          "2021-09-08T00:00:00",
          "2021-09-09T00:00:00",
          "2021-09-09T00:00:00",
          "2021-09-10T00:00:00",
          "2021-09-10T00:00:00",
          "2021-09-10T00:00:00",
          "2021-09-16T00:00:00",
          "2021-09-17T00:00:00",
          "2021-09-24T00:00:00",
          "2021-09-24T00:00:00",
          "2021-10-01T00:00:00",
          "2021-10-05T00:00:00",
          "2021-10-14T00:00:00",
          "2021-10-14T00:00:00",
          "2021-10-21T00:00:00",
          "2021-10-22T00:00:00",
          "2021-10-22T00:00:00",
          "2021-10-22T00:00:00",
          "2021-10-22T00:00:00",
          "2021-10-27T00:00:00",
          "2021-10-27T00:00:00",
          "2021-10-30T00:00:00",
          "2021-11-04T00:00:00",
          "2021-11-05T00:00:00",
          "2021-11-05T00:00:00",
          "2021-11-05T00:00:00",
          "2021-11-11T00:00:00",
          "2021-11-11T00:00:00",
          "2021-11-11T00:00:00",
          "2021-11-12T00:00:00",
          "2021-11-17T00:00:00",
          "2021-11-18T00:00:00",
          "2021-11-18T00:00:00",
          "2021-11-19T00:00:00",
          "2021-11-19T00:00:00",
          "2021-11-19T00:00:00",
          "2021-11-19T00:00:00",
          "2021-11-19T00:00:00",
          "2021-11-19T00:00:00",
          "2021-11-19T00:00:00",
          "2021-11-19T00:00:00",
          "2021-11-25T00:00:00",
          "2021-11-30T00:00:00",
          "2021-12-01T00:00:00",
          "2021-12-01T00:00:00",
          "2021-12-03T00:00:00",
          "2021-12-03T00:00:00",
          "2021-12-10T00:00:00",
          "2021-12-10T00:00:00",
          "2021-12-17T00:00:00",
          "2021-12-23T00:00:00",
          "2021-12-24T00:00:00",
          "2021-12-24T00:00:00",
          "2021-12-24T00:00:00",
          "2021-12-29T00:00:00",
          "2021-12-29T00:00:00",
          "2022-01-05T00:00:00",
          "2022-01-05T00:00:00",
          "2022-01-07T00:00:00",
          "2022-01-07T00:00:00",
          "2022-01-07T00:00:00",
          "2022-01-07T00:00:00",
          "2022-01-07T00:00:00",
          "2022-01-07T00:00:00",
          "2022-01-07T00:00:00",
          "2022-01-07T00:00:00",
          "2022-01-07T00:00:00",
          "2022-01-07T00:00:00",
          "2022-01-07T00:00:00",
          "2022-01-07T00:00:00",
          "2022-01-07T00:00:00",
          "2022-01-07T00:00:00",
          "2022-01-07T00:00:00",
          "2022-01-07T00:00:00",
          "2022-01-07T00:00:00",
          "2022-01-07T00:00:00",
          "2022-01-07T00:00:00",
          "2022-01-09T00:00:00",
          "2022-01-10T00:00:00",
          "2022-01-10T00:00:00",
          "2022-01-10T00:00:00",
          "2022-01-14T00:00:00",
          "2022-01-14T00:00:00",
          "2022-01-15T00:00:00",
          "2022-01-17T00:00:00",
          "2022-01-19T00:00:00",
          "2022-01-20T00:00:00",
          "2022-01-21T00:00:00",
          "2022-01-21T00:00:00",
          "2022-01-26T00:00:00",
          "2022-01-28T00:00:00",
          "2022-01-28T00:00:00",
          "2022-01-30T00:00:00",
          "2022-02-01T00:00:00",
          "2022-02-02T00:00:00",
          "2022-02-04T00:00:00",
          "2022-02-04T00:00:00",
          "2022-02-04T00:00:00",
          "2022-02-04T00:00:00",
          "2022-02-06T00:00:00",
          "2022-02-06T00:00:00",
          "2022-02-09T00:00:00",
          "2022-02-10T00:00:00",
          "2022-02-11T00:00:00",
          "2022-02-11T00:00:00",
          "2022-02-11T00:00:00",
          "2022-02-11T00:00:00",
          "2022-02-11T00:00:00",
          "2022-02-11T00:00:00",
          "2022-02-14T00:00:00",
          "2022-02-15T00:00:00",
          "2022-02-17T00:00:00",
          "2022-02-18T00:00:00",
          "2022-02-18T00:00:00",
          "2022-02-18T00:00:00",
          "2022-02-18T00:00:00",
          "2022-02-18T00:00:00",
          "2022-02-22T00:00:00",
          "2022-02-22T00:00:00",
          "2022-02-25T00:00:00",
          "2022-02-25T00:00:00",
          "2022-03-03T00:00:00",
          "2022-03-03T00:00:00",
          "2022-03-03T00:00:00",
          "2022-03-04T00:00:00",
          "2022-03-10T00:00:00",
          "2022-03-11T00:00:00",
          "2022-03-11T00:00:00",
          "2022-03-14T00:00:00",
          "2022-03-17T00:00:00",
          "2022-03-18T00:00:00",
          "2022-03-18T00:00:00",
          "2022-03-18T00:00:00",
          "2022-03-18T00:00:00",
          "2022-03-19T00:00:00",
          "2022-03-23T00:00:00",
          "2022-03-23T00:00:00",
          "2022-03-24T00:00:00",
          "2022-03-25T00:00:00",
          "2022-03-25T00:00:00",
          "2022-03-25T00:00:00",
          "2022-03-25T00:00:00",
          "2022-03-30T00:00:00",
          "2022-03-30T00:00:00",
          "2022-03-31T00:00:00",
          "2022-03-31T00:00:00",
          "2022-03-31T00:00:00",
          "2022-04-01T00:00:00",
          "2022-04-01T00:00:00",
          "2022-04-01T00:00:00",
          "2022-04-05T00:00:00",
          "2022-04-05T00:00:00",
          "2022-04-06T00:00:00",
          "2022-04-07T00:00:00",
          "2022-04-08T00:00:00",
          "2022-04-08T00:00:00",
          "2022-04-08T00:00:00",
          "2022-04-08T00:00:00",
          "2022-04-08T00:00:00",
          "2022-04-13T00:00:00",
          "2022-04-14T00:00:00",
          "2022-04-20T00:00:00",
          "2022-04-21T00:00:00",
          "2022-04-21T00:00:00",
          "2022-04-22T00:00:00",
          "2022-04-22T00:00:00",
          "2022-04-22T00:00:00",
          "2022-04-22T00:00:00",
          "2022-04-22T00:00:00",
          "2022-04-24T00:00:00",
          "2022-04-25T00:00:00",
          "2022-04-27T00:00:00",
          "2022-04-28T00:00:00",
          "2022-04-29T00:00:00",
          "2022-04-29T00:00:00",
          "2022-04-29T00:00:00",
          "2022-04-29T00:00:00",
          "2022-05-02T00:00:00",
          "2022-05-02T00:00:00",
          "2022-05-03T00:00:00",
          "2022-05-06T00:00:00",
          "2022-05-06T00:00:00",
          "2022-05-06T00:00:00",
          "2022-05-06T00:00:00",
          "2022-05-06T00:00:00",
          "2022-05-06T00:00:00",
          "2022-05-06T00:00:00",
          "2022-05-06T00:00:00",
          "2022-05-06T00:00:00",
          "2022-05-06T00:00:00",
          "2022-05-06T00:00:00",
          "2022-05-06T00:00:00",
          "2022-05-06T00:00:00",
          "2022-05-06T00:00:00",
          "2022-05-06T00:00:00",
          "2022-05-06T00:00:00",
          "2022-05-06T00:00:00",
          "2022-05-06T00:00:00",
          "2022-05-06T00:00:00",
          "2022-05-06T00:00:00",
          "2022-05-06T00:00:00",
          "2022-05-06T00:00:00",
          "2022-05-06T00:00:00",
          "2022-05-06T00:00:00",
          "2022-05-06T00:00:00",
          "2022-05-06T00:00:00",
          "2022-05-06T00:00:00",
          "2022-05-08T00:00:00",
          "2022-05-12T00:00:00",
          "2022-05-12T00:00:00",
          "2022-05-13T00:00:00",
          "2022-05-13T00:00:00",
          "2022-05-13T00:00:00",
          "2022-05-13T00:00:00",
          "2022-05-13T00:00:00",
          "2022-05-13T00:00:00",
          "2022-05-13T00:00:00",
          "2022-05-13T00:00:00",
          "2022-05-13T00:00:00",
          "2022-05-13T00:00:00",
          "2022-05-13T00:00:00",
          "2022-05-13T00:00:00",
          "2022-05-13T00:00:00",
          "2022-05-13T00:00:00",
          "2022-05-13T00:00:00",
          "2022-05-13T00:00:00",
          "2022-05-13T00:00:00",
          "2022-05-13T00:00:00",
          "2022-05-13T00:00:00",
          "2022-05-13T00:00:00",
          "2022-05-13T00:00:00",
          "2022-05-13T00:00:00",
          "2022-05-13T00:00:00",
          "2022-05-20T00:00:00",
          "2022-05-20T00:00:00",
          "2022-05-20T00:00:00",
          "2022-05-20T00:00:00",
          "2022-05-20T00:00:00",
          "2022-05-20T00:00:00",
          "2022-05-20T00:00:00",
          "2022-05-20T00:00:00",
          "2022-05-20T00:00:00",
          "2022-05-20T00:00:00",
          "2022-05-20T00:00:00",
          "2022-05-20T00:00:00",
          "2022-05-20T00:00:00",
          "2022-05-20T00:00:00",
          "2022-05-25T00:00:00",
          "2022-05-26T00:00:00",
          "2022-05-27T00:00:00",
          "2022-05-27T00:00:00",
          "2022-05-31T00:00:00",
          "2022-06-02T00:00:00",
          "2022-06-02T00:00:00",
          "2022-06-03T00:00:00",
          "2022-06-03T00:00:00",
          "2022-06-03T00:00:00",
          "2022-06-08T00:00:00",
          "2022-06-09T00:00:00",
          "2022-06-10T00:00:00",
          "2022-06-10T00:00:00",
          "2022-06-10T00:00:00",
          "2022-06-10T00:00:00",
          "2022-06-10T00:00:00",
          "2022-06-10T00:00:00",
          "2022-06-10T00:00:00",
          "2022-06-10T00:00:00",
          "2022-06-10T00:00:00",
          "2022-06-10T00:00:00",
          "2022-06-15T00:00:00",
          "2022-06-16T00:00:00",
          "2022-06-16T00:00:00",
          "2022-06-17T00:00:00",
          "2022-06-17T00:00:00",
          "2022-06-17T00:00:00",
          "2022-06-21T00:00:00",
          "2022-06-23T00:00:00",
          "2022-06-24T00:00:00",
          "2022-06-24T00:00:00",
          "2022-06-24T00:00:00",
          "2022-06-29T00:00:00",
          "2022-07-01T00:00:00",
          "2022-07-01T00:00:00",
          "2022-07-01T00:00:00",
          "2022-07-06T00:00:00",
          "2022-07-06T00:00:00",
          "2022-07-08T00:00:00",
          "2022-07-12T00:00:00",
          "2022-07-14T00:00:00",
          "2022-07-15T00:00:00",
          "2022-07-15T00:00:00",
          "2022-07-15T00:00:00",
          "2022-07-15T00:00:00",
          "2022-07-15T00:00:00",
          "2022-07-17T00:00:00",
          "2022-07-17T00:00:00",
          "2022-07-20T00:00:00",
          "2022-07-20T00:00:00",
          "2022-07-20T00:00:00",
          "2022-07-21T00:00:00",
          "2022-07-22T00:00:00",
          "2022-07-22T00:00:00",
          "2022-07-25T00:00:00",
          "2022-07-28T00:00:00",
          "2022-07-28T00:00:00",
          "2022-07-29T00:00:00",
          "2022-07-29T00:00:00",
          "2022-08-01T00:00:00",
          "2022-08-01T00:00:00",
          "2022-08-04T00:00:00",
          "2022-08-05T00:00:00",
          "2022-08-05T00:00:00",
          "2022-08-05T00:00:00",
          "2022-08-05T00:00:00",
          "2022-08-05T00:00:00",
          "2022-08-11T00:00:00",
          "2022-08-12T00:00:00",
          "2022-08-15T00:00:00",
          "2022-08-16T00:00:00",
          "2022-08-18T00:00:00",
          "2022-08-19T00:00:00",
          "2022-08-19T00:00:00",
          "2022-08-22T00:00:00",
          "2022-08-25T00:00:00",
          "2022-08-26T00:00:00",
          "2022-08-26T00:00:00",
          "2022-09-02T00:00:00",
          "2022-09-08T00:00:00",
          "2022-09-09T00:00:00",
          "2022-09-09T00:00:00",
          "2022-09-13T00:00:00",
          "2022-09-13T00:00:00",
          "2022-09-13T00:00:00",
          "2022-09-14T00:00:00",
          "2022-09-16T00:00:00",
          "2022-09-16T00:00:00",
          "2022-09-16T00:00:00",
          "2022-09-22T00:00:00",
          "2022-09-22T00:00:00",
          "2022-09-22T00:00:00",
          "2022-09-22T00:00:00",
          "2022-09-28T00:00:00",
          "2022-09-28T00:00:00",
          "2022-09-29T00:00:00",
          "2022-09-29T00:00:00",
          "2022-09-29T00:00:00",
          "2022-10-03T00:00:00",
          "2022-10-06T00:00:00",
          "2022-10-07T00:00:00",
          "2022-10-12T00:00:00",
          "2022-10-12T00:00:00",
          "2022-10-12T00:00:00",
          "2022-10-14T00:00:00",
          "2022-10-14T00:00:00",
          "2022-10-17T00:00:00",
          "2022-10-17T00:00:00",
          "2022-10-17T00:00:00",
          "2022-10-19T00:00:00",
          "2022-10-20T00:00:00",
          "2022-10-20T00:00:00",
          "2022-10-21T00:00:00",
          "2022-10-21T00:00:00",
          "2022-10-21T00:00:00",
          "2022-10-21T00:00:00",
          "2022-10-21T00:00:00",
          "2022-10-21T00:00:00",
          "2022-10-21T00:00:00",
          "2022-10-21T00:00:00",
          "2022-10-21T00:00:00",
          "2022-10-21T00:00:00",
          "2022-10-21T00:00:00",
          "2022-10-21T00:00:00",
          "2022-10-21T00:00:00",
          "2022-10-21T00:00:00",
          "2022-10-21T00:00:00",
          "2022-10-21T00:00:00",
          "2022-10-21T00:00:00",
          "2022-10-26T00:00:00",
          "2022-10-28T00:00:00",
          "2022-10-28T00:00:00",
          "2022-10-28T00:00:00",
          "2022-10-31T00:00:00",
          "2022-11-01T00:00:00",
          "2022-11-03T00:00:00",
          "2022-11-03T00:00:00",
          "2022-11-03T00:00:00",
          "2022-11-04T00:00:00",
          "2022-11-04T00:00:00",
          "2022-11-04T00:00:00",
          "2022-11-04T00:00:00",
          "2022-11-04T00:00:00",
          "2022-11-04T00:00:00",
          "2022-11-04T00:00:00",
          "2022-11-04T00:00:00",
          "2022-11-04T00:00:00",
          "2022-11-04T00:00:00",
          "2022-11-04T00:00:00",
          "2022-11-04T00:00:00",
          "2022-11-04T00:00:00",
          "2022-11-04T00:00:00",
          "2022-11-05T00:00:00",
          "2022-11-13T00:00:00",
          "2022-11-20T00:00:00",
          "2022-11-24T00:00:00",
          "2022-11-25T00:00:00",
          "2022-11-30T00:00:00",
          "2022-11-30T00:00:00",
          "2022-11-30T00:00:00",
          "2022-12-01T00:00:00",
          "2022-12-02T00:00:00",
          "2022-12-02T00:00:00",
          "2022-12-02T00:00:00",
          "2022-12-02T00:00:00",
          "2022-12-02T00:00:00",
          "2022-12-02T00:00:00",
          "2022-12-02T00:00:00",
          "2022-12-02T00:00:00",
          "2022-12-02T00:00:00",
          "2022-12-02T00:00:00",
          "2022-12-02T00:00:00",
          "2022-12-02T00:00:00",
          "2022-12-08T00:00:00",
          "2022-12-08T00:00:00",
          "2022-12-08T00:00:00",
          "2022-12-08T00:00:00",
          "2022-12-08T00:00:00",
          "2022-12-09T00:00:00",
          "2022-12-09T00:00:00",
          "2022-12-09T00:00:00",
          "2022-12-09T00:00:00",
          "2022-12-09T00:00:00",
          "2022-12-09T00:00:00",
          "2022-12-09T00:00:00",
          "2022-12-09T00:00:00",
          "2022-12-09T00:00:00",
          "2022-12-09T00:00:00",
          "2022-12-09T00:00:00",
          "2022-12-09T00:00:00",
          "2022-12-09T00:00:00",
          "2022-12-09T00:00:00",
          "2022-12-09T00:00:00",
          "2022-12-09T00:00:00",
          "2022-12-12T00:00:00",
          "2022-12-15T00:00:00",
          "2022-12-15T00:00:00",
          "2022-12-15T00:00:00",
          "2022-12-16T00:00:00",
          "2022-12-16T00:00:00",
          "2022-12-19T00:00:00",
          "2022-12-20T00:00:00",
          "2022-12-22T00:00:00",
          "2022-12-23T00:00:00",
          "2022-12-24T00:00:00",
          "2022-12-30T00:00:00",
          "2023-01-02T00:00:00",
          "2023-01-11T00:00:00",
          "2023-01-12T00:00:00",
          "2023-01-12T00:00:00",
          "2023-01-13T00:00:00",
          "2023-01-13T00:00:00",
          "2023-01-20T00:00:00",
          "2023-01-23T00:00:00",
          "2023-01-23T00:00:00",
          "2023-01-27T00:00:00",
          "2023-01-27T00:00:00",
          "2023-01-27T00:00:00",
          "2023-01-27T00:00:00",
          "2023-01-27T00:00:00",
          "2023-01-27T00:00:00",
          "2023-01-27T00:00:00",
          "2023-01-31T00:00:00",
          "2023-01-31T00:00:00",
          "2023-01-31T00:00:00",
          "2023-02-02T00:00:00",
          "2023-02-02T00:00:00",
          "2023-02-02T00:00:00",
          "2023-02-03T00:00:00",
          "2023-02-03T00:00:00",
          "2023-02-05T00:00:00",
          "2023-02-08T00:00:00",
          "2023-02-10T00:00:00",
          "2023-02-10T00:00:00",
          "2023-02-14T00:00:00",
          "2023-02-14T00:00:00",
          "2023-02-17T00:00:00",
          "2023-02-23T00:00:00",
          "2023-02-23T00:00:00",
          "2023-02-23T00:00:00",
          "2023-02-24T00:00:00",
          "2023-02-24T00:00:00",
          "2023-02-24T00:00:00",
          "2023-02-24T00:00:00",
          "2023-02-24T00:00:00",
          "2023-02-24T00:00:00",
          "2023-02-24T00:00:00",
          "2023-02-25T00:00:00",
          "2023-03-01T00:00:00",
          "2023-03-02T00:00:00",
          "2023-03-03T00:00:00",
          "2023-03-03T00:00:00",
          "2023-03-03T00:00:00",
          "2023-03-03T00:00:00",
          "2023-03-03T00:00:00",
          "2023-03-03T00:00:00",
          "2023-03-03T00:00:00",
          "2023-03-03T00:00:00",
          "2023-03-03T00:00:00",
          "2023-03-04T00:00:00",
          "2023-03-10T00:00:00",
          "2023-03-14T00:00:00",
          "2023-03-16T00:00:00",
          "2023-03-17T00:00:00",
          "2023-03-17T00:00:00",
          "2023-03-17T00:00:00",
          "2023-03-17T00:00:00",
          "2023-03-17T00:00:00",
          "2023-03-17T00:00:00",
          "2023-03-17T00:00:00",
          "2023-03-22T00:00:00",
          "2023-03-23T00:00:00",
          "2023-03-23T00:00:00",
          "2023-03-24T00:00:00",
          "2023-03-24T00:00:00",
          "2023-03-24T00:00:00",
          "2023-03-24T00:00:00",
          "2023-03-24T00:00:00",
          "2023-03-25T00:00:00",
          "2023-03-27T00:00:00",
          "2023-03-29T00:00:00",
          "2023-03-30T00:00:00",
          "2023-03-31T00:00:00",
          "2023-03-31T00:00:00",
          "2023-03-31T00:00:00",
          "2023-04-04T00:00:00",
          "2023-04-04T00:00:00",
          "2023-04-06T00:00:00",
          "2023-04-07T00:00:00",
          "2023-04-07T00:00:00",
          "2023-04-07T00:00:00",
          "2023-04-07T00:00:00",
          "2023-04-07T00:00:00",
          "2023-04-10T00:00:00",
          "2023-04-12T00:00:00",
          "2023-04-14T00:00:00",
          "2023-04-14T00:00:00",
          "2023-04-14T00:00:00",
          "2023-04-17T00:00:00",
          "2023-04-21T00:00:00",
          "2023-04-21T00:00:00",
          "2023-04-21T00:00:00",
          "2023-04-24T00:00:00",
          "2023-04-25T00:00:00",
          "2023-04-27T00:00:00",
          "2023-04-30T00:00:00",
          "2023-05-01T00:00:00",
          "2023-05-01T00:00:00",
          "2023-05-04T00:00:00",
          "2023-05-04T00:00:00",
          "2023-05-04T00:00:00",
          "2023-05-05T00:00:00",
          "2023-05-11T00:00:00",
          "2023-05-11T00:00:00",
          "2023-05-12T00:00:00",
          "2023-05-12T00:00:00",
          "2023-05-13T00:00:00",
          "2023-05-15T00:00:00",
          "2023-05-15T00:00:00",
          "2023-05-15T00:00:00",
          "2023-05-18T00:00:00",
          "2023-05-18T00:00:00",
          "2023-05-19T00:00:00",
          "2023-05-19T00:00:00",
          "2023-05-19T00:00:00",
          "2023-05-19T00:00:00",
          "2023-05-22T00:00:00",
          "2023-05-22T00:00:00",
          "2023-05-25T00:00:00",
          "2023-05-26T00:00:00",
          "2023-05-26T00:00:00",
          "2023-05-26T00:00:00",
          "2023-05-26T00:00:00",
          "2023-05-26T00:00:00",
          "2023-05-31T00:00:00",
          "2023-06-01T00:00:00",
          "2023-06-01T00:00:00",
          "2023-06-01T00:00:00",
          "2023-06-02T00:00:00",
          "2023-06-02T00:00:00",
          "2023-06-02T00:00:00",
          "2023-06-02T00:00:00",
          "2023-06-02T00:00:00",
          "2023-06-02T00:00:00",
          "2023-06-02T00:00:00",
          "2023-06-02T00:00:00",
          "2023-06-02T00:00:00",
          "2023-06-02T00:00:00",
          "2023-06-02T00:00:00",
          "2023-06-02T00:00:00",
          "2023-06-05T00:00:00",
          "2023-06-08T00:00:00",
          "2023-06-09T00:00:00",
          "2023-06-15T00:00:00",
          "2023-06-21T00:00:00",
          "2023-06-22T00:00:00",
          "2023-06-22T00:00:00",
          "2023-06-22T00:00:00",
          "2023-06-22T00:00:00",
          "2023-06-22T00:00:00",
          "2023-06-23T00:00:00",
          "2023-06-23T00:00:00",
          "2023-06-23T00:00:00",
          "2023-06-28T00:00:00",
          "2023-06-29T00:00:00",
          "2023-06-30T00:00:00",
          "2023-06-30T00:00:00",
          "2023-07-07T00:00:00",
          "2023-07-07T00:00:00",
          "2023-07-07T00:00:00",
          "2023-07-07T00:00:00",
          "2023-07-07T00:00:00",
          "2023-07-07T00:00:00",
          "2023-07-07T00:00:00",
          "2023-07-07T00:00:00",
          "2023-07-13T00:00:00",
          "2023-07-13T00:00:00",
          "2023-07-13T00:00:00",
          "2023-07-14T00:00:00",
          "2023-07-14T00:00:00",
          "2023-07-14T00:00:00"
         ],
         "y": [
          90598517,
          395591396,
          389771964,
          473248298,
          395591396,
          741301563,
          178660459,
          295998468,
          769213520,
          245350949,
          127027715,
          446390129,
          663832097,
          242767149,
          404664135,
          1145727611,
          520034544,
          460492795,
          838586769,
          2009094673,
          2197010679,
          403939487,
          195918494,
          154356956,
          1593270737,
          1159176109,
          351636786,
          1479115056,
          481697415,
          1205951614,
          1024858327,
          429504768,
          704171068,
          1553497987,
          1690192927,
          368646862,
          1271293243,
          1449779435,
          1357608774,
          579395142,
          106933107,
          103762518,
          1284942608,
          675039469,
          1210599487,
          843309044,
          1755214421,
          918915401,
          1424589568,
          624101957,
          1624165576,
          261116938,
          1202722675,
          1829992958,
          1687664027,
          1695712020,
          655466831,
          1608164312,
          1361425037,
          1806617704,
          1241559043,
          1089402494,
          527033089,
          657723613,
          180577478,
          1217120710,
          887906111,
          1592909789,
          1279434863,
          621660989,
          1641426668,
          950906471,
          540654286,
          1062956628,
          1472799873,
          372476382,
          629173063,
          284819874,
          1163620694,
          1457139296,
          983637508,
          1235005533,
          1953533826,
          476244795,
          807561936,
          1840364617,
          822239726,
          882831184,
          1093605526,
          1479264469,
          2282771485,
          58054811,
          1813673666,
          1481349984,
          1661187319,
          703301727,
          2011464183,
          1788326445,
          933815613,
          1297026226,
          1970673297,
          1267333350,
          109091573,
          2086124197,
          240769997,
          2135158446,
          485285717,
          834129063,
          1355959075,
          1606986953,
          588955257,
          1113838873,
          786181836,
          1456081449,
          2280566092,
          466231982,
          2236667932,
          646886885,
          1131090940,
          972164968,
          1791000570,
          677389855,
          789753877,
          924193303,
          1410088830,
          571386359,
          824420218,
          1947371785,
          165484133,
          370068639,
          1127468248,
          2123309722,
          582863434,
          939844851,
          2713922350,
          156658366,
          2591224264,
          380319238,
          421135627,
          806397070,
          2420461338,
          2565529693,
          1714490998,
          122763672,
          480507035,
          445590495,
          956865266,
          1647990401,
          611700552,
          684675814,
          2559529074,
          690104769,
          3562543890,
          2594040133,
          920045682,
          2204080728,
          841749534,
          777765388,
          1929770265,
          1116995633,
          1897517891,
          2288695111,
          888046992,
          1047101291,
          2355719893,
          1022258230,
          498960285,
          184706613,
          685032533,
          1605224506,
          284216603,
          135723538,
          1367810478,
          599770206,
          1200808494,
          1449799467,
          705469769,
          1374581173,
          1122364376,
          2159346687,
          2808096550,
          2887241814,
          723043854,
          1138474110,
          686734357,
          991336132,
          1065580332,
          2864791672,
          244658767,
          411747614,
          461437791,
          1304313953,
          2484812918,
          467727006,
          1435127549,
          236872197,
          726837877,
          426204830,
          185240616,
          800840817,
          2132335812,
          540539717,
          387080183,
          1759567999,
          282883169,
          554875730,
          563902868,
          929964809,
          203680270,
          265882712,
          2303033973,
          1608045237,
          244891912,
          865640097,
          2322580122,
          3703895074,
          1439191367,
          1023187129,
          807015863,
          1062345656,
          872137015,
          1180896317,
          405136812,
          698086140,
          951637566,
          685071800,
          759208783,
          312622938,
          530511203,
          1301799902,
          1591223784,
          1221813483,
          797196073,
          1802514301,
          1180094974,
          403097450,
          38411956,
          2557975762,
          501541661,
          607123776,
          812019557,
          327498031,
          1699402402,
          1692897992,
          1555511105,
          1735441776,
          578207856,
          339473453,
          1252563873,
          1763363713,
          1168642797,
          570515054,
          273914335,
          140430339,
          826623384,
          506778838,
          1858144199,
          863756573,
          720825549,
          1115880852,
          838079900,
          1167330737,
          851070493,
          1445941661,
          1256880657,
          1575467011,
          797402345,
          350381515,
          624515457,
          651732901,
          596152090,
          394030335,
          422691058,
          1887039593,
          183273246,
          1143647827,
          783706581,
          850608354,
          665765558,
          1230855859,
          1260594497,
          1042568408,
          330346424,
          528544703,
          1309887447,
          672656250,
          499710590,
          465959382,
          809306935,
          516784627,
          1329090101,
          513643924,
          610045621,
          608334048,
          2665343922,
          1814349763,
          412795151,
          1056760045,
          972509632,
          566954746,
          673801126,
          432702334,
          184826429,
          290228626,
          223319934,
          427486004,
          1007612429,
          674772936,
          560222750,
          376333030,
          363467642,
          726434358,
          355219175,
          1223481149,
          593917618,
          594482982,
          346127840,
          489945871,
          436695353,
          408843328,
          1302184087,
          863625566,
          263779030,
          582981380,
          354065229,
          920797189,
          421040617,
          1061966512,
          345903614,
          775542072,
          1406111294,
          258316038,
          261414174,
          611994237,
          209768491,
          510876816,
          263894529,
          1223481149,
          393230256,
          342779426,
          656013912,
          539595276,
          383550148,
          245095641,
          200972675,
          546191065,
          374706940,
          583687007,
          198883004,
          225259194,
          177129919,
          167076418,
          252871192,
          181328253,
          466214729,
          267758538,
          184937148,
          432719968,
          154797871,
          357580552,
          240684449,
          247737946,
          287201015,
          356709897,
          652704649,
          185408548,
          415932686,
          231996128,
          261286503,
          317622165,
          191945597,
          65719930,
          374191487,
          226897599,
          236940480,
          349585590,
          54937991,
          41924466,
          101114984,
          53933526,
          63803529,
          37307967,
          116903579,
          88103848,
          119238316,
          91656026,
          391251368,
          200660871,
          124407432,
          339659802,
          31959571,
          311395144,
          326792833,
          74601456,
          60680939,
          108809090,
          77337771,
          211372494,
          71014967,
          245400167,
          291709698,
          143139338,
          78489819,
          500340342,
          277132266,
          448843705,
          682475162,
          300983101,
          154119539,
          258714692,
          187772591,
          208166039,
          135079152,
          81350745,
          64787943,
          121913181,
          343197054,
          263280370,
          284249832,
          445763624,
          716591492,
          496311364,
          64714573,
          107255472,
          246376690,
          146789379,
          50746620,
          307752576,
          182978249,
          421365166,
          383835984,
          299648208,
          323455692,
          193443895,
          319757142,
          135444283,
          54682594,
          153240879,
          120847157,
          202677468,
          94616487,
          229473310,
          756907987,
          53729194,
          299634472,
          244928911,
          462791599,
          176290831,
          286739476,
          197643795,
          212234990,
          273005485,
          726307468,
          185550869,
          240661097,
          130419412,
          899183384,
          157990698,
          126443991,
          349746291,
          139193812,
          118381354,
          2513188493,
          178512385,
          255120451,
          190981339,
          477033549,
          184622518,
          305771063,
          53909146,
          89566512,
          75476209,
          293186992,
          227918678,
          694525298,
          101780047,
          146363130,
          136996305,
          723894473,
          77309611,
          885093467,
          606361689,
          160035717,
          190490915,
          449701773,
          244741137,
          600976848,
          240580042,
          164163229,
          556585270,
          404887295,
          106919680,
          382199619,
          254218729,
          212109195,
          244790012,
          229497852,
          238350348,
          246127838,
          283359161,
          344055883,
          461558540,
          338422004,
          150500965,
          1047480053,
          212351890,
          279737940,
          121077868,
          479655659,
          305650299,
          1440757818,
          909001996,
          671365962,
          1133865788,
          319546754,
          614555082,
          608228647,
          132171975,
          203221468,
          1264310836,
          403231558,
          417230415,
          283332261,
          448500832,
          313113297,
          71423324,
          271666301,
          293466523,
          37778188,
          126191104,
          42485571,
          237351106,
          164856284,
          127309180,
          1085685420,
          53603447,
          33381454,
          58687425,
          301242089,
          76831876,
          41210087,
          173702135,
          86176890,
          37091576,
          123216717,
          231657891,
          184807630,
          156898322,
          68895644,
          61739839,
          367814306,
          137070925,
          189236868,
          187703102,
          290833204,
          199587884,
          236060709,
          333146475,
          743693613,
          273194684,
          233671263,
          366214458,
          334733572,
          191873381,
          311482393,
          160845341,
          1214083358,
          190625045,
          194902696,
          156777415,
          157136970,
          138334433,
          176103902,
          278920007,
          609293408,
          248511839,
          91781263,
          129314708,
          221752937,
          79095270,
          136676504,
          114546317,
          988515741,
          222410722,
          295307001,
          330881149,
          302006641,
          244585109,
          240918092,
          279717388,
          618885532,
          195628667,
          191448892,
          354614964,
          115331792,
          131746175,
          720434240,
          213505179,
          822633917,
          187701588,
          85924992,
          155795783,
          121189256,
          1356565093,
          459276435,
          97610446,
          247689123,
          723894473,
          751134527,
          342897938,
          202452860,
          123473120,
          635412045,
          366599607,
          482257456,
          185236961,
          681583126,
          338564981,
          287278853,
          209106362,
          471819764,
          782369383,
          70069745,
          171788484,
          595900742,
          264717480,
          363472647,
          331511413,
          219196651,
          284785823,
          497225336,
          179061440,
          170732845,
          199386237,
          428685680,
          295152154,
          137123880,
          159240673,
          601863821,
          551305895,
          265548837,
          322336177,
          1109433169,
          189476119,
          148461629,
          362361576,
          174006928,
          239411309,
          53987404,
          185392587,
          47093942,
          181831132,
          222612678,
          482175240,
          235549288,
          146223492,
          304079786,
          332506354,
          1230675890,
          116144341,
          213438580,
          309483971,
          176474912,
          71007139,
          168684524,
          674072710,
          225093344,
          532336353,
          210038833,
          319566866,
          84697729,
          85559365,
          301051721,
          457184829,
          170709584,
          380726517,
          133895612,
          236857112,
          999748277,
          328207708,
          121871870,
          404562836,
          187339835,
          488386797,
          502574952,
          317726339,
          218320587,
          433356509,
          223064273,
          323437194,
          186104310,
          181382590,
          253650850,
          177503916,
          348647203,
          156214700,
          297328960,
          309653982,
          203436468,
          303216294,
          325592432,
          73513683,
          263453310,
          91473363,
          96007391,
          136689549,
          93367537,
          106249219,
          141720999,
          71095708,
          246390068,
          154863153,
          170413877,
          112436403,
          381161027,
          191333656,
          573633020,
          198365537,
          139836056,
          294352144,
          323358833,
          463564958,
          184308753,
          156338624,
          538115192,
          335074782,
          288101651,
          345031710,
          843957510,
          195516622,
          78139948,
          148469433,
          373199958,
          110649992,
          401036314,
          179659294,
          286400165,
          276259178,
          135611421,
          1163093654,
          155653938,
          49262961,
          94005786,
          134294498,
          163284000,
          56870689,
          67540165,
          51641685,
          110073250,
          65362788,
          267789608,
          110849052,
          272377463,
          284908316,
          62019074,
          98709329,
          57144458,
          399686758,
          73981293,
          88092256,
          140187018,
          298063749,
          223582566,
          221409663,
          367316268,
          231332117,
          397582059,
          585695368,
          304118600,
          93587665,
          198275403,
          158950978,
          430977451,
          721975598,
          1316855716,
          120972253,
          307370144,
          152850295,
          175399345,
          436027885,
          166570053,
          255932395,
          153454328,
          103787664,
          124988687,
          147538971,
          107642809,
          134255790,
          95623148,
          83021468,
          429829812,
          233801632,
          90025258,
          266624541,
          156338624,
          147290338,
          207033255,
          248088961,
          354495408,
          165584767,
          217672943,
          145458418,
          144584800,
          93438910,
          105062254,
          618990393,
          153372011,
          139681964,
          496795686,
          518745108,
          206399629,
          256483385,
          149778242,
          201660859,
          138517666,
          146409671,
          88791109,
          34450974,
          32526947,
          223633238,
          58890931,
          116599790,
          81419389,
          125917280,
          56533272,
          162887075,
          211050784,
          116334601,
          725980112,
          113509496,
          250305248,
          553634067,
          117206995,
          127567540,
          168448603,
          95131998,
          100409613,
          195576623,
          133716286,
          357925728,
          157058870,
          77377503,
          363369738,
          173627354,
          52722996,
          80758350,
          67070410,
          161460990,
          335222234,
          232896922,
          58473276,
          127026613,
          142095275,
          177740666,
          188933502,
          117747907,
          68216992,
          95816024,
          175097833,
          123132751,
          143573775,
          172825906,
          387570742,
          104992946,
          505671438,
          96180277,
          118810253,
          115010040,
          91221625,
          76910644,
          61105704,
          77233241,
          133753727,
          92035115,
          34502215,
          50847624,
          111947664,
          39893489,
          123124076,
          71573339,
          144565150,
          90839753,
          89933133,
          95217315,
          64533040,
          96273746,
          57945987,
          303236322,
          57089066,
          47956378,
          81102253,
          176553476,
          76767396,
          54225632,
          127408954,
          95053634,
          68616963,
          46142772,
          60350538,
          46065667,
          200647221,
          11956641,
          123122413,
          183706234,
          37126685,
          94186466,
          86773632,
          109276132,
          24975653,
          107753850,
          39666245,
          32761689,
          43522589,
          115364561,
          65496046,
          70106975,
          51985779,
          57312735,
          118482347,
          57876440,
          66902503,
          43857627,
          86444842,
          39058561,
          55842345,
          78300654,
          54266102,
          65156199,
          39709092,
          52294266,
          61245289,
          31873544,
          140003974,
          39228929,
          30343206,
          58149378,
          39578178,
          52135248,
          36912123,
          29562220,
          58255150,
          11599388,
          22581161,
          30546883,
          14780425,
          16011326,
          141381703
         ]
        }
       ],
       "layout": {
        "annotations": [
         {
          "align": "left",
          "font": {
           "color": "white",
           "size": 12
          },
          "showarrow": false,
          "text": "Hiver",
          "x": -0.18,
          "xref": "paper",
          "y": 1.025,
          "yref": "paper"
         },
         {
          "align": "left",
          "font": {
           "color": "white",
           "size": 12
          },
          "showarrow": false,
          "text": "Printemps",
          "x": -0.18,
          "xref": "paper",
          "y": 0.9049999999999999,
          "yref": "paper"
         },
         {
          "align": "left",
          "font": {
           "color": "white",
           "size": 12
          },
          "showarrow": false,
          "text": "Été",
          "x": -0.18,
          "xref": "paper",
          "y": 0.7849999999999999,
          "yref": "paper"
         },
         {
          "align": "left",
          "font": {
           "color": "white",
           "size": 12
          },
          "showarrow": false,
          "text": "Automne",
          "x": -0.18,
          "xref": "paper",
          "y": 0.6649999999999999,
          "yref": "paper"
         }
        ],
        "height": 800,
        "hovermode": "closest",
        "margin": {
         "b": 50,
         "l": 250,
         "r": 50,
         "t": 100
        },
        "paper_bgcolor": "black",
        "plot_bgcolor": "black",
        "shapes": [
         {
          "fillcolor": "rgb(160,210,255)",
          "line": {
           "width": 0
          },
          "type": "rect",
          "x0": -0.24,
          "x1": -0.2,
          "xref": "paper",
          "y0": 1.05,
          "y1": 1,
          "yref": "paper"
         },
         {
          "fillcolor": "rgb(143,206,0)",
          "line": {
           "width": 0
          },
          "type": "rect",
          "x0": -0.24,
          "x1": -0.2,
          "xref": "paper",
          "y0": 0.93,
          "y1": 0.88,
          "yref": "paper"
         },
         {
          "fillcolor": "rgb(255,206,58)",
          "line": {
           "width": 0
          },
          "type": "rect",
          "x0": -0.24,
          "x1": -0.2,
          "xref": "paper",
          "y0": 0.81,
          "y1": 0.76,
          "yref": "paper"
         },
         {
          "fillcolor": "rgb(206,126,0)",
          "line": {
           "width": 0
          },
          "type": "rect",
          "x0": -0.24,
          "x1": -0.2,
          "xref": "paper",
          "y0": 0.6900000000000001,
          "y1": 0.64,
          "yref": "paper"
         }
        ],
        "template": {
         "data": {
          "bar": [
           {
            "error_x": {
             "color": "#f2f5fa"
            },
            "error_y": {
             "color": "#f2f5fa"
            },
            "marker": {
             "line": {
              "color": "rgb(17,17,17)",
              "width": 0.5
             },
             "pattern": {
              "fillmode": "overlay",
              "size": 10,
              "solidity": 0.2
             }
            },
            "type": "bar"
           }
          ],
          "barpolar": [
           {
            "marker": {
             "line": {
              "color": "rgb(17,17,17)",
              "width": 0.5
             },
             "pattern": {
              "fillmode": "overlay",
              "size": 10,
              "solidity": 0.2
             }
            },
            "type": "barpolar"
           }
          ],
          "carpet": [
           {
            "aaxis": {
             "endlinecolor": "#A2B1C6",
             "gridcolor": "#506784",
             "linecolor": "#506784",
             "minorgridcolor": "#506784",
             "startlinecolor": "#A2B1C6"
            },
            "baxis": {
             "endlinecolor": "#A2B1C6",
             "gridcolor": "#506784",
             "linecolor": "#506784",
             "minorgridcolor": "#506784",
             "startlinecolor": "#A2B1C6"
            },
            "type": "carpet"
           }
          ],
          "choropleth": [
           {
            "colorbar": {
             "outlinewidth": 0,
             "ticks": ""
            },
            "type": "choropleth"
           }
          ],
          "contour": [
           {
            "colorbar": {
             "outlinewidth": 0,
             "ticks": ""
            },
            "colorscale": [
             [
              0,
              "#0d0887"
             ],
             [
              0.1111111111111111,
              "#46039f"
             ],
             [
              0.2222222222222222,
              "#7201a8"
             ],
             [
              0.3333333333333333,
              "#9c179e"
             ],
             [
              0.4444444444444444,
              "#bd3786"
             ],
             [
              0.5555555555555556,
              "#d8576b"
             ],
             [
              0.6666666666666666,
              "#ed7953"
             ],
             [
              0.7777777777777778,
              "#fb9f3a"
             ],
             [
              0.8888888888888888,
              "#fdca26"
             ],
             [
              1,
              "#f0f921"
             ]
            ],
            "type": "contour"
           }
          ],
          "contourcarpet": [
           {
            "colorbar": {
             "outlinewidth": 0,
             "ticks": ""
            },
            "type": "contourcarpet"
           }
          ],
          "heatmap": [
           {
            "colorbar": {
             "outlinewidth": 0,
             "ticks": ""
            },
            "colorscale": [
             [
              0,
              "#0d0887"
             ],
             [
              0.1111111111111111,
              "#46039f"
             ],
             [
              0.2222222222222222,
              "#7201a8"
             ],
             [
              0.3333333333333333,
              "#9c179e"
             ],
             [
              0.4444444444444444,
              "#bd3786"
             ],
             [
              0.5555555555555556,
              "#d8576b"
             ],
             [
              0.6666666666666666,
              "#ed7953"
             ],
             [
              0.7777777777777778,
              "#fb9f3a"
             ],
             [
              0.8888888888888888,
              "#fdca26"
             ],
             [
              1,
              "#f0f921"
             ]
            ],
            "type": "heatmap"
           }
          ],
          "heatmapgl": [
           {
            "colorbar": {
             "outlinewidth": 0,
             "ticks": ""
            },
            "colorscale": [
             [
              0,
              "#0d0887"
             ],
             [
              0.1111111111111111,
              "#46039f"
             ],
             [
              0.2222222222222222,
              "#7201a8"
             ],
             [
              0.3333333333333333,
              "#9c179e"
             ],
             [
              0.4444444444444444,
              "#bd3786"
             ],
             [
              0.5555555555555556,
              "#d8576b"
             ],
             [
              0.6666666666666666,
              "#ed7953"
             ],
             [
              0.7777777777777778,
              "#fb9f3a"
             ],
             [
              0.8888888888888888,
              "#fdca26"
             ],
             [
              1,
              "#f0f921"
             ]
            ],
            "type": "heatmapgl"
           }
          ],
          "histogram": [
           {
            "marker": {
             "pattern": {
              "fillmode": "overlay",
              "size": 10,
              "solidity": 0.2
             }
            },
            "type": "histogram"
           }
          ],
          "histogram2d": [
           {
            "colorbar": {
             "outlinewidth": 0,
             "ticks": ""
            },
            "colorscale": [
             [
              0,
              "#0d0887"
             ],
             [
              0.1111111111111111,
              "#46039f"
             ],
             [
              0.2222222222222222,
              "#7201a8"
             ],
             [
              0.3333333333333333,
              "#9c179e"
             ],
             [
              0.4444444444444444,
              "#bd3786"
             ],
             [
              0.5555555555555556,
              "#d8576b"
             ],
             [
              0.6666666666666666,
              "#ed7953"
             ],
             [
              0.7777777777777778,
              "#fb9f3a"
             ],
             [
              0.8888888888888888,
              "#fdca26"
             ],
             [
              1,
              "#f0f921"
             ]
            ],
            "type": "histogram2d"
           }
          ],
          "histogram2dcontour": [
           {
            "colorbar": {
             "outlinewidth": 0,
             "ticks": ""
            },
            "colorscale": [
             [
              0,
              "#0d0887"
             ],
             [
              0.1111111111111111,
              "#46039f"
             ],
             [
              0.2222222222222222,
              "#7201a8"
             ],
             [
              0.3333333333333333,
              "#9c179e"
             ],
             [
              0.4444444444444444,
              "#bd3786"
             ],
             [
              0.5555555555555556,
              "#d8576b"
             ],
             [
              0.6666666666666666,
              "#ed7953"
             ],
             [
              0.7777777777777778,
              "#fb9f3a"
             ],
             [
              0.8888888888888888,
              "#fdca26"
             ],
             [
              1,
              "#f0f921"
             ]
            ],
            "type": "histogram2dcontour"
           }
          ],
          "mesh3d": [
           {
            "colorbar": {
             "outlinewidth": 0,
             "ticks": ""
            },
            "type": "mesh3d"
           }
          ],
          "parcoords": [
           {
            "line": {
             "colorbar": {
              "outlinewidth": 0,
              "ticks": ""
             }
            },
            "type": "parcoords"
           }
          ],
          "pie": [
           {
            "automargin": true,
            "type": "pie"
           }
          ],
          "scatter": [
           {
            "marker": {
             "line": {
              "color": "#283442"
             }
            },
            "type": "scatter"
           }
          ],
          "scatter3d": [
           {
            "line": {
             "colorbar": {
              "outlinewidth": 0,
              "ticks": ""
             }
            },
            "marker": {
             "colorbar": {
              "outlinewidth": 0,
              "ticks": ""
             }
            },
            "type": "scatter3d"
           }
          ],
          "scattercarpet": [
           {
            "marker": {
             "colorbar": {
              "outlinewidth": 0,
              "ticks": ""
             }
            },
            "type": "scattercarpet"
           }
          ],
          "scattergeo": [
           {
            "marker": {
             "colorbar": {
              "outlinewidth": 0,
              "ticks": ""
             }
            },
            "type": "scattergeo"
           }
          ],
          "scattergl": [
           {
            "marker": {
             "line": {
              "color": "#283442"
             }
            },
            "type": "scattergl"
           }
          ],
          "scattermapbox": [
           {
            "marker": {
             "colorbar": {
              "outlinewidth": 0,
              "ticks": ""
             }
            },
            "type": "scattermapbox"
           }
          ],
          "scatterpolar": [
           {
            "marker": {
             "colorbar": {
              "outlinewidth": 0,
              "ticks": ""
             }
            },
            "type": "scatterpolar"
           }
          ],
          "scatterpolargl": [
           {
            "marker": {
             "colorbar": {
              "outlinewidth": 0,
              "ticks": ""
             }
            },
            "type": "scatterpolargl"
           }
          ],
          "scatterternary": [
           {
            "marker": {
             "colorbar": {
              "outlinewidth": 0,
              "ticks": ""
             }
            },
            "type": "scatterternary"
           }
          ],
          "surface": [
           {
            "colorbar": {
             "outlinewidth": 0,
             "ticks": ""
            },
            "colorscale": [
             [
              0,
              "#0d0887"
             ],
             [
              0.1111111111111111,
              "#46039f"
             ],
             [
              0.2222222222222222,
              "#7201a8"
             ],
             [
              0.3333333333333333,
              "#9c179e"
             ],
             [
              0.4444444444444444,
              "#bd3786"
             ],
             [
              0.5555555555555556,
              "#d8576b"
             ],
             [
              0.6666666666666666,
              "#ed7953"
             ],
             [
              0.7777777777777778,
              "#fb9f3a"
             ],
             [
              0.8888888888888888,
              "#fdca26"
             ],
             [
              1,
              "#f0f921"
             ]
            ],
            "type": "surface"
           }
          ],
          "table": [
           {
            "cells": {
             "fill": {
              "color": "#506784"
             },
             "line": {
              "color": "rgb(17,17,17)"
             }
            },
            "header": {
             "fill": {
              "color": "#2a3f5f"
             },
             "line": {
              "color": "rgb(17,17,17)"
             }
            },
            "type": "table"
           }
          ]
         },
         "layout": {
          "annotationdefaults": {
           "arrowcolor": "#f2f5fa",
           "arrowhead": 0,
           "arrowwidth": 1
          },
          "autotypenumbers": "strict",
          "coloraxis": {
           "colorbar": {
            "outlinewidth": 0,
            "ticks": ""
           }
          },
          "colorscale": {
           "diverging": [
            [
             0,
             "#8e0152"
            ],
            [
             0.1,
             "#c51b7d"
            ],
            [
             0.2,
             "#de77ae"
            ],
            [
             0.3,
             "#f1b6da"
            ],
            [
             0.4,
             "#fde0ef"
            ],
            [
             0.5,
             "#f7f7f7"
            ],
            [
             0.6,
             "#e6f5d0"
            ],
            [
             0.7,
             "#b8e186"
            ],
            [
             0.8,
             "#7fbc41"
            ],
            [
             0.9,
             "#4d9221"
            ],
            [
             1,
             "#276419"
            ]
           ],
           "sequential": [
            [
             0,
             "#0d0887"
            ],
            [
             0.1111111111111111,
             "#46039f"
            ],
            [
             0.2222222222222222,
             "#7201a8"
            ],
            [
             0.3333333333333333,
             "#9c179e"
            ],
            [
             0.4444444444444444,
             "#bd3786"
            ],
            [
             0.5555555555555556,
             "#d8576b"
            ],
            [
             0.6666666666666666,
             "#ed7953"
            ],
            [
             0.7777777777777778,
             "#fb9f3a"
            ],
            [
             0.8888888888888888,
             "#fdca26"
            ],
            [
             1,
             "#f0f921"
            ]
           ],
           "sequentialminus": [
            [
             0,
             "#0d0887"
            ],
            [
             0.1111111111111111,
             "#46039f"
            ],
            [
             0.2222222222222222,
             "#7201a8"
            ],
            [
             0.3333333333333333,
             "#9c179e"
            ],
            [
             0.4444444444444444,
             "#bd3786"
            ],
            [
             0.5555555555555556,
             "#d8576b"
            ],
            [
             0.6666666666666666,
             "#ed7953"
            ],
            [
             0.7777777777777778,
             "#fb9f3a"
            ],
            [
             0.8888888888888888,
             "#fdca26"
            ],
            [
             1,
             "#f0f921"
            ]
           ]
          },
          "colorway": [
           "#636efa",
           "#EF553B",
           "#00cc96",
           "#ab63fa",
           "#FFA15A",
           "#19d3f3",
           "#FF6692",
           "#B6E880",
           "#FF97FF",
           "#FECB52"
          ],
          "font": {
           "color": "#f2f5fa"
          },
          "geo": {
           "bgcolor": "rgb(17,17,17)",
           "lakecolor": "rgb(17,17,17)",
           "landcolor": "rgb(17,17,17)",
           "showlakes": true,
           "showland": true,
           "subunitcolor": "#506784"
          },
          "hoverlabel": {
           "align": "left"
          },
          "hovermode": "closest",
          "mapbox": {
           "style": "dark"
          },
          "paper_bgcolor": "rgb(17,17,17)",
          "plot_bgcolor": "rgb(17,17,17)",
          "polar": {
           "angularaxis": {
            "gridcolor": "#506784",
            "linecolor": "#506784",
            "ticks": ""
           },
           "bgcolor": "rgb(17,17,17)",
           "radialaxis": {
            "gridcolor": "#506784",
            "linecolor": "#506784",
            "ticks": ""
           }
          },
          "scene": {
           "xaxis": {
            "backgroundcolor": "rgb(17,17,17)",
            "gridcolor": "#506784",
            "gridwidth": 2,
            "linecolor": "#506784",
            "showbackground": true,
            "ticks": "",
            "zerolinecolor": "#C8D4E3"
           },
           "yaxis": {
            "backgroundcolor": "rgb(17,17,17)",
            "gridcolor": "#506784",
            "gridwidth": 2,
            "linecolor": "#506784",
            "showbackground": true,
            "ticks": "",
            "zerolinecolor": "#C8D4E3"
           },
           "zaxis": {
            "backgroundcolor": "rgb(17,17,17)",
            "gridcolor": "#506784",
            "gridwidth": 2,
            "linecolor": "#506784",
            "showbackground": true,
            "ticks": "",
            "zerolinecolor": "#C8D4E3"
           }
          },
          "shapedefaults": {
           "line": {
            "color": "#f2f5fa"
           }
          },
          "sliderdefaults": {
           "bgcolor": "#C8D4E3",
           "bordercolor": "rgb(17,17,17)",
           "borderwidth": 1,
           "tickwidth": 0
          },
          "ternary": {
           "aaxis": {
            "gridcolor": "#506784",
            "linecolor": "#506784",
            "ticks": ""
           },
           "baxis": {
            "gridcolor": "#506784",
            "linecolor": "#506784",
            "ticks": ""
           },
           "bgcolor": "rgb(17,17,17)",
           "caxis": {
            "gridcolor": "#506784",
            "linecolor": "#506784",
            "ticks": ""
           }
          },
          "title": {
           "x": 0.05
          },
          "updatemenudefaults": {
           "bgcolor": "#506784",
           "borderwidth": 0
          },
          "xaxis": {
           "automargin": true,
           "gridcolor": "#283442",
           "linecolor": "#506784",
           "ticks": "",
           "title": {
            "standoff": 15
           },
           "zerolinecolor": "#283442",
           "zerolinewidth": 2
          },
          "yaxis": {
           "automargin": true,
           "gridcolor": "#283442",
           "linecolor": "#506784",
           "ticks": "",
           "title": {
            "standoff": 15
           },
           "zerolinecolor": "#283442",
           "zerolinewidth": 2
          }
         }
        },
        "title": {
         "font": {
          "color": "white",
          "size": 20
         },
         "text": "Dynamique des streams au long de l'histoire: Influence des saisons et des artistes",
         "x": 0.5,
         "y": 0.95
        },
        "width": 1200,
        "xaxis": {
         "color": "white",
         "gridcolor": "gray",
         "range": [
          "2020-01-01",
          "2023-07-14"
         ],
         "showgrid": true,
         "tickformat": "%d/%m/%Y",
         "title": {
          "text": "Date"
         }
        },
        "yaxis": {
         "color": "white",
         "gridcolor": "gray",
         "range": [
          7,
          9.57978359661681
         ],
         "showgrid": true,
         "title": {
          "text": "Nombre de streams"
         },
         "type": "log"
        }
       }
      }
     },
     "metadata": {},
     "output_type": "display_data"
    }
   ],
   "source": [
    "\n",
    "\n",
    "\n",
    "# Create figure\n",
    "fig = go.Figure()\n",
    "\n",
    "# Add scatter plot\n",
    "fig.add_trace(go.Scatter(\n",
    "    x=monthly_streams['date'],\n",
    "    y=monthly_streams['streams'],\n",
    "    mode='markers',\n",
    "    marker=dict(\n",
    "        color=monthly_streams['color'],\n",
    "        size=marker_sizes,\n",
    "        opacity=0.7,\n",
    "        line=dict(width=1, color='#2c3e50')\n",
    "    ),\n",
    "    hovertemplate=(\n",
    "        \"Date: %{x|%d/%m/%Y}<br>\"\n",
    "        \"Streams: %{y:,.0f}<br>\"\n",
    "        \"Titre: %{customdata[0]}<br>\"\n",
    "        \"Artiste: %{customdata[1]}<br>\"\n",
    "        \"Nombre d'artistes: %{customdata[2]}<extra></extra>\"\n",
    "    ),\n",
    "    customdata=monthly_streams[['track', 'artistname', 'artist_count']].values\n",
    "))\n",
    "\n",
    "# Add season legend\n",
    "seasons = [\n",
    "    (\"Hiver\", 'rgb(160,210,255)'),\n",
    "    (\"Printemps\", 'rgb(143,206,0)'),\n",
    "    (\"Été\", 'rgb(255,206,58)'),\n",
    "    (\"Automne\", 'rgb(206,126,0)')\n",
    "]\n",
    "\n",
    "for i, (name, color) in enumerate(seasons):\n",
    "    fig.add_shape(\n",
    "        type=\"rect\",\n",
    "        x0=-0.24, x1=-0.2,\n",
    "        y0=1.05 - i * 0.12,\n",
    "        y1=1.0 - i * 0.12,\n",
    "        fillcolor=color,\n",
    "        line=dict(width=0),\n",
    "        xref=\"paper\", yref=\"paper\"\n",
    "    )\n",
    "    fig.add_annotation(\n",
    "        text=name,\n",
    "        x=-0.18, y=1.025 - i * 0.12,\n",
    "        xref=\"paper\", yref=\"paper\",\n",
    "        showarrow=False,\n",
    "        font=dict(color='white', size=12),\n",
    "        align=\"left\"\n",
    "    )\n",
    "\n",
    "# Update layout\n",
    "fig.update_layout(\n",
    "    title=dict(\n",
    "        text=\"Dynamique des streams au long de l'histoire: Influence des saisons et des artistes\",\n",
    "        font=dict(size=20, color='white'),\n",
    "        x=0.5, y=0.95\n",
    "    ),\n",
    "    xaxis=dict(\n",
    "        title=\"Date\",\n",
    "        gridcolor='gray',\n",
    "        showgrid=True,\n",
    "        tickformat='%d/%m/%Y',\n",
    "        range=['2020-01-01', monthly_streams['date'].max().strftime('%Y-%m-%d')],\n",
    "        color='white'\n",
    "    ),\n",
    "    yaxis=dict(\n",
    "        title=\"Nombre de streams\",\n",
    "        gridcolor='gray',\n",
    "        showgrid=True,\n",
    "        type='log',\n",
    "        range=[np.log10(10_000_000), np.log10(3_800_000_000)],\n",
    "        color='white'\n",
    "    ),\n",
    "    template='plotly_dark',\n",
    "    plot_bgcolor='black',\n",
    "    paper_bgcolor='black',\n",
    "    hovermode='closest',\n",
    "    height=800,\n",
    "    width=1200,\n",
    "    margin=dict(t=100, l=250, r=50, b=50)\n",
    ")\n",
    "\n",
    "fig.show()"
   ]
  }
 ],
 "metadata": {
  "kernelspec": {
   "display_name": "Python 3.11.4 64-bit ('anaconda3': conda)",
   "language": "python",
   "name": "python311464bitanaconda3conda551a96a0ee414c40a216e6f47de11daa"
  },
  "language_info": {
   "codemirror_mode": {
    "name": "ipython",
    "version": 3
   },
   "file_extension": ".py",
   "mimetype": "text/x-python",
   "name": "python",
   "nbconvert_exporter": "python",
   "pygments_lexer": "ipython3",
   "version": "3.11.4"
  }
 },
 "nbformat": 4,
 "nbformat_minor": 2
}
